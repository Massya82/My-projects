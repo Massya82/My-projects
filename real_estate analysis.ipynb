{
 "cells": [
  {
   "cell_type": "markdown",
   "metadata": {},
   "source": [
    "# Maria Shemyakina\n",
    "## Project Real estate"
   ]
  },
  {
   "cell_type": "markdown",
   "metadata": {},
   "source": [
    "# Research on apartment sales ads\n",
    "\n",
    "You’ll have the data from Yandex.Realty provided for you. Working with data will not always be completely familiar - from time to time, you'll encounter data from peculiar sources, operating with peculiar measurements. Let's work with something exotic to keep you on your toes: a real estate agency has an archive of sales ads for realty in St. Petersburg, Russia, and the surrounding areas collected over the past few years. You’ll need to learn how to determine the market value of real estate properties. Your task is to define the parameters. This will make it possible to create an automated system that is capable of detecting anomalies and fraud.\n",
    "There are two different types of data available for every apartment for sale. The first type is a user’s input. The second type is received automatically based upon the map data. This could be calculated, for example, based upon the distance from the downtown area, airport, the nearest park or body of water."
   ]
  },
  {
   "cell_type": "markdown",
   "metadata": {},
   "source": [
    "\n",
    "# Step 1. Open the data file and study the general information. "
   ]
  },
  {
   "cell_type": "code",
   "execution_count": 1,
   "metadata": {},
   "outputs": [],
   "source": [
    "import pandas as pd\n",
    "import numpy as np\n",
    "import matplotlib.pyplot as plt\n",
    "from datetime import datetime\n",
    "from pymystem3 import Mystem\n",
    "import pprint\n",
    "from collections import Counter\n",
    "import seaborn as sn"
   ]
  },
  {
   "cell_type": "code",
   "execution_count": 2,
   "metadata": {},
   "outputs": [],
   "source": [
    "data = pd.read_csv('real_estate_data_eng.csv', sep='\\t')"
   ]
  },
  {
   "cell_type": "code",
   "execution_count": 3,
   "metadata": {
    "scrolled": true
   },
   "outputs": [
    {
     "data": {
      "text/html": [
       "<div>\n",
       "<style scoped>\n",
       "    .dataframe tbody tr th:only-of-type {\n",
       "        vertical-align: middle;\n",
       "    }\n",
       "\n",
       "    .dataframe tbody tr th {\n",
       "        vertical-align: top;\n",
       "    }\n",
       "\n",
       "    .dataframe thead th {\n",
       "        text-align: right;\n",
       "    }\n",
       "</style>\n",
       "<table border=\"1\" class=\"dataframe\">\n",
       "  <thead>\n",
       "    <tr style=\"text-align: right;\">\n",
       "      <th></th>\n",
       "      <th>total_images</th>\n",
       "      <th>last_price</th>\n",
       "      <th>total_area</th>\n",
       "      <th>first_day_exposition</th>\n",
       "      <th>rooms</th>\n",
       "      <th>ceiling_height</th>\n",
       "      <th>floors_total</th>\n",
       "      <th>living_area</th>\n",
       "      <th>floor</th>\n",
       "      <th>is_apartment</th>\n",
       "      <th>...</th>\n",
       "      <th>kitchen_area</th>\n",
       "      <th>balcony</th>\n",
       "      <th>locality_name</th>\n",
       "      <th>airports_nearest</th>\n",
       "      <th>cityCenters_nearest</th>\n",
       "      <th>parks_around3000</th>\n",
       "      <th>parks_nearest</th>\n",
       "      <th>ponds_around3000</th>\n",
       "      <th>ponds_nearest</th>\n",
       "      <th>days_exposition</th>\n",
       "    </tr>\n",
       "  </thead>\n",
       "  <tbody>\n",
       "    <tr>\n",
       "      <th>15773</th>\n",
       "      <td>5</td>\n",
       "      <td>4150000.0</td>\n",
       "      <td>36.80</td>\n",
       "      <td>2018-02-01T00:00:00</td>\n",
       "      <td>1</td>\n",
       "      <td>NaN</td>\n",
       "      <td>25.0</td>\n",
       "      <td>14.2</td>\n",
       "      <td>2</td>\n",
       "      <td>NaN</td>\n",
       "      <td>...</td>\n",
       "      <td>15.90</td>\n",
       "      <td>1.0</td>\n",
       "      <td>Pargolovo village</td>\n",
       "      <td>52768.0</td>\n",
       "      <td>17994.0</td>\n",
       "      <td>0.0</td>\n",
       "      <td>NaN</td>\n",
       "      <td>0.0</td>\n",
       "      <td>NaN</td>\n",
       "      <td>100.0</td>\n",
       "    </tr>\n",
       "    <tr>\n",
       "      <th>10822</th>\n",
       "      <td>1</td>\n",
       "      <td>29000000.0</td>\n",
       "      <td>192.00</td>\n",
       "      <td>2017-10-11T00:00:00</td>\n",
       "      <td>5</td>\n",
       "      <td>3.20</td>\n",
       "      <td>6.0</td>\n",
       "      <td>120.0</td>\n",
       "      <td>3</td>\n",
       "      <td>NaN</td>\n",
       "      <td>...</td>\n",
       "      <td>15.00</td>\n",
       "      <td>NaN</td>\n",
       "      <td>Saint Peterburg</td>\n",
       "      <td>26396.0</td>\n",
       "      <td>5243.0</td>\n",
       "      <td>1.0</td>\n",
       "      <td>329.0</td>\n",
       "      <td>0.0</td>\n",
       "      <td>NaN</td>\n",
       "      <td>153.0</td>\n",
       "    </tr>\n",
       "    <tr>\n",
       "      <th>6025</th>\n",
       "      <td>7</td>\n",
       "      <td>2650000.0</td>\n",
       "      <td>47.30</td>\n",
       "      <td>2017-12-01T00:00:00</td>\n",
       "      <td>3</td>\n",
       "      <td>2.50</td>\n",
       "      <td>5.0</td>\n",
       "      <td>34.2</td>\n",
       "      <td>5</td>\n",
       "      <td>NaN</td>\n",
       "      <td>...</td>\n",
       "      <td>5.00</td>\n",
       "      <td>1.0</td>\n",
       "      <td>Tosno</td>\n",
       "      <td>NaN</td>\n",
       "      <td>NaN</td>\n",
       "      <td>NaN</td>\n",
       "      <td>NaN</td>\n",
       "      <td>NaN</td>\n",
       "      <td>NaN</td>\n",
       "      <td>NaN</td>\n",
       "    </tr>\n",
       "    <tr>\n",
       "      <th>2334</th>\n",
       "      <td>20</td>\n",
       "      <td>5350000.0</td>\n",
       "      <td>61.60</td>\n",
       "      <td>2015-11-04T00:00:00</td>\n",
       "      <td>3</td>\n",
       "      <td>2.50</td>\n",
       "      <td>9.0</td>\n",
       "      <td>41.5</td>\n",
       "      <td>1</td>\n",
       "      <td>NaN</td>\n",
       "      <td>...</td>\n",
       "      <td>8.20</td>\n",
       "      <td>NaN</td>\n",
       "      <td>Saint Peterburg</td>\n",
       "      <td>13836.0</td>\n",
       "      <td>14101.0</td>\n",
       "      <td>0.0</td>\n",
       "      <td>NaN</td>\n",
       "      <td>0.0</td>\n",
       "      <td>NaN</td>\n",
       "      <td>978.0</td>\n",
       "    </tr>\n",
       "    <tr>\n",
       "      <th>10852</th>\n",
       "      <td>7</td>\n",
       "      <td>3710000.0</td>\n",
       "      <td>35.46</td>\n",
       "      <td>2015-02-09T00:00:00</td>\n",
       "      <td>1</td>\n",
       "      <td>NaN</td>\n",
       "      <td>21.0</td>\n",
       "      <td>14.4</td>\n",
       "      <td>20</td>\n",
       "      <td>NaN</td>\n",
       "      <td>...</td>\n",
       "      <td>9.30</td>\n",
       "      <td>2.0</td>\n",
       "      <td>Saint Peterburg</td>\n",
       "      <td>17596.0</td>\n",
       "      <td>16392.0</td>\n",
       "      <td>0.0</td>\n",
       "      <td>NaN</td>\n",
       "      <td>2.0</td>\n",
       "      <td>521.0</td>\n",
       "      <td>1079.0</td>\n",
       "    </tr>\n",
       "    <tr>\n",
       "      <th>5244</th>\n",
       "      <td>14</td>\n",
       "      <td>16120000.0</td>\n",
       "      <td>110.00</td>\n",
       "      <td>2018-09-27T00:00:00</td>\n",
       "      <td>4</td>\n",
       "      <td>NaN</td>\n",
       "      <td>10.0</td>\n",
       "      <td>65.7</td>\n",
       "      <td>8</td>\n",
       "      <td>NaN</td>\n",
       "      <td>...</td>\n",
       "      <td>10.80</td>\n",
       "      <td>5.0</td>\n",
       "      <td>Saint Peterburg</td>\n",
       "      <td>37022.0</td>\n",
       "      <td>12543.0</td>\n",
       "      <td>1.0</td>\n",
       "      <td>248.0</td>\n",
       "      <td>1.0</td>\n",
       "      <td>739.0</td>\n",
       "      <td>NaN</td>\n",
       "    </tr>\n",
       "    <tr>\n",
       "      <th>17113</th>\n",
       "      <td>11</td>\n",
       "      <td>8900000.0</td>\n",
       "      <td>70.00</td>\n",
       "      <td>2018-02-21T00:00:00</td>\n",
       "      <td>2</td>\n",
       "      <td>2.80</td>\n",
       "      <td>16.0</td>\n",
       "      <td>34.0</td>\n",
       "      <td>13</td>\n",
       "      <td>False</td>\n",
       "      <td>...</td>\n",
       "      <td>14.00</td>\n",
       "      <td>2.0</td>\n",
       "      <td>Saint Peterburg</td>\n",
       "      <td>46411.0</td>\n",
       "      <td>15247.0</td>\n",
       "      <td>1.0</td>\n",
       "      <td>672.0</td>\n",
       "      <td>0.0</td>\n",
       "      <td>NaN</td>\n",
       "      <td>127.0</td>\n",
       "    </tr>\n",
       "    <tr>\n",
       "      <th>13577</th>\n",
       "      <td>17</td>\n",
       "      <td>3100000.0</td>\n",
       "      <td>32.10</td>\n",
       "      <td>2017-05-11T00:00:00</td>\n",
       "      <td>1</td>\n",
       "      <td>NaN</td>\n",
       "      <td>9.0</td>\n",
       "      <td>17.6</td>\n",
       "      <td>8</td>\n",
       "      <td>False</td>\n",
       "      <td>...</td>\n",
       "      <td>6.30</td>\n",
       "      <td>0.0</td>\n",
       "      <td>Saint Peterburg</td>\n",
       "      <td>36456.0</td>\n",
       "      <td>10813.0</td>\n",
       "      <td>0.0</td>\n",
       "      <td>NaN</td>\n",
       "      <td>0.0</td>\n",
       "      <td>NaN</td>\n",
       "      <td>76.0</td>\n",
       "    </tr>\n",
       "    <tr>\n",
       "      <th>19324</th>\n",
       "      <td>1</td>\n",
       "      <td>4700000.0</td>\n",
       "      <td>62.60</td>\n",
       "      <td>2017-08-18T00:00:00</td>\n",
       "      <td>3</td>\n",
       "      <td>NaN</td>\n",
       "      <td>9.0</td>\n",
       "      <td>43.0</td>\n",
       "      <td>4</td>\n",
       "      <td>NaN</td>\n",
       "      <td>...</td>\n",
       "      <td>7.00</td>\n",
       "      <td>0.0</td>\n",
       "      <td>Saint Peterburg</td>\n",
       "      <td>49666.0</td>\n",
       "      <td>16010.0</td>\n",
       "      <td>0.0</td>\n",
       "      <td>NaN</td>\n",
       "      <td>0.0</td>\n",
       "      <td>NaN</td>\n",
       "      <td>93.0</td>\n",
       "    </tr>\n",
       "    <tr>\n",
       "      <th>16235</th>\n",
       "      <td>5</td>\n",
       "      <td>4100000.0</td>\n",
       "      <td>37.00</td>\n",
       "      <td>2016-07-31T00:00:00</td>\n",
       "      <td>1</td>\n",
       "      <td>2.60</td>\n",
       "      <td>5.0</td>\n",
       "      <td>16.4</td>\n",
       "      <td>2</td>\n",
       "      <td>NaN</td>\n",
       "      <td>...</td>\n",
       "      <td>8.60</td>\n",
       "      <td>0.0</td>\n",
       "      <td>Pushkin</td>\n",
       "      <td>12697.0</td>\n",
       "      <td>24850.0</td>\n",
       "      <td>1.0</td>\n",
       "      <td>341.0</td>\n",
       "      <td>0.0</td>\n",
       "      <td>NaN</td>\n",
       "      <td>247.0</td>\n",
       "    </tr>\n",
       "    <tr>\n",
       "      <th>22250</th>\n",
       "      <td>11</td>\n",
       "      <td>4700000.0</td>\n",
       "      <td>45.70</td>\n",
       "      <td>2018-03-27T00:00:00</td>\n",
       "      <td>2</td>\n",
       "      <td>NaN</td>\n",
       "      <td>9.0</td>\n",
       "      <td>28.0</td>\n",
       "      <td>8</td>\n",
       "      <td>NaN</td>\n",
       "      <td>...</td>\n",
       "      <td>7.02</td>\n",
       "      <td>NaN</td>\n",
       "      <td>Saint Peterburg</td>\n",
       "      <td>19749.0</td>\n",
       "      <td>11281.0</td>\n",
       "      <td>0.0</td>\n",
       "      <td>NaN</td>\n",
       "      <td>0.0</td>\n",
       "      <td>NaN</td>\n",
       "      <td>219.0</td>\n",
       "    </tr>\n",
       "    <tr>\n",
       "      <th>961</th>\n",
       "      <td>17</td>\n",
       "      <td>9150000.0</td>\n",
       "      <td>80.00</td>\n",
       "      <td>2018-12-03T00:00:00</td>\n",
       "      <td>2</td>\n",
       "      <td>2.80</td>\n",
       "      <td>27.0</td>\n",
       "      <td>39.0</td>\n",
       "      <td>22</td>\n",
       "      <td>NaN</td>\n",
       "      <td>...</td>\n",
       "      <td>12.60</td>\n",
       "      <td>1.0</td>\n",
       "      <td>Saint Peterburg</td>\n",
       "      <td>52212.0</td>\n",
       "      <td>16802.0</td>\n",
       "      <td>0.0</td>\n",
       "      <td>NaN</td>\n",
       "      <td>1.0</td>\n",
       "      <td>733.0</td>\n",
       "      <td>NaN</td>\n",
       "    </tr>\n",
       "    <tr>\n",
       "      <th>9805</th>\n",
       "      <td>0</td>\n",
       "      <td>3750000.0</td>\n",
       "      <td>52.00</td>\n",
       "      <td>2018-06-22T00:00:00</td>\n",
       "      <td>2</td>\n",
       "      <td>NaN</td>\n",
       "      <td>12.0</td>\n",
       "      <td>30.0</td>\n",
       "      <td>1</td>\n",
       "      <td>NaN</td>\n",
       "      <td>...</td>\n",
       "      <td>8.00</td>\n",
       "      <td>NaN</td>\n",
       "      <td>Saint Peterburg</td>\n",
       "      <td>14184.0</td>\n",
       "      <td>16228.0</td>\n",
       "      <td>1.0</td>\n",
       "      <td>547.0</td>\n",
       "      <td>0.0</td>\n",
       "      <td>NaN</td>\n",
       "      <td>18.0</td>\n",
       "    </tr>\n",
       "    <tr>\n",
       "      <th>23081</th>\n",
       "      <td>2</td>\n",
       "      <td>8200000.0</td>\n",
       "      <td>103.00</td>\n",
       "      <td>2015-12-04T00:00:00</td>\n",
       "      <td>3</td>\n",
       "      <td>NaN</td>\n",
       "      <td>22.0</td>\n",
       "      <td>54.0</td>\n",
       "      <td>6</td>\n",
       "      <td>NaN</td>\n",
       "      <td>...</td>\n",
       "      <td>20.00</td>\n",
       "      <td>0.0</td>\n",
       "      <td>Saint Peterburg</td>\n",
       "      <td>34463.0</td>\n",
       "      <td>11879.0</td>\n",
       "      <td>0.0</td>\n",
       "      <td>NaN</td>\n",
       "      <td>0.0</td>\n",
       "      <td>NaN</td>\n",
       "      <td>212.0</td>\n",
       "    </tr>\n",
       "    <tr>\n",
       "      <th>5138</th>\n",
       "      <td>1</td>\n",
       "      <td>3100000.0</td>\n",
       "      <td>31.00</td>\n",
       "      <td>2017-11-23T00:00:00</td>\n",
       "      <td>1</td>\n",
       "      <td>2.55</td>\n",
       "      <td>5.0</td>\n",
       "      <td>15.5</td>\n",
       "      <td>5</td>\n",
       "      <td>NaN</td>\n",
       "      <td>...</td>\n",
       "      <td>6.50</td>\n",
       "      <td>NaN</td>\n",
       "      <td>Saint Peterburg</td>\n",
       "      <td>44757.0</td>\n",
       "      <td>14336.0</td>\n",
       "      <td>2.0</td>\n",
       "      <td>343.0</td>\n",
       "      <td>0.0</td>\n",
       "      <td>NaN</td>\n",
       "      <td>45.0</td>\n",
       "    </tr>\n",
       "  </tbody>\n",
       "</table>\n",
       "<p>15 rows × 22 columns</p>\n",
       "</div>"
      ],
      "text/plain": [
       "       total_images  last_price  total_area first_day_exposition  rooms  \\\n",
       "15773             5   4150000.0       36.80  2018-02-01T00:00:00      1   \n",
       "10822             1  29000000.0      192.00  2017-10-11T00:00:00      5   \n",
       "6025              7   2650000.0       47.30  2017-12-01T00:00:00      3   \n",
       "2334             20   5350000.0       61.60  2015-11-04T00:00:00      3   \n",
       "10852             7   3710000.0       35.46  2015-02-09T00:00:00      1   \n",
       "5244             14  16120000.0      110.00  2018-09-27T00:00:00      4   \n",
       "17113            11   8900000.0       70.00  2018-02-21T00:00:00      2   \n",
       "13577            17   3100000.0       32.10  2017-05-11T00:00:00      1   \n",
       "19324             1   4700000.0       62.60  2017-08-18T00:00:00      3   \n",
       "16235             5   4100000.0       37.00  2016-07-31T00:00:00      1   \n",
       "22250            11   4700000.0       45.70  2018-03-27T00:00:00      2   \n",
       "961              17   9150000.0       80.00  2018-12-03T00:00:00      2   \n",
       "9805              0   3750000.0       52.00  2018-06-22T00:00:00      2   \n",
       "23081             2   8200000.0      103.00  2015-12-04T00:00:00      3   \n",
       "5138              1   3100000.0       31.00  2017-11-23T00:00:00      1   \n",
       "\n",
       "       ceiling_height  floors_total  living_area  floor is_apartment  ...  \\\n",
       "15773             NaN          25.0         14.2      2          NaN  ...   \n",
       "10822            3.20           6.0        120.0      3          NaN  ...   \n",
       "6025             2.50           5.0         34.2      5          NaN  ...   \n",
       "2334             2.50           9.0         41.5      1          NaN  ...   \n",
       "10852             NaN          21.0         14.4     20          NaN  ...   \n",
       "5244              NaN          10.0         65.7      8          NaN  ...   \n",
       "17113            2.80          16.0         34.0     13        False  ...   \n",
       "13577             NaN           9.0         17.6      8        False  ...   \n",
       "19324             NaN           9.0         43.0      4          NaN  ...   \n",
       "16235            2.60           5.0         16.4      2          NaN  ...   \n",
       "22250             NaN           9.0         28.0      8          NaN  ...   \n",
       "961              2.80          27.0         39.0     22          NaN  ...   \n",
       "9805              NaN          12.0         30.0      1          NaN  ...   \n",
       "23081             NaN          22.0         54.0      6          NaN  ...   \n",
       "5138             2.55           5.0         15.5      5          NaN  ...   \n",
       "\n",
       "       kitchen_area  balcony      locality_name  airports_nearest  \\\n",
       "15773         15.90      1.0  Pargolovo village           52768.0   \n",
       "10822         15.00      NaN    Saint Peterburg           26396.0   \n",
       "6025           5.00      1.0              Tosno               NaN   \n",
       "2334           8.20      NaN    Saint Peterburg           13836.0   \n",
       "10852          9.30      2.0    Saint Peterburg           17596.0   \n",
       "5244          10.80      5.0    Saint Peterburg           37022.0   \n",
       "17113         14.00      2.0    Saint Peterburg           46411.0   \n",
       "13577          6.30      0.0    Saint Peterburg           36456.0   \n",
       "19324          7.00      0.0    Saint Peterburg           49666.0   \n",
       "16235          8.60      0.0            Pushkin           12697.0   \n",
       "22250          7.02      NaN    Saint Peterburg           19749.0   \n",
       "961           12.60      1.0    Saint Peterburg           52212.0   \n",
       "9805           8.00      NaN    Saint Peterburg           14184.0   \n",
       "23081         20.00      0.0    Saint Peterburg           34463.0   \n",
       "5138           6.50      NaN    Saint Peterburg           44757.0   \n",
       "\n",
       "      cityCenters_nearest  parks_around3000  parks_nearest  ponds_around3000  \\\n",
       "15773             17994.0               0.0            NaN               0.0   \n",
       "10822              5243.0               1.0          329.0               0.0   \n",
       "6025                  NaN               NaN            NaN               NaN   \n",
       "2334              14101.0               0.0            NaN               0.0   \n",
       "10852             16392.0               0.0            NaN               2.0   \n",
       "5244              12543.0               1.0          248.0               1.0   \n",
       "17113             15247.0               1.0          672.0               0.0   \n",
       "13577             10813.0               0.0            NaN               0.0   \n",
       "19324             16010.0               0.0            NaN               0.0   \n",
       "16235             24850.0               1.0          341.0               0.0   \n",
       "22250             11281.0               0.0            NaN               0.0   \n",
       "961               16802.0               0.0            NaN               1.0   \n",
       "9805              16228.0               1.0          547.0               0.0   \n",
       "23081             11879.0               0.0            NaN               0.0   \n",
       "5138              14336.0               2.0          343.0               0.0   \n",
       "\n",
       "       ponds_nearest  days_exposition  \n",
       "15773            NaN            100.0  \n",
       "10822            NaN            153.0  \n",
       "6025             NaN              NaN  \n",
       "2334             NaN            978.0  \n",
       "10852          521.0           1079.0  \n",
       "5244           739.0              NaN  \n",
       "17113            NaN            127.0  \n",
       "13577            NaN             76.0  \n",
       "19324            NaN             93.0  \n",
       "16235            NaN            247.0  \n",
       "22250            NaN            219.0  \n",
       "961            733.0              NaN  \n",
       "9805             NaN             18.0  \n",
       "23081            NaN            212.0  \n",
       "5138             NaN             45.0  \n",
       "\n",
       "[15 rows x 22 columns]"
      ]
     },
     "execution_count": 3,
     "metadata": {},
     "output_type": "execute_result"
    }
   ],
   "source": [
    "data.sample(15)"
   ]
  },
  {
   "cell_type": "markdown",
   "metadata": {},
   "source": [
    "#  Step 2. Data preprocessing"
   ]
  },
  {
   "cell_type": "code",
   "execution_count": 4,
   "metadata": {},
   "outputs": [
    {
     "data": {
      "text/html": [
       "<div>\n",
       "<style scoped>\n",
       "    .dataframe tbody tr th:only-of-type {\n",
       "        vertical-align: middle;\n",
       "    }\n",
       "\n",
       "    .dataframe tbody tr th {\n",
       "        vertical-align: top;\n",
       "    }\n",
       "\n",
       "    .dataframe thead th {\n",
       "        text-align: right;\n",
       "    }\n",
       "</style>\n",
       "<table border=\"1\" class=\"dataframe\">\n",
       "  <thead>\n",
       "    <tr style=\"text-align: right;\">\n",
       "      <th></th>\n",
       "      <th>total_images</th>\n",
       "      <th>last_price</th>\n",
       "      <th>total_area</th>\n",
       "      <th>rooms</th>\n",
       "      <th>ceiling_height</th>\n",
       "      <th>floors_total</th>\n",
       "      <th>living_area</th>\n",
       "      <th>floor</th>\n",
       "      <th>kitchen_area</th>\n",
       "      <th>balcony</th>\n",
       "      <th>airports_nearest</th>\n",
       "      <th>cityCenters_nearest</th>\n",
       "      <th>parks_around3000</th>\n",
       "      <th>parks_nearest</th>\n",
       "      <th>ponds_around3000</th>\n",
       "      <th>ponds_nearest</th>\n",
       "      <th>days_exposition</th>\n",
       "    </tr>\n",
       "  </thead>\n",
       "  <tbody>\n",
       "    <tr>\n",
       "      <th>count</th>\n",
       "      <td>23699.000000</td>\n",
       "      <td>2.369900e+04</td>\n",
       "      <td>23699.000000</td>\n",
       "      <td>23699.000000</td>\n",
       "      <td>14504.000000</td>\n",
       "      <td>23613.000000</td>\n",
       "      <td>21796.000000</td>\n",
       "      <td>23699.000000</td>\n",
       "      <td>21421.000000</td>\n",
       "      <td>12180.000000</td>\n",
       "      <td>18157.000000</td>\n",
       "      <td>18180.000000</td>\n",
       "      <td>18181.000000</td>\n",
       "      <td>8079.000000</td>\n",
       "      <td>18181.000000</td>\n",
       "      <td>9110.000000</td>\n",
       "      <td>20518.000000</td>\n",
       "    </tr>\n",
       "    <tr>\n",
       "      <th>mean</th>\n",
       "      <td>9.858475</td>\n",
       "      <td>6.541549e+06</td>\n",
       "      <td>60.348651</td>\n",
       "      <td>2.070636</td>\n",
       "      <td>2.771499</td>\n",
       "      <td>10.673824</td>\n",
       "      <td>34.457852</td>\n",
       "      <td>5.892358</td>\n",
       "      <td>10.569807</td>\n",
       "      <td>1.150082</td>\n",
       "      <td>28793.672193</td>\n",
       "      <td>14191.277833</td>\n",
       "      <td>0.611408</td>\n",
       "      <td>490.804555</td>\n",
       "      <td>0.770255</td>\n",
       "      <td>517.980900</td>\n",
       "      <td>180.888634</td>\n",
       "    </tr>\n",
       "    <tr>\n",
       "      <th>std</th>\n",
       "      <td>5.682529</td>\n",
       "      <td>1.088701e+07</td>\n",
       "      <td>35.654083</td>\n",
       "      <td>1.078405</td>\n",
       "      <td>1.261056</td>\n",
       "      <td>6.597173</td>\n",
       "      <td>22.030445</td>\n",
       "      <td>4.885249</td>\n",
       "      <td>5.905438</td>\n",
       "      <td>1.071300</td>\n",
       "      <td>12630.880622</td>\n",
       "      <td>8608.386210</td>\n",
       "      <td>0.802074</td>\n",
       "      <td>342.317995</td>\n",
       "      <td>0.938346</td>\n",
       "      <td>277.720643</td>\n",
       "      <td>219.727988</td>\n",
       "    </tr>\n",
       "    <tr>\n",
       "      <th>min</th>\n",
       "      <td>0.000000</td>\n",
       "      <td>1.219000e+04</td>\n",
       "      <td>12.000000</td>\n",
       "      <td>0.000000</td>\n",
       "      <td>1.000000</td>\n",
       "      <td>1.000000</td>\n",
       "      <td>2.000000</td>\n",
       "      <td>1.000000</td>\n",
       "      <td>1.300000</td>\n",
       "      <td>0.000000</td>\n",
       "      <td>0.000000</td>\n",
       "      <td>181.000000</td>\n",
       "      <td>0.000000</td>\n",
       "      <td>1.000000</td>\n",
       "      <td>0.000000</td>\n",
       "      <td>13.000000</td>\n",
       "      <td>1.000000</td>\n",
       "    </tr>\n",
       "    <tr>\n",
       "      <th>2.5%</th>\n",
       "      <td>0.000000</td>\n",
       "      <td>1.449945e+06</td>\n",
       "      <td>29.000000</td>\n",
       "      <td>1.000000</td>\n",
       "      <td>2.500000</td>\n",
       "      <td>3.000000</td>\n",
       "      <td>14.400000</td>\n",
       "      <td>1.000000</td>\n",
       "      <td>5.200000</td>\n",
       "      <td>0.000000</td>\n",
       "      <td>10458.600000</td>\n",
       "      <td>2357.000000</td>\n",
       "      <td>0.000000</td>\n",
       "      <td>51.000000</td>\n",
       "      <td>0.000000</td>\n",
       "      <td>62.000000</td>\n",
       "      <td>6.000000</td>\n",
       "    </tr>\n",
       "    <tr>\n",
       "      <th>5%</th>\n",
       "      <td>1.000000</td>\n",
       "      <td>1.870000e+06</td>\n",
       "      <td>31.000000</td>\n",
       "      <td>1.000000</td>\n",
       "      <td>2.500000</td>\n",
       "      <td>4.000000</td>\n",
       "      <td>15.200000</td>\n",
       "      <td>1.000000</td>\n",
       "      <td>5.500000</td>\n",
       "      <td>0.000000</td>\n",
       "      <td>11557.400000</td>\n",
       "      <td>3541.000000</td>\n",
       "      <td>0.000000</td>\n",
       "      <td>95.900000</td>\n",
       "      <td>0.000000</td>\n",
       "      <td>93.000000</td>\n",
       "      <td>9.000000</td>\n",
       "    </tr>\n",
       "    <tr>\n",
       "      <th>25%</th>\n",
       "      <td>6.000000</td>\n",
       "      <td>3.400000e+06</td>\n",
       "      <td>40.000000</td>\n",
       "      <td>1.000000</td>\n",
       "      <td>2.520000</td>\n",
       "      <td>5.000000</td>\n",
       "      <td>18.600000</td>\n",
       "      <td>2.000000</td>\n",
       "      <td>7.000000</td>\n",
       "      <td>0.000000</td>\n",
       "      <td>18585.000000</td>\n",
       "      <td>9238.000000</td>\n",
       "      <td>0.000000</td>\n",
       "      <td>288.000000</td>\n",
       "      <td>0.000000</td>\n",
       "      <td>294.000000</td>\n",
       "      <td>45.000000</td>\n",
       "    </tr>\n",
       "    <tr>\n",
       "      <th>50%</th>\n",
       "      <td>9.000000</td>\n",
       "      <td>4.650000e+06</td>\n",
       "      <td>52.000000</td>\n",
       "      <td>2.000000</td>\n",
       "      <td>2.650000</td>\n",
       "      <td>9.000000</td>\n",
       "      <td>30.000000</td>\n",
       "      <td>4.000000</td>\n",
       "      <td>9.100000</td>\n",
       "      <td>1.000000</td>\n",
       "      <td>26726.000000</td>\n",
       "      <td>13098.500000</td>\n",
       "      <td>0.000000</td>\n",
       "      <td>455.000000</td>\n",
       "      <td>1.000000</td>\n",
       "      <td>502.000000</td>\n",
       "      <td>95.000000</td>\n",
       "    </tr>\n",
       "    <tr>\n",
       "      <th>75%</th>\n",
       "      <td>14.000000</td>\n",
       "      <td>6.800000e+06</td>\n",
       "      <td>69.900000</td>\n",
       "      <td>3.000000</td>\n",
       "      <td>2.800000</td>\n",
       "      <td>16.000000</td>\n",
       "      <td>42.300000</td>\n",
       "      <td>8.000000</td>\n",
       "      <td>12.000000</td>\n",
       "      <td>2.000000</td>\n",
       "      <td>37273.000000</td>\n",
       "      <td>16293.000000</td>\n",
       "      <td>1.000000</td>\n",
       "      <td>612.000000</td>\n",
       "      <td>1.000000</td>\n",
       "      <td>729.000000</td>\n",
       "      <td>232.000000</td>\n",
       "    </tr>\n",
       "    <tr>\n",
       "      <th>95%</th>\n",
       "      <td>20.000000</td>\n",
       "      <td>1.530000e+07</td>\n",
       "      <td>116.000000</td>\n",
       "      <td>4.000000</td>\n",
       "      <td>3.300000</td>\n",
       "      <td>25.000000</td>\n",
       "      <td>69.000000</td>\n",
       "      <td>16.000000</td>\n",
       "      <td>20.000000</td>\n",
       "      <td>2.000000</td>\n",
       "      <td>51340.000000</td>\n",
       "      <td>31671.600000</td>\n",
       "      <td>2.000000</td>\n",
       "      <td>968.000000</td>\n",
       "      <td>3.000000</td>\n",
       "      <td>976.550000</td>\n",
       "      <td>647.000000</td>\n",
       "    </tr>\n",
       "    <tr>\n",
       "      <th>97.5%</th>\n",
       "      <td>20.000000</td>\n",
       "      <td>2.236175e+07</td>\n",
       "      <td>149.000000</td>\n",
       "      <td>4.000000</td>\n",
       "      <td>3.500000</td>\n",
       "      <td>25.000000</td>\n",
       "      <td>87.000000</td>\n",
       "      <td>20.000000</td>\n",
       "      <td>25.600000</td>\n",
       "      <td>4.000000</td>\n",
       "      <td>53736.700000</td>\n",
       "      <td>34557.525000</td>\n",
       "      <td>3.000000</td>\n",
       "      <td>1362.100000</td>\n",
       "      <td>3.000000</td>\n",
       "      <td>1050.000000</td>\n",
       "      <td>846.000000</td>\n",
       "    </tr>\n",
       "    <tr>\n",
       "      <th>max</th>\n",
       "      <td>50.000000</td>\n",
       "      <td>7.630000e+08</td>\n",
       "      <td>900.000000</td>\n",
       "      <td>19.000000</td>\n",
       "      <td>100.000000</td>\n",
       "      <td>60.000000</td>\n",
       "      <td>409.700000</td>\n",
       "      <td>33.000000</td>\n",
       "      <td>112.000000</td>\n",
       "      <td>5.000000</td>\n",
       "      <td>84869.000000</td>\n",
       "      <td>65968.000000</td>\n",
       "      <td>3.000000</td>\n",
       "      <td>3190.000000</td>\n",
       "      <td>3.000000</td>\n",
       "      <td>1344.000000</td>\n",
       "      <td>1580.000000</td>\n",
       "    </tr>\n",
       "  </tbody>\n",
       "</table>\n",
       "</div>"
      ],
      "text/plain": [
       "       total_images    last_price    total_area         rooms  ceiling_height  \\\n",
       "count  23699.000000  2.369900e+04  23699.000000  23699.000000    14504.000000   \n",
       "mean       9.858475  6.541549e+06     60.348651      2.070636        2.771499   \n",
       "std        5.682529  1.088701e+07     35.654083      1.078405        1.261056   \n",
       "min        0.000000  1.219000e+04     12.000000      0.000000        1.000000   \n",
       "2.5%       0.000000  1.449945e+06     29.000000      1.000000        2.500000   \n",
       "5%         1.000000  1.870000e+06     31.000000      1.000000        2.500000   \n",
       "25%        6.000000  3.400000e+06     40.000000      1.000000        2.520000   \n",
       "50%        9.000000  4.650000e+06     52.000000      2.000000        2.650000   \n",
       "75%       14.000000  6.800000e+06     69.900000      3.000000        2.800000   \n",
       "95%       20.000000  1.530000e+07    116.000000      4.000000        3.300000   \n",
       "97.5%     20.000000  2.236175e+07    149.000000      4.000000        3.500000   \n",
       "max       50.000000  7.630000e+08    900.000000     19.000000      100.000000   \n",
       "\n",
       "       floors_total   living_area         floor  kitchen_area       balcony  \\\n",
       "count  23613.000000  21796.000000  23699.000000  21421.000000  12180.000000   \n",
       "mean      10.673824     34.457852      5.892358     10.569807      1.150082   \n",
       "std        6.597173     22.030445      4.885249      5.905438      1.071300   \n",
       "min        1.000000      2.000000      1.000000      1.300000      0.000000   \n",
       "2.5%       3.000000     14.400000      1.000000      5.200000      0.000000   \n",
       "5%         4.000000     15.200000      1.000000      5.500000      0.000000   \n",
       "25%        5.000000     18.600000      2.000000      7.000000      0.000000   \n",
       "50%        9.000000     30.000000      4.000000      9.100000      1.000000   \n",
       "75%       16.000000     42.300000      8.000000     12.000000      2.000000   \n",
       "95%       25.000000     69.000000     16.000000     20.000000      2.000000   \n",
       "97.5%     25.000000     87.000000     20.000000     25.600000      4.000000   \n",
       "max       60.000000    409.700000     33.000000    112.000000      5.000000   \n",
       "\n",
       "       airports_nearest  cityCenters_nearest  parks_around3000  parks_nearest  \\\n",
       "count      18157.000000         18180.000000      18181.000000    8079.000000   \n",
       "mean       28793.672193         14191.277833          0.611408     490.804555   \n",
       "std        12630.880622          8608.386210          0.802074     342.317995   \n",
       "min            0.000000           181.000000          0.000000       1.000000   \n",
       "2.5%       10458.600000          2357.000000          0.000000      51.000000   \n",
       "5%         11557.400000          3541.000000          0.000000      95.900000   \n",
       "25%        18585.000000          9238.000000          0.000000     288.000000   \n",
       "50%        26726.000000         13098.500000          0.000000     455.000000   \n",
       "75%        37273.000000         16293.000000          1.000000     612.000000   \n",
       "95%        51340.000000         31671.600000          2.000000     968.000000   \n",
       "97.5%      53736.700000         34557.525000          3.000000    1362.100000   \n",
       "max        84869.000000         65968.000000          3.000000    3190.000000   \n",
       "\n",
       "       ponds_around3000  ponds_nearest  days_exposition  \n",
       "count      18181.000000    9110.000000     20518.000000  \n",
       "mean           0.770255     517.980900       180.888634  \n",
       "std            0.938346     277.720643       219.727988  \n",
       "min            0.000000      13.000000         1.000000  \n",
       "2.5%           0.000000      62.000000         6.000000  \n",
       "5%             0.000000      93.000000         9.000000  \n",
       "25%            0.000000     294.000000        45.000000  \n",
       "50%            1.000000     502.000000        95.000000  \n",
       "75%            1.000000     729.000000       232.000000  \n",
       "95%            3.000000     976.550000       647.000000  \n",
       "97.5%          3.000000    1050.000000       846.000000  \n",
       "max            3.000000    1344.000000      1580.000000  "
      ]
     },
     "execution_count": 4,
     "metadata": {},
     "output_type": "execute_result"
    }
   ],
   "source": [
    "data.describe(percentiles = [.025, .05, .25, .50, .75, .95, .975])"
   ]
  },
  {
   "cell_type": "code",
   "execution_count": 5,
   "metadata": {},
   "outputs": [
    {
     "name": "stdout",
     "output_type": "stream",
     "text": [
      "<class 'pandas.core.frame.DataFrame'>\n",
      "RangeIndex: 23699 entries, 0 to 23698\n",
      "Data columns (total 22 columns):\n",
      "total_images            23699 non-null int64\n",
      "last_price              23699 non-null float64\n",
      "total_area              23699 non-null float64\n",
      "first_day_exposition    23699 non-null object\n",
      "rooms                   23699 non-null int64\n",
      "ceiling_height          14504 non-null float64\n",
      "floors_total            23613 non-null float64\n",
      "living_area             21796 non-null float64\n",
      "floor                   23699 non-null int64\n",
      "is_apartment            2775 non-null object\n",
      "studio                  23699 non-null bool\n",
      "open_plan               23699 non-null bool\n",
      "kitchen_area            21421 non-null float64\n",
      "balcony                 12180 non-null float64\n",
      "locality_name           23650 non-null object\n",
      "airports_nearest        18157 non-null float64\n",
      "cityCenters_nearest     18180 non-null float64\n",
      "parks_around3000        18181 non-null float64\n",
      "parks_nearest           8079 non-null float64\n",
      "ponds_around3000        18181 non-null float64\n",
      "ponds_nearest           9110 non-null float64\n",
      "days_exposition         20518 non-null float64\n",
      "dtypes: bool(2), float64(14), int64(3), object(3)\n",
      "memory usage: 3.7+ MB\n"
     ]
    }
   ],
   "source": [
    "data.info()"
   ]
  },
  {
   "cell_type": "code",
   "execution_count": 6,
   "metadata": {},
   "outputs": [
    {
     "data": {
      "text/plain": [
       "(23699, 22)"
      ]
     },
     "execution_count": 6,
     "metadata": {},
     "output_type": "execute_result"
    }
   ],
   "source": [
    "data.shape"
   ]
  },
  {
   "cell_type": "code",
   "execution_count": 7,
   "metadata": {},
   "outputs": [
    {
     "data": {
      "text/plain": [
       "0"
      ]
     },
     "execution_count": 7,
     "metadata": {},
     "output_type": "execute_result"
    }
   ],
   "source": [
    "\n",
    "data.duplicated().sum()"
   ]
  },
  {
   "cell_type": "code",
   "execution_count": 8,
   "metadata": {},
   "outputs": [
    {
     "data": {
      "text/plain": [
       "is_apartment            20924\n",
       "parks_nearest           15620\n",
       "ponds_nearest           14589\n",
       "balcony                 11519\n",
       "ceiling_height           9195\n",
       "airports_nearest         5542\n",
       "cityCenters_nearest      5519\n",
       "parks_around3000         5518\n",
       "ponds_around3000         5518\n",
       "days_exposition          3181\n",
       "kitchen_area             2278\n",
       "living_area              1903\n",
       "floors_total               86\n",
       "locality_name              49\n",
       "first_day_exposition        0\n",
       "last_price                  0\n",
       "total_area                  0\n",
       "studio                      0\n",
       "rooms                       0\n",
       "floor                       0\n",
       "open_plan                   0\n",
       "total_images                0\n",
       "dtype: int64"
      ]
     },
     "execution_count": 8,
     "metadata": {},
     "output_type": "execute_result"
    }
   ],
   "source": [
    "\n",
    "data.isnull().sum().sort_values(ascending = False)"
   ]
  },
  {
   "cell_type": "markdown",
   "metadata": {},
   "source": [
    "### last_price"
   ]
  },
  {
   "cell_type": "code",
   "execution_count": 9,
   "metadata": {},
   "outputs": [
    {
     "data": {
      "text/plain": [
       "count    2.369900e+04\n",
       "mean     6.541549e+06\n",
       "std      1.088701e+07\n",
       "min      1.219000e+04\n",
       "25%      3.400000e+06\n",
       "50%      4.650000e+06\n",
       "75%      6.800000e+06\n",
       "max      7.630000e+08\n",
       "Name: last_price, dtype: float64"
      ]
     },
     "execution_count": 9,
     "metadata": {},
     "output_type": "execute_result"
    }
   ],
   "source": [
    "data['last_price'].describe()"
   ]
  },
  {
   "cell_type": "markdown",
   "metadata": {},
   "source": [
    "The data themselves do not raise any questions for me yet, so I just use them to calculate the square meter of housing. To do this, divide the cost by the total number of meters"
   ]
  },
  {
   "cell_type": "code",
   "execution_count": 10,
   "metadata": {},
   "outputs": [],
   "source": [
    "data['m2'] = data['last_price']/data['total_area']\n"
   ]
  },
  {
   "cell_type": "code",
   "execution_count": 11,
   "metadata": {},
   "outputs": [],
   "source": [
    "data['m2'] = data[['m2']].astype(int)"
   ]
  },
  {
   "cell_type": "code",
   "execution_count": 12,
   "metadata": {},
   "outputs": [
    {
     "data": {
      "text/plain": [
       "0    120370\n",
       "1     82920\n",
       "2     92785\n",
       "3    408176\n",
       "4    100000\n",
       "Name: m2, dtype: int64"
      ]
     },
     "execution_count": 12,
     "metadata": {},
     "output_type": "execute_result"
    }
   ],
   "source": [
    "data['m2'].head()"
   ]
  },
  {
   "cell_type": "markdown",
   "metadata": {},
   "source": [
    "### Total_area <a class=\"anchor\" id=\"6\"></a>"
   ]
  },
  {
   "cell_type": "code",
   "execution_count": 13,
   "metadata": {},
   "outputs": [
    {
     "data": {
      "text/plain": [
       "count    23699.000000\n",
       "mean        60.348651\n",
       "std         35.654083\n",
       "min         12.000000\n",
       "25%         40.000000\n",
       "50%         52.000000\n",
       "75%         69.900000\n",
       "max        900.000000\n",
       "Name: total_area, dtype: float64"
      ]
     },
     "execution_count": 13,
     "metadata": {},
     "output_type": "execute_result"
    }
   ],
   "source": [
    "data['total_area'].describe()"
   ]
  },
  {
   "cell_type": "markdown",
   "metadata": {},
   "source": [
    "We see that the minimum area of apartments is 12 meters, and the maximum is 900, which is hypothetically quite real. There are no passes. So I won't touch this data yet"
   ]
  },
  {
   "cell_type": "markdown",
   "metadata": {},
   "source": [
    "### First_day_exposition <a class=\"anchor\" id=\"7\"></a>"
   ]
  },
  {
   "cell_type": "code",
   "execution_count": 14,
   "metadata": {},
   "outputs": [
    {
     "data": {
      "text/plain": [
       "2018-02-01T00:00:00    368\n",
       "2017-11-10T00:00:00    240\n",
       "2017-10-13T00:00:00    124\n",
       "2017-09-27T00:00:00    111\n",
       "2018-03-26T00:00:00     97\n",
       "                      ... \n",
       "2015-11-16T00:00:00      1\n",
       "2015-01-12T00:00:00      1\n",
       "2015-04-04T00:00:00      1\n",
       "2015-07-27T00:00:00      1\n",
       "2015-07-28T00:00:00      1\n",
       "Name: first_day_exposition, Length: 1491, dtype: int64"
      ]
     },
     "execution_count": 14,
     "metadata": {},
     "output_type": "execute_result"
    }
   ],
   "source": [
    "data['first_day_exposition'].value_counts()"
   ]
  },
  {
   "cell_type": "markdown",
   "metadata": {},
   "source": [
    "Time and date in an inconvenient format, we need to reformat it to the datetime type"
   ]
  },
  {
   "cell_type": "code",
   "execution_count": 15,
   "metadata": {},
   "outputs": [],
   "source": [
    "data['first_day_exposition'] = pd.to_datetime(data['first_day_exposition'], format = \"%Y-%m-%dT%H:%M:%S\")"
   ]
  },
  {
   "cell_type": "code",
   "execution_count": 16,
   "metadata": {},
   "outputs": [
    {
     "data": {
      "text/html": [
       "<div>\n",
       "<style scoped>\n",
       "    .dataframe tbody tr th:only-of-type {\n",
       "        vertical-align: middle;\n",
       "    }\n",
       "\n",
       "    .dataframe tbody tr th {\n",
       "        vertical-align: top;\n",
       "    }\n",
       "\n",
       "    .dataframe thead th {\n",
       "        text-align: right;\n",
       "    }\n",
       "</style>\n",
       "<table border=\"1\" class=\"dataframe\">\n",
       "  <thead>\n",
       "    <tr style=\"text-align: right;\">\n",
       "      <th></th>\n",
       "      <th>total_images</th>\n",
       "      <th>last_price</th>\n",
       "      <th>total_area</th>\n",
       "      <th>first_day_exposition</th>\n",
       "      <th>rooms</th>\n",
       "      <th>ceiling_height</th>\n",
       "      <th>floors_total</th>\n",
       "      <th>living_area</th>\n",
       "      <th>floor</th>\n",
       "      <th>is_apartment</th>\n",
       "      <th>...</th>\n",
       "      <th>balcony</th>\n",
       "      <th>locality_name</th>\n",
       "      <th>airports_nearest</th>\n",
       "      <th>cityCenters_nearest</th>\n",
       "      <th>parks_around3000</th>\n",
       "      <th>parks_nearest</th>\n",
       "      <th>ponds_around3000</th>\n",
       "      <th>ponds_nearest</th>\n",
       "      <th>days_exposition</th>\n",
       "      <th>m2</th>\n",
       "    </tr>\n",
       "  </thead>\n",
       "  <tbody>\n",
       "    <tr>\n",
       "      <th>0</th>\n",
       "      <td>20</td>\n",
       "      <td>13000000.0</td>\n",
       "      <td>108.0</td>\n",
       "      <td>2019-03-07</td>\n",
       "      <td>3</td>\n",
       "      <td>2.70</td>\n",
       "      <td>16.0</td>\n",
       "      <td>51.0</td>\n",
       "      <td>8</td>\n",
       "      <td>NaN</td>\n",
       "      <td>...</td>\n",
       "      <td>NaN</td>\n",
       "      <td>Saint Peterburg</td>\n",
       "      <td>18863.0</td>\n",
       "      <td>16028.0</td>\n",
       "      <td>1.0</td>\n",
       "      <td>482.0</td>\n",
       "      <td>2.0</td>\n",
       "      <td>755.0</td>\n",
       "      <td>NaN</td>\n",
       "      <td>120370</td>\n",
       "    </tr>\n",
       "    <tr>\n",
       "      <th>1</th>\n",
       "      <td>7</td>\n",
       "      <td>3350000.0</td>\n",
       "      <td>40.4</td>\n",
       "      <td>2018-12-04</td>\n",
       "      <td>1</td>\n",
       "      <td>NaN</td>\n",
       "      <td>11.0</td>\n",
       "      <td>18.6</td>\n",
       "      <td>1</td>\n",
       "      <td>NaN</td>\n",
       "      <td>...</td>\n",
       "      <td>2.0</td>\n",
       "      <td>Shushary village</td>\n",
       "      <td>12817.0</td>\n",
       "      <td>18603.0</td>\n",
       "      <td>0.0</td>\n",
       "      <td>NaN</td>\n",
       "      <td>0.0</td>\n",
       "      <td>NaN</td>\n",
       "      <td>81.0</td>\n",
       "      <td>82920</td>\n",
       "    </tr>\n",
       "    <tr>\n",
       "      <th>2</th>\n",
       "      <td>10</td>\n",
       "      <td>5196000.0</td>\n",
       "      <td>56.0</td>\n",
       "      <td>2015-08-20</td>\n",
       "      <td>2</td>\n",
       "      <td>NaN</td>\n",
       "      <td>5.0</td>\n",
       "      <td>34.3</td>\n",
       "      <td>4</td>\n",
       "      <td>NaN</td>\n",
       "      <td>...</td>\n",
       "      <td>0.0</td>\n",
       "      <td>Saint Peterburg</td>\n",
       "      <td>21741.0</td>\n",
       "      <td>13933.0</td>\n",
       "      <td>1.0</td>\n",
       "      <td>90.0</td>\n",
       "      <td>2.0</td>\n",
       "      <td>574.0</td>\n",
       "      <td>558.0</td>\n",
       "      <td>92785</td>\n",
       "    </tr>\n",
       "    <tr>\n",
       "      <th>3</th>\n",
       "      <td>0</td>\n",
       "      <td>64900000.0</td>\n",
       "      <td>159.0</td>\n",
       "      <td>2015-07-24</td>\n",
       "      <td>3</td>\n",
       "      <td>NaN</td>\n",
       "      <td>14.0</td>\n",
       "      <td>NaN</td>\n",
       "      <td>9</td>\n",
       "      <td>NaN</td>\n",
       "      <td>...</td>\n",
       "      <td>0.0</td>\n",
       "      <td>Saint Peterburg</td>\n",
       "      <td>28098.0</td>\n",
       "      <td>6800.0</td>\n",
       "      <td>2.0</td>\n",
       "      <td>84.0</td>\n",
       "      <td>3.0</td>\n",
       "      <td>234.0</td>\n",
       "      <td>424.0</td>\n",
       "      <td>408176</td>\n",
       "    </tr>\n",
       "    <tr>\n",
       "      <th>4</th>\n",
       "      <td>2</td>\n",
       "      <td>10000000.0</td>\n",
       "      <td>100.0</td>\n",
       "      <td>2018-06-19</td>\n",
       "      <td>2</td>\n",
       "      <td>3.03</td>\n",
       "      <td>14.0</td>\n",
       "      <td>32.0</td>\n",
       "      <td>13</td>\n",
       "      <td>NaN</td>\n",
       "      <td>...</td>\n",
       "      <td>NaN</td>\n",
       "      <td>Saint Peterburg</td>\n",
       "      <td>31856.0</td>\n",
       "      <td>8098.0</td>\n",
       "      <td>2.0</td>\n",
       "      <td>112.0</td>\n",
       "      <td>1.0</td>\n",
       "      <td>48.0</td>\n",
       "      <td>121.0</td>\n",
       "      <td>100000</td>\n",
       "    </tr>\n",
       "  </tbody>\n",
       "</table>\n",
       "<p>5 rows × 23 columns</p>\n",
       "</div>"
      ],
      "text/plain": [
       "   total_images  last_price  total_area first_day_exposition  rooms  \\\n",
       "0            20  13000000.0       108.0           2019-03-07      3   \n",
       "1             7   3350000.0        40.4           2018-12-04      1   \n",
       "2            10   5196000.0        56.0           2015-08-20      2   \n",
       "3             0  64900000.0       159.0           2015-07-24      3   \n",
       "4             2  10000000.0       100.0           2018-06-19      2   \n",
       "\n",
       "   ceiling_height  floors_total  living_area  floor is_apartment  ...  \\\n",
       "0            2.70          16.0         51.0      8          NaN  ...   \n",
       "1             NaN          11.0         18.6      1          NaN  ...   \n",
       "2             NaN           5.0         34.3      4          NaN  ...   \n",
       "3             NaN          14.0          NaN      9          NaN  ...   \n",
       "4            3.03          14.0         32.0     13          NaN  ...   \n",
       "\n",
       "   balcony     locality_name  airports_nearest  cityCenters_nearest  \\\n",
       "0      NaN   Saint Peterburg           18863.0              16028.0   \n",
       "1      2.0  Shushary village           12817.0              18603.0   \n",
       "2      0.0   Saint Peterburg           21741.0              13933.0   \n",
       "3      0.0   Saint Peterburg           28098.0               6800.0   \n",
       "4      NaN   Saint Peterburg           31856.0               8098.0   \n",
       "\n",
       "  parks_around3000  parks_nearest  ponds_around3000  ponds_nearest  \\\n",
       "0              1.0          482.0               2.0          755.0   \n",
       "1              0.0            NaN               0.0            NaN   \n",
       "2              1.0           90.0               2.0          574.0   \n",
       "3              2.0           84.0               3.0          234.0   \n",
       "4              2.0          112.0               1.0           48.0   \n",
       "\n",
       "   days_exposition      m2  \n",
       "0              NaN  120370  \n",
       "1             81.0   82920  \n",
       "2            558.0   92785  \n",
       "3            424.0  408176  \n",
       "4            121.0  100000  \n",
       "\n",
       "[5 rows x 23 columns]"
      ]
     },
     "execution_count": 16,
     "metadata": {},
     "output_type": "execute_result"
    }
   ],
   "source": [
    "data.head()"
   ]
  },
  {
   "cell_type": "code",
   "execution_count": 17,
   "metadata": {},
   "outputs": [
    {
     "name": "stdout",
     "output_type": "stream",
     "text": [
      "<class 'pandas.core.frame.DataFrame'>\n",
      "RangeIndex: 23699 entries, 0 to 23698\n",
      "Data columns (total 23 columns):\n",
      "total_images            23699 non-null int64\n",
      "last_price              23699 non-null float64\n",
      "total_area              23699 non-null float64\n",
      "first_day_exposition    23699 non-null datetime64[ns]\n",
      "rooms                   23699 non-null int64\n",
      "ceiling_height          14504 non-null float64\n",
      "floors_total            23613 non-null float64\n",
      "living_area             21796 non-null float64\n",
      "floor                   23699 non-null int64\n",
      "is_apartment            2775 non-null object\n",
      "studio                  23699 non-null bool\n",
      "open_plan               23699 non-null bool\n",
      "kitchen_area            21421 non-null float64\n",
      "balcony                 12180 non-null float64\n",
      "locality_name           23650 non-null object\n",
      "airports_nearest        18157 non-null float64\n",
      "cityCenters_nearest     18180 non-null float64\n",
      "parks_around3000        18181 non-null float64\n",
      "parks_nearest           8079 non-null float64\n",
      "ponds_around3000        18181 non-null float64\n",
      "ponds_nearest           9110 non-null float64\n",
      "days_exposition         20518 non-null float64\n",
      "m2                      23699 non-null int64\n",
      "dtypes: bool(2), datetime64[ns](1), float64(14), int64(4), object(2)\n",
      "memory usage: 3.8+ MB\n"
     ]
    }
   ],
   "source": [
    "data.info()"
   ]
  },
  {
   "cell_type": "markdown",
   "metadata": {},
   "source": [
    "We have made the time format easy to read and see that the data type has changed to datetime. \n",
    " \n",
    " ### Now we need to add the day of the week, month, and year of ad publication to the table <a class= \"anchor\" id= \"8\"></a>\n",
    " \n",
    " I use the .dt notation for this"
   ]
  },
  {
   "cell_type": "code",
   "execution_count": 18,
   "metadata": {},
   "outputs": [],
   "source": [
    "data['week_day_exposition'] = data['first_day_exposition'].dt.dayofweek\n",
    "data['month_exposition'] = data['first_day_exposition'].dt.month\n",
    "data['year_exposition'] = data['first_day_exposition'].dt.year"
   ]
  },
  {
   "cell_type": "code",
   "execution_count": 19,
   "metadata": {},
   "outputs": [
    {
     "data": {
      "text/html": [
       "<div>\n",
       "<style scoped>\n",
       "    .dataframe tbody tr th:only-of-type {\n",
       "        vertical-align: middle;\n",
       "    }\n",
       "\n",
       "    .dataframe tbody tr th {\n",
       "        vertical-align: top;\n",
       "    }\n",
       "\n",
       "    .dataframe thead th {\n",
       "        text-align: right;\n",
       "    }\n",
       "</style>\n",
       "<table border=\"1\" class=\"dataframe\">\n",
       "  <thead>\n",
       "    <tr style=\"text-align: right;\">\n",
       "      <th></th>\n",
       "      <th>total_images</th>\n",
       "      <th>last_price</th>\n",
       "      <th>total_area</th>\n",
       "      <th>first_day_exposition</th>\n",
       "      <th>rooms</th>\n",
       "      <th>ceiling_height</th>\n",
       "      <th>floors_total</th>\n",
       "      <th>living_area</th>\n",
       "      <th>floor</th>\n",
       "      <th>is_apartment</th>\n",
       "      <th>...</th>\n",
       "      <th>cityCenters_nearest</th>\n",
       "      <th>parks_around3000</th>\n",
       "      <th>parks_nearest</th>\n",
       "      <th>ponds_around3000</th>\n",
       "      <th>ponds_nearest</th>\n",
       "      <th>days_exposition</th>\n",
       "      <th>m2</th>\n",
       "      <th>week_day_exposition</th>\n",
       "      <th>month_exposition</th>\n",
       "      <th>year_exposition</th>\n",
       "    </tr>\n",
       "  </thead>\n",
       "  <tbody>\n",
       "    <tr>\n",
       "      <th>0</th>\n",
       "      <td>20</td>\n",
       "      <td>13000000.0</td>\n",
       "      <td>108.0</td>\n",
       "      <td>2019-03-07</td>\n",
       "      <td>3</td>\n",
       "      <td>2.70</td>\n",
       "      <td>16.0</td>\n",
       "      <td>51.0</td>\n",
       "      <td>8</td>\n",
       "      <td>NaN</td>\n",
       "      <td>...</td>\n",
       "      <td>16028.0</td>\n",
       "      <td>1.0</td>\n",
       "      <td>482.0</td>\n",
       "      <td>2.0</td>\n",
       "      <td>755.0</td>\n",
       "      <td>NaN</td>\n",
       "      <td>120370</td>\n",
       "      <td>3</td>\n",
       "      <td>3</td>\n",
       "      <td>2019</td>\n",
       "    </tr>\n",
       "    <tr>\n",
       "      <th>1</th>\n",
       "      <td>7</td>\n",
       "      <td>3350000.0</td>\n",
       "      <td>40.4</td>\n",
       "      <td>2018-12-04</td>\n",
       "      <td>1</td>\n",
       "      <td>NaN</td>\n",
       "      <td>11.0</td>\n",
       "      <td>18.6</td>\n",
       "      <td>1</td>\n",
       "      <td>NaN</td>\n",
       "      <td>...</td>\n",
       "      <td>18603.0</td>\n",
       "      <td>0.0</td>\n",
       "      <td>NaN</td>\n",
       "      <td>0.0</td>\n",
       "      <td>NaN</td>\n",
       "      <td>81.0</td>\n",
       "      <td>82920</td>\n",
       "      <td>1</td>\n",
       "      <td>12</td>\n",
       "      <td>2018</td>\n",
       "    </tr>\n",
       "    <tr>\n",
       "      <th>2</th>\n",
       "      <td>10</td>\n",
       "      <td>5196000.0</td>\n",
       "      <td>56.0</td>\n",
       "      <td>2015-08-20</td>\n",
       "      <td>2</td>\n",
       "      <td>NaN</td>\n",
       "      <td>5.0</td>\n",
       "      <td>34.3</td>\n",
       "      <td>4</td>\n",
       "      <td>NaN</td>\n",
       "      <td>...</td>\n",
       "      <td>13933.0</td>\n",
       "      <td>1.0</td>\n",
       "      <td>90.0</td>\n",
       "      <td>2.0</td>\n",
       "      <td>574.0</td>\n",
       "      <td>558.0</td>\n",
       "      <td>92785</td>\n",
       "      <td>3</td>\n",
       "      <td>8</td>\n",
       "      <td>2015</td>\n",
       "    </tr>\n",
       "    <tr>\n",
       "      <th>3</th>\n",
       "      <td>0</td>\n",
       "      <td>64900000.0</td>\n",
       "      <td>159.0</td>\n",
       "      <td>2015-07-24</td>\n",
       "      <td>3</td>\n",
       "      <td>NaN</td>\n",
       "      <td>14.0</td>\n",
       "      <td>NaN</td>\n",
       "      <td>9</td>\n",
       "      <td>NaN</td>\n",
       "      <td>...</td>\n",
       "      <td>6800.0</td>\n",
       "      <td>2.0</td>\n",
       "      <td>84.0</td>\n",
       "      <td>3.0</td>\n",
       "      <td>234.0</td>\n",
       "      <td>424.0</td>\n",
       "      <td>408176</td>\n",
       "      <td>4</td>\n",
       "      <td>7</td>\n",
       "      <td>2015</td>\n",
       "    </tr>\n",
       "    <tr>\n",
       "      <th>4</th>\n",
       "      <td>2</td>\n",
       "      <td>10000000.0</td>\n",
       "      <td>100.0</td>\n",
       "      <td>2018-06-19</td>\n",
       "      <td>2</td>\n",
       "      <td>3.03</td>\n",
       "      <td>14.0</td>\n",
       "      <td>32.0</td>\n",
       "      <td>13</td>\n",
       "      <td>NaN</td>\n",
       "      <td>...</td>\n",
       "      <td>8098.0</td>\n",
       "      <td>2.0</td>\n",
       "      <td>112.0</td>\n",
       "      <td>1.0</td>\n",
       "      <td>48.0</td>\n",
       "      <td>121.0</td>\n",
       "      <td>100000</td>\n",
       "      <td>1</td>\n",
       "      <td>6</td>\n",
       "      <td>2018</td>\n",
       "    </tr>\n",
       "  </tbody>\n",
       "</table>\n",
       "<p>5 rows × 26 columns</p>\n",
       "</div>"
      ],
      "text/plain": [
       "   total_images  last_price  total_area first_day_exposition  rooms  \\\n",
       "0            20  13000000.0       108.0           2019-03-07      3   \n",
       "1             7   3350000.0        40.4           2018-12-04      1   \n",
       "2            10   5196000.0        56.0           2015-08-20      2   \n",
       "3             0  64900000.0       159.0           2015-07-24      3   \n",
       "4             2  10000000.0       100.0           2018-06-19      2   \n",
       "\n",
       "   ceiling_height  floors_total  living_area  floor is_apartment  ...  \\\n",
       "0            2.70          16.0         51.0      8          NaN  ...   \n",
       "1             NaN          11.0         18.6      1          NaN  ...   \n",
       "2             NaN           5.0         34.3      4          NaN  ...   \n",
       "3             NaN          14.0          NaN      9          NaN  ...   \n",
       "4            3.03          14.0         32.0     13          NaN  ...   \n",
       "\n",
       "   cityCenters_nearest  parks_around3000  parks_nearest  ponds_around3000  \\\n",
       "0              16028.0               1.0          482.0               2.0   \n",
       "1              18603.0               0.0            NaN               0.0   \n",
       "2              13933.0               1.0           90.0               2.0   \n",
       "3               6800.0               2.0           84.0               3.0   \n",
       "4               8098.0               2.0          112.0               1.0   \n",
       "\n",
       "  ponds_nearest  days_exposition      m2  week_day_exposition  \\\n",
       "0         755.0              NaN  120370                    3   \n",
       "1           NaN             81.0   82920                    1   \n",
       "2         574.0            558.0   92785                    3   \n",
       "3         234.0            424.0  408176                    4   \n",
       "4          48.0            121.0  100000                    1   \n",
       "\n",
       "   month_exposition  year_exposition  \n",
       "0                 3             2019  \n",
       "1                12             2018  \n",
       "2                 8             2015  \n",
       "3                 7             2015  \n",
       "4                 6             2018  \n",
       "\n",
       "[5 rows x 26 columns]"
      ]
     },
     "execution_count": 19,
     "metadata": {},
     "output_type": "execute_result"
    }
   ],
   "source": [
    "\n",
    "data.head()"
   ]
  },
  {
   "cell_type": "markdown",
   "metadata": {},
   "source": [
    "Columns are created, but it is inconvenient to use numbers of days and months. You can try replacing them with the names of days of the week and months."
   ]
  },
  {
   "cell_type": "code",
   "execution_count": 20,
   "metadata": {},
   "outputs": [],
   "source": [
    "data['month_exposition'] = data['month_exposition'].map({\n",
    "    1:'jan', 2:'feb', 3:'march', 4:'april', 5:'may', 6:'june', 7:'july', 8:'aug', \n",
    "    9:'sept', 10:'oct', 11:'nov', 12:'dec'\n",
    "})\n",
    "\n",
    "data['week_day_exposition'] = data['week_day_exposition'].map({0:'mon', 1:'tue', \n",
    "                            2:'wed', 3:'thur', 4:'fri', 5:'sat', 6:'sun'})\n",
    "\n"
   ]
  },
  {
   "cell_type": "code",
   "execution_count": 21,
   "metadata": {},
   "outputs": [],
   "source": [
    "\n",
    "data['year_exposition'] = data['year_exposition'].astype('int16')"
   ]
  },
  {
   "cell_type": "code",
   "execution_count": 22,
   "metadata": {},
   "outputs": [
    {
     "data": {
      "text/html": [
       "<div>\n",
       "<style scoped>\n",
       "    .dataframe tbody tr th:only-of-type {\n",
       "        vertical-align: middle;\n",
       "    }\n",
       "\n",
       "    .dataframe tbody tr th {\n",
       "        vertical-align: top;\n",
       "    }\n",
       "\n",
       "    .dataframe thead th {\n",
       "        text-align: right;\n",
       "    }\n",
       "</style>\n",
       "<table border=\"1\" class=\"dataframe\">\n",
       "  <thead>\n",
       "    <tr style=\"text-align: right;\">\n",
       "      <th></th>\n",
       "      <th>total_images</th>\n",
       "      <th>last_price</th>\n",
       "      <th>total_area</th>\n",
       "      <th>first_day_exposition</th>\n",
       "      <th>rooms</th>\n",
       "      <th>ceiling_height</th>\n",
       "      <th>floors_total</th>\n",
       "      <th>living_area</th>\n",
       "      <th>floor</th>\n",
       "      <th>is_apartment</th>\n",
       "      <th>...</th>\n",
       "      <th>cityCenters_nearest</th>\n",
       "      <th>parks_around3000</th>\n",
       "      <th>parks_nearest</th>\n",
       "      <th>ponds_around3000</th>\n",
       "      <th>ponds_nearest</th>\n",
       "      <th>days_exposition</th>\n",
       "      <th>m2</th>\n",
       "      <th>week_day_exposition</th>\n",
       "      <th>month_exposition</th>\n",
       "      <th>year_exposition</th>\n",
       "    </tr>\n",
       "  </thead>\n",
       "  <tbody>\n",
       "    <tr>\n",
       "      <th>0</th>\n",
       "      <td>20</td>\n",
       "      <td>13000000.0</td>\n",
       "      <td>108.0</td>\n",
       "      <td>2019-03-07</td>\n",
       "      <td>3</td>\n",
       "      <td>2.70</td>\n",
       "      <td>16.0</td>\n",
       "      <td>51.0</td>\n",
       "      <td>8</td>\n",
       "      <td>NaN</td>\n",
       "      <td>...</td>\n",
       "      <td>16028.0</td>\n",
       "      <td>1.0</td>\n",
       "      <td>482.0</td>\n",
       "      <td>2.0</td>\n",
       "      <td>755.0</td>\n",
       "      <td>NaN</td>\n",
       "      <td>120370</td>\n",
       "      <td>thur</td>\n",
       "      <td>march</td>\n",
       "      <td>2019</td>\n",
       "    </tr>\n",
       "    <tr>\n",
       "      <th>1</th>\n",
       "      <td>7</td>\n",
       "      <td>3350000.0</td>\n",
       "      <td>40.4</td>\n",
       "      <td>2018-12-04</td>\n",
       "      <td>1</td>\n",
       "      <td>NaN</td>\n",
       "      <td>11.0</td>\n",
       "      <td>18.6</td>\n",
       "      <td>1</td>\n",
       "      <td>NaN</td>\n",
       "      <td>...</td>\n",
       "      <td>18603.0</td>\n",
       "      <td>0.0</td>\n",
       "      <td>NaN</td>\n",
       "      <td>0.0</td>\n",
       "      <td>NaN</td>\n",
       "      <td>81.0</td>\n",
       "      <td>82920</td>\n",
       "      <td>tue</td>\n",
       "      <td>dec</td>\n",
       "      <td>2018</td>\n",
       "    </tr>\n",
       "    <tr>\n",
       "      <th>2</th>\n",
       "      <td>10</td>\n",
       "      <td>5196000.0</td>\n",
       "      <td>56.0</td>\n",
       "      <td>2015-08-20</td>\n",
       "      <td>2</td>\n",
       "      <td>NaN</td>\n",
       "      <td>5.0</td>\n",
       "      <td>34.3</td>\n",
       "      <td>4</td>\n",
       "      <td>NaN</td>\n",
       "      <td>...</td>\n",
       "      <td>13933.0</td>\n",
       "      <td>1.0</td>\n",
       "      <td>90.0</td>\n",
       "      <td>2.0</td>\n",
       "      <td>574.0</td>\n",
       "      <td>558.0</td>\n",
       "      <td>92785</td>\n",
       "      <td>thur</td>\n",
       "      <td>aug</td>\n",
       "      <td>2015</td>\n",
       "    </tr>\n",
       "    <tr>\n",
       "      <th>3</th>\n",
       "      <td>0</td>\n",
       "      <td>64900000.0</td>\n",
       "      <td>159.0</td>\n",
       "      <td>2015-07-24</td>\n",
       "      <td>3</td>\n",
       "      <td>NaN</td>\n",
       "      <td>14.0</td>\n",
       "      <td>NaN</td>\n",
       "      <td>9</td>\n",
       "      <td>NaN</td>\n",
       "      <td>...</td>\n",
       "      <td>6800.0</td>\n",
       "      <td>2.0</td>\n",
       "      <td>84.0</td>\n",
       "      <td>3.0</td>\n",
       "      <td>234.0</td>\n",
       "      <td>424.0</td>\n",
       "      <td>408176</td>\n",
       "      <td>fri</td>\n",
       "      <td>july</td>\n",
       "      <td>2015</td>\n",
       "    </tr>\n",
       "    <tr>\n",
       "      <th>4</th>\n",
       "      <td>2</td>\n",
       "      <td>10000000.0</td>\n",
       "      <td>100.0</td>\n",
       "      <td>2018-06-19</td>\n",
       "      <td>2</td>\n",
       "      <td>3.03</td>\n",
       "      <td>14.0</td>\n",
       "      <td>32.0</td>\n",
       "      <td>13</td>\n",
       "      <td>NaN</td>\n",
       "      <td>...</td>\n",
       "      <td>8098.0</td>\n",
       "      <td>2.0</td>\n",
       "      <td>112.0</td>\n",
       "      <td>1.0</td>\n",
       "      <td>48.0</td>\n",
       "      <td>121.0</td>\n",
       "      <td>100000</td>\n",
       "      <td>tue</td>\n",
       "      <td>june</td>\n",
       "      <td>2018</td>\n",
       "    </tr>\n",
       "  </tbody>\n",
       "</table>\n",
       "<p>5 rows × 26 columns</p>\n",
       "</div>"
      ],
      "text/plain": [
       "   total_images  last_price  total_area first_day_exposition  rooms  \\\n",
       "0            20  13000000.0       108.0           2019-03-07      3   \n",
       "1             7   3350000.0        40.4           2018-12-04      1   \n",
       "2            10   5196000.0        56.0           2015-08-20      2   \n",
       "3             0  64900000.0       159.0           2015-07-24      3   \n",
       "4             2  10000000.0       100.0           2018-06-19      2   \n",
       "\n",
       "   ceiling_height  floors_total  living_area  floor is_apartment  ...  \\\n",
       "0            2.70          16.0         51.0      8          NaN  ...   \n",
       "1             NaN          11.0         18.6      1          NaN  ...   \n",
       "2             NaN           5.0         34.3      4          NaN  ...   \n",
       "3             NaN          14.0          NaN      9          NaN  ...   \n",
       "4            3.03          14.0         32.0     13          NaN  ...   \n",
       "\n",
       "   cityCenters_nearest  parks_around3000  parks_nearest  ponds_around3000  \\\n",
       "0              16028.0               1.0          482.0               2.0   \n",
       "1              18603.0               0.0            NaN               0.0   \n",
       "2              13933.0               1.0           90.0               2.0   \n",
       "3               6800.0               2.0           84.0               3.0   \n",
       "4               8098.0               2.0          112.0               1.0   \n",
       "\n",
       "  ponds_nearest  days_exposition      m2  week_day_exposition  \\\n",
       "0         755.0              NaN  120370                 thur   \n",
       "1           NaN             81.0   82920                  tue   \n",
       "2         574.0            558.0   92785                 thur   \n",
       "3         234.0            424.0  408176                  fri   \n",
       "4          48.0            121.0  100000                  tue   \n",
       "\n",
       "   month_exposition  year_exposition  \n",
       "0             march             2019  \n",
       "1               dec             2018  \n",
       "2               aug             2015  \n",
       "3              july             2015  \n",
       "4              june             2018  \n",
       "\n",
       "[5 rows x 26 columns]"
      ]
     },
     "execution_count": 22,
     "metadata": {},
     "output_type": "execute_result"
    }
   ],
   "source": [
    "\n",
    "data.head()"
   ]
  },
  {
   "cell_type": "markdown",
   "metadata": {},
   "source": [
    "### Apartments, studios, free layout <a class=\"anchor\" id=\"14\"></a>"
   ]
  },
  {
   "cell_type": "code",
   "execution_count": 23,
   "metadata": {},
   "outputs": [
    {
     "name": "stdout",
     "output_type": "stream",
     "text": [
      "False    2725\n",
      "True       50\n",
      "Name: is_apartment, dtype: int64\n"
     ]
    }
   ],
   "source": [
    "print(data['is_apartment'].value_counts())"
   ]
  },
  {
   "cell_type": "markdown",
   "metadata": {},
   "source": [
    "The values are correct and have a Boolean type. However, there are a lot of omissions in the data and there are very few apartments with the True parameter - 50 units"
   ]
  },
  {
   "cell_type": "code",
   "execution_count": 24,
   "metadata": {},
   "outputs": [
    {
     "name": "stdout",
     "output_type": "stream",
     "text": [
      "False    23550\n",
      "True       149\n",
      "Name: studio, dtype: int64\n"
     ]
    }
   ],
   "source": [
    "print(data['studio'].value_counts())"
   ]
  },
  {
   "cell_type": "markdown",
   "metadata": {},
   "source": [
    "The values are correct and have a Boolean type. Number of True only 149"
   ]
  },
  {
   "cell_type": "code",
   "execution_count": 25,
   "metadata": {},
   "outputs": [
    {
     "name": "stdout",
     "output_type": "stream",
     "text": [
      "False    23632\n",
      "True        67\n",
      "Name: open_plan, dtype: int64\n"
     ]
    }
   ],
   "source": [
    "print(data['open_plan'].value_counts())"
   ]
  },
  {
   "cell_type": "markdown",
   "metadata": {},
   "source": [
    "The values are correct and have a Boolean type. You can look at the data on studios and apartments and try to combine it in one column \"apartment layout\""
   ]
  },
  {
   "cell_type": "code",
   "execution_count": 26,
   "metadata": {},
   "outputs": [],
   "source": [
    "def type_plan(row):\n",
    "    if row['is_apartment'] == True:\n",
    "        return \"apartment\"\n",
    "    elif row['studio'] == True:\n",
    "        return \"studio\"\n",
    "    elif row['open_plan'] == True:\n",
    "        return \"open plan\"\n",
    "    else:\n",
    "        return \"another\""
   ]
  },
  {
   "cell_type": "code",
   "execution_count": 27,
   "metadata": {},
   "outputs": [],
   "source": [
    "data['type_plan'] = data.apply(type_plan, axis=1)"
   ]
  },
  {
   "cell_type": "code",
   "execution_count": 28,
   "metadata": {},
   "outputs": [
    {
     "data": {
      "text/plain": [
       "another      23433\n",
       "studio         149\n",
       "open plan       67\n",
       "apartment       50\n",
       "Name: type_plan, dtype: int64"
      ]
     },
     "execution_count": 28,
     "metadata": {},
     "output_type": "execute_result"
    }
   ],
   "source": [
    "data['type_plan'].value_counts()"
   ]
  },
  {
   "cell_type": "markdown",
   "metadata": {},
   "source": [
    "### Rooms <a class=\"anchor\" id=\"9\"></a>"
   ]
  },
  {
   "cell_type": "code",
   "execution_count": 29,
   "metadata": {},
   "outputs": [
    {
     "name": "stdout",
     "output_type": "stream",
     "text": [
      "count    23699.000000\n",
      "mean         2.070636\n",
      "std          1.078405\n",
      "min          0.000000\n",
      "25%          1.000000\n",
      "50%          2.000000\n",
      "75%          3.000000\n",
      "max         19.000000\n",
      "Name: rooms, dtype: float64\n"
     ]
    }
   ],
   "source": [
    "print(data['rooms'].describe())"
   ]
  },
  {
   "cell_type": "code",
   "execution_count": 30,
   "metadata": {},
   "outputs": [
    {
     "name": "stdout",
     "output_type": "stream",
     "text": [
      "1     8047\n",
      "2     7940\n",
      "3     5814\n",
      "4     1180\n",
      "5      326\n",
      "0      197\n",
      "6      105\n",
      "7       59\n",
      "8       12\n",
      "9        8\n",
      "10       3\n",
      "14       2\n",
      "11       2\n",
      "19       1\n",
      "12       1\n",
      "16       1\n",
      "15       1\n",
      "Name: rooms, dtype: int64\n"
     ]
    }
   ],
   "source": [
    "print(data['rooms'].value_counts())"
   ]
  },
  {
   "cell_type": "markdown",
   "metadata": {},
   "source": [
    "We see that the largest number of apartments with 1, 2 and 3 rooms.This does not raise any questions, because indeed most houses are built with this number of rooms. Questions are raised by apartments with 0 rooms - this is most likely an error, as well as with an unusually large number of rooms (19)"
   ]
  },
  {
   "cell_type": "code",
   "execution_count": 31,
   "metadata": {},
   "outputs": [
    {
     "name": "stdout",
     "output_type": "stream",
     "text": [
      "rooms: 19\t Percentage of multi-rooms apartments: 0.1%\n"
     ]
    }
   ],
   "source": [
    "rooms_counts = data[data['rooms'] > 8].shape[0]\n",
    "print(\"rooms: {}\\t Percentage of multi-rooms apartments: {:.1%}\"\n",
    "      .format(rooms_counts, rooms_counts/data.shape[0]))"
   ]
  },
  {
   "cell_type": "markdown",
   "metadata": {},
   "source": [
    "The percentage of such apartments is not very large, they do not affect the analysis, I believe that you can leave them. The question is raised by apartments with zero room values. Whether this parameter is an error or this designation was used for Studio apartments, where there are no rooms in fact. You can check this by categorizing our apartments"
   ]
  },
  {
   "cell_type": "code",
   "execution_count": 32,
   "metadata": {},
   "outputs": [
    {
     "name": "stdout",
     "output_type": "stream",
     "text": [
      "rooms: 197\t Percentage of zero room apartments: 0.8%\n"
     ]
    }
   ],
   "source": [
    "rooms_counts = data[data['rooms'] <= 0].shape[0]\n",
    "print(\"rooms: {}\\t Percentage of zero room apartments: {:.1%}\"\n",
    "      .format(rooms_counts, rooms_counts/data.shape[0]))"
   ]
  },
  {
   "cell_type": "markdown",
   "metadata": {},
   "source": [
    "There are not many such apartments, but let's see if they are related to the layout?"
   ]
  },
  {
   "cell_type": "code",
   "execution_count": 33,
   "metadata": {},
   "outputs": [
    {
     "data": {
      "text/plain": [
       "studio       138\n",
       "open plan     59\n",
       "Name: type_plan, dtype: int64"
      ]
     },
     "execution_count": 33,
     "metadata": {},
     "output_type": "execute_result"
    }
   ],
   "source": [
    "data[data['rooms'] == 0]['type_plan'].value_counts()"
   ]
  },
  {
   "cell_type": "markdown",
   "metadata": {},
   "source": [
    "The guess was confirmed! All apartments with zero rooms are either studios or open-plan. Since any type of layout still has at least one room, replace 0 with 1"
   ]
  },
  {
   "cell_type": "code",
   "execution_count": 34,
   "metadata": {},
   "outputs": [],
   "source": [
    "data['rooms'] = data['rooms'].where(data['rooms'] != 0, 1)"
   ]
  },
  {
   "cell_type": "code",
   "execution_count": 35,
   "metadata": {},
   "outputs": [
    {
     "data": {
      "text/plain": [
       "1     8244\n",
       "2     7940\n",
       "3     5814\n",
       "4     1180\n",
       "5      326\n",
       "6      105\n",
       "7       59\n",
       "8       12\n",
       "9        8\n",
       "10       3\n",
       "14       2\n",
       "11       2\n",
       "15       1\n",
       "12       1\n",
       "19       1\n",
       "16       1\n",
       "Name: rooms, dtype: int64"
      ]
     },
     "execution_count": 35,
     "metadata": {},
     "output_type": "execute_result"
    }
   ],
   "source": [
    "data['rooms'].value_counts()"
   ]
  },
  {
   "cell_type": "markdown",
   "metadata": {},
   "source": [
    "Great! The replacement was successful!"
   ]
  },
  {
   "cell_type": "markdown",
   "metadata": {},
   "source": [
    "###  Ceiling_height <a class=\"anchor\" id=\"10\"></a>"
   ]
  },
  {
   "cell_type": "code",
   "execution_count": 36,
   "metadata": {},
   "outputs": [
    {
     "name": "stdout",
     "output_type": "stream",
     "text": [
      "2.50      3515\n",
      "2.60      1646\n",
      "2.70      1574\n",
      "3.00      1112\n",
      "2.80       993\n",
      "          ... \n",
      "27.50        1\n",
      "5.00         1\n",
      "3.59         1\n",
      "4.80         1\n",
      "100.00       1\n",
      "Name: ceiling_height, Length: 183, dtype: int64\n"
     ]
    }
   ],
   "source": [
    "print(data['ceiling_height'].value_counts())"
   ]
  },
  {
   "cell_type": "code",
   "execution_count": 37,
   "metadata": {},
   "outputs": [
    {
     "name": "stdout",
     "output_type": "stream",
     "text": [
      "count    14504.000000\n",
      "mean         2.771499\n",
      "std          1.261056\n",
      "min          1.000000\n",
      "25%          2.520000\n",
      "50%          2.650000\n",
      "75%          2.800000\n",
      "max        100.000000\n",
      "Name: ceiling_height, dtype: float64\n"
     ]
    }
   ],
   "source": [
    "print(data['ceiling_height'].describe())"
   ]
  },
  {
   "cell_type": "markdown",
   "metadata": {},
   "source": [
    "This data contains a lot of information that looks implausible. Ceilings higher than 3.8 meters and lower than 2.3 meters are most likely mistaken.  Let's see how many of these apartments and if not very many, they can be removed. We will also get rid of omissions by replacing them with a median and grouping them by a series of houses"
   ]
  },
  {
   "cell_type": "code",
   "execution_count": 38,
   "metadata": {},
   "outputs": [
    {
     "data": {
      "text/plain": [
       "9195"
      ]
     },
     "execution_count": 38,
     "metadata": {},
     "output_type": "execute_result"
    }
   ],
   "source": [
    "data['ceiling_height'].isnull().sum()"
   ]
  },
  {
   "cell_type": "code",
   "execution_count": 39,
   "metadata": {},
   "outputs": [
    {
     "name": "stdout",
     "output_type": "stream",
     "text": [
      "ceiling_height: 16\t Percentage of low ceilings: 0.1%\n"
     ]
    }
   ],
   "source": [
    "\n",
    "ceiling_height_counts = data[data['ceiling_height'] < 2.3].shape[0]\n",
    "print(\"ceiling_height: {}\\t Percentage of low ceilings: {:.1%}\"\n",
    "      .format(ceiling_height_counts, ceiling_height_counts/data.shape[0]))"
   ]
  },
  {
   "cell_type": "code",
   "execution_count": 40,
   "metadata": {},
   "outputs": [
    {
     "name": "stdout",
     "output_type": "stream",
     "text": [
      "ceiling_height: 147\t Percentage of high ceilings: 0.6%\n"
     ]
    }
   ],
   "source": [
    "ceiling_height_counts = data[data['ceiling_height'] > 3.8].shape[0]\n",
    "print(\"ceiling_height: {}\\t Percentage of high ceilings: {:.1%}\"\n",
    "      .format(ceiling_height_counts, ceiling_height_counts/data.shape[0]))"
   ]
  },
  {
   "cell_type": "markdown",
   "metadata": {},
   "source": [
    "The percentage in both categories is very low, so we can remove this data"
   ]
  },
  {
   "cell_type": "code",
   "execution_count": 41,
   "metadata": {},
   "outputs": [
    {
     "name": "stdout",
     "output_type": "stream",
     "text": [
      "(23699, 27)\n",
      "(23683, 27)\n"
     ]
    }
   ],
   "source": [
    "print(data.shape)\n",
    "data = data.drop(data[data['ceiling_height'] < 2.3].index, axis=0)\n",
    "print(data.shape)"
   ]
  },
  {
   "cell_type": "code",
   "execution_count": 42,
   "metadata": {},
   "outputs": [
    {
     "name": "stdout",
     "output_type": "stream",
     "text": [
      "(23683, 27)\n",
      "(23536, 27)\n"
     ]
    }
   ],
   "source": [
    "print(data.shape)\n",
    "data = data.drop(data[data['ceiling_height'] > 3.8].index, axis=0)\n",
    "print(data.shape)"
   ]
  },
  {
   "cell_type": "code",
   "execution_count": 43,
   "metadata": {},
   "outputs": [
    {
     "name": "stdout",
     "output_type": "stream",
     "text": [
      "ceiling_height_median: 2.65\n"
     ]
    }
   ],
   "source": [
    "ceiling_height_median = data['ceiling_height'].median()\n",
    "print(\"ceiling_height_median: {:.2f}\".format(ceiling_height_median))"
   ]
  },
  {
   "cell_type": "code",
   "execution_count": 44,
   "metadata": {},
   "outputs": [],
   "source": [
    "data['ceiling_height'] = data['ceiling_height'].fillna(ceiling_height_median)\n"
   ]
  },
  {
   "cell_type": "code",
   "execution_count": 45,
   "metadata": {},
   "outputs": [
    {
     "data": {
      "text/plain": [
       "0"
      ]
     },
     "execution_count": 45,
     "metadata": {},
     "output_type": "execute_result"
    }
   ],
   "source": [
    "data['ceiling_height'].isnull().sum()"
   ]
  },
  {
   "cell_type": "markdown",
   "metadata": {},
   "source": [
    "###  Floors_total <a class=\"anchor\" id=\"11\"></a>"
   ]
  },
  {
   "cell_type": "code",
   "execution_count": 46,
   "metadata": {},
   "outputs": [
    {
     "data": {
      "text/plain": [
       "count    23450.000000\n",
       "mean        10.702644\n",
       "std          6.596494\n",
       "min          1.000000\n",
       "25%          5.000000\n",
       "50%          9.000000\n",
       "75%         16.000000\n",
       "max         60.000000\n",
       "Name: floors_total, dtype: float64"
      ]
     },
     "execution_count": 46,
     "metadata": {},
     "output_type": "execute_result"
    }
   ],
   "source": [
    "data['floors_total'].describe()"
   ]
  },
  {
   "cell_type": "markdown",
   "metadata": {},
   "source": [
    "In our data, the minimum and maximum number of floors looks quite real, but you will need to work with the omissions)"
   ]
  },
  {
   "cell_type": "code",
   "execution_count": 47,
   "metadata": {},
   "outputs": [
    {
     "data": {
      "text/plain": [
       "86"
      ]
     },
     "execution_count": 47,
     "metadata": {},
     "output_type": "execute_result"
    }
   ],
   "source": [
    "data['floors_total'].isnull().sum()"
   ]
  },
  {
   "cell_type": "markdown",
   "metadata": {},
   "source": [
    "Replace the missing values with median and check whether the replacement was successful"
   ]
  },
  {
   "cell_type": "code",
   "execution_count": 48,
   "metadata": {},
   "outputs": [],
   "source": [
    "data['floors_total'] = data['floors_total'].fillna(data['floors_total'].median())"
   ]
  },
  {
   "cell_type": "code",
   "execution_count": 49,
   "metadata": {},
   "outputs": [
    {
     "data": {
      "text/plain": [
       "0"
      ]
     },
     "execution_count": 49,
     "metadata": {},
     "output_type": "execute_result"
    }
   ],
   "source": [
    "data['floors_total'].isnull().sum()"
   ]
  },
  {
   "cell_type": "markdown",
   "metadata": {},
   "source": [
    "### Living_area <a class=\"anchor\" id=\"12\"></a>"
   ]
  },
  {
   "cell_type": "code",
   "execution_count": 50,
   "metadata": {},
   "outputs": [
    {
     "data": {
      "text/plain": [
       "18.00    879\n",
       "17.00    672\n",
       "30.00    593\n",
       "16.00    486\n",
       "20.00    479\n",
       "        ... \n",
       "27.88      1\n",
       "42.17      1\n",
       "92.10      1\n",
       "86.10      1\n",
       "15.55      1\n",
       "Name: living_area, Length: 1761, dtype: int64"
      ]
     },
     "execution_count": 50,
     "metadata": {},
     "output_type": "execute_result"
    }
   ],
   "source": [
    "data['living_area'].value_counts()"
   ]
  },
  {
   "cell_type": "code",
   "execution_count": 51,
   "metadata": {},
   "outputs": [
    {
     "data": {
      "text/plain": [
       "count    21643.000000\n",
       "mean        34.192438\n",
       "std         21.177136\n",
       "min          2.000000\n",
       "25%         18.600000\n",
       "50%         30.000000\n",
       "75%         42.100000\n",
       "max        409.700000\n",
       "Name: living_area, dtype: float64"
      ]
     },
     "execution_count": 51,
     "metadata": {},
     "output_type": "execute_result"
    }
   ],
   "source": [
    "data['living_area'].describe()"
   ]
  },
  {
   "cell_type": "markdown",
   "metadata": {},
   "source": [
    "Data on living space raises a question. The minimum value of 2 meters looks improbable. The lower quartile of 5% (in the first discraib at the very beginning) shows an area of 15 meters. Take the threshold value for example 10 meters"
   ]
  },
  {
   "cell_type": "code",
   "execution_count": 52,
   "metadata": {},
   "outputs": [
    {
     "name": "stdout",
     "output_type": "stream",
     "text": [
      "living_area: 25\t small living_area_counts: 0.1%\n"
     ]
    }
   ],
   "source": [
    "living_area_counts = data[data['living_area'] < 10].shape[0]\n",
    "print(\"living_area: {}\\t small living_area_counts: {:.1%}\"\n",
    "      .format(living_area_counts, living_area_counts/data.shape[0]))"
   ]
  },
  {
   "cell_type": "markdown",
   "metadata": {},
   "source": [
    "The percentage is very low, so we can remove this data"
   ]
  },
  {
   "cell_type": "code",
   "execution_count": 53,
   "metadata": {},
   "outputs": [
    {
     "name": "stdout",
     "output_type": "stream",
     "text": [
      "(23536, 27)\n",
      "(23511, 27)\n"
     ]
    }
   ],
   "source": [
    "print(data.shape)\n",
    "data = data.drop(data[data['living_area'] < 10].index, axis=0)\n",
    "print(data.shape)"
   ]
  },
  {
   "cell_type": "code",
   "execution_count": 54,
   "metadata": {},
   "outputs": [],
   "source": [
    "data['living_area'] = data['living_area'].fillna(data['living_area'].median())"
   ]
  },
  {
   "cell_type": "code",
   "execution_count": 55,
   "metadata": {},
   "outputs": [
    {
     "data": {
      "text/plain": [
       "0"
      ]
     },
     "execution_count": 55,
     "metadata": {},
     "output_type": "execute_result"
    }
   ],
   "source": [
    "data['living_area'].isnull().sum()"
   ]
  },
  {
   "cell_type": "markdown",
   "metadata": {},
   "source": [
    "Calculate the ratio of living space to total"
   ]
  },
  {
   "cell_type": "code",
   "execution_count": 56,
   "metadata": {},
   "outputs": [
    {
     "data": {
      "text/html": [
       "<div>\n",
       "<style scoped>\n",
       "    .dataframe tbody tr th:only-of-type {\n",
       "        vertical-align: middle;\n",
       "    }\n",
       "\n",
       "    .dataframe tbody tr th {\n",
       "        vertical-align: top;\n",
       "    }\n",
       "\n",
       "    .dataframe thead th {\n",
       "        text-align: right;\n",
       "    }\n",
       "</style>\n",
       "<table border=\"1\" class=\"dataframe\">\n",
       "  <thead>\n",
       "    <tr style=\"text-align: right;\">\n",
       "      <th></th>\n",
       "      <th>total_images</th>\n",
       "      <th>last_price</th>\n",
       "      <th>total_area</th>\n",
       "      <th>first_day_exposition</th>\n",
       "      <th>rooms</th>\n",
       "      <th>ceiling_height</th>\n",
       "      <th>floors_total</th>\n",
       "      <th>living_area</th>\n",
       "      <th>floor</th>\n",
       "      <th>is_apartment</th>\n",
       "      <th>...</th>\n",
       "      <th>parks_nearest</th>\n",
       "      <th>ponds_around3000</th>\n",
       "      <th>ponds_nearest</th>\n",
       "      <th>days_exposition</th>\n",
       "      <th>m2</th>\n",
       "      <th>week_day_exposition</th>\n",
       "      <th>month_exposition</th>\n",
       "      <th>year_exposition</th>\n",
       "      <th>type_plan</th>\n",
       "      <th>living_area_relation</th>\n",
       "    </tr>\n",
       "  </thead>\n",
       "  <tbody>\n",
       "    <tr>\n",
       "      <th>0</th>\n",
       "      <td>20</td>\n",
       "      <td>13000000.0</td>\n",
       "      <td>108.0</td>\n",
       "      <td>2019-03-07</td>\n",
       "      <td>3</td>\n",
       "      <td>2.70</td>\n",
       "      <td>16.0</td>\n",
       "      <td>51.0</td>\n",
       "      <td>8</td>\n",
       "      <td>NaN</td>\n",
       "      <td>...</td>\n",
       "      <td>482.0</td>\n",
       "      <td>2.0</td>\n",
       "      <td>755.0</td>\n",
       "      <td>NaN</td>\n",
       "      <td>120370</td>\n",
       "      <td>thur</td>\n",
       "      <td>march</td>\n",
       "      <td>2019</td>\n",
       "      <td>another</td>\n",
       "      <td>0.472222</td>\n",
       "    </tr>\n",
       "    <tr>\n",
       "      <th>1</th>\n",
       "      <td>7</td>\n",
       "      <td>3350000.0</td>\n",
       "      <td>40.4</td>\n",
       "      <td>2018-12-04</td>\n",
       "      <td>1</td>\n",
       "      <td>2.65</td>\n",
       "      <td>11.0</td>\n",
       "      <td>18.6</td>\n",
       "      <td>1</td>\n",
       "      <td>NaN</td>\n",
       "      <td>...</td>\n",
       "      <td>NaN</td>\n",
       "      <td>0.0</td>\n",
       "      <td>NaN</td>\n",
       "      <td>81.0</td>\n",
       "      <td>82920</td>\n",
       "      <td>tue</td>\n",
       "      <td>dec</td>\n",
       "      <td>2018</td>\n",
       "      <td>another</td>\n",
       "      <td>0.460396</td>\n",
       "    </tr>\n",
       "    <tr>\n",
       "      <th>2</th>\n",
       "      <td>10</td>\n",
       "      <td>5196000.0</td>\n",
       "      <td>56.0</td>\n",
       "      <td>2015-08-20</td>\n",
       "      <td>2</td>\n",
       "      <td>2.65</td>\n",
       "      <td>5.0</td>\n",
       "      <td>34.3</td>\n",
       "      <td>4</td>\n",
       "      <td>NaN</td>\n",
       "      <td>...</td>\n",
       "      <td>90.0</td>\n",
       "      <td>2.0</td>\n",
       "      <td>574.0</td>\n",
       "      <td>558.0</td>\n",
       "      <td>92785</td>\n",
       "      <td>thur</td>\n",
       "      <td>aug</td>\n",
       "      <td>2015</td>\n",
       "      <td>another</td>\n",
       "      <td>0.612500</td>\n",
       "    </tr>\n",
       "    <tr>\n",
       "      <th>3</th>\n",
       "      <td>0</td>\n",
       "      <td>64900000.0</td>\n",
       "      <td>159.0</td>\n",
       "      <td>2015-07-24</td>\n",
       "      <td>3</td>\n",
       "      <td>2.65</td>\n",
       "      <td>14.0</td>\n",
       "      <td>30.0</td>\n",
       "      <td>9</td>\n",
       "      <td>NaN</td>\n",
       "      <td>...</td>\n",
       "      <td>84.0</td>\n",
       "      <td>3.0</td>\n",
       "      <td>234.0</td>\n",
       "      <td>424.0</td>\n",
       "      <td>408176</td>\n",
       "      <td>fri</td>\n",
       "      <td>july</td>\n",
       "      <td>2015</td>\n",
       "      <td>another</td>\n",
       "      <td>0.188679</td>\n",
       "    </tr>\n",
       "    <tr>\n",
       "      <th>4</th>\n",
       "      <td>2</td>\n",
       "      <td>10000000.0</td>\n",
       "      <td>100.0</td>\n",
       "      <td>2018-06-19</td>\n",
       "      <td>2</td>\n",
       "      <td>3.03</td>\n",
       "      <td>14.0</td>\n",
       "      <td>32.0</td>\n",
       "      <td>13</td>\n",
       "      <td>NaN</td>\n",
       "      <td>...</td>\n",
       "      <td>112.0</td>\n",
       "      <td>1.0</td>\n",
       "      <td>48.0</td>\n",
       "      <td>121.0</td>\n",
       "      <td>100000</td>\n",
       "      <td>tue</td>\n",
       "      <td>june</td>\n",
       "      <td>2018</td>\n",
       "      <td>another</td>\n",
       "      <td>0.320000</td>\n",
       "    </tr>\n",
       "  </tbody>\n",
       "</table>\n",
       "<p>5 rows × 28 columns</p>\n",
       "</div>"
      ],
      "text/plain": [
       "   total_images  last_price  total_area first_day_exposition  rooms  \\\n",
       "0            20  13000000.0       108.0           2019-03-07      3   \n",
       "1             7   3350000.0        40.4           2018-12-04      1   \n",
       "2            10   5196000.0        56.0           2015-08-20      2   \n",
       "3             0  64900000.0       159.0           2015-07-24      3   \n",
       "4             2  10000000.0       100.0           2018-06-19      2   \n",
       "\n",
       "   ceiling_height  floors_total  living_area  floor is_apartment  ...  \\\n",
       "0            2.70          16.0         51.0      8          NaN  ...   \n",
       "1            2.65          11.0         18.6      1          NaN  ...   \n",
       "2            2.65           5.0         34.3      4          NaN  ...   \n",
       "3            2.65          14.0         30.0      9          NaN  ...   \n",
       "4            3.03          14.0         32.0     13          NaN  ...   \n",
       "\n",
       "   parks_nearest  ponds_around3000  ponds_nearest  days_exposition      m2  \\\n",
       "0          482.0               2.0          755.0              NaN  120370   \n",
       "1            NaN               0.0            NaN             81.0   82920   \n",
       "2           90.0               2.0          574.0            558.0   92785   \n",
       "3           84.0               3.0          234.0            424.0  408176   \n",
       "4          112.0               1.0           48.0            121.0  100000   \n",
       "\n",
       "   week_day_exposition  month_exposition  year_exposition  type_plan  \\\n",
       "0                 thur             march             2019    another   \n",
       "1                  tue               dec             2018    another   \n",
       "2                 thur               aug             2015    another   \n",
       "3                  fri              july             2015    another   \n",
       "4                  tue              june             2018    another   \n",
       "\n",
       "   living_area_relation  \n",
       "0              0.472222  \n",
       "1              0.460396  \n",
       "2              0.612500  \n",
       "3              0.188679  \n",
       "4              0.320000  \n",
       "\n",
       "[5 rows x 28 columns]"
      ]
     },
     "execution_count": 56,
     "metadata": {},
     "output_type": "execute_result"
    }
   ],
   "source": [
    "data['living_area_relation'] = data['living_area']/data['total_area']\n",
    "data.head()"
   ]
  },
  {
   "cell_type": "markdown",
   "metadata": {},
   "source": [
    "### floor <a class=\"anchor\" id=\"13\"></a>"
   ]
  },
  {
   "cell_type": "code",
   "execution_count": 57,
   "metadata": {},
   "outputs": [
    {
     "name": "stdout",
     "output_type": "stream",
     "text": [
      "count    23511.000000\n",
      "mean         5.901578\n",
      "std          4.889238\n",
      "min          1.000000\n",
      "25%          2.000000\n",
      "50%          4.000000\n",
      "75%          8.000000\n",
      "max         33.000000\n",
      "Name: floor, dtype: float64\n"
     ]
    }
   ],
   "source": [
    "print(data['floor'].describe())"
   ]
  },
  {
   "cell_type": "markdown",
   "metadata": {},
   "source": [
    "We need to categorize the floor where the apartment is located. To do this, we will create a function that will determine the first, last, or unknown floor"
   ]
  },
  {
   "cell_type": "code",
   "execution_count": 58,
   "metadata": {},
   "outputs": [],
   "source": [
    "def floor_category(row):\n",
    "    if row['floor'] == 1:\n",
    "        return 'first'\n",
    "    elif row['floor'] == row['floors_total']:\n",
    "        return 'last'\n",
    "    else:\n",
    "        return 'another'"
   ]
  },
  {
   "cell_type": "code",
   "execution_count": 59,
   "metadata": {},
   "outputs": [],
   "source": [
    "data['floor_category'] = data.apply(floor_category, axis=1)"
   ]
  },
  {
   "cell_type": "code",
   "execution_count": 60,
   "metadata": {},
   "outputs": [
    {
     "data": {
      "text/html": [
       "<div>\n",
       "<style scoped>\n",
       "    .dataframe tbody tr th:only-of-type {\n",
       "        vertical-align: middle;\n",
       "    }\n",
       "\n",
       "    .dataframe tbody tr th {\n",
       "        vertical-align: top;\n",
       "    }\n",
       "\n",
       "    .dataframe thead th {\n",
       "        text-align: right;\n",
       "    }\n",
       "</style>\n",
       "<table border=\"1\" class=\"dataframe\">\n",
       "  <thead>\n",
       "    <tr style=\"text-align: right;\">\n",
       "      <th></th>\n",
       "      <th>floor</th>\n",
       "      <th>floor_category</th>\n",
       "    </tr>\n",
       "  </thead>\n",
       "  <tbody>\n",
       "    <tr>\n",
       "      <th>7907</th>\n",
       "      <td>16</td>\n",
       "      <td>another</td>\n",
       "    </tr>\n",
       "    <tr>\n",
       "      <th>12377</th>\n",
       "      <td>5</td>\n",
       "      <td>last</td>\n",
       "    </tr>\n",
       "    <tr>\n",
       "      <th>12667</th>\n",
       "      <td>16</td>\n",
       "      <td>another</td>\n",
       "    </tr>\n",
       "    <tr>\n",
       "      <th>4427</th>\n",
       "      <td>7</td>\n",
       "      <td>another</td>\n",
       "    </tr>\n",
       "    <tr>\n",
       "      <th>265</th>\n",
       "      <td>14</td>\n",
       "      <td>another</td>\n",
       "    </tr>\n",
       "    <tr>\n",
       "      <th>18118</th>\n",
       "      <td>1</td>\n",
       "      <td>first</td>\n",
       "    </tr>\n",
       "    <tr>\n",
       "      <th>1665</th>\n",
       "      <td>7</td>\n",
       "      <td>another</td>\n",
       "    </tr>\n",
       "    <tr>\n",
       "      <th>21253</th>\n",
       "      <td>15</td>\n",
       "      <td>another</td>\n",
       "    </tr>\n",
       "    <tr>\n",
       "      <th>11547</th>\n",
       "      <td>1</td>\n",
       "      <td>first</td>\n",
       "    </tr>\n",
       "    <tr>\n",
       "      <th>16629</th>\n",
       "      <td>5</td>\n",
       "      <td>last</td>\n",
       "    </tr>\n",
       "    <tr>\n",
       "      <th>5075</th>\n",
       "      <td>3</td>\n",
       "      <td>another</td>\n",
       "    </tr>\n",
       "    <tr>\n",
       "      <th>11508</th>\n",
       "      <td>12</td>\n",
       "      <td>another</td>\n",
       "    </tr>\n",
       "    <tr>\n",
       "      <th>21781</th>\n",
       "      <td>8</td>\n",
       "      <td>another</td>\n",
       "    </tr>\n",
       "    <tr>\n",
       "      <th>4492</th>\n",
       "      <td>6</td>\n",
       "      <td>another</td>\n",
       "    </tr>\n",
       "    <tr>\n",
       "      <th>1847</th>\n",
       "      <td>1</td>\n",
       "      <td>first</td>\n",
       "    </tr>\n",
       "    <tr>\n",
       "      <th>13184</th>\n",
       "      <td>7</td>\n",
       "      <td>another</td>\n",
       "    </tr>\n",
       "    <tr>\n",
       "      <th>9952</th>\n",
       "      <td>4</td>\n",
       "      <td>another</td>\n",
       "    </tr>\n",
       "    <tr>\n",
       "      <th>466</th>\n",
       "      <td>2</td>\n",
       "      <td>another</td>\n",
       "    </tr>\n",
       "    <tr>\n",
       "      <th>14879</th>\n",
       "      <td>2</td>\n",
       "      <td>another</td>\n",
       "    </tr>\n",
       "    <tr>\n",
       "      <th>1039</th>\n",
       "      <td>2</td>\n",
       "      <td>another</td>\n",
       "    </tr>\n",
       "  </tbody>\n",
       "</table>\n",
       "</div>"
      ],
      "text/plain": [
       "       floor floor_category\n",
       "7907      16        another\n",
       "12377      5           last\n",
       "12667     16        another\n",
       "4427       7        another\n",
       "265       14        another\n",
       "18118      1          first\n",
       "1665       7        another\n",
       "21253     15        another\n",
       "11547      1          first\n",
       "16629      5           last\n",
       "5075       3        another\n",
       "11508     12        another\n",
       "21781      8        another\n",
       "4492       6        another\n",
       "1847       1          first\n",
       "13184      7        another\n",
       "9952       4        another\n",
       "466        2        another\n",
       "14879      2        another\n",
       "1039       2        another"
      ]
     },
     "execution_count": 60,
     "metadata": {},
     "output_type": "execute_result"
    }
   ],
   "source": [
    "data[['floor', 'floor_category']].sample(20)"
   ]
  },
  {
   "cell_type": "markdown",
   "metadata": {},
   "source": [
    "### kitchen_area <a class=\"anchor\" id=\"15\"></a>"
   ]
  },
  {
   "cell_type": "code",
   "execution_count": 61,
   "metadata": {},
   "outputs": [
    {
     "data": {
      "text/plain": [
       "count    21254.000000\n",
       "mean        10.524327\n",
       "std          5.801294\n",
       "min          1.300000\n",
       "25%          7.000000\n",
       "50%          9.100000\n",
       "75%         12.000000\n",
       "max        112.000000\n",
       "Name: kitchen_area, dtype: float64"
      ]
     },
     "execution_count": 61,
     "metadata": {},
     "output_type": "execute_result"
    }
   ],
   "source": [
    "data['kitchen_area'].describe()"
   ]
  },
  {
   "cell_type": "code",
   "execution_count": 62,
   "metadata": {},
   "outputs": [
    {
     "data": {
      "text/plain": [
       "2257"
      ]
     },
     "execution_count": 62,
     "metadata": {},
     "output_type": "execute_result"
    }
   ],
   "source": [
    "data['kitchen_area'].isnull().sum()"
   ]
  },
  {
   "cell_type": "markdown",
   "metadata": {},
   "source": [
    "A lot of missing values. I will replace them with the median value, grouping them by a rooms"
   ]
  },
  {
   "cell_type": "code",
   "execution_count": 63,
   "metadata": {},
   "outputs": [],
   "source": [
    "data['kitchen_area']= data.groupby('rooms')['kitchen_area'].transform(lambda x: x.fillna(x.median()))"
   ]
  },
  {
   "cell_type": "code",
   "execution_count": 64,
   "metadata": {},
   "outputs": [
    {
     "data": {
      "text/plain": [
       "0"
      ]
     },
     "execution_count": 64,
     "metadata": {},
     "output_type": "execute_result"
    }
   ],
   "source": [
    "\n",
    "data['kitchen_area'].isnull().sum()"
   ]
  },
  {
   "cell_type": "markdown",
   "metadata": {},
   "source": [
    "The minimum area is 1 meter, which does not seem to be true, as well as the kitchen area of 112 meters. 5% of the quantile includes kitchens with an area of 5 meters. Look at the percentage of our kitchens that are less than 4 meters or more than 50"
   ]
  },
  {
   "cell_type": "code",
   "execution_count": 65,
   "metadata": {},
   "outputs": [
    {
     "name": "stdout",
     "output_type": "stream",
     "text": [
      "kitchen_area: 29\t Percentage: 0.1%\n"
     ]
    }
   ],
   "source": [
    "kitchen_area_count = data[data['kitchen_area'] < 4].shape[0]\n",
    "print(\"kitchen_area: {}\\t Percentage: {:.1%}\"\n",
    "      .format(kitchen_area_count, kitchen_area_count/data.shape[0]))"
   ]
  },
  {
   "cell_type": "code",
   "execution_count": 66,
   "metadata": {},
   "outputs": [
    {
     "name": "stdout",
     "output_type": "stream",
     "text": [
      "kitchen_area: 41\t Percentage: 0.2%\n"
     ]
    }
   ],
   "source": [
    "kitchen_area_count = data[data['kitchen_area'] > 50].shape[0]\n",
    "print(\"kitchen_area: {}\\t Percentage: {:.1%}\"\n",
    "      .format(kitchen_area_count, kitchen_area_count/data.shape[0]))"
   ]
  },
  {
   "cell_type": "markdown",
   "metadata": {},
   "source": [
    "There are really very few such kitchens. We can get rid of them"
   ]
  },
  {
   "cell_type": "code",
   "execution_count": 67,
   "metadata": {},
   "outputs": [
    {
     "name": "stdout",
     "output_type": "stream",
     "text": [
      "(23511, 29)\n",
      "(23482, 29)\n"
     ]
    }
   ],
   "source": [
    "print(data.shape)\n",
    "data = data.drop(data[data['kitchen_area'] < 4].index, axis=0)\n",
    "print(data.shape)"
   ]
  },
  {
   "cell_type": "code",
   "execution_count": 68,
   "metadata": {},
   "outputs": [
    {
     "name": "stdout",
     "output_type": "stream",
     "text": [
      "(23482, 29)\n",
      "(23441, 29)\n"
     ]
    }
   ],
   "source": [
    "print(data.shape)\n",
    "data = data.drop(data[data['kitchen_area'] > 50].index, axis=0)\n",
    "print(data.shape)"
   ]
  },
  {
   "cell_type": "markdown",
   "metadata": {},
   "source": [
    "Now we need to calculate and add a column to the table: the ratio of kitchen area to total area"
   ]
  },
  {
   "cell_type": "code",
   "execution_count": 69,
   "metadata": {},
   "outputs": [],
   "source": [
    "data['kitchen_total_area_relation'] = data['kitchen_area']/data['total_area']"
   ]
  },
  {
   "cell_type": "code",
   "execution_count": 70,
   "metadata": {},
   "outputs": [
    {
     "data": {
      "text/html": [
       "<div>\n",
       "<style scoped>\n",
       "    .dataframe tbody tr th:only-of-type {\n",
       "        vertical-align: middle;\n",
       "    }\n",
       "\n",
       "    .dataframe tbody tr th {\n",
       "        vertical-align: top;\n",
       "    }\n",
       "\n",
       "    .dataframe thead th {\n",
       "        text-align: right;\n",
       "    }\n",
       "</style>\n",
       "<table border=\"1\" class=\"dataframe\">\n",
       "  <thead>\n",
       "    <tr style=\"text-align: right;\">\n",
       "      <th></th>\n",
       "      <th>total_images</th>\n",
       "      <th>last_price</th>\n",
       "      <th>total_area</th>\n",
       "      <th>first_day_exposition</th>\n",
       "      <th>rooms</th>\n",
       "      <th>ceiling_height</th>\n",
       "      <th>floors_total</th>\n",
       "      <th>living_area</th>\n",
       "      <th>floor</th>\n",
       "      <th>is_apartment</th>\n",
       "      <th>...</th>\n",
       "      <th>ponds_nearest</th>\n",
       "      <th>days_exposition</th>\n",
       "      <th>m2</th>\n",
       "      <th>week_day_exposition</th>\n",
       "      <th>month_exposition</th>\n",
       "      <th>year_exposition</th>\n",
       "      <th>type_plan</th>\n",
       "      <th>living_area_relation</th>\n",
       "      <th>floor_category</th>\n",
       "      <th>kitchen_total_area_relation</th>\n",
       "    </tr>\n",
       "  </thead>\n",
       "  <tbody>\n",
       "    <tr>\n",
       "      <th>0</th>\n",
       "      <td>20</td>\n",
       "      <td>13000000.0</td>\n",
       "      <td>108.0</td>\n",
       "      <td>2019-03-07</td>\n",
       "      <td>3</td>\n",
       "      <td>2.70</td>\n",
       "      <td>16.0</td>\n",
       "      <td>51.0</td>\n",
       "      <td>8</td>\n",
       "      <td>NaN</td>\n",
       "      <td>...</td>\n",
       "      <td>755.0</td>\n",
       "      <td>NaN</td>\n",
       "      <td>120370</td>\n",
       "      <td>thur</td>\n",
       "      <td>march</td>\n",
       "      <td>2019</td>\n",
       "      <td>another</td>\n",
       "      <td>0.472222</td>\n",
       "      <td>another</td>\n",
       "      <td>0.231481</td>\n",
       "    </tr>\n",
       "    <tr>\n",
       "      <th>1</th>\n",
       "      <td>7</td>\n",
       "      <td>3350000.0</td>\n",
       "      <td>40.4</td>\n",
       "      <td>2018-12-04</td>\n",
       "      <td>1</td>\n",
       "      <td>2.65</td>\n",
       "      <td>11.0</td>\n",
       "      <td>18.6</td>\n",
       "      <td>1</td>\n",
       "      <td>NaN</td>\n",
       "      <td>...</td>\n",
       "      <td>NaN</td>\n",
       "      <td>81.0</td>\n",
       "      <td>82920</td>\n",
       "      <td>tue</td>\n",
       "      <td>dec</td>\n",
       "      <td>2018</td>\n",
       "      <td>another</td>\n",
       "      <td>0.460396</td>\n",
       "      <td>first</td>\n",
       "      <td>0.272277</td>\n",
       "    </tr>\n",
       "    <tr>\n",
       "      <th>2</th>\n",
       "      <td>10</td>\n",
       "      <td>5196000.0</td>\n",
       "      <td>56.0</td>\n",
       "      <td>2015-08-20</td>\n",
       "      <td>2</td>\n",
       "      <td>2.65</td>\n",
       "      <td>5.0</td>\n",
       "      <td>34.3</td>\n",
       "      <td>4</td>\n",
       "      <td>NaN</td>\n",
       "      <td>...</td>\n",
       "      <td>574.0</td>\n",
       "      <td>558.0</td>\n",
       "      <td>92785</td>\n",
       "      <td>thur</td>\n",
       "      <td>aug</td>\n",
       "      <td>2015</td>\n",
       "      <td>another</td>\n",
       "      <td>0.612500</td>\n",
       "      <td>another</td>\n",
       "      <td>0.148214</td>\n",
       "    </tr>\n",
       "    <tr>\n",
       "      <th>3</th>\n",
       "      <td>0</td>\n",
       "      <td>64900000.0</td>\n",
       "      <td>159.0</td>\n",
       "      <td>2015-07-24</td>\n",
       "      <td>3</td>\n",
       "      <td>2.65</td>\n",
       "      <td>14.0</td>\n",
       "      <td>30.0</td>\n",
       "      <td>9</td>\n",
       "      <td>NaN</td>\n",
       "      <td>...</td>\n",
       "      <td>234.0</td>\n",
       "      <td>424.0</td>\n",
       "      <td>408176</td>\n",
       "      <td>fri</td>\n",
       "      <td>july</td>\n",
       "      <td>2015</td>\n",
       "      <td>another</td>\n",
       "      <td>0.188679</td>\n",
       "      <td>another</td>\n",
       "      <td>0.059748</td>\n",
       "    </tr>\n",
       "    <tr>\n",
       "      <th>4</th>\n",
       "      <td>2</td>\n",
       "      <td>10000000.0</td>\n",
       "      <td>100.0</td>\n",
       "      <td>2018-06-19</td>\n",
       "      <td>2</td>\n",
       "      <td>3.03</td>\n",
       "      <td>14.0</td>\n",
       "      <td>32.0</td>\n",
       "      <td>13</td>\n",
       "      <td>NaN</td>\n",
       "      <td>...</td>\n",
       "      <td>48.0</td>\n",
       "      <td>121.0</td>\n",
       "      <td>100000</td>\n",
       "      <td>tue</td>\n",
       "      <td>june</td>\n",
       "      <td>2018</td>\n",
       "      <td>another</td>\n",
       "      <td>0.320000</td>\n",
       "      <td>another</td>\n",
       "      <td>0.410000</td>\n",
       "    </tr>\n",
       "  </tbody>\n",
       "</table>\n",
       "<p>5 rows × 30 columns</p>\n",
       "</div>"
      ],
      "text/plain": [
       "   total_images  last_price  total_area first_day_exposition  rooms  \\\n",
       "0            20  13000000.0       108.0           2019-03-07      3   \n",
       "1             7   3350000.0        40.4           2018-12-04      1   \n",
       "2            10   5196000.0        56.0           2015-08-20      2   \n",
       "3             0  64900000.0       159.0           2015-07-24      3   \n",
       "4             2  10000000.0       100.0           2018-06-19      2   \n",
       "\n",
       "   ceiling_height  floors_total  living_area  floor is_apartment  ...  \\\n",
       "0            2.70          16.0         51.0      8          NaN  ...   \n",
       "1            2.65          11.0         18.6      1          NaN  ...   \n",
       "2            2.65           5.0         34.3      4          NaN  ...   \n",
       "3            2.65          14.0         30.0      9          NaN  ...   \n",
       "4            3.03          14.0         32.0     13          NaN  ...   \n",
       "\n",
       "   ponds_nearest  days_exposition      m2  week_day_exposition  \\\n",
       "0          755.0              NaN  120370                 thur   \n",
       "1            NaN             81.0   82920                  tue   \n",
       "2          574.0            558.0   92785                 thur   \n",
       "3          234.0            424.0  408176                  fri   \n",
       "4           48.0            121.0  100000                  tue   \n",
       "\n",
       "  month_exposition  year_exposition  type_plan  living_area_relation  \\\n",
       "0            march             2019    another              0.472222   \n",
       "1              dec             2018    another              0.460396   \n",
       "2              aug             2015    another              0.612500   \n",
       "3             july             2015    another              0.188679   \n",
       "4             june             2018    another              0.320000   \n",
       "\n",
       "   floor_category  kitchen_total_area_relation  \n",
       "0         another                     0.231481  \n",
       "1           first                     0.272277  \n",
       "2         another                     0.148214  \n",
       "3         another                     0.059748  \n",
       "4         another                     0.410000  \n",
       "\n",
       "[5 rows x 30 columns]"
      ]
     },
     "execution_count": 70,
     "metadata": {},
     "output_type": "execute_result"
    }
   ],
   "source": [
    "data.head()"
   ]
  },
  {
   "cell_type": "code",
   "execution_count": 71,
   "metadata": {},
   "outputs": [
    {
     "data": {
      "text/plain": [
       "is_apartment                   20708\n",
       "parks_nearest                  15497\n",
       "ponds_nearest                  14472\n",
       "balcony                        11374\n",
       "airports_nearest                5501\n",
       "cityCenters_nearest             5481\n",
       "ponds_around3000                5480\n",
       "parks_around3000                5480\n",
       "days_exposition                 3134\n",
       "locality_name                     48\n",
       "total_area                         0\n",
       "first_day_exposition               0\n",
       "rooms                              0\n",
       "ceiling_height                     0\n",
       "floors_total                       0\n",
       "studio                             0\n",
       "last_price                         0\n",
       "living_area                        0\n",
       "floor                              0\n",
       "kitchen_total_area_relation        0\n",
       "open_plan                          0\n",
       "kitchen_area                       0\n",
       "floor_category                     0\n",
       "m2                                 0\n",
       "week_day_exposition                0\n",
       "month_exposition                   0\n",
       "year_exposition                    0\n",
       "type_plan                          0\n",
       "living_area_relation               0\n",
       "total_images                       0\n",
       "dtype: int64"
      ]
     },
     "execution_count": 71,
     "metadata": {},
     "output_type": "execute_result"
    }
   ],
   "source": [
    "data.isnull().sum().sort_values(ascending = False)\n"
   ]
  },
  {
   "cell_type": "markdown",
   "metadata": {},
   "source": [
    "We need to resolve the issue with the data type"
   ]
  },
  {
   "cell_type": "code",
   "execution_count": 72,
   "metadata": {},
   "outputs": [],
   "source": [
    "# Converting to integer type the part of data in which floating-point data is redundant\n",
    "data['total_area'] = data['total_area'].astype('int64')\n",
    "data['last_price'] = data['last_price'].astype('int64')\n",
    "data['total_images'] = data['total_images'].astype('int8')\n",
    "data['rooms'] = data['rooms'].astype('int8')\n",
    "data['floor'] = data['floor'].astype('int8')\n"
   ]
  },
  {
   "cell_type": "markdown",
   "metadata": {},
   "source": [
    "### Balcony <a class=\"anchor\" id=\"16\"></a>"
   ]
  },
  {
   "cell_type": "code",
   "execution_count": 73,
   "metadata": {},
   "outputs": [
    {
     "data": {
      "text/plain": [
       "1.0    4153\n",
       "0.0    3722\n",
       "2.0    3631\n",
       "5.0     301\n",
       "4.0     179\n",
       "3.0      81\n",
       "Name: balcony, dtype: int64"
      ]
     },
     "execution_count": 73,
     "metadata": {},
     "output_type": "execute_result"
    }
   ],
   "source": [
    "data['balcony'].value_counts()"
   ]
  },
  {
   "cell_type": "code",
   "execution_count": 74,
   "metadata": {},
   "outputs": [
    {
     "data": {
      "text/plain": [
       "11374"
      ]
     },
     "execution_count": 74,
     "metadata": {},
     "output_type": "execute_result"
    }
   ],
   "source": [
    "data['balcony'].isnull().sum()"
   ]
  },
  {
   "cell_type": "markdown",
   "metadata": {},
   "source": [
    "We see that actually half of the values are skipped. We must try to understand what to replace these omissions and whether to replace them at all. \n",
    "\n",
    "So far, I haven't found any relationships between balcony and other parameters. So for now, I will leave this data as it is."
   ]
  },
  {
   "cell_type": "code",
   "execution_count": 75,
   "metadata": {},
   "outputs": [
    {
     "data": {
      "text/html": [
       "<div>\n",
       "<style scoped>\n",
       "    .dataframe tbody tr th:only-of-type {\n",
       "        vertical-align: middle;\n",
       "    }\n",
       "\n",
       "    .dataframe tbody tr th {\n",
       "        vertical-align: top;\n",
       "    }\n",
       "\n",
       "    .dataframe thead th {\n",
       "        text-align: right;\n",
       "    }\n",
       "</style>\n",
       "<table border=\"1\" class=\"dataframe\">\n",
       "  <thead>\n",
       "    <tr style=\"text-align: right;\">\n",
       "      <th>balcony</th>\n",
       "      <th>0.0</th>\n",
       "      <th>1.0</th>\n",
       "      <th>2.0</th>\n",
       "      <th>3.0</th>\n",
       "      <th>4.0</th>\n",
       "      <th>5.0</th>\n",
       "    </tr>\n",
       "    <tr>\n",
       "      <th>type_plan</th>\n",
       "      <th></th>\n",
       "      <th></th>\n",
       "      <th></th>\n",
       "      <th></th>\n",
       "      <th></th>\n",
       "      <th></th>\n",
       "    </tr>\n",
       "  </thead>\n",
       "  <tbody>\n",
       "    <tr>\n",
       "      <th>another</th>\n",
       "      <td>3704.0</td>\n",
       "      <td>4111.0</td>\n",
       "      <td>3527.0</td>\n",
       "      <td>81.0</td>\n",
       "      <td>178.0</td>\n",
       "      <td>298.0</td>\n",
       "    </tr>\n",
       "    <tr>\n",
       "      <th>apartment</th>\n",
       "      <td>NaN</td>\n",
       "      <td>9.0</td>\n",
       "      <td>13.0</td>\n",
       "      <td>NaN</td>\n",
       "      <td>1.0</td>\n",
       "      <td>3.0</td>\n",
       "    </tr>\n",
       "    <tr>\n",
       "      <th>open plan</th>\n",
       "      <td>7.0</td>\n",
       "      <td>15.0</td>\n",
       "      <td>31.0</td>\n",
       "      <td>NaN</td>\n",
       "      <td>NaN</td>\n",
       "      <td>NaN</td>\n",
       "    </tr>\n",
       "    <tr>\n",
       "      <th>studio</th>\n",
       "      <td>11.0</td>\n",
       "      <td>18.0</td>\n",
       "      <td>60.0</td>\n",
       "      <td>NaN</td>\n",
       "      <td>NaN</td>\n",
       "      <td>NaN</td>\n",
       "    </tr>\n",
       "  </tbody>\n",
       "</table>\n",
       "</div>"
      ],
      "text/plain": [
       "balcony       0.0     1.0     2.0   3.0    4.0    5.0\n",
       "type_plan                                            \n",
       "another    3704.0  4111.0  3527.0  81.0  178.0  298.0\n",
       "apartment     NaN     9.0    13.0   NaN    1.0    3.0\n",
       "open plan     7.0    15.0    31.0   NaN    NaN    NaN\n",
       "studio       11.0    18.0    60.0   NaN    NaN    NaN"
      ]
     },
     "execution_count": 75,
     "metadata": {},
     "output_type": "execute_result"
    }
   ],
   "source": [
    "data.pivot_table(index = 'type_plan', columns='balcony', values='floor', aggfunc='count')\n"
   ]
  },
  {
   "cell_type": "code",
   "execution_count": 76,
   "metadata": {},
   "outputs": [
    {
     "data": {
      "text/html": [
       "<div>\n",
       "<style scoped>\n",
       "    .dataframe tbody tr th:only-of-type {\n",
       "        vertical-align: middle;\n",
       "    }\n",
       "\n",
       "    .dataframe tbody tr th {\n",
       "        vertical-align: top;\n",
       "    }\n",
       "\n",
       "    .dataframe thead th {\n",
       "        text-align: right;\n",
       "    }\n",
       "</style>\n",
       "<table border=\"1\" class=\"dataframe\">\n",
       "  <thead>\n",
       "    <tr style=\"text-align: right;\">\n",
       "      <th>balcony</th>\n",
       "      <th>0.0</th>\n",
       "      <th>1.0</th>\n",
       "      <th>2.0</th>\n",
       "      <th>3.0</th>\n",
       "      <th>4.0</th>\n",
       "      <th>5.0</th>\n",
       "    </tr>\n",
       "    <tr>\n",
       "      <th>rooms</th>\n",
       "      <th></th>\n",
       "      <th></th>\n",
       "      <th></th>\n",
       "      <th></th>\n",
       "      <th></th>\n",
       "      <th></th>\n",
       "    </tr>\n",
       "  </thead>\n",
       "  <tbody>\n",
       "    <tr>\n",
       "      <th>1</th>\n",
       "      <td>1234.0</td>\n",
       "      <td>1490.0</td>\n",
       "      <td>1559.0</td>\n",
       "      <td>2.0</td>\n",
       "      <td>16.0</td>\n",
       "      <td>24.0</td>\n",
       "    </tr>\n",
       "    <tr>\n",
       "      <th>2</th>\n",
       "      <td>1263.0</td>\n",
       "      <td>1540.0</td>\n",
       "      <td>1135.0</td>\n",
       "      <td>21.0</td>\n",
       "      <td>60.0</td>\n",
       "      <td>82.0</td>\n",
       "    </tr>\n",
       "    <tr>\n",
       "      <th>3</th>\n",
       "      <td>912.0</td>\n",
       "      <td>904.0</td>\n",
       "      <td>828.0</td>\n",
       "      <td>41.0</td>\n",
       "      <td>80.0</td>\n",
       "      <td>165.0</td>\n",
       "    </tr>\n",
       "    <tr>\n",
       "      <th>4</th>\n",
       "      <td>223.0</td>\n",
       "      <td>152.0</td>\n",
       "      <td>90.0</td>\n",
       "      <td>12.0</td>\n",
       "      <td>18.0</td>\n",
       "      <td>23.0</td>\n",
       "    </tr>\n",
       "    <tr>\n",
       "      <th>5</th>\n",
       "      <td>58.0</td>\n",
       "      <td>41.0</td>\n",
       "      <td>15.0</td>\n",
       "      <td>4.0</td>\n",
       "      <td>5.0</td>\n",
       "      <td>5.0</td>\n",
       "    </tr>\n",
       "    <tr>\n",
       "      <th>6</th>\n",
       "      <td>15.0</td>\n",
       "      <td>14.0</td>\n",
       "      <td>3.0</td>\n",
       "      <td>NaN</td>\n",
       "      <td>NaN</td>\n",
       "      <td>NaN</td>\n",
       "    </tr>\n",
       "    <tr>\n",
       "      <th>7</th>\n",
       "      <td>11.0</td>\n",
       "      <td>8.0</td>\n",
       "      <td>1.0</td>\n",
       "      <td>1.0</td>\n",
       "      <td>NaN</td>\n",
       "      <td>2.0</td>\n",
       "    </tr>\n",
       "    <tr>\n",
       "      <th>8</th>\n",
       "      <td>3.0</td>\n",
       "      <td>NaN</td>\n",
       "      <td>NaN</td>\n",
       "      <td>NaN</td>\n",
       "      <td>NaN</td>\n",
       "      <td>NaN</td>\n",
       "    </tr>\n",
       "    <tr>\n",
       "      <th>9</th>\n",
       "      <td>1.0</td>\n",
       "      <td>1.0</td>\n",
       "      <td>NaN</td>\n",
       "      <td>NaN</td>\n",
       "      <td>NaN</td>\n",
       "      <td>NaN</td>\n",
       "    </tr>\n",
       "    <tr>\n",
       "      <th>10</th>\n",
       "      <td>1.0</td>\n",
       "      <td>2.0</td>\n",
       "      <td>NaN</td>\n",
       "      <td>NaN</td>\n",
       "      <td>NaN</td>\n",
       "      <td>NaN</td>\n",
       "    </tr>\n",
       "    <tr>\n",
       "      <th>14</th>\n",
       "      <td>1.0</td>\n",
       "      <td>NaN</td>\n",
       "      <td>NaN</td>\n",
       "      <td>NaN</td>\n",
       "      <td>NaN</td>\n",
       "      <td>NaN</td>\n",
       "    </tr>\n",
       "    <tr>\n",
       "      <th>16</th>\n",
       "      <td>NaN</td>\n",
       "      <td>1.0</td>\n",
       "      <td>NaN</td>\n",
       "      <td>NaN</td>\n",
       "      <td>NaN</td>\n",
       "      <td>NaN</td>\n",
       "    </tr>\n",
       "  </tbody>\n",
       "</table>\n",
       "</div>"
      ],
      "text/plain": [
       "balcony     0.0     1.0     2.0   3.0   4.0    5.0\n",
       "rooms                                             \n",
       "1        1234.0  1490.0  1559.0   2.0  16.0   24.0\n",
       "2        1263.0  1540.0  1135.0  21.0  60.0   82.0\n",
       "3         912.0   904.0   828.0  41.0  80.0  165.0\n",
       "4         223.0   152.0    90.0  12.0  18.0   23.0\n",
       "5          58.0    41.0    15.0   4.0   5.0    5.0\n",
       "6          15.0    14.0     3.0   NaN   NaN    NaN\n",
       "7          11.0     8.0     1.0   1.0   NaN    2.0\n",
       "8           3.0     NaN     NaN   NaN   NaN    NaN\n",
       "9           1.0     1.0     NaN   NaN   NaN    NaN\n",
       "10          1.0     2.0     NaN   NaN   NaN    NaN\n",
       "14          1.0     NaN     NaN   NaN   NaN    NaN\n",
       "16          NaN     1.0     NaN   NaN   NaN    NaN"
      ]
     },
     "execution_count": 76,
     "metadata": {},
     "output_type": "execute_result"
    }
   ],
   "source": [
    "data.pivot_table(index='rooms', columns='balcony', values='floor', aggfunc='count')\n"
   ]
  },
  {
   "cell_type": "markdown",
   "metadata": {},
   "source": [
    "### locality_name <a class=\"anchor\" id=\"17\"></a>"
   ]
  },
  {
   "cell_type": "code",
   "execution_count": 77,
   "metadata": {},
   "outputs": [
    {
     "data": {
      "text/plain": [
       "Saint Peterburg             15517\n",
       "Murino village                551\n",
       "Shushary village              437\n",
       "Vsevolozhsk                   395\n",
       "Pushkin                       362\n",
       "                            ...  \n",
       "Russko village                  1\n",
       "Stare Khinkolovo village        1\n",
       "Yalgino village                 1\n",
       "Bolshoy Reyzino village         1\n",
       "Borisova Griva village          1\n",
       "Name: locality_name, Length: 340, dtype: int64"
      ]
     },
     "execution_count": 77,
     "metadata": {},
     "output_type": "execute_result"
    }
   ],
   "source": [
    "data['locality_name'].value_counts()"
   ]
  },
  {
   "cell_type": "code",
   "execution_count": 78,
   "metadata": {},
   "outputs": [
    {
     "data": {
      "text/plain": [
       "48"
      ]
     },
     "execution_count": 78,
     "metadata": {},
     "output_type": "execute_result"
    }
   ],
   "source": [
    "data['locality_name'].isnull().sum()"
   ]
  },
  {
   "cell_type": "code",
   "execution_count": 79,
   "metadata": {},
   "outputs": [],
   "source": [
    "# I decided to replace the omissions with a new clear category\n",
    "\n",
    "data['locality_name'] = data['locality_name'].fillna('The location is unknown')"
   ]
  },
  {
   "cell_type": "code",
   "execution_count": 80,
   "metadata": {},
   "outputs": [
    {
     "data": {
      "text/plain": [
       "0"
      ]
     },
     "execution_count": 80,
     "metadata": {},
     "output_type": "execute_result"
    }
   ],
   "source": [
    "data['locality_name'].isnull().sum()"
   ]
  },
  {
   "cell_type": "markdown",
   "metadata": {},
   "source": [
    "Let's lemmatize our data to make it easier to divide it into categories. Since Saint Peterburg is a large city, we will leave it, and divide the rest into groups"
   ]
  },
  {
   "cell_type": "code",
   "execution_count": 81,
   "metadata": {},
   "outputs": [],
   "source": [
    "locality_name_unique = data['locality_name'].unique()"
   ]
  },
  {
   "cell_type": "code",
   "execution_count": 82,
   "metadata": {},
   "outputs": [
    {
     "data": {
      "text/plain": [
       "array(['Saint Peterburg', 'Shushary village', 'Yanino village',\n",
       "       'Pargolovo village', 'Murino village', 'Lomonosov', 'Sertolovo',\n",
       "       'Petergof', 'Pushkin', 'Kudrovo village ', 'Kommunar', 'Kolpino',\n",
       "       'village Krasny Bor', 'Gatchina', 'village Fodorovskoye', 'Vyborg',\n",
       "       'Kronshtadt', 'Kirovsk', 'Novoye Devyatkino village',\n",
       "       'Metallostroy village', 'Lebyazhye village', 'Siversky village',\n",
       "       'Molodtsovo village', 'Kuzmolovsky village',\n",
       "       'Novaya Ropsha village', 'Pablovsk', 'Pikkolovo village',\n",
       "       'Vsevolozhsk', 'Volkhov', 'Kingisepp', 'Priozersk', 'Sestroretsk',\n",
       "       'Kuttuzi village', 'Annino village', 'Yefimovsky village',\n",
       "       'Plodovoye village', \"Zaklin'ye village\", 'Torkovichi village ',\n",
       "       'Pervomayskoye village', 'Krasnoye Selo', 'Pontonny village',\n",
       "       'Syasstroy', 'Staraya village ', 'Leskolovo village',\n",
       "       'Novyi Svit village', 'Slantsy', 'Putilovo village', 'Ivangorod',\n",
       "       'Murino', 'Shlisselburg', 'Nikolskoye', 'Zelenogorsk',\n",
       "       'Sosnovy Bor', 'New Svit village', 'Orzhitsy village',\n",
       "       \"Kal'tino village\", 'Kudrovo', 'Romanovka village',\n",
       "       'Bugry village', 'Roshichino village', 'Kirishi', 'Luga',\n",
       "       'Volosovo', 'Otradnoye', 'Pavlovo village', 'Oredezh village',\n",
       "       \"Kopor'ye village\", 'Krasnyi Bor village', 'Molodyozhnoye',\n",
       "       'Tikhvin', 'Pobeda village', 'Nurma village', 'Sinyavino village',\n",
       "       'Tosno', 'Strelna village', 'Boksitogorsk',\n",
       "       'Aleksandrovskaya village', 'Lopuhinka village', 'Pikalyovo',\n",
       "       'Tervolovo village', 'Sovetsky village', 'Podporozhye',\n",
       "       'Petrovskoye village', 'Toksovo village', \"Sel'tso village\",\n",
       "       'Vyritsa village', \"Kipen' village\", 'Kelozi village',\n",
       "       'Vartemyagi village', 'Telmana village', 'Sevastyanovo village ',\n",
       "       'Bolshaya Izhora village', 'The location is unknown',\n",
       "       'Agalatovo village', 'Novogorelovo village',\n",
       "       'Roshchino Lesogorsky village', 'Lagolovo village',\n",
       "       'Tsvelodubovo village', 'Rakhya village', 'Vyritsa village ',\n",
       "       'village Belogorka', 'Zavodskoy village ', \"Novosel'ye village\",\n",
       "       \"Bol'shiye Kolpany village\", 'Gorbunki village', 'Batovo village',\n",
       "       'Zanevka village', 'Issad village', 'Primorsk',\n",
       "       'village Fedorovskoye', 'Mistolovo village', 'Novaya Ladoga',\n",
       "       'Zimititsy village ', 'Baryshevo village ', 'Razmetelevo village ',\n",
       "       'Sverdlova village', 'Peniki village', 'Ryabovo village',\n",
       "       'Pudomyagi village', 'Kornevo village', 'Nizino village',\n",
       "       'village Begunitsy', 'village Polyany', 'Mga village',\n",
       "       'Elizavetino village', 'Kuznechnoye village', 'Koltushi village',\n",
       "       'Zaporozhskoye village', 'village Roshchino', 'Gostilitsy village',\n",
       "       'Maloye Karlino village', 'Michurinskoye village',\n",
       "       'Morozova village', 'Pesochny village', 'village Sosnovo',\n",
       "       'Aro village', \"Il'ichevo village\", 'Taytsy village',\n",
       "       'Maloe Verevo village', 'Izvara village', 'village Veshchevo',\n",
       "       'Pasha village', 'Kalitino village', \"Ul'yanovka village\",\n",
       "       'Chudskoy Bor village', 'Dubrovka village', 'Miny village',\n",
       "       'Voyskovitsy village', 'Sverdlov village', 'Korkino village ',\n",
       "       'Ropsha village', 'village Priladozhsky', 'village Shcheglovo',\n",
       "       'village Gavrilovo', 'Lodejnoje Polje', 'Rabititsy village',\n",
       "       'Nikolsky village', \"village Kuz'molovo\", 'Malyye Kolpany village',\n",
       "       \"village Tel'mana\", 'village Petro-Slavyanka', 'Naziya village',\n",
       "       'village Repino', 'Uglovo village', 'Staraya Maluksa village',\n",
       "       \"Rakh'ya village\", 'village Pobeda', \"Men'kovo village\",\n",
       "       'village Staryye Begunitsy', 'Sapyorny village',\n",
       "       'Semrino village ', 'Gavrilovo village', 'Glazhevo village',\n",
       "       'Kobrinskoye village', 'Garbolovo village', 'Yukki village ',\n",
       "       'Privetninskoe village', 'Manuilovo village', 'Pcheva village',\n",
       "       'Polyany village', 'Tsvylovo village', 'Melnikovo village',\n",
       "       \"Pudost' village\", 'Ust-Luga village', 'Svetogorsk', 'Lyuban',\n",
       "       'village Seleznyovo', 'village Ryabovo', 'Kamennogorsk',\n",
       "       'Krivko village', 'Glebychevo village', 'Paritsy village',\n",
       "       'Zhilposelok village', 'Voyskorovo village', 'Nikolskoye village',\n",
       "       'village Tervolovo', 'Steklyanny village', 'village Vazhiny',\n",
       "       'village Myza-Ivanovka', 'village Russko-Vysotskoye',\n",
       "       'village Fornosovo', 'Staraya Ladoga village', 'Zhitkovo village',\n",
       "       'village Villozi', 'Lampovo village', 'Shpankovo village',\n",
       "       'Lavriki village', 'Sumino village', 'village Vozrozhdeniye',\n",
       "       'Starosiverskaya village', 'village Kikerino',\n",
       "       'Vozrozhdenie village', 'Stare Khinkolovo village',\n",
       "       'village Prigorodnyy', 'village Torfyanoye', 'village Budogoshch',\n",
       "       'Sukhodolye village', 'Krasnaya Dolina village', 'Hapo-Oe village',\n",
       "       'Druzhnaya Gorka village', 'Lisiy Nos village',\n",
       "       \"Yal'gelevo village\", 'Steklyannyy village',\n",
       "       'Rozhdestveno village', \"Staropol'ye village \",\n",
       "       'Levashovo village', \"Syas'kelevo village\", 'Kamyshovka village',\n",
       "       'Lesnaya polyana village', 'Khazelki village',\n",
       "       'Zhilgorodok village', 'Yalgino village', 'Novyy Uchkvoz village',\n",
       "       'Goncharovo village', 'Pochap village', 'Sapyornoye village',\n",
       "       '60 km village', 'Kalozhitsy village', 'Falileevo village',\n",
       "       'Pelgora village', 'village Lesogorsky', 'village Toroshkovichi',\n",
       "       'Beloostrov village', 'village Alekseyevka',\n",
       "       'Serebryansky village', 'Lukashi village', 'Shcheglovo village',\n",
       "       'Michurinskoye village ', 'Tarasovo village',\n",
       "       'Kingiseppskiy village', 'Veshchevo village', 'Ushaki village',\n",
       "       'Lotly village', 'Kingiserskiy village', 'Sizhno village',\n",
       "       'village Torosovo', 'Fort Krasnaya Gorka village',\n",
       "       'Novolisino village', 'Gromovo village', 'Glinka village ',\n",
       "       'Staraya Pustosh’ village', 'Kommunary village',\n",
       "       'Pochinok village', 'Voznesenye village ', 'Razbegaevo village',\n",
       "       'Gladkoye village', 'Privetninskoye village', 'Tyosovo village',\n",
       "       'Bor village', 'Korobitsyno village', \"Bol'shaya Vruda village\",\n",
       "       'Kurkovitsy village', 'Pudost’ village', 'Kobralovo village',\n",
       "       'Suoranda village', 'village Kobralovo', 'Kondratievo village',\n",
       "       'Schast’e village', 'Lyuban village', 'Rebrovo village',\n",
       "       'Zimititsy village', 'Toyvorovo village', 'Semiozerye village',\n",
       "       ' Lesnoye village', 'Sovkhozny village', 'village Leninskoye',\n",
       "       'Suida village', \"Nizhniye Osel'ki village\", \"Svir' village\",\n",
       "       'Perovo village', 'Vysotsk', 'Shum village', \"village Kotel'skiy\",\n",
       "       'village Luzhayka', \"village Bol'shaya Pustomerzha\",\n",
       "       \"village Krasnosel'skoye\", 'village Izvara',\n",
       "       'village Vakhnova Kara', 'Pizhma village ',\n",
       "       'Kivennapa Sever village', 'Romashki village', 'Kaskovo village',\n",
       "       'Kurovitsy village', 'Ploskoe village', 'Kirpichnoe village',\n",
       "       'village Yam-Tesovo', 'Razdolje village', 'Terpilitsy village ',\n",
       "       'Shugozero village', 'Vaganovo village', 'Pushnoye village',\n",
       "       'Sadko village', 'Ust-Izhora village', 'Vyskatka village',\n",
       "       'village Svirstroy', 'village Gromovo', 'Kiselnya village',\n",
       "       'Staraya Maluksa village ', 'village Trubnikov Bor',\n",
       "       'Vysokoklyuchevoy village ', 'Priladozhskiy',\n",
       "       'Zelenyy Bor village', 'Nenimyaki village', 'Zelyony Bor village',\n",
       "       'Snegiryovka village', 'Rappolovo village', 'Pustynka village',\n",
       "       'Rabititsky village', \"Bol'shoy Sabsk village\", 'Russko village',\n",
       "       'Luppolovo village', 'Bolshoy Reyzino village',\n",
       "       'Malaya Romanovka village', 'Staraya Pustosh’ village ',\n",
       "       'Druzhnoselye village', 'Pchevzha village', 'Volodarskoye village',\n",
       "       'Lesnoye village', 'Tikhkovitsy village', 'Borisova Griva village',\n",
       "       'Dzerzhinsky village'], dtype=object)"
      ]
     },
     "execution_count": 82,
     "metadata": {},
     "output_type": "execute_result"
    }
   ],
   "source": [
    "locality_name_unique"
   ]
  },
  {
   "cell_type": "code",
   "execution_count": 83,
   "metadata": {},
   "outputs": [
    {
     "name": "stdout",
     "output_type": "stream",
     "text": [
      "('Saint Peterburg ; Shushary village ; Yanino village ; Pargolovo village ; '\n",
      " 'Murino village ; Lomonosov ; Sertolovo ; Petergof ; Pushkin ; Kudrovo '\n",
      " 'village  ; Kommunar ; Kolpino ; village Krasny Bor ; Gatchina ; village '\n",
      " 'Fodorovskoye ; Vyborg ; Kronshtadt ; Kirovsk ; Novoye Devyatkino village ; '\n",
      " 'Metallostroy village ; Lebyazhye village ; Siversky village ; Molodtsovo '\n",
      " 'village ; Kuzmolovsky village ; Novaya Ropsha village ; Pablovsk ; Pikkolovo '\n",
      " 'village ; Vsevolozhsk ; Volkhov ; Kingisepp ; Priozersk ; Sestroretsk ; '\n",
      " 'Kuttuzi village ; Annino village ; Yefimovsky village ; Plodovoye village ; '\n",
      " \"Zaklin'ye village ; Torkovichi village  ; Pervomayskoye village ; Krasnoye \"\n",
      " 'Selo ; Pontonny village ; Syasstroy ; Staraya village  ; Leskolovo village ; '\n",
      " 'Novyi Svit village ; Slantsy ; Putilovo village ; Ivangorod ; Murino ; '\n",
      " 'Shlisselburg ; Nikolskoye ; Zelenogorsk ; Sosnovy Bor ; New Svit village ; '\n",
      " \"Orzhitsy village ; Kal'tino village ; Kudrovo ; Romanovka village ; Bugry \"\n",
      " 'village ; Roshichino village ; Kirishi ; Luga ; Volosovo ; Otradnoye ; '\n",
      " \"Pavlovo village ; Oredezh village ; Kopor'ye village ; Krasnyi Bor village ; \"\n",
      " 'Molodyozhnoye ; Tikhvin ; Pobeda village ; Nurma village ; Sinyavino village '\n",
      " '; Tosno ; Strelna village ; Boksitogorsk ; Aleksandrovskaya village ; '\n",
      " 'Lopuhinka village ; Pikalyovo ; Tervolovo village ; Sovetsky village ; '\n",
      " \"Podporozhye ; Petrovskoye village ; Toksovo village ; Sel'tso village ; \"\n",
      " \"Vyritsa village ; Kipen' village ; Kelozi village ; Vartemyagi village ; \"\n",
      " 'Telmana village ; Sevastyanovo village  ; Bolshaya Izhora village ; The '\n",
      " 'location is unknown ; Agalatovo village ; Novogorelovo village ; Roshchino '\n",
      " 'Lesogorsky village ; Lagolovo village ; Tsvelodubovo village ; Rakhya '\n",
      " 'village ; Vyritsa village  ; village Belogorka ; Zavodskoy village  ; '\n",
      " \"Novosel'ye village ; Bol'shiye Kolpany village ; Gorbunki village ; Batovo \"\n",
      " 'village ; Zanevka village ; Issad village ; Primorsk ; village Fedorovskoye '\n",
      " '; Mistolovo village ; Novaya Ladoga ; Zimititsy village  ; Baryshevo '\n",
      " 'village  ; Razmetelevo village  ; Sverdlova village ; Peniki village ; '\n",
      " 'Ryabovo village ; Pudomyagi village ; Kornevo village ; Nizino village ; '\n",
      " 'village Begunitsy ; village Polyany ; Mga village ; Elizavetino village ; '\n",
      " 'Kuznechnoye village ; Koltushi village ; Zaporozhskoye village ; village '\n",
      " 'Roshchino ; Gostilitsy village ; Maloye Karlino village ; Michurinskoye '\n",
      " 'village ; Morozova village ; Pesochny village ; village Sosnovo ; Aro '\n",
      " \"village ; Il'ichevo village ; Taytsy village ; Maloe Verevo village ; Izvara \"\n",
      " \"village ; village Veshchevo ; Pasha village ; Kalitino village ; Ul'yanovka \"\n",
      " 'village ; Chudskoy Bor village ; Dubrovka village ; Miny village ; '\n",
      " 'Voyskovitsy village ; Sverdlov village ; Korkino village  ; Ropsha village ; '\n",
      " 'village Priladozhsky ; village Shcheglovo ; village Gavrilovo ; Lodejnoje '\n",
      " \"Polje ; Rabititsy village ; Nikolsky village ; village Kuz'molovo ; Malyye \"\n",
      " \"Kolpany village ; village Tel'mana ; village Petro-Slavyanka ; Naziya \"\n",
      " 'village ; village Repino ; Uglovo village ; Staraya Maluksa village ; '\n",
      " \"Rakh'ya village ; village Pobeda ; Men'kovo village ; village Staryye \"\n",
      " 'Begunitsy ; Sapyorny village ; Semrino village  ; Gavrilovo village ; '\n",
      " 'Glazhevo village ; Kobrinskoye village ; Garbolovo village ; Yukki village  '\n",
      " '; Privetninskoe village ; Manuilovo village ; Pcheva village ; Polyany '\n",
      " \"village ; Tsvylovo village ; Melnikovo village ; Pudost' village ; Ust-Luga \"\n",
      " 'village ; Svetogorsk ; Lyuban ; village Seleznyovo ; village Ryabovo ; '\n",
      " 'Kamennogorsk ; Krivko village ; Glebychevo village ; Paritsy village ; '\n",
      " 'Zhilposelok village ; Voyskorovo village ; Nikolskoye village ; village '\n",
      " 'Tervolovo ; Steklyanny village ; village Vazhiny ; village Myza-Ivanovka ; '\n",
      " 'village Russko-Vysotskoye ; village Fornosovo ; Staraya Ladoga village ; '\n",
      " 'Zhitkovo village ; village Villozi ; Lampovo village ; Shpankovo village ; '\n",
      " 'Lavriki village ; Sumino village ; village Vozrozhdeniye ; Starosiverskaya '\n",
      " 'village ; village Kikerino ; Vozrozhdenie village ; Stare Khinkolovo village '\n",
      " '; village Prigorodnyy ; village Torfyanoye ; village Budogoshch ; Sukhodolye '\n",
      " 'village ; Krasnaya Dolina village ; Hapo-Oe village ; Druzhnaya Gorka '\n",
      " \"village ; Lisiy Nos village ; Yal'gelevo village ; Steklyannyy village ; \"\n",
      " \"Rozhdestveno village ; Staropol'ye village  ; Levashovo village ; \"\n",
      " \"Syas'kelevo village ; Kamyshovka village ; Lesnaya polyana village ; \"\n",
      " 'Khazelki village ; Zhilgorodok village ; Yalgino village ; Novyy Uchkvoz '\n",
      " 'village ; Goncharovo village ; Pochap village ; Sapyornoye village ; 60 km '\n",
      " 'village ; Kalozhitsy village ; Falileevo village ; Pelgora village ; village '\n",
      " 'Lesogorsky ; village Toroshkovichi ; Beloostrov village ; village '\n",
      " 'Alekseyevka ; Serebryansky village ; Lukashi village ; Shcheglovo village ; '\n",
      " 'Michurinskoye village  ; Tarasovo village ; Kingiseppskiy village ; '\n",
      " 'Veshchevo village ; Ushaki village ; Lotly village ; Kingiserskiy village ; '\n",
      " 'Sizhno village ; village Torosovo ; Fort Krasnaya Gorka village ; Novolisino '\n",
      " 'village ; Gromovo village ; Glinka village  ; Staraya Pustosh’ village ; '\n",
      " 'Kommunary village ; Pochinok village ; Voznesenye village  ; Razbegaevo '\n",
      " 'village ; Gladkoye village ; Privetninskoye village ; Tyosovo village ; Bor '\n",
      " \"village ; Korobitsyno village ; Bol'shaya Vruda village ; Kurkovitsy village \"\n",
      " '; Pudost’ village ; Kobralovo village ; Suoranda village ; village Kobralovo '\n",
      " '; Kondratievo village ; Schast’e village ; Lyuban village ; Rebrovo village '\n",
      " '; Zimititsy village ; Toyvorovo village ; Semiozerye village ;  Lesnoye '\n",
      " 'village ; Sovkhozny village ; village Leninskoye ; Suida village ; Nizhniye '\n",
      " \"Osel'ki village ; Svir' village ; Perovo village ; Vysotsk ; Shum village ; \"\n",
      " \"village Kotel'skiy ; village Luzhayka ; village Bol'shaya Pustomerzha ; \"\n",
      " \"village Krasnosel'skoye ; village Izvara ; village Vakhnova Kara ; Pizhma \"\n",
      " 'village  ; Kivennapa Sever village ; Romashki village ; Kaskovo village ; '\n",
      " 'Kurovitsy village ; Ploskoe village ; Kirpichnoe village ; village '\n",
      " 'Yam-Tesovo ; Razdolje village ; Terpilitsy village  ; Shugozero village ; '\n",
      " 'Vaganovo village ; Pushnoye village ; Sadko village ; Ust-Izhora village ; '\n",
      " 'Vyskatka village ; village Svirstroy ; village Gromovo ; Kiselnya village ; '\n",
      " 'Staraya Maluksa village  ; village Trubnikov Bor ; Vysokoklyuchevoy village  '\n",
      " '; Priladozhskiy ; Zelenyy Bor village ; Nenimyaki village ; Zelyony Bor '\n",
      " 'village ; Snegiryovka village ; Rappolovo village ; Pustynka village ; '\n",
      " \"Rabititsky village ; Bol'shoy Sabsk village ; Russko village ; Luppolovo \"\n",
      " 'village ; Bolshoy Reyzino village ; Malaya Romanovka village ; Staraya '\n",
      " 'Pustosh’ village  ; Druzhnoselye village ; Pchevzha village ; Volodarskoye '\n",
      " 'village ; Lesnoye village ; Tikhkovitsy village ; Borisova Griva village ; '\n",
      " 'Dzerzhinsky village')\n"
     ]
    }
   ],
   "source": [
    "m = Mystem()\n",
    "string = ' ; '.join(locality_name_unique)\n",
    "pprint.pprint(string)\n",
    "\n",
    "lemmas = m.lemmatize(string)"
   ]
  },
  {
   "cell_type": "code",
   "execution_count": 84,
   "metadata": {},
   "outputs": [],
   "source": [
    "data['locality_name_type'] = data.locality_name.apply(\n",
    "            lambda x: 'Saint Peterburg'if 'Saint Peterburg' in str(x) \n",
    "            else 'village' if 'village' in str(x) \n",
    "            else 'the location is unknown' if 'The location is unknown' in str(x)\n",
    "            else 'city')"
   ]
  },
  {
   "cell_type": "code",
   "execution_count": 85,
   "metadata": {},
   "outputs": [
    {
     "data": {
      "text/plain": [
       "Saint Peterburg            15517\n",
       "city                        4261\n",
       "village                     3615\n",
       "the location is unknown       48\n",
       "Name: locality_name_type, dtype: int64"
      ]
     },
     "execution_count": 85,
     "metadata": {},
     "output_type": "execute_result"
    }
   ],
   "source": [
    "data['locality_name_type'].value_counts()"
   ]
  },
  {
   "cell_type": "markdown",
   "metadata": {},
   "source": [
    "We filled in the gaps, lemmatized the data, and aggregated it by location"
   ]
  },
  {
   "cell_type": "markdown",
   "metadata": {},
   "source": [
    "### The distance to the airport Distance to center, Distance to Park, distance to the pond  <a class=\"anchor\" id=\"18\"></a>"
   ]
  },
  {
   "cell_type": "markdown",
   "metadata": {},
   "source": [
    "I don't see any point in processing omissions in this data, since deleting omissions will distort the overall picture, and the median won't give reliable values, so I'll leave it as it is. Plus, these parameters are insignificant in further analysis"
   ]
  },
  {
   "cell_type": "code",
   "execution_count": 86,
   "metadata": {},
   "outputs": [
    {
     "data": {
      "text/plain": [
       "5501"
      ]
     },
     "execution_count": 86,
     "metadata": {},
     "output_type": "execute_result"
    }
   ],
   "source": [
    "data['airports_nearest'].isnull().sum()"
   ]
  },
  {
   "cell_type": "code",
   "execution_count": 87,
   "metadata": {},
   "outputs": [
    {
     "data": {
      "text/plain": [
       "5481"
      ]
     },
     "execution_count": 87,
     "metadata": {},
     "output_type": "execute_result"
    }
   ],
   "source": [
    "data['cityCenters_nearest'].isnull().sum()"
   ]
  },
  {
   "cell_type": "code",
   "execution_count": 88,
   "metadata": {},
   "outputs": [
    {
     "data": {
      "text/plain": [
       "15497"
      ]
     },
     "execution_count": 88,
     "metadata": {},
     "output_type": "execute_result"
    }
   ],
   "source": [
    "data['parks_nearest'].isnull().sum()"
   ]
  },
  {
   "cell_type": "code",
   "execution_count": 89,
   "metadata": {},
   "outputs": [
    {
     "data": {
      "text/plain": [
       "14472"
      ]
     },
     "execution_count": 89,
     "metadata": {},
     "output_type": "execute_result"
    }
   ],
   "source": [
    "data['ponds_nearest'].isnull().sum()"
   ]
  },
  {
   "cell_type": "markdown",
   "metadata": {},
   "source": [
    "### Number of parks and reservoirs within a 3 km radius  <a class=\"anchor\" id=\"19\"></a>"
   ]
  },
  {
   "cell_type": "markdown",
   "metadata": {},
   "source": [
    "Let's look at our data and the omissions in it. We have quantitative data, which means you can group it by location by replacing it with mode, and replace the rest with 0"
   ]
  },
  {
   "cell_type": "code",
   "execution_count": 90,
   "metadata": {},
   "outputs": [
    {
     "data": {
      "text/plain": [
       "5480"
      ]
     },
     "execution_count": 90,
     "metadata": {},
     "output_type": "execute_result"
    }
   ],
   "source": [
    "data['parks_around3000'].isnull().sum()\n"
   ]
  },
  {
   "cell_type": "code",
   "execution_count": 91,
   "metadata": {},
   "outputs": [
    {
     "data": {
      "text/plain": [
       "5480"
      ]
     },
     "execution_count": 91,
     "metadata": {},
     "output_type": "execute_result"
    }
   ],
   "source": [
    "data['ponds_around3000'].isnull().sum()\n"
   ]
  },
  {
   "cell_type": "code",
   "execution_count": 92,
   "metadata": {},
   "outputs": [],
   "source": [
    "data['parks_around3000'] = data.groupby('locality_name')['parks_around3000']\\\n",
    "    .transform(lambda x: x.fillna(x.mode()))"
   ]
  },
  {
   "cell_type": "code",
   "execution_count": 93,
   "metadata": {},
   "outputs": [],
   "source": [
    "data['parks_around3000'] = data['parks_around3000'].fillna(0)\n"
   ]
  },
  {
   "cell_type": "code",
   "execution_count": 94,
   "metadata": {},
   "outputs": [
    {
     "data": {
      "text/plain": [
       "0"
      ]
     },
     "execution_count": 94,
     "metadata": {},
     "output_type": "execute_result"
    }
   ],
   "source": [
    "data['parks_around3000'].isna().sum()\n"
   ]
  },
  {
   "cell_type": "code",
   "execution_count": 95,
   "metadata": {},
   "outputs": [],
   "source": [
    "data['ponds_around3000'] = data.groupby('locality_name')['ponds_around3000']\\\n",
    "    .transform(lambda x: x.fillna(x.mode()))"
   ]
  },
  {
   "cell_type": "code",
   "execution_count": 96,
   "metadata": {},
   "outputs": [],
   "source": [
    "data['ponds_around3000'] = data['ponds_around3000'].fillna(0)\n"
   ]
  },
  {
   "cell_type": "code",
   "execution_count": 97,
   "metadata": {},
   "outputs": [
    {
     "data": {
      "text/plain": [
       "0"
      ]
     },
     "execution_count": 97,
     "metadata": {},
     "output_type": "execute_result"
    }
   ],
   "source": [
    "data['ponds_around3000'].isna().sum()\n"
   ]
  },
  {
   "cell_type": "code",
   "execution_count": 98,
   "metadata": {},
   "outputs": [],
   "source": [
    "data['parks_around3000'] = data['parks_around3000'].astype('int16')\n",
    "data['ponds_around3000'] = data['ponds_around3000'].astype('int16')\n"
   ]
  },
  {
   "cell_type": "code",
   "execution_count": 99,
   "metadata": {},
   "outputs": [
    {
     "data": {
      "text/plain": [
       "0    15501\n",
       "1     5605\n",
       "2     1706\n",
       "3      629\n",
       "Name: parks_around3000, dtype: int64"
      ]
     },
     "execution_count": 99,
     "metadata": {},
     "output_type": "execute_result"
    }
   ],
   "source": [
    "data['parks_around3000'].value_counts()"
   ]
  },
  {
   "cell_type": "code",
   "execution_count": 100,
   "metadata": {
    "scrolled": true
   },
   "outputs": [
    {
     "data": {
      "text/plain": [
       "0    14472\n",
       "1     5648\n",
       "2     1865\n",
       "3     1456\n",
       "Name: ponds_around3000, dtype: int64"
      ]
     },
     "execution_count": 100,
     "metadata": {},
     "output_type": "execute_result"
    }
   ],
   "source": [
    "data['ponds_around3000'].value_counts()"
   ]
  },
  {
   "cell_type": "markdown",
   "metadata": {},
   "source": [
    "This column is not included in the project description. Judging by the name, this is a square, but the square of what? There are no omissions, so I will not touch this data."
   ]
  },
  {
   "cell_type": "code",
   "execution_count": 101,
   "metadata": {},
   "outputs": [
    {
     "data": {
      "text/plain": [
       "count    23441.000000\n",
       "mean        59.464187\n",
       "std         32.810387\n",
       "min         12.000000\n",
       "25%         40.000000\n",
       "50%         52.000000\n",
       "75%         69.000000\n",
       "max        517.000000\n",
       "Name: total_area, dtype: float64"
      ]
     },
     "execution_count": 101,
     "metadata": {},
     "output_type": "execute_result"
    }
   ],
   "source": [
    "data['total_area'].describe()"
   ]
  },
  {
   "cell_type": "code",
   "execution_count": 102,
   "metadata": {},
   "outputs": [
    {
     "data": {
      "text/plain": [
       "0"
      ]
     },
     "execution_count": 102,
     "metadata": {},
     "output_type": "execute_result"
    }
   ],
   "source": [
    "data['total_area'].isnull().sum()"
   ]
  },
  {
   "cell_type": "markdown",
   "metadata": {},
   "source": [
    "# Summary: <a class= \"anchor\" id= \"20\"></a>\n",
    "   * A preliminary analysis of all data was carried out, problem areas and omissions were identified\n",
    "   \n",
    "   * Columns with abnormal values were found (too high and low ceilings, scanty and huge area of the apartment and kitchen), as well as data in which the number of missing values was more than 50%\n",
    "   \n",
    "   * The missing values in the key columns were filled in using the median value, filling in at 0, and deleting data that was out of the picture and whose percentage was no more than 1% of the data (for example, ceiling height and kitchen floor height) using dropna.\n",
    "   \n",
    "   * Some of the data, such as the ad placement date, distance, cost, number of rooms, floor, etc. were converted to more convenient formats ( int, datetime, obj).\n",
    "   \n",
    "   * New information was calculated and added to our dataframe, such as the price per square meter, the ratio of residential and total area, the ratio of kitchen area to total, the year, month and day of the week of publication, and categorized the floor on which the apartment is located (first, last, other)\n",
    "   \n",
    "   \n",
    "### The reason for incorrect or missing data may be different. Most likely, the reason was that the data was entered by the users themselves and apparently without strict input restrictions in the system (i.e. the person did not choose the apartment parameters from the offered options, but entered them manually himself). Manual input always carries the risk of errors, plus many of the data may simply be unknown to the user."
   ]
  },
  {
   "cell_type": "markdown",
   "metadata": {},
   "source": [
    "# Part 3.  Make some researches\n"
   ]
  },
  {
   "cell_type": "markdown",
   "metadata": {},
   "source": [
    "## What are the typical parameters of apartments for sale (for example, size, price)? Specify the most important characteristics and build graphs.  <a class=\"anchor\" id=\"22\"></a>"
   ]
  },
  {
   "cell_type": "markdown",
   "metadata": {},
   "source": [
    "Typical parameters of an apartment can be considered: area, total cost, cost per square meter, number of rooms, floor, ceiling height and kitchen area. Calculate the median for a typical apartment"
   ]
  },
  {
   "cell_type": "code",
   "execution_count": 103,
   "metadata": {},
   "outputs": [
    {
     "data": {
      "text/plain": [
       "total_images                   9.000000e+00\n",
       "last_price                     4.600000e+06\n",
       "total_area                     5.200000e+01\n",
       "rooms                          2.000000e+00\n",
       "ceiling_height                 2.650000e+00\n",
       "floors_total                   9.000000e+00\n",
       "living_area                    3.000000e+01\n",
       "floor                          4.000000e+00\n",
       "is_apartment                   0.000000e+00\n",
       "studio                         0.000000e+00\n",
       "open_plan                      0.000000e+00\n",
       "kitchen_area                   9.000000e+00\n",
       "balcony                        1.000000e+00\n",
       "airports_nearest               2.678600e+04\n",
       "cityCenters_nearest            1.314400e+04\n",
       "parks_around3000               0.000000e+00\n",
       "parks_nearest                  4.550000e+02\n",
       "ponds_around3000               0.000000e+00\n",
       "ponds_nearest                  5.020000e+02\n",
       "days_exposition                9.500000e+01\n",
       "m2                             9.481000e+04\n",
       "year_exposition                2.017000e+03\n",
       "living_area_relation           5.677419e-01\n",
       "kitchen_total_area_relation    1.736334e-01\n",
       "dtype: float64"
      ]
     },
     "execution_count": 103,
     "metadata": {},
     "output_type": "execute_result"
    }
   ],
   "source": [
    "data.median()"
   ]
  },
  {
   "cell_type": "code",
   "execution_count": 104,
   "metadata": {},
   "outputs": [
    {
     "name": "stdout",
     "output_type": "stream",
     "text": [
      "typical last_price: 4600000.00\n",
      "typical total_area: 52.00\n",
      "typical m2: 94810.00\n",
      "typical kitchen_area: 9.00\n",
      "typical ceiling_height: 2.65\n",
      "typical rooms: 2.00\n",
      "typical floor: 4.00\n"
     ]
    }
   ],
   "source": [
    "for i in ['last_price', 'total_area', 'm2', 'kitchen_area', 'ceiling_height','rooms', 'floor']:\n",
    "    print(\"typical {}: {:.2f}\".format(i, data[i].median()))"
   ]
  },
  {
   "cell_type": "markdown",
   "metadata": {},
   "source": [
    "We see that our standard apartment has the following parameters:\n",
    "    * price 4.6 million\n",
    "    * total area of 52 sq. m.\n",
    "    * price of sq. m. 94 810 R\n",
    "    * kitchen area 9 sq. m.\n",
    "    * ceiling height 2.65 m\n",
    "    * 2 rooms\n",
    "    * 4th floor"
   ]
  },
  {
   "cell_type": "markdown",
   "metadata": {},
   "source": [
    "Let's look at the presence of anomalies for our key parameters. Do this with the help of graphs."
   ]
  },
  {
   "cell_type": "code",
   "execution_count": 105,
   "metadata": {},
   "outputs": [
    {
     "data": {
      "text/plain": [
       "<matplotlib.axes._subplots.AxesSubplot at 0x1053d1390>"
      ]
     },
     "execution_count": 105,
     "metadata": {},
     "output_type": "execute_result"
    },
    {
     "data": {
      "image/png": "[encoded data removed]",
      "text/plain": [
       "<Figure size 576x576 with 1 Axes>"
      ]
     },
     "metadata": {
      "needs_background": "light"
     },
     "output_type": "display_data"
    }
   ],
   "source": [
    "data['last_price'].hist(bins = 100, figsize = (8,8), grid = True) "
   ]
  },
  {
   "cell_type": "markdown",
   "metadata": {},
   "source": [
    "We see an abnormal spike that spoils the whole picture. I'll try to set a range and see what happens"
   ]
  },
  {
   "cell_type": "code",
   "execution_count": 106,
   "metadata": {},
   "outputs": [
    {
     "data": {
      "text/plain": [
       "<matplotlib.axes._subplots.AxesSubplot at 0x1a1ba7f748>"
      ]
     },
     "execution_count": 106,
     "metadata": {},
     "output_type": "execute_result"
    },
    {
     "data": {
      "image/png": "[encoded data removed]",
      "text/plain": [
       "<Figure size 576x576 with 1 Axes>"
      ]
     },
     "metadata": {
      "needs_background": "light"
     },
     "output_type": "display_data"
    }
   ],
   "source": [
    "data['last_price'].hist(bins = 100, figsize = (8,8), grid = True, range=(0, 10000000), color = 'green') "
   ]
  },
  {
   "cell_type": "markdown",
   "metadata": {},
   "source": [
    "With this range, the distribution looks normal, with a single peak. So there are no anomalies other than the fantastic super price. Let's also look at the other key parameters"
   ]
  },
  {
   "cell_type": "code",
   "execution_count": 107,
   "metadata": {},
   "outputs": [
    {
     "data": {
      "text/plain": [
       "<matplotlib.axes._subplots.AxesSubplot at 0x1a198c2390>"
      ]
     },
     "execution_count": 107,
     "metadata": {},
     "output_type": "execute_result"
    },
    {
     "data": {
      "image/png": "[encoded data removed]",
      "text/plain": [
       "<Figure size 576x576 with 1 Axes>"
      ]
     },
     "metadata": {
      "needs_background": "light"
     },
     "output_type": "display_data"
    }
   ],
   "source": [
    "data['total_area'].hist(bins = 100, figsize = (8,8), grid = True) "
   ]
  },
  {
   "cell_type": "markdown",
   "metadata": {},
   "source": [
    "The anomalous peak is visible again. Let's set the range and see what happens"
   ]
  },
  {
   "cell_type": "code",
   "execution_count": 108,
   "metadata": {},
   "outputs": [
    {
     "data": {
      "text/plain": [
       "<matplotlib.axes._subplots.AxesSubplot at 0x1a1b4bbfd0>"
      ]
     },
     "execution_count": 108,
     "metadata": {},
     "output_type": "execute_result"
    },
    {
     "data": {
      "image/png": "[encoded data removed]",
      "text/plain": [
       "<Figure size 576x576 with 1 Axes>"
      ]
     },
     "metadata": {
      "needs_background": "light"
     },
     "output_type": "display_data"
    }
   ],
   "source": [
    "data['total_area'].hist(bins = 100, figsize = (8,8), grid = True, range = (0, 200), color = 'green') "
   ]
  },
  {
   "cell_type": "markdown",
   "metadata": {},
   "source": [
    "It looks like a Poisson distribution, but with a \"tail\". The maximum concentration of apartments is just an area of about 50 meters"
   ]
  },
  {
   "cell_type": "code",
   "execution_count": 109,
   "metadata": {},
   "outputs": [
    {
     "data": {
      "text/plain": [
       "<matplotlib.axes._subplots.AxesSubplot at 0x1a1ab355f8>"
      ]
     },
     "execution_count": 109,
     "metadata": {},
     "output_type": "execute_result"
    },
    {
     "data": {
      "image/png": "[encoded data removed]",
      "text/plain": [
       "<Figure size 576x576 with 1 Axes>"
      ]
     },
     "metadata": {
      "needs_background": "light"
     },
     "output_type": "display_data"
    }
   ],
   "source": [
    "data['m2'].hist(bins = 100, figsize = (8,8), grid = True) "
   ]
  },
  {
   "cell_type": "markdown",
   "metadata": {},
   "source": [
    "The graph type is similar to a normal distribution. Let's look in the range"
   ]
  },
  {
   "cell_type": "code",
   "execution_count": 110,
   "metadata": {},
   "outputs": [
    {
     "data": {
      "text/plain": [
       "<matplotlib.axes._subplots.AxesSubplot at 0x1a1b3fe6a0>"
      ]
     },
     "execution_count": 110,
     "metadata": {},
     "output_type": "execute_result"
    },
    {
     "data": {
      "image/png": "[encoded data removed]",
      "text/plain": [
       "<Figure size 576x576 with 1 Axes>"
      ]
     },
     "metadata": {
      "needs_background": "light"
     },
     "output_type": "display_data"
    }
   ],
   "source": [
    "data['m2'].hist(bins = 100, figsize = (8,8), grid = True, range = (0, 250000), color = 'magenta') "
   ]
  },
  {
   "cell_type": "markdown",
   "metadata": {},
   "source": [
    "Beauty! The Poisson distribution looks great) The most likely value is about 100,000 rubles ( we have 94,810)"
   ]
  },
  {
   "cell_type": "code",
   "execution_count": 111,
   "metadata": {},
   "outputs": [
    {
     "data": {
      "text/plain": [
       "<matplotlib.axes._subplots.AxesSubplot at 0x1a1bb6ee48>"
      ]
     },
     "execution_count": 111,
     "metadata": {},
     "output_type": "execute_result"
    },
    {
     "data": {
      "image/png": "[encoded data removed]",
      "text/plain": [
       "<Figure size 576x576 with 1 Axes>"
      ]
     },
     "metadata": {
      "needs_background": "light"
     },
     "output_type": "display_data"
    }
   ],
   "source": [
    "data['kitchen_area'].hist(bins = 50, figsize = (8,8), grid = True) "
   ]
  },
  {
   "cell_type": "code",
   "execution_count": 112,
   "metadata": {},
   "outputs": [
    {
     "data": {
      "text/plain": [
       "<matplotlib.axes._subplots.AxesSubplot at 0x1a1b4255c0>"
      ]
     },
     "execution_count": 112,
     "metadata": {},
     "output_type": "execute_result"
    },
    {
     "data": {
      "image/png": "[encoded data removed]",
      "text/plain": [
       "<Figure size 576x576 with 1 Axes>"
      ]
     },
     "metadata": {
      "needs_background": "light"
     },
     "output_type": "display_data"
    }
   ],
   "source": [
    "data['kitchen_area'].hist(bins = 50, figsize = (8,8), grid = True, range = (0,25), color = 'red') "
   ]
  },
  {
   "cell_type": "markdown",
   "metadata": {},
   "source": [
    "The graph is again similar to the truth, the most likely value is about 10 square meters ( we have 9.3)"
   ]
  },
  {
   "cell_type": "code",
   "execution_count": 113,
   "metadata": {},
   "outputs": [
    {
     "data": {
      "text/plain": [
       "<matplotlib.axes._subplots.AxesSubplot at 0x1a1c699f60>"
      ]
     },
     "execution_count": 113,
     "metadata": {},
     "output_type": "execute_result"
    },
    {
     "data": {
      "image/png": "[encoded data removed]",
      "text/plain": [
       "<Figure size 576x576 with 1 Axes>"
      ]
     },
     "metadata": {
      "needs_background": "light"
     },
     "output_type": "display_data"
    }
   ],
   "source": [
    "data['rooms'].hist(bins = 20, figsize = (8,8), grid = True) "
   ]
  },
  {
   "cell_type": "code",
   "execution_count": 114,
   "metadata": {},
   "outputs": [
    {
     "data": {
      "text/plain": [
       "<matplotlib.axes._subplots.AxesSubplot at 0x1a1c7a2c50>"
      ]
     },
     "execution_count": 114,
     "metadata": {},
     "output_type": "execute_result"
    },
    {
     "data": {
      "image/png": "[encoded data removed]",
      "text/plain": [
       "<Figure size 576x576 with 1 Axes>"
      ]
     },
     "metadata": {
      "needs_background": "light"
     },
     "output_type": "display_data"
    }
   ],
   "source": [
    "data['rooms'].hist(bins = 20, figsize = (8,8), grid = True, range = (0,6), color = 'teal') "
   ]
  },
  {
   "cell_type": "markdown",
   "metadata": {},
   "source": [
    "The graph clearly shows that the main mass of apartments is 1,2 and 3 rooms, which corresponds to reality and our data"
   ]
  },
  {
   "cell_type": "code",
   "execution_count": 115,
   "metadata": {},
   "outputs": [
    {
     "data": {
      "text/plain": [
       "<matplotlib.axes._subplots.AxesSubplot at 0x1a1cb234e0>"
      ]
     },
     "execution_count": 115,
     "metadata": {},
     "output_type": "execute_result"
    },
    {
     "data": {
      "image/png": "[encoded data removed]",
      "text/plain": [
       "<Figure size 576x576 with 1 Axes>"
      ]
     },
     "metadata": {
      "needs_background": "light"
     },
     "output_type": "display_data"
    }
   ],
   "source": [
    "data['ceiling_height'].hist(bins = 20, figsize = (8,8), grid = True) "
   ]
  },
  {
   "cell_type": "code",
   "execution_count": 116,
   "metadata": {},
   "outputs": [
    {
     "data": {
      "text/plain": [
       "<matplotlib.axes._subplots.AxesSubplot at 0x1a1cc9bb70>"
      ]
     },
     "execution_count": 116,
     "metadata": {},
     "output_type": "execute_result"
    },
    {
     "data": {
      "image/png": "[encoded data removed]",
      "text/plain": [
       "<Figure size 576x576 with 1 Axes>"
      ]
     },
     "metadata": {
      "needs_background": "light"
     },
     "output_type": "display_data"
    }
   ],
   "source": [
    "data['ceiling_height'].hist(bins = 20, figsize = (8,8), grid = True, range = (2.4,3.6), color = 'violet') "
   ]
  },
  {
   "cell_type": "markdown",
   "metadata": {},
   "source": [
    "This distribution shows that the main ceiling height is approximately 2.7 meters, which is the same as our data (2.65)"
   ]
  },
  {
   "cell_type": "code",
   "execution_count": 117,
   "metadata": {},
   "outputs": [
    {
     "data": {
      "text/plain": [
       "<matplotlib.axes._subplots.AxesSubplot at 0x1a1ce1cb70>"
      ]
     },
     "execution_count": 117,
     "metadata": {},
     "output_type": "execute_result"
    },
    {
     "data": {
      "image/png": "[encoded data removed]",
      "text/plain": [
       "<Figure size 576x576 with 1 Axes>"
      ]
     },
     "metadata": {
      "needs_background": "light"
     },
     "output_type": "display_data"
    }
   ],
   "source": [
    "data['floor'].hist(bins = 25, figsize = (8,8), grid = True) "
   ]
  },
  {
   "cell_type": "code",
   "execution_count": 118,
   "metadata": {},
   "outputs": [
    {
     "data": {
      "text/plain": [
       "<matplotlib.axes._subplots.AxesSubplot at 0x1a1ce23ef0>"
      ]
     },
     "execution_count": 118,
     "metadata": {},
     "output_type": "execute_result"
    },
    {
     "data": {
      "image/png": "[encoded data removed]",
      "text/plain": [
       "<Figure size 576x576 with 1 Axes>"
      ]
     },
     "metadata": {
      "needs_background": "light"
     },
     "output_type": "display_data"
    }
   ],
   "source": [
    "data['floor'].hist(bins = 25, figsize = (8,8), grid = True, range = (1, 15), color = 'coral') "
   ]
  },
  {
   "cell_type": "markdown",
   "metadata": {},
   "source": [
    "The maximum concentration of apartments from 1 to 5 floors, which is probably due to the large number of khrushchevok in the country."
   ]
  },
  {
   "cell_type": "markdown",
   "metadata": {},
   "source": [
    "Let's look at another important point, such as the number of days that the ad is hanging"
   ]
  },
  {
   "cell_type": "code",
   "execution_count": 119,
   "metadata": {},
   "outputs": [
    {
     "data": {
      "text/plain": [
       "<matplotlib.axes._subplots.AxesSubplot at 0x1a1d12f240>"
      ]
     },
     "execution_count": 119,
     "metadata": {},
     "output_type": "execute_result"
    },
    {
     "data": {
      "image/png": "[encoded data removed]",
      "text/plain": [
       "<Figure size 576x576 with 1 Axes>"
      ]
     },
     "metadata": {
      "needs_background": "light"
     },
     "output_type": "display_data"
    }
   ],
   "source": [
    "data['days_exposition'].hist(bins = 25, figsize = (8,8), grid = True) "
   ]
  },
  {
   "cell_type": "code",
   "execution_count": 120,
   "metadata": {},
   "outputs": [
    {
     "data": {
      "text/plain": [
       "<matplotlib.axes._subplots.AxesSubplot at 0x1a1d2c1da0>"
      ]
     },
     "execution_count": 120,
     "metadata": {},
     "output_type": "execute_result"
    },
    {
     "data": {
      "image/png": "[encoded data removed]",
      "text/plain": [
       "<Figure size 576x576 with 1 Axes>"
      ]
     },
     "metadata": {
      "needs_background": "light"
     },
     "output_type": "display_data"
    }
   ],
   "source": [
    "data['days_exposition'].hist(bins = 25, figsize = (8,8), grid = True, range = (0,500), color = 'purple') "
   ]
  },
  {
   "cell_type": "markdown",
   "metadata": {},
   "source": [
    "This graph shows that most apartments are sold in the first 70 to 100 days after the ad is placed"
   ]
  },
  {
   "cell_type": "markdown",
   "metadata": {},
   "source": [
    "### Remove apartments with a very high price and other unusual parameters. Describe what features you found."
   ]
  },
  {
   "cell_type": "markdown",
   "metadata": {},
   "source": [
    "To detect and remove abnormal values we use the interquartile span method"
   ]
  },
  {
   "cell_type": "code",
   "execution_count": 121,
   "metadata": {},
   "outputs": [],
   "source": [
    "last_price_quant25 = data['last_price'].quantile(0.25)\n",
    "last_price_quant75 = data['last_price'].quantile(0.75)"
   ]
  },
  {
   "cell_type": "code",
   "execution_count": 122,
   "metadata": {},
   "outputs": [
    {
     "data": {
      "text/plain": [
       "3400000.0"
      ]
     },
     "execution_count": 122,
     "metadata": {},
     "output_type": "execute_result"
    }
   ],
   "source": [
    "last_price_quant25\n"
   ]
  },
  {
   "cell_type": "code",
   "execution_count": 123,
   "metadata": {},
   "outputs": [
    {
     "data": {
      "text/plain": [
       "6700000.0"
      ]
     },
     "execution_count": 123,
     "metadata": {},
     "output_type": "execute_result"
    }
   ],
   "source": [
    "last_price_quant75"
   ]
  },
  {
   "cell_type": "code",
   "execution_count": 124,
   "metadata": {},
   "outputs": [],
   "source": [
    "interquartile_range = last_price_quant75 - last_price_quant25\n",
    "\n",
    "# calculate the upper bound of the data\n",
    "upper_threshold = last_price_quant75 + 1.5*interquartile_range\n",
    "\n",
    "\n",
    "# removing apartments with abnormal prices\n",
    "good_place = data[data['last_price'] < upper_threshold]\n"
   ]
  },
  {
   "cell_type": "code",
   "execution_count": 125,
   "metadata": {},
   "outputs": [
    {
     "name": "stdout",
     "output_type": "stream",
     "text": [
      "Apartments with a good price: 21433\n"
     ]
    }
   ],
   "source": [
    "print(\"Apartments with a good price: {}\".format(good_place.shape[0]))"
   ]
  },
  {
   "cell_type": "code",
   "execution_count": 126,
   "metadata": {},
   "outputs": [
    {
     "data": {
      "text/plain": [
       "<matplotlib.axes._subplots.AxesSubplot at 0x1a1d42f048>"
      ]
     },
     "execution_count": 126,
     "metadata": {},
     "output_type": "execute_result"
    },
    {
     "data": {
      "image/png": "[encoded data removed]",
      "text/plain": [
       "<Figure size 432x288 with 1 Axes>"
      ]
     },
     "metadata": {
      "needs_background": "light"
     },
     "output_type": "display_data"
    }
   ],
   "source": [
    "data[data['last_price'] >= upper_threshold].hist('last_price', bins=25, range=(0, 5e7) )\n",
    "# compare with the distribution of apartments\n",
    "good_place['last_price'].hist(bins=50, alpha=0.5)\n"
   ]
  },
  {
   "cell_type": "markdown",
   "metadata": {},
   "source": [
    "Let's look at the total area of the apartment"
   ]
  },
  {
   "cell_type": "code",
   "execution_count": 127,
   "metadata": {},
   "outputs": [],
   "source": [
    "total_area25 = data['total_area'].quantile(0.25)\n",
    "total_area75 = data['total_area'].quantile(0.75)"
   ]
  },
  {
   "cell_type": "code",
   "execution_count": 128,
   "metadata": {},
   "outputs": [
    {
     "data": {
      "text/plain": [
       "40.0"
      ]
     },
     "execution_count": 128,
     "metadata": {},
     "output_type": "execute_result"
    }
   ],
   "source": [
    "total_area25\n"
   ]
  },
  {
   "cell_type": "code",
   "execution_count": 129,
   "metadata": {},
   "outputs": [
    {
     "data": {
      "text/plain": [
       "69.0"
      ]
     },
     "execution_count": 129,
     "metadata": {},
     "output_type": "execute_result"
    }
   ],
   "source": [
    "total_area75"
   ]
  },
  {
   "cell_type": "code",
   "execution_count": 130,
   "metadata": {},
   "outputs": [],
   "source": [
    "interquartile_range_area = total_area75 - total_area25\n",
    "\n",
    "# calculate the upper bound of the data\n",
    "upper_threshold = total_area75 + 1.5*interquartile_range_area\n",
    "\n",
    "\n",
    "# removing apartments with abnormal area\n",
    "good_place = data[data['total_area'] < upper_threshold]\n"
   ]
  },
  {
   "cell_type": "code",
   "execution_count": 131,
   "metadata": {},
   "outputs": [
    {
     "name": "stdout",
     "output_type": "stream",
     "text": [
      "Apartments with a total_area: 22222\n"
     ]
    }
   ],
   "source": [
    "print (\"Apartments with a total_area: {}\".format(good_place.shape[0]))"
   ]
  },
  {
   "cell_type": "code",
   "execution_count": 132,
   "metadata": {},
   "outputs": [
    {
     "data": {
      "text/plain": [
       "<matplotlib.axes._subplots.AxesSubplot at 0x1a1d44a358>"
      ]
     },
     "execution_count": 132,
     "metadata": {},
     "output_type": "execute_result"
    },
    {
     "data": {
      "image/png": "[encoded data removed]",
      "text/plain": [
       "<Figure size 432x288 with 1 Axes>"
      ]
     },
     "metadata": {
      "needs_background": "light"
     },
     "output_type": "display_data"
    }
   ],
   "source": [
    "data[data['total_area'] >= upper_threshold].hist('total_area', bins=50, range=(0, 200), )\n",
    "\n",
    "# compare with the distribution of apartments\n",
    "good_place['total_area'].hist(bins=50, alpha=0.5)\n"
   ]
  },
  {
   "cell_type": "markdown",
   "metadata": {},
   "source": [
    "look at the kitchen area"
   ]
  },
  {
   "cell_type": "code",
   "execution_count": 133,
   "metadata": {},
   "outputs": [],
   "source": [
    "kitchen_area25 = data['kitchen_area'].quantile(0.25)\n",
    "kitchen_area75 = data['kitchen_area'].quantile(0.75)"
   ]
  },
  {
   "cell_type": "code",
   "execution_count": 134,
   "metadata": {},
   "outputs": [
    {
     "data": {
      "text/plain": [
       "7.3"
      ]
     },
     "execution_count": 134,
     "metadata": {},
     "output_type": "execute_result"
    }
   ],
   "source": [
    "kitchen_area25\n"
   ]
  },
  {
   "cell_type": "code",
   "execution_count": 135,
   "metadata": {},
   "outputs": [
    {
     "data": {
      "text/plain": [
       "11.4"
      ]
     },
     "execution_count": 135,
     "metadata": {},
     "output_type": "execute_result"
    }
   ],
   "source": [
    "kitchen_area75"
   ]
  },
  {
   "cell_type": "code",
   "execution_count": 136,
   "metadata": {},
   "outputs": [],
   "source": [
    "interquartile_range_kitchen = kitchen_area75 - kitchen_area25\n",
    "\n",
    "\n",
    "upper_threshold = kitchen_area75 + 1.5*interquartile_range_kitchen\n",
    "\n",
    "\n",
    "\n",
    "good_place = data[data['kitchen_area'] < upper_threshold]\n"
   ]
  },
  {
   "cell_type": "code",
   "execution_count": 137,
   "metadata": {},
   "outputs": [
    {
     "name": "stdout",
     "output_type": "stream",
     "text": [
      " Apartments with good kitchen_area: 21938\n"
     ]
    }
   ],
   "source": [
    "print(\" Apartments with good kitchen_area: {}\".format(good_place.shape[0]))"
   ]
  },
  {
   "cell_type": "code",
   "execution_count": 138,
   "metadata": {},
   "outputs": [
    {
     "data": {
      "text/plain": [
       "<matplotlib.axes._subplots.AxesSubplot at 0x1a1d925d68>"
      ]
     },
     "execution_count": 138,
     "metadata": {},
     "output_type": "execute_result"
    },
    {
     "data": {
      "image/png": "[encoded data removed]",
      "text/plain": [
       "<Figure size 432x288 with 1 Axes>"
      ]
     },
     "metadata": {
      "needs_background": "light"
     },
     "output_type": "display_data"
    }
   ],
   "source": [
    "data[data['kitchen_area'] >= upper_threshold].hist('kitchen_area', bins=25, range=(2, 30), color = 'navy')\n",
    "\n",
    "good_place['kitchen_area'].hist(bins=50, alpha = 0.5, range=(2, 30), color = 'red')\n",
    "\n"
   ]
  },
  {
   "cell_type": "markdown",
   "metadata": {},
   "source": [
    "Look at the rooms and floor"
   ]
  },
  {
   "cell_type": "code",
   "execution_count": 139,
   "metadata": {},
   "outputs": [
    {
     "data": {
      "text/plain": [
       "count    23441.000000\n",
       "mean         2.070347\n",
       "std          1.049967\n",
       "min          1.000000\n",
       "5%           1.000000\n",
       "25%          1.000000\n",
       "50%          2.000000\n",
       "75%          3.000000\n",
       "95%          4.000000\n",
       "max         19.000000\n",
       "Name: rooms, dtype: float64"
      ]
     },
     "execution_count": 139,
     "metadata": {},
     "output_type": "execute_result"
    }
   ],
   "source": [
    "data['rooms'].describe(percentiles = [.05, .25, .50, .75, .95])"
   ]
  },
  {
   "cell_type": "code",
   "execution_count": 140,
   "metadata": {},
   "outputs": [
    {
     "data": {
      "text/plain": [
       "count    23441.000000\n",
       "mean         5.901241\n",
       "std          4.887839\n",
       "min          1.000000\n",
       "5%           1.000000\n",
       "25%          2.000000\n",
       "50%          4.000000\n",
       "75%          8.000000\n",
       "95%         16.000000\n",
       "max         33.000000\n",
       "Name: floor, dtype: float64"
      ]
     },
     "execution_count": 140,
     "metadata": {},
     "output_type": "execute_result"
    }
   ],
   "source": [
    "data['floor'].describe(percentiles = [.05, .25, .50, .75, .95])"
   ]
  },
  {
   "cell_type": "markdown",
   "metadata": {},
   "source": [
    "I processed and deleted the anomalous ceiling height data at the pre-processing stage, but for rooms and floors I think that there is no need to delete the anomalies, because there are very few of them (we can see this from 95% of the quartile and the maximum values are not very far from reality.)"
   ]
  },
  {
   "cell_type": "markdown",
   "metadata": {},
   "source": [
    "### Subtotal 1 <a class= \"anchor\" id= \"23\"></a>\n",
    "We formed an image of a typical apartment, then analyzed and looked at all the key characteristics on the charts. We detected abnormal emissions and got rid of them. We saw that the data for rooms and floor has a discrete distribution (the number of rooms and floor can't be 1.25 for example).These prices, total area, ceiling height and kitchen area have a Poisson distribution. And the number of days of ad placement has a clear spike in the first 100 days and a long heavy tail on the right, which suggests that some apartments are sold very much in debt."
   ]
  },
  {
   "cell_type": "markdown",
   "metadata": {},
   "source": [
    "## What factors most affect the cost of an apartment? Study separately whether the price per square meter depends on the number of rooms, floor (first or last), distance from the center, and the date of placement: day of the week, month, and year. <a class=\"anchor\" id=\"24\"></a>"
   ]
  },
  {
   "cell_type": "markdown",
   "metadata": {},
   "source": [
    "Let's see how the price depends on the floor. To do this, group the median value per square meter and the floor category"
   ]
  },
  {
   "cell_type": "code",
   "execution_count": 141,
   "metadata": {},
   "outputs": [
    {
     "data": {
      "text/plain": [
       "<matplotlib.axes._subplots.AxesSubplot at 0x1a1d5549e8>"
      ]
     },
     "execution_count": 141,
     "metadata": {},
     "output_type": "execute_result"
    },
    {
     "data": {
      "image/png": "[encoded data removed]",
      "text/plain": [
       "<Figure size 576x576 with 1 Axes>"
      ]
     },
     "metadata": {
      "needs_background": "light"
     },
     "output_type": "display_data"
    }
   ],
   "source": [
    "good_place.query('floor_category != \"another\"')\\\n",
    "    .groupby('floor_category')['m2']\\\n",
    "    .agg(['median', 'count']).plot(kind='bar', figsize=(8, 8),\n",
    "                          color=['green', 'red'], alpha=0.5, width=0.3, grid=True)"
   ]
  },
  {
   "cell_type": "markdown",
   "metadata": {},
   "source": [
    "There is almost no difference in the price per square meter depending on the floor. Apartments on the first floor are just a little cheaper than the last floor."
   ]
  },
  {
   "cell_type": "markdown",
   "metadata": {},
   "source": [
    "Let's look at the dependence on the number of rooms."
   ]
  },
  {
   "cell_type": "code",
   "execution_count": 142,
   "metadata": {},
   "outputs": [
    {
     "data": {
      "text/plain": [
       "<matplotlib.axes._subplots.AxesSubplot at 0x1a1d680518>"
      ]
     },
     "execution_count": 142,
     "metadata": {},
     "output_type": "execute_result"
    },
    {
     "data": {
      "image/png": "[encoded data removed]",
      "text/plain": [
       "<Figure size 648x648 with 1 Axes>"
      ]
     },
     "metadata": {
      "needs_background": "light"
     },
     "output_type": "display_data"
    }
   ],
   "source": [
    "good_place.groupby('rooms')['m2']\\\n",
    "    .agg(['median', 'count']).plot(kind='barh', figsize=(9, 9),\n",
    "                          color=['green', 'red'], alpha=0.5, width=1, grid=True)"
   ]
  },
  {
   "cell_type": "markdown",
   "metadata": {},
   "source": [
    " The graph shows that the more rooms there are, the lower the average price. This is especially evident in the most popular 1,23 room apartments"
   ]
  },
  {
   "cell_type": "markdown",
   "metadata": {},
   "source": [
    "Now let's check the relationship between the price per square meter and the publication date"
   ]
  },
  {
   "cell_type": "code",
   "execution_count": 143,
   "metadata": {},
   "outputs": [
    {
     "data": {
      "text/plain": [
       "<matplotlib.axes._subplots.AxesSubplot at 0x1a1db7e1d0>"
      ]
     },
     "execution_count": 143,
     "metadata": {},
     "output_type": "execute_result"
    },
    {
     "data": {
      "image/png": "[encoded data removed]",
      "text/plain": [
       "<Figure size 576x576 with 1 Axes>"
      ]
     },
     "metadata": {
      "needs_background": "light"
     },
     "output_type": "display_data"
    }
   ],
   "source": [
    "good_place\\\n",
    "    .groupby('week_day_exposition')['m2']\\\n",
    "    .agg(['median', 'count']).sort_values(by='median', ascending=True)\\\n",
    "        .plot(kind='barh', figsize=(8, 8),\n",
    "                          color=['green', 'red'], alpha=0.5, width= 0.7, grid=True)"
   ]
  },
  {
   "cell_type": "code",
   "execution_count": 144,
   "metadata": {},
   "outputs": [
    {
     "data": {
      "text/plain": [
       "<matplotlib.axes._subplots.AxesSubplot at 0x1a1dbd7b38>"
      ]
     },
     "execution_count": 144,
     "metadata": {},
     "output_type": "execute_result"
    },
    {
     "data": {
      "image/png": "[encoded data removed]",
      "text/plain": [
       "<Figure size 576x576 with 1 Axes>"
      ]
     },
     "metadata": {
      "needs_background": "light"
     },
     "output_type": "display_data"
    }
   ],
   "source": [
    "good_place\\\n",
    "    .groupby('month_exposition')['m2']\\\n",
    "    .agg(['median', 'count']).sort_values(by='median', ascending=True)\\\n",
    "        .plot(kind='barh', figsize=(8, 8),\n",
    "                          color=['green', 'red'], alpha=0.5, width= 1, grid=True)"
   ]
  },
  {
   "cell_type": "code",
   "execution_count": 145,
   "metadata": {},
   "outputs": [
    {
     "data": {
      "text/plain": [
       "<matplotlib.axes._subplots.AxesSubplot at 0x1a1e13b978>"
      ]
     },
     "execution_count": 145,
     "metadata": {},
     "output_type": "execute_result"
    },
    {
     "data": {
      "image/png": "[encoded data removed]",
      "text/plain": [
       "<Figure size 576x576 with 1 Axes>"
      ]
     },
     "metadata": {
      "needs_background": "light"
     },
     "output_type": "display_data"
    }
   ],
   "source": [
    "good_place\\\n",
    "    .groupby('year_exposition')['m2']\\\n",
    "    .agg(['median', 'count']).sort_values(by='median', ascending=True)\\\n",
    "        .plot(kind='barh', figsize=(8, 8),\n",
    "                          color=['green', 'red'], alpha=0.5, width= 0.7, grid=True)"
   ]
  },
  {
   "cell_type": "markdown",
   "metadata": {},
   "source": [
    "The chart shows that the day of the week and month of publication and the cost of a square meter of housing are not related, which is not surprising. But the annual cross-section shows that apartments used to be cheaper than they are now)"
   ]
  },
  {
   "cell_type": "markdown",
   "metadata": {},
   "source": [
    "Let's look at the ratio of price square meter and location"
   ]
  },
  {
   "cell_type": "code",
   "execution_count": 146,
   "metadata": {},
   "outputs": [
    {
     "data": {
      "text/plain": [
       "<matplotlib.axes._subplots.AxesSubplot at 0x1a1e2aa080>"
      ]
     },
     "execution_count": 146,
     "metadata": {},
     "output_type": "execute_result"
    },
    {
     "data": {
      "image/png": "[encoded data removed]",
      "text/plain": [
       "<Figure size 576x576 with 1 Axes>"
      ]
     },
     "metadata": {
      "needs_background": "light"
     },
     "output_type": "display_data"
    }
   ],
   "source": [
    "good_place\\\n",
    "    .groupby('locality_name_type')['m2']\\\n",
    "    .agg(['median', 'count']).sort_values(by='median', ascending=True)\\\n",
    "        .plot(kind='barh', figsize=(8, 8),\n",
    "                          color=['green', 'red'], alpha=0.5, width= 0.7, grid=True)"
   ]
  },
  {
   "cell_type": "markdown",
   "metadata": {},
   "source": [
    "We see that the cost of apartments in St. Petersburg is much higher than in other cities and villages, which is not surprising))"
   ]
  },
  {
   "cell_type": "markdown",
   "metadata": {},
   "source": [
    "We need to look at the distance from the city center and the cost per square meter"
   ]
  },
  {
   "cell_type": "code",
   "execution_count": 147,
   "metadata": {},
   "outputs": [
    {
     "data": {
      "text/plain": [
       "array([[<matplotlib.axes._subplots.AxesSubplot object at 0x1a1e3b77b8>]],\n",
       "      dtype=object)"
      ]
     },
     "execution_count": 147,
     "metadata": {},
     "output_type": "execute_result"
    },
    {
     "data": {
      "image/png": "[encoded data removed]",
      "text/plain": [
       "<Figure size 576x576 with 1 Axes>"
      ]
     },
     "metadata": {
      "needs_background": "light"
     },
     "output_type": "display_data"
    }
   ],
   "source": [
    "\n",
    "good_place.hist('cityCenters_nearest', figsize=(8, 8), bins=50, range = (0,25000))"
   ]
  },
  {
   "cell_type": "code",
   "execution_count": 148,
   "metadata": {},
   "outputs": [
    {
     "data": {
      "text/html": [
       "<div>\n",
       "<style scoped>\n",
       "    .dataframe tbody tr th:only-of-type {\n",
       "        vertical-align: middle;\n",
       "    }\n",
       "\n",
       "    .dataframe tbody tr th {\n",
       "        vertical-align: top;\n",
       "    }\n",
       "\n",
       "    .dataframe thead tr th {\n",
       "        text-align: left;\n",
       "    }\n",
       "\n",
       "    .dataframe thead tr:last-of-type th {\n",
       "        text-align: right;\n",
       "    }\n",
       "</style>\n",
       "<table border=\"1\" class=\"dataframe\">\n",
       "  <thead>\n",
       "    <tr>\n",
       "      <th></th>\n",
       "      <th colspan=\"2\" halign=\"left\">last_price</th>\n",
       "      <th colspan=\"2\" halign=\"left\">rooms</th>\n",
       "      <th colspan=\"2\" halign=\"left\">total_area</th>\n",
       "      <th colspan=\"2\" halign=\"left\">kitchen_area</th>\n",
       "    </tr>\n",
       "    <tr>\n",
       "      <th></th>\n",
       "      <th>median</th>\n",
       "      <th>count</th>\n",
       "      <th>median</th>\n",
       "      <th>count</th>\n",
       "      <th>median</th>\n",
       "      <th>count</th>\n",
       "      <th>median</th>\n",
       "      <th>count</th>\n",
       "    </tr>\n",
       "    <tr>\n",
       "      <th>cityCenters_nearest</th>\n",
       "      <th></th>\n",
       "      <th></th>\n",
       "      <th></th>\n",
       "      <th></th>\n",
       "      <th></th>\n",
       "      <th></th>\n",
       "      <th></th>\n",
       "      <th></th>\n",
       "    </tr>\n",
       "  </thead>\n",
       "  <tbody>\n",
       "    <tr>\n",
       "      <th>181.0</th>\n",
       "      <td>31099000.0</td>\n",
       "      <td>1</td>\n",
       "      <td>5.0</td>\n",
       "      <td>1</td>\n",
       "      <td>159.0</td>\n",
       "      <td>1</td>\n",
       "      <td>15.0</td>\n",
       "      <td>1</td>\n",
       "    </tr>\n",
       "    <tr>\n",
       "      <th>208.0</th>\n",
       "      <td>5800000.0</td>\n",
       "      <td>1</td>\n",
       "      <td>1.0</td>\n",
       "      <td>1</td>\n",
       "      <td>33.0</td>\n",
       "      <td>1</td>\n",
       "      <td>6.6</td>\n",
       "      <td>1</td>\n",
       "    </tr>\n",
       "    <tr>\n",
       "      <th>287.0</th>\n",
       "      <td>9590000.0</td>\n",
       "      <td>1</td>\n",
       "      <td>2.0</td>\n",
       "      <td>1</td>\n",
       "      <td>108.0</td>\n",
       "      <td>1</td>\n",
       "      <td>11.0</td>\n",
       "      <td>1</td>\n",
       "    </tr>\n",
       "    <tr>\n",
       "      <th>318.0</th>\n",
       "      <td>33000000.0</td>\n",
       "      <td>1</td>\n",
       "      <td>2.0</td>\n",
       "      <td>1</td>\n",
       "      <td>75.0</td>\n",
       "      <td>1</td>\n",
       "      <td>12.0</td>\n",
       "      <td>1</td>\n",
       "    </tr>\n",
       "    <tr>\n",
       "      <th>329.0</th>\n",
       "      <td>7200000.0</td>\n",
       "      <td>1</td>\n",
       "      <td>2.0</td>\n",
       "      <td>1</td>\n",
       "      <td>72.0</td>\n",
       "      <td>1</td>\n",
       "      <td>12.3</td>\n",
       "      <td>1</td>\n",
       "    </tr>\n",
       "    <tr>\n",
       "      <th>387.0</th>\n",
       "      <td>13500000.0</td>\n",
       "      <td>1</td>\n",
       "      <td>3.0</td>\n",
       "      <td>1</td>\n",
       "      <td>96.0</td>\n",
       "      <td>1</td>\n",
       "      <td>14.8</td>\n",
       "      <td>1</td>\n",
       "    </tr>\n",
       "    <tr>\n",
       "      <th>399.0</th>\n",
       "      <td>17100000.0</td>\n",
       "      <td>2</td>\n",
       "      <td>4.0</td>\n",
       "      <td>2</td>\n",
       "      <td>126.5</td>\n",
       "      <td>2</td>\n",
       "      <td>11.5</td>\n",
       "      <td>2</td>\n",
       "    </tr>\n",
       "    <tr>\n",
       "      <th>410.0</th>\n",
       "      <td>8000000.0</td>\n",
       "      <td>1</td>\n",
       "      <td>3.0</td>\n",
       "      <td>1</td>\n",
       "      <td>106.0</td>\n",
       "      <td>1</td>\n",
       "      <td>9.5</td>\n",
       "      <td>1</td>\n",
       "    </tr>\n",
       "    <tr>\n",
       "      <th>467.0</th>\n",
       "      <td>9600000.0</td>\n",
       "      <td>2</td>\n",
       "      <td>4.0</td>\n",
       "      <td>2</td>\n",
       "      <td>117.0</td>\n",
       "      <td>2</td>\n",
       "      <td>9.5</td>\n",
       "      <td>2</td>\n",
       "    </tr>\n",
       "    <tr>\n",
       "      <th>472.0</th>\n",
       "      <td>6900000.0</td>\n",
       "      <td>1</td>\n",
       "      <td>2.0</td>\n",
       "      <td>1</td>\n",
       "      <td>47.0</td>\n",
       "      <td>1</td>\n",
       "      <td>8.2</td>\n",
       "      <td>1</td>\n",
       "    </tr>\n",
       "    <tr>\n",
       "      <th>515.0</th>\n",
       "      <td>9500000.0</td>\n",
       "      <td>1</td>\n",
       "      <td>2.0</td>\n",
       "      <td>1</td>\n",
       "      <td>81.0</td>\n",
       "      <td>1</td>\n",
       "      <td>16.0</td>\n",
       "      <td>1</td>\n",
       "    </tr>\n",
       "    <tr>\n",
       "      <th>537.0</th>\n",
       "      <td>26000000.0</td>\n",
       "      <td>1</td>\n",
       "      <td>4.0</td>\n",
       "      <td>1</td>\n",
       "      <td>122.0</td>\n",
       "      <td>1</td>\n",
       "      <td>14.0</td>\n",
       "      <td>1</td>\n",
       "    </tr>\n",
       "    <tr>\n",
       "      <th>552.0</th>\n",
       "      <td>9555000.0</td>\n",
       "      <td>1</td>\n",
       "      <td>3.0</td>\n",
       "      <td>1</td>\n",
       "      <td>65.0</td>\n",
       "      <td>1</td>\n",
       "      <td>6.0</td>\n",
       "      <td>1</td>\n",
       "    </tr>\n",
       "    <tr>\n",
       "      <th>583.0</th>\n",
       "      <td>11500000.0</td>\n",
       "      <td>1</td>\n",
       "      <td>1.0</td>\n",
       "      <td>1</td>\n",
       "      <td>48.0</td>\n",
       "      <td>1</td>\n",
       "      <td>9.0</td>\n",
       "      <td>1</td>\n",
       "    </tr>\n",
       "    <tr>\n",
       "      <th>602.0</th>\n",
       "      <td>24000000.0</td>\n",
       "      <td>1</td>\n",
       "      <td>4.0</td>\n",
       "      <td>1</td>\n",
       "      <td>132.0</td>\n",
       "      <td>1</td>\n",
       "      <td>11.0</td>\n",
       "      <td>1</td>\n",
       "    </tr>\n",
       "    <tr>\n",
       "      <th>621.0</th>\n",
       "      <td>12000000.0</td>\n",
       "      <td>1</td>\n",
       "      <td>2.0</td>\n",
       "      <td>1</td>\n",
       "      <td>70.0</td>\n",
       "      <td>1</td>\n",
       "      <td>10.3</td>\n",
       "      <td>1</td>\n",
       "    </tr>\n",
       "    <tr>\n",
       "      <th>623.0</th>\n",
       "      <td>8400000.0</td>\n",
       "      <td>1</td>\n",
       "      <td>3.0</td>\n",
       "      <td>1</td>\n",
       "      <td>120.0</td>\n",
       "      <td>1</td>\n",
       "      <td>12.0</td>\n",
       "      <td>1</td>\n",
       "    </tr>\n",
       "    <tr>\n",
       "      <th>650.0</th>\n",
       "      <td>8500000.0</td>\n",
       "      <td>1</td>\n",
       "      <td>4.0</td>\n",
       "      <td>1</td>\n",
       "      <td>85.0</td>\n",
       "      <td>1</td>\n",
       "      <td>10.0</td>\n",
       "      <td>1</td>\n",
       "    </tr>\n",
       "    <tr>\n",
       "      <th>653.0</th>\n",
       "      <td>15000000.0</td>\n",
       "      <td>1</td>\n",
       "      <td>5.0</td>\n",
       "      <td>1</td>\n",
       "      <td>131.0</td>\n",
       "      <td>1</td>\n",
       "      <td>12.0</td>\n",
       "      <td>1</td>\n",
       "    </tr>\n",
       "    <tr>\n",
       "      <th>658.0</th>\n",
       "      <td>8500000.0</td>\n",
       "      <td>1</td>\n",
       "      <td>4.0</td>\n",
       "      <td>1</td>\n",
       "      <td>125.0</td>\n",
       "      <td>1</td>\n",
       "      <td>8.0</td>\n",
       "      <td>1</td>\n",
       "    </tr>\n",
       "  </tbody>\n",
       "</table>\n",
       "</div>"
      ],
      "text/plain": [
       "                     last_price        rooms       total_area        \\\n",
       "                         median count median count     median count   \n",
       "cityCenters_nearest                                                   \n",
       "181.0                31099000.0     1    5.0     1      159.0     1   \n",
       "208.0                 5800000.0     1    1.0     1       33.0     1   \n",
       "287.0                 9590000.0     1    2.0     1      108.0     1   \n",
       "318.0                33000000.0     1    2.0     1       75.0     1   \n",
       "329.0                 7200000.0     1    2.0     1       72.0     1   \n",
       "387.0                13500000.0     1    3.0     1       96.0     1   \n",
       "399.0                17100000.0     2    4.0     2      126.5     2   \n",
       "410.0                 8000000.0     1    3.0     1      106.0     1   \n",
       "467.0                 9600000.0     2    4.0     2      117.0     2   \n",
       "472.0                 6900000.0     1    2.0     1       47.0     1   \n",
       "515.0                 9500000.0     1    2.0     1       81.0     1   \n",
       "537.0                26000000.0     1    4.0     1      122.0     1   \n",
       "552.0                 9555000.0     1    3.0     1       65.0     1   \n",
       "583.0                11500000.0     1    1.0     1       48.0     1   \n",
       "602.0                24000000.0     1    4.0     1      132.0     1   \n",
       "621.0                12000000.0     1    2.0     1       70.0     1   \n",
       "623.0                 8400000.0     1    3.0     1      120.0     1   \n",
       "650.0                 8500000.0     1    4.0     1       85.0     1   \n",
       "653.0                15000000.0     1    5.0     1      131.0     1   \n",
       "658.0                 8500000.0     1    4.0     1      125.0     1   \n",
       "\n",
       "                    kitchen_area        \n",
       "                          median count  \n",
       "cityCenters_nearest                     \n",
       "181.0                       15.0     1  \n",
       "208.0                        6.6     1  \n",
       "287.0                       11.0     1  \n",
       "318.0                       12.0     1  \n",
       "329.0                       12.3     1  \n",
       "387.0                       14.8     1  \n",
       "399.0                       11.5     2  \n",
       "410.0                        9.5     1  \n",
       "467.0                        9.5     2  \n",
       "472.0                        8.2     1  \n",
       "515.0                       16.0     1  \n",
       "537.0                       14.0     1  \n",
       "552.0                        6.0     1  \n",
       "583.0                        9.0     1  \n",
       "602.0                       11.0     1  \n",
       "621.0                       10.3     1  \n",
       "623.0                       12.0     1  \n",
       "650.0                       10.0     1  \n",
       "653.0                       12.0     1  \n",
       "658.0                        8.0     1  "
      ]
     },
     "execution_count": 148,
     "metadata": {},
     "output_type": "execute_result"
    }
   ],
   "source": [
    "good_place.groupby(['cityCenters_nearest'])\\\n",
    "    [['last_price', 'rooms', 'total_area', 'kitchen_area']].agg(['median', 'count']).head(20)"
   ]
  },
  {
   "cell_type": "code",
   "execution_count": 149,
   "metadata": {},
   "outputs": [
    {
     "data": {
      "text/plain": [
       "1554"
      ]
     },
     "execution_count": 149,
     "metadata": {},
     "output_type": "execute_result"
    }
   ],
   "source": [
    "\n",
    "good_place.query('cityCenters_nearest < 5000')['cityCenters_nearest'].count()\n",
    "\n"
   ]
  },
  {
   "cell_type": "code",
   "execution_count": 150,
   "metadata": {},
   "outputs": [
    {
     "data": {
      "text/plain": [
       "2581"
      ]
     },
     "execution_count": 150,
     "metadata": {},
     "output_type": "execute_result"
    }
   ],
   "source": [
    "good_place.query('cityCenters_nearest >= 5000 and cityCenters_nearest < 10000')['cityCenters_nearest'].count()\n"
   ]
  },
  {
   "cell_type": "code",
   "execution_count": 151,
   "metadata": {},
   "outputs": [
    {
     "data": {
      "text/plain": [
       "6422"
      ]
     },
     "execution_count": 151,
     "metadata": {},
     "output_type": "execute_result"
    }
   ],
   "source": [
    "good_place.query('cityCenters_nearest >= 10000 and cityCenters_nearest < 15000')['cityCenters_nearest'].count()\n"
   ]
  },
  {
   "cell_type": "code",
   "execution_count": 152,
   "metadata": {},
   "outputs": [
    {
     "data": {
      "text/plain": [
       "3544"
      ]
     },
     "execution_count": 152,
     "metadata": {},
     "output_type": "execute_result"
    }
   ],
   "source": [
    "good_place.query('cityCenters_nearest >= 15000 and cityCenters_nearest < 20000')['cityCenters_nearest'].count()\n"
   ]
  },
  {
   "cell_type": "code",
   "execution_count": 153,
   "metadata": {},
   "outputs": [
    {
     "data": {
      "text/plain": [
       "2508"
      ]
     },
     "execution_count": 153,
     "metadata": {},
     "output_type": "execute_result"
    }
   ],
   "source": [
    "good_place.query('cityCenters_nearest >= 20000')['cityCenters_nearest'].count()"
   ]
  },
  {
   "cell_type": "markdown",
   "metadata": {},
   "source": [
    "We see that the majority of apartments is at a distance of 10 to 15 km from the centre half is at a distance of 15 to 20 km, about half of apartments in a distance of 5-10km and more than 20, and quite a few are located close to the centre. This is probably due to the smaller number of apartments in the center, compared to the suburbs (due to public places, parks, etc)"
   ]
  },
  {
   "cell_type": "code",
   "execution_count": 154,
   "metadata": {},
   "outputs": [],
   "source": [
    "\n",
    "def city_center_cat(d):\n",
    "    if d < 5000:\n",
    "        return '5 km'\n",
    "    elif d < 10000 and d >= 5000:\n",
    "        return '5 - 10 km'\n",
    "    elif d < 15000 and d >= 10000:\n",
    "        return '10 - 15 km'\n",
    "    elif d < 20000 and d >= 15000:\n",
    "        return '15 - 20 km'\n",
    "    else:\n",
    "        return 'more than 20 km'\n",
    "\n"
   ]
  },
  {
   "cell_type": "code",
   "execution_count": 155,
   "metadata": {},
   "outputs": [
    {
     "name": "stderr",
     "output_type": "stream",
     "text": [
      "/Users/mariashemyakina/anaconda3/lib/python3.7/site-packages/ipykernel_launcher.py:1: SettingWithCopyWarning: \n",
      "A value is trying to be set on a copy of a slice from a DataFrame.\n",
      "Try using .loc[row_indexer,col_indexer] = value instead\n",
      "\n",
      "See the caveats in the documentation: http://pandas.pydata.org/pandas-docs/stable/user_guide/indexing.html#returning-a-view-versus-a-copy\n",
      "  \"\"\"Entry point for launching an IPython kernel.\n"
     ]
    }
   ],
   "source": [
    "\n",
    "good_place['cityCenters_nearest_cat'] = good_place['cityCenters_nearest'].apply(city_center_cat)\n"
   ]
  },
  {
   "cell_type": "code",
   "execution_count": 156,
   "metadata": {},
   "outputs": [
    {
     "data": {
      "text/plain": [
       "more than 20 km    7837\n",
       "10 - 15 km         6422\n",
       "15 - 20 km         3544\n",
       "5 - 10 km          2581\n",
       "5 km               1554\n",
       "Name: cityCenters_nearest_cat, dtype: int64"
      ]
     },
     "execution_count": 156,
     "metadata": {},
     "output_type": "execute_result"
    }
   ],
   "source": [
    "good_place['cityCenters_nearest_cat'].value_counts()\n",
    "\n"
   ]
  },
  {
   "cell_type": "code",
   "execution_count": 157,
   "metadata": {},
   "outputs": [
    {
     "data": {
      "text/html": [
       "<div>\n",
       "<style scoped>\n",
       "    .dataframe tbody tr th:only-of-type {\n",
       "        vertical-align: middle;\n",
       "    }\n",
       "\n",
       "    .dataframe tbody tr th {\n",
       "        vertical-align: top;\n",
       "    }\n",
       "\n",
       "    .dataframe thead th {\n",
       "        text-align: right;\n",
       "    }\n",
       "</style>\n",
       "<table border=\"1\" class=\"dataframe\">\n",
       "  <thead>\n",
       "    <tr style=\"text-align: right;\">\n",
       "      <th></th>\n",
       "      <th>total_images</th>\n",
       "      <th>last_price</th>\n",
       "      <th>total_area</th>\n",
       "      <th>first_day_exposition</th>\n",
       "      <th>rooms</th>\n",
       "      <th>ceiling_height</th>\n",
       "      <th>floors_total</th>\n",
       "      <th>living_area</th>\n",
       "      <th>floor</th>\n",
       "      <th>is_apartment</th>\n",
       "      <th>...</th>\n",
       "      <th>days_exposition</th>\n",
       "      <th>m2</th>\n",
       "      <th>week_day_exposition</th>\n",
       "      <th>month_exposition</th>\n",
       "      <th>year_exposition</th>\n",
       "      <th>type_plan</th>\n",
       "      <th>living_area_relation</th>\n",
       "      <th>floor_category</th>\n",
       "      <th>kitchen_total_area_relation</th>\n",
       "      <th>locality_name_type</th>\n",
       "    </tr>\n",
       "  </thead>\n",
       "  <tbody>\n",
       "    <tr>\n",
       "      <th>0</th>\n",
       "      <td>20</td>\n",
       "      <td>13000000</td>\n",
       "      <td>108</td>\n",
       "      <td>2019-03-07</td>\n",
       "      <td>3</td>\n",
       "      <td>2.70</td>\n",
       "      <td>16.0</td>\n",
       "      <td>51.0</td>\n",
       "      <td>8</td>\n",
       "      <td>NaN</td>\n",
       "      <td>...</td>\n",
       "      <td>NaN</td>\n",
       "      <td>120370</td>\n",
       "      <td>thur</td>\n",
       "      <td>march</td>\n",
       "      <td>2019</td>\n",
       "      <td>another</td>\n",
       "      <td>0.472222</td>\n",
       "      <td>another</td>\n",
       "      <td>0.231481</td>\n",
       "      <td>Saint Peterburg</td>\n",
       "    </tr>\n",
       "    <tr>\n",
       "      <th>1</th>\n",
       "      <td>7</td>\n",
       "      <td>3350000</td>\n",
       "      <td>40</td>\n",
       "      <td>2018-12-04</td>\n",
       "      <td>1</td>\n",
       "      <td>2.65</td>\n",
       "      <td>11.0</td>\n",
       "      <td>18.6</td>\n",
       "      <td>1</td>\n",
       "      <td>NaN</td>\n",
       "      <td>...</td>\n",
       "      <td>81.0</td>\n",
       "      <td>82920</td>\n",
       "      <td>tue</td>\n",
       "      <td>dec</td>\n",
       "      <td>2018</td>\n",
       "      <td>another</td>\n",
       "      <td>0.460396</td>\n",
       "      <td>first</td>\n",
       "      <td>0.272277</td>\n",
       "      <td>village</td>\n",
       "    </tr>\n",
       "    <tr>\n",
       "      <th>2</th>\n",
       "      <td>10</td>\n",
       "      <td>5196000</td>\n",
       "      <td>56</td>\n",
       "      <td>2015-08-20</td>\n",
       "      <td>2</td>\n",
       "      <td>2.65</td>\n",
       "      <td>5.0</td>\n",
       "      <td>34.3</td>\n",
       "      <td>4</td>\n",
       "      <td>NaN</td>\n",
       "      <td>...</td>\n",
       "      <td>558.0</td>\n",
       "      <td>92785</td>\n",
       "      <td>thur</td>\n",
       "      <td>aug</td>\n",
       "      <td>2015</td>\n",
       "      <td>another</td>\n",
       "      <td>0.612500</td>\n",
       "      <td>another</td>\n",
       "      <td>0.148214</td>\n",
       "      <td>Saint Peterburg</td>\n",
       "    </tr>\n",
       "    <tr>\n",
       "      <th>3</th>\n",
       "      <td>0</td>\n",
       "      <td>64900000</td>\n",
       "      <td>159</td>\n",
       "      <td>2015-07-24</td>\n",
       "      <td>3</td>\n",
       "      <td>2.65</td>\n",
       "      <td>14.0</td>\n",
       "      <td>30.0</td>\n",
       "      <td>9</td>\n",
       "      <td>NaN</td>\n",
       "      <td>...</td>\n",
       "      <td>424.0</td>\n",
       "      <td>408176</td>\n",
       "      <td>fri</td>\n",
       "      <td>july</td>\n",
       "      <td>2015</td>\n",
       "      <td>another</td>\n",
       "      <td>0.188679</td>\n",
       "      <td>another</td>\n",
       "      <td>0.059748</td>\n",
       "      <td>Saint Peterburg</td>\n",
       "    </tr>\n",
       "    <tr>\n",
       "      <th>4</th>\n",
       "      <td>2</td>\n",
       "      <td>10000000</td>\n",
       "      <td>100</td>\n",
       "      <td>2018-06-19</td>\n",
       "      <td>2</td>\n",
       "      <td>3.03</td>\n",
       "      <td>14.0</td>\n",
       "      <td>32.0</td>\n",
       "      <td>13</td>\n",
       "      <td>NaN</td>\n",
       "      <td>...</td>\n",
       "      <td>121.0</td>\n",
       "      <td>100000</td>\n",
       "      <td>tue</td>\n",
       "      <td>june</td>\n",
       "      <td>2018</td>\n",
       "      <td>another</td>\n",
       "      <td>0.320000</td>\n",
       "      <td>another</td>\n",
       "      <td>0.410000</td>\n",
       "      <td>Saint Peterburg</td>\n",
       "    </tr>\n",
       "  </tbody>\n",
       "</table>\n",
       "<p>5 rows × 31 columns</p>\n",
       "</div>"
      ],
      "text/plain": [
       "   total_images  last_price  total_area first_day_exposition  rooms  \\\n",
       "0            20    13000000         108           2019-03-07      3   \n",
       "1             7     3350000          40           2018-12-04      1   \n",
       "2            10     5196000          56           2015-08-20      2   \n",
       "3             0    64900000         159           2015-07-24      3   \n",
       "4             2    10000000         100           2018-06-19      2   \n",
       "\n",
       "   ceiling_height  floors_total  living_area  floor is_apartment  ...  \\\n",
       "0            2.70          16.0         51.0      8          NaN  ...   \n",
       "1            2.65          11.0         18.6      1          NaN  ...   \n",
       "2            2.65           5.0         34.3      4          NaN  ...   \n",
       "3            2.65          14.0         30.0      9          NaN  ...   \n",
       "4            3.03          14.0         32.0     13          NaN  ...   \n",
       "\n",
       "   days_exposition      m2  week_day_exposition  month_exposition  \\\n",
       "0              NaN  120370                 thur             march   \n",
       "1             81.0   82920                  tue               dec   \n",
       "2            558.0   92785                 thur               aug   \n",
       "3            424.0  408176                  fri              july   \n",
       "4            121.0  100000                  tue              june   \n",
       "\n",
       "  year_exposition  type_plan  living_area_relation  floor_category  \\\n",
       "0            2019    another              0.472222         another   \n",
       "1            2018    another              0.460396           first   \n",
       "2            2015    another              0.612500         another   \n",
       "3            2015    another              0.188679         another   \n",
       "4            2018    another              0.320000         another   \n",
       "\n",
       "   kitchen_total_area_relation  locality_name_type  \n",
       "0                     0.231481     Saint Peterburg  \n",
       "1                     0.272277             village  \n",
       "2                     0.148214     Saint Peterburg  \n",
       "3                     0.059748     Saint Peterburg  \n",
       "4                     0.410000     Saint Peterburg  \n",
       "\n",
       "[5 rows x 31 columns]"
      ]
     },
     "execution_count": 157,
     "metadata": {},
     "output_type": "execute_result"
    }
   ],
   "source": [
    "data.head()"
   ]
  },
  {
   "cell_type": "code",
   "execution_count": 158,
   "metadata": {},
   "outputs": [
    {
     "data": {
      "text/html": [
       "<div>\n",
       "<style scoped>\n",
       "    .dataframe tbody tr th:only-of-type {\n",
       "        vertical-align: middle;\n",
       "    }\n",
       "\n",
       "    .dataframe tbody tr th {\n",
       "        vertical-align: top;\n",
       "    }\n",
       "\n",
       "    .dataframe thead th {\n",
       "        text-align: right;\n",
       "    }\n",
       "</style>\n",
       "<table border=\"1\" class=\"dataframe\">\n",
       "  <thead>\n",
       "    <tr style=\"text-align: right;\">\n",
       "      <th></th>\n",
       "      <th>cityCenters_nearest_cat</th>\n",
       "      <th>level_1</th>\n",
       "      <th>last_price</th>\n",
       "    </tr>\n",
       "  </thead>\n",
       "  <tbody>\n",
       "    <tr>\n",
       "      <th>0</th>\n",
       "      <td>10 - 15 km</td>\n",
       "      <td>total_area</td>\n",
       "      <td>0.831392</td>\n",
       "    </tr>\n",
       "    <tr>\n",
       "      <th>1</th>\n",
       "      <td>10 - 15 km</td>\n",
       "      <td>rooms</td>\n",
       "      <td>0.503425</td>\n",
       "    </tr>\n",
       "    <tr>\n",
       "      <th>3</th>\n",
       "      <td>10 - 15 km</td>\n",
       "      <td>living_area</td>\n",
       "      <td>0.674068</td>\n",
       "    </tr>\n",
       "    <tr>\n",
       "      <th>4</th>\n",
       "      <td>10 - 15 km</td>\n",
       "      <td>last_price</td>\n",
       "      <td>1.000000</td>\n",
       "    </tr>\n",
       "    <tr>\n",
       "      <th>5</th>\n",
       "      <td>10 - 15 km</td>\n",
       "      <td>kitchen_area</td>\n",
       "      <td>0.561454</td>\n",
       "    </tr>\n",
       "    <tr>\n",
       "      <th>9</th>\n",
       "      <td>15 - 20 km</td>\n",
       "      <td>total_area</td>\n",
       "      <td>0.813502</td>\n",
       "    </tr>\n",
       "    <tr>\n",
       "      <th>10</th>\n",
       "      <td>15 - 20 km</td>\n",
       "      <td>rooms</td>\n",
       "      <td>0.554341</td>\n",
       "    </tr>\n",
       "    <tr>\n",
       "      <th>12</th>\n",
       "      <td>15 - 20 km</td>\n",
       "      <td>living_area</td>\n",
       "      <td>0.638965</td>\n",
       "    </tr>\n",
       "    <tr>\n",
       "      <th>13</th>\n",
       "      <td>15 - 20 km</td>\n",
       "      <td>last_price</td>\n",
       "      <td>1.000000</td>\n",
       "    </tr>\n",
       "    <tr>\n",
       "      <th>18</th>\n",
       "      <td>5 - 10 km</td>\n",
       "      <td>total_area</td>\n",
       "      <td>0.758866</td>\n",
       "    </tr>\n",
       "    <tr>\n",
       "      <th>22</th>\n",
       "      <td>5 - 10 km</td>\n",
       "      <td>last_price</td>\n",
       "      <td>1.000000</td>\n",
       "    </tr>\n",
       "    <tr>\n",
       "      <th>26</th>\n",
       "      <td>5 - 10 km</td>\n",
       "      <td>m2</td>\n",
       "      <td>0.735232</td>\n",
       "    </tr>\n",
       "    <tr>\n",
       "      <th>27</th>\n",
       "      <td>5 km</td>\n",
       "      <td>total_area</td>\n",
       "      <td>0.640633</td>\n",
       "    </tr>\n",
       "    <tr>\n",
       "      <th>31</th>\n",
       "      <td>5 km</td>\n",
       "      <td>last_price</td>\n",
       "      <td>1.000000</td>\n",
       "    </tr>\n",
       "    <tr>\n",
       "      <th>35</th>\n",
       "      <td>5 km</td>\n",
       "      <td>m2</td>\n",
       "      <td>0.637038</td>\n",
       "    </tr>\n",
       "    <tr>\n",
       "      <th>36</th>\n",
       "      <td>more than 20 km</td>\n",
       "      <td>total_area</td>\n",
       "      <td>0.655395</td>\n",
       "    </tr>\n",
       "    <tr>\n",
       "      <th>40</th>\n",
       "      <td>more than 20 km</td>\n",
       "      <td>last_price</td>\n",
       "      <td>1.000000</td>\n",
       "    </tr>\n",
       "    <tr>\n",
       "      <th>44</th>\n",
       "      <td>more than 20 km</td>\n",
       "      <td>m2</td>\n",
       "      <td>0.650753</td>\n",
       "    </tr>\n",
       "  </tbody>\n",
       "</table>\n",
       "</div>"
      ],
      "text/plain": [
       "   cityCenters_nearest_cat       level_1  last_price\n",
       "0               10 - 15 km    total_area    0.831392\n",
       "1               10 - 15 km         rooms    0.503425\n",
       "3               10 - 15 km   living_area    0.674068\n",
       "4               10 - 15 km    last_price    1.000000\n",
       "5               10 - 15 km  kitchen_area    0.561454\n",
       "9               15 - 20 km    total_area    0.813502\n",
       "10              15 - 20 km         rooms    0.554341\n",
       "12              15 - 20 km   living_area    0.638965\n",
       "13              15 - 20 km    last_price    1.000000\n",
       "18               5 - 10 km    total_area    0.758866\n",
       "22               5 - 10 km    last_price    1.000000\n",
       "26               5 - 10 km            m2    0.735232\n",
       "27                    5 km    total_area    0.640633\n",
       "31                    5 km    last_price    1.000000\n",
       "35                    5 km            m2    0.637038\n",
       "36         more than 20 km    total_area    0.655395\n",
       "40         more than 20 km    last_price    1.000000\n",
       "44         more than 20 km            m2    0.650753"
      ]
     },
     "execution_count": 158,
     "metadata": {},
     "output_type": "execute_result"
    }
   ],
   "source": [
    "# Let's build a correlation matrix with a correlation higher than 0.5, since only this correlation is significant\n",
    "corr_price_by_nearest = good_place.groupby('cityCenters_nearest_cat')\\\n",
    "    [['total_area', 'rooms', 'cityCenters_nearest', 'living_area', 'last_price', \n",
    "      'kitchen_area', 'living_area_relation', 'kitchen_total_area_relation', 'm2']]\\\n",
    "        .corr()['last_price'].reset_index()\n",
    "\n",
    "corr_price_by_nearest[corr_price_by_nearest['last_price'].abs() > 0.5]\n"
   ]
  },
  {
   "cell_type": "markdown",
   "metadata": {},
   "source": [
    "## What can we say about the price per square meter in the suburbs? Select the 10 localities with the highest number of ads. This data can be distinguished by its name in the 'locality_name' column.  "
   ]
  },
  {
   "cell_type": "code",
   "execution_count": 159,
   "metadata": {},
   "outputs": [
    {
     "data": {
      "text/plain": [
       "array(['Saint Peterburg', 'village', 'city', 'the location is unknown'],\n",
       "      dtype=object)"
      ]
     },
     "execution_count": 159,
     "metadata": {},
     "output_type": "execute_result"
    }
   ],
   "source": [
    "data['locality_name_type'].unique()"
   ]
  },
  {
   "cell_type": "code",
   "execution_count": 160,
   "metadata": {},
   "outputs": [],
   "source": [
    "locality_list = ['Saint Peterburg', 'city', 'the location is unknown']\n",
    "data['suburbs'] = np.where(data['locality_name_type'].isin(locality_list), 0, 1)\n",
    "\n"
   ]
  },
  {
   "cell_type": "code",
   "execution_count": 161,
   "metadata": {},
   "outputs": [
    {
     "data": {
      "text/html": [
       "<div>\n",
       "<style scoped>\n",
       "    .dataframe tbody tr th:only-of-type {\n",
       "        vertical-align: middle;\n",
       "    }\n",
       "\n",
       "    .dataframe tbody tr th {\n",
       "        vertical-align: top;\n",
       "    }\n",
       "\n",
       "    .dataframe thead th {\n",
       "        text-align: right;\n",
       "    }\n",
       "</style>\n",
       "<table border=\"1\" class=\"dataframe\">\n",
       "  <thead>\n",
       "    <tr style=\"text-align: right;\">\n",
       "      <th></th>\n",
       "      <th>m2</th>\n",
       "    </tr>\n",
       "    <tr>\n",
       "      <th>suburbs</th>\n",
       "      <th></th>\n",
       "    </tr>\n",
       "  </thead>\n",
       "  <tbody>\n",
       "    <tr>\n",
       "      <th>0</th>\n",
       "      <td>98744.5</td>\n",
       "    </tr>\n",
       "    <tr>\n",
       "      <th>1</th>\n",
       "      <td>70945.0</td>\n",
       "    </tr>\n",
       "  </tbody>\n",
       "</table>\n",
       "</div>"
      ],
      "text/plain": [
       "              m2\n",
       "suburbs         \n",
       "0        98744.5\n",
       "1        70945.0"
      ]
     },
     "execution_count": 161,
     "metadata": {},
     "output_type": "execute_result"
    }
   ],
   "source": [
    "data.groupby('suburbs').agg({'m2':'median'})"
   ]
  },
  {
   "cell_type": "markdown",
   "metadata": {},
   "source": [
    "In the suburbs the price is lower"
   ]
  },
  {
   "cell_type": "code",
   "execution_count": 162,
   "metadata": {},
   "outputs": [],
   "source": [
    "data_top10 = data.groupby('locality_name')\\\n",
    "    .agg({'suburbs':'count','m2':'median'})\\\n",
    "    .rename(columns={'suburbs':'count_objects','m2':'m2_cost_median'})\n",
    "data_top10 = data_top10.sort_values('count_objects', ascending=False).head(10)"
   ]
  },
  {
   "cell_type": "code",
   "execution_count": 163,
   "metadata": {},
   "outputs": [
    {
     "data": {
      "text/plain": [
       "<matplotlib.axes._subplots.AxesSubplot at 0x1a1d65d8d0>"
      ]
     },
     "execution_count": 163,
     "metadata": {},
     "output_type": "execute_result"
    },
    {
     "data": {
      "image/png": "[encoded data removed]",
      "text/plain": [
       "<Figure size 432x288 with 1 Axes>"
      ]
     },
     "metadata": {
      "needs_background": "light"
     },
     "output_type": "display_data"
    }
   ],
   "source": [
    "data_top10.sort_values('m2_cost_median', ascending=True)\\\n",
    "    .drop('count_objects', axis=1).plot(kind='barh')"
   ]
  },
  {
   "cell_type": "markdown",
   "metadata": {},
   "source": [
    "We found the TOP 10 localities where ads appear most often"
   ]
  },
  {
   "cell_type": "code",
   "execution_count": 164,
   "metadata": {},
   "outputs": [
    {
     "data": {
      "image/png": "[encoded data removed]",
      "text/plain": [
       "<Figure size 1440x576 with 1 Axes>"
      ]
     },
     "metadata": {
      "needs_background": "light"
     },
     "output_type": "display_data"
    }
   ],
   "source": [
    "top_10_places = data_top10.reset_index().locality_name.to_list()\n",
    "\n",
    "plot = data[data.locality_name.isin(top_10_places)]\\\n",
    "    .boxplot('m2', by='locality_name',figsize=(20,8))\\\n",
    "    .set_ylim(0,300000)"
   ]
  },
  {
   "cell_type": "markdown",
   "metadata": {},
   "source": [
    "You can see that the cost per square meter is higher in Saint Petersburg and Pushkin. It is strange that in the village of Pargolovo (and in all others) the price is higher than in Vyborg, although it is a fairly large city"
   ]
  },
  {
   "cell_type": "markdown",
   "metadata": {},
   "source": [
    "Let's look at the correlation of all our data."
   ]
  },
  {
   "cell_type": "code",
   "execution_count": 165,
   "metadata": {},
   "outputs": [
    {
     "data": {
      "text/html": [
       "<style  type=\"text/css\" >\n",
       "    #T_adef18bc_7eb4_11ea_a4ab_38f9d3bb4b3arow0_col0 {\n",
       "            background-color:  #b40426;\n",
       "            color:  #f1f1f1;\n",
       "        }    #T_adef18bc_7eb4_11ea_a4ab_38f9d3bb4b3arow0_col1 {\n",
       "            background-color:  #8fb1fe;\n",
       "            color:  #000000;\n",
       "        }    #T_adef18bc_7eb4_11ea_a4ab_38f9d3bb4b3arow0_col2 {\n",
       "            background-color:  #b5cdfa;\n",
       "            color:  #000000;\n",
       "        }    #T_adef18bc_7eb4_11ea_a4ab_38f9d3bb4b3arow0_col3 {\n",
       "            background-color:  #ccd9ed;\n",
       "            color:  #000000;\n",
       "        }    #T_adef18bc_7eb4_11ea_a4ab_38f9d3bb4b3arow0_col4 {\n",
       "            background-color:  #92b4fe;\n",
       "            color:  #000000;\n",
       "        }    #T_adef18bc_7eb4_11ea_a4ab_38f9d3bb4b3arow0_col5 {\n",
       "            background-color:  #84a7fc;\n",
       "            color:  #000000;\n",
       "        }    #T_adef18bc_7eb4_11ea_a4ab_38f9d3bb4b3arow0_col6 {\n",
       "            background-color:  #c0d4f5;\n",
       "            color:  #000000;\n",
       "        }    #T_adef18bc_7eb4_11ea_a4ab_38f9d3bb4b3arow0_col7 {\n",
       "            background-color:  #799cf8;\n",
       "            color:  #000000;\n",
       "        }    #T_adef18bc_7eb4_11ea_a4ab_38f9d3bb4b3arow0_col8 {\n",
       "            background-color:  #4961d2;\n",
       "            color:  #f1f1f1;\n",
       "        }    #T_adef18bc_7eb4_11ea_a4ab_38f9d3bb4b3arow0_col9 {\n",
       "            background-color:  #4055c8;\n",
       "            color:  #f1f1f1;\n",
       "        }    #T_adef18bc_7eb4_11ea_a4ab_38f9d3bb4b3arow0_col10 {\n",
       "            background-color:  #a5c3fe;\n",
       "            color:  #000000;\n",
       "        }    #T_adef18bc_7eb4_11ea_a4ab_38f9d3bb4b3arow0_col11 {\n",
       "            background-color:  #7699f6;\n",
       "            color:  #000000;\n",
       "        }    #T_adef18bc_7eb4_11ea_a4ab_38f9d3bb4b3arow0_col12 {\n",
       "            background-color:  #506bda;\n",
       "            color:  #000000;\n",
       "        }    #T_adef18bc_7eb4_11ea_a4ab_38f9d3bb4b3arow0_col13 {\n",
       "            background-color:  #7ea1fa;\n",
       "            color:  #000000;\n",
       "        }    #T_adef18bc_7eb4_11ea_a4ab_38f9d3bb4b3arow0_col14 {\n",
       "            background-color:  #86a9fc;\n",
       "            color:  #000000;\n",
       "        }    #T_adef18bc_7eb4_11ea_a4ab_38f9d3bb4b3arow0_col15 {\n",
       "            background-color:  #7a9df8;\n",
       "            color:  #000000;\n",
       "        }    #T_adef18bc_7eb4_11ea_a4ab_38f9d3bb4b3arow0_col16 {\n",
       "            background-color:  #90b2fe;\n",
       "            color:  #000000;\n",
       "        }    #T_adef18bc_7eb4_11ea_a4ab_38f9d3bb4b3arow0_col17 {\n",
       "            background-color:  #8db0fe;\n",
       "            color:  #000000;\n",
       "        }    #T_adef18bc_7eb4_11ea_a4ab_38f9d3bb4b3arow0_col18 {\n",
       "            background-color:  #b3cdfb;\n",
       "            color:  #000000;\n",
       "        }    #T_adef18bc_7eb4_11ea_a4ab_38f9d3bb4b3arow0_col19 {\n",
       "            background-color:  #abc8fd;\n",
       "            color:  #000000;\n",
       "        }    #T_adef18bc_7eb4_11ea_a4ab_38f9d3bb4b3arow0_col20 {\n",
       "            background-color:  #d4dbe6;\n",
       "            color:  #000000;\n",
       "        }    #T_adef18bc_7eb4_11ea_a4ab_38f9d3bb4b3arow0_col21 {\n",
       "            background-color:  #88abfd;\n",
       "            color:  #000000;\n",
       "        }    #T_adef18bc_7eb4_11ea_a4ab_38f9d3bb4b3arow0_col22 {\n",
       "            background-color:  #afcafc;\n",
       "            color:  #000000;\n",
       "        }    #T_adef18bc_7eb4_11ea_a4ab_38f9d3bb4b3arow0_col23 {\n",
       "            background-color:  #6e90f2;\n",
       "            color:  #000000;\n",
       "        }    #T_adef18bc_7eb4_11ea_a4ab_38f9d3bb4b3arow1_col0 {\n",
       "            background-color:  #688aef;\n",
       "            color:  #000000;\n",
       "        }    #T_adef18bc_7eb4_11ea_a4ab_38f9d3bb4b3arow1_col1 {\n",
       "            background-color:  #b40426;\n",
       "            color:  #f1f1f1;\n",
       "        }    #T_adef18bc_7eb4_11ea_a4ab_38f9d3bb4b3arow1_col2 {\n",
       "            background-color:  #f6a385;\n",
       "            color:  #000000;\n",
       "        }    #T_adef18bc_7eb4_11ea_a4ab_38f9d3bb4b3arow1_col3 {\n",
       "            background-color:  #f1ccb8;\n",
       "            color:  #000000;\n",
       "        }    #T_adef18bc_7eb4_11ea_a4ab_38f9d3bb4b3arow1_col4 {\n",
       "            background-color:  #cbd8ee;\n",
       "            color:  #000000;\n",
       "        }    #T_adef18bc_7eb4_11ea_a4ab_38f9d3bb4b3arow1_col5 {\n",
       "            background-color:  #81a4fb;\n",
       "            color:  #000000;\n",
       "        }    #T_adef18bc_7eb4_11ea_a4ab_38f9d3bb4b3arow1_col6 {\n",
       "            background-color:  #f7b79b;\n",
       "            color:  #000000;\n",
       "        }    #T_adef18bc_7eb4_11ea_a4ab_38f9d3bb4b3arow1_col7 {\n",
       "            background-color:  #799cf8;\n",
       "            color:  #000000;\n",
       "        }    #T_adef18bc_7eb4_11ea_a4ab_38f9d3bb4b3arow1_col8 {\n",
       "            background-color:  #4961d2;\n",
       "            color:  #f1f1f1;\n",
       "        }    #T_adef18bc_7eb4_11ea_a4ab_38f9d3bb4b3arow1_col9 {\n",
       "            background-color:  #445acc;\n",
       "            color:  #f1f1f1;\n",
       "        }    #T_adef18bc_7eb4_11ea_a4ab_38f9d3bb4b3arow1_col10 {\n",
       "            background-color:  #e8d6cc;\n",
       "            color:  #000000;\n",
       "        }    #T_adef18bc_7eb4_11ea_a4ab_38f9d3bb4b3arow1_col11 {\n",
       "            background-color:  #5b7ae5;\n",
       "            color:  #000000;\n",
       "        }    #T_adef18bc_7eb4_11ea_a4ab_38f9d3bb4b3arow1_col12 {\n",
       "            background-color:  #4a63d3;\n",
       "            color:  #f1f1f1;\n",
       "        }    #T_adef18bc_7eb4_11ea_a4ab_38f9d3bb4b3arow1_col13 {\n",
       "            background-color:  #5470de;\n",
       "            color:  #000000;\n",
       "        }    #T_adef18bc_7eb4_11ea_a4ab_38f9d3bb4b3arow1_col14 {\n",
       "            background-color:  #b6cefa;\n",
       "            color:  #000000;\n",
       "        }    #T_adef18bc_7eb4_11ea_a4ab_38f9d3bb4b3arow1_col15 {\n",
       "            background-color:  #7a9df8;\n",
       "            color:  #000000;\n",
       "        }    #T_adef18bc_7eb4_11ea_a4ab_38f9d3bb4b3arow1_col16 {\n",
       "            background-color:  #c4d5f3;\n",
       "            color:  #000000;\n",
       "        }    #T_adef18bc_7eb4_11ea_a4ab_38f9d3bb4b3arow1_col17 {\n",
       "            background-color:  #799cf8;\n",
       "            color:  #000000;\n",
       "        }    #T_adef18bc_7eb4_11ea_a4ab_38f9d3bb4b3arow1_col18 {\n",
       "            background-color:  #c7d7f0;\n",
       "            color:  #000000;\n",
       "        }    #T_adef18bc_7eb4_11ea_a4ab_38f9d3bb4b3arow1_col19 {\n",
       "            background-color:  #ec7f63;\n",
       "            color:  #000000;\n",
       "        }    #T_adef18bc_7eb4_11ea_a4ab_38f9d3bb4b3arow1_col20 {\n",
       "            background-color:  #b1cbfc;\n",
       "            color:  #000000;\n",
       "        }    #T_adef18bc_7eb4_11ea_a4ab_38f9d3bb4b3arow1_col21 {\n",
       "            background-color:  #7b9ff9;\n",
       "            color:  #000000;\n",
       "        }    #T_adef18bc_7eb4_11ea_a4ab_38f9d3bb4b3arow1_col22 {\n",
       "            background-color:  #9ebeff;\n",
       "            color:  #000000;\n",
       "        }    #T_adef18bc_7eb4_11ea_a4ab_38f9d3bb4b3arow1_col23 {\n",
       "            background-color:  #5a78e4;\n",
       "            color:  #000000;\n",
       "        }    #T_adef18bc_7eb4_11ea_a4ab_38f9d3bb4b3arow2_col0 {\n",
       "            background-color:  #6c8ff1;\n",
       "            color:  #000000;\n",
       "        }    #T_adef18bc_7eb4_11ea_a4ab_38f9d3bb4b3arow2_col1 {\n",
       "            background-color:  #f7b497;\n",
       "            color:  #000000;\n",
       "        }    #T_adef18bc_7eb4_11ea_a4ab_38f9d3bb4b3arow2_col2 {\n",
       "            background-color:  #b40426;\n",
       "            color:  #f1f1f1;\n",
       "        }    #T_adef18bc_7eb4_11ea_a4ab_38f9d3bb4b3arow2_col3 {\n",
       "            background-color:  #e26952;\n",
       "            color:  #000000;\n",
       "        }    #T_adef18bc_7eb4_11ea_a4ab_38f9d3bb4b3arow2_col4 {\n",
       "            background-color:  #e3d9d3;\n",
       "            color:  #000000;\n",
       "        }    #T_adef18bc_7eb4_11ea_a4ab_38f9d3bb4b3arow2_col5 {\n",
       "            background-color:  #6e90f2;\n",
       "            color:  #000000;\n",
       "        }    #T_adef18bc_7eb4_11ea_a4ab_38f9d3bb4b3arow2_col6 {\n",
       "            background-color:  #d24b40;\n",
       "            color:  #f1f1f1;\n",
       "        }    #T_adef18bc_7eb4_11ea_a4ab_38f9d3bb4b3arow2_col7 {\n",
       "            background-color:  #6a8bef;\n",
       "            color:  #000000;\n",
       "        }    #T_adef18bc_7eb4_11ea_a4ab_38f9d3bb4b3arow2_col8 {\n",
       "            background-color:  #3b4cc0;\n",
       "            color:  #f1f1f1;\n",
       "        }    #T_adef18bc_7eb4_11ea_a4ab_38f9d3bb4b3arow2_col9 {\n",
       "            background-color:  #3d50c3;\n",
       "            color:  #f1f1f1;\n",
       "        }    #T_adef18bc_7eb4_11ea_a4ab_38f9d3bb4b3arow2_col10 {\n",
       "            background-color:  #f7b79b;\n",
       "            color:  #000000;\n",
       "        }    #T_adef18bc_7eb4_11ea_a4ab_38f9d3bb4b3arow2_col11 {\n",
       "            background-color:  #6282ea;\n",
       "            color:  #000000;\n",
       "        }    #T_adef18bc_7eb4_11ea_a4ab_38f9d3bb4b3arow2_col12 {\n",
       "            background-color:  #4961d2;\n",
       "            color:  #f1f1f1;\n",
       "        }    #T_adef18bc_7eb4_11ea_a4ab_38f9d3bb4b3arow2_col13 {\n",
       "            background-color:  #4e68d8;\n",
       "            color:  #000000;\n",
       "        }    #T_adef18bc_7eb4_11ea_a4ab_38f9d3bb4b3arow2_col14 {\n",
       "            background-color:  #b5cdfa;\n",
       "            color:  #000000;\n",
       "        }    #T_adef18bc_7eb4_11ea_a4ab_38f9d3bb4b3arow2_col15 {\n",
       "            background-color:  #799cf8;\n",
       "            color:  #000000;\n",
       "        }    #T_adef18bc_7eb4_11ea_a4ab_38f9d3bb4b3arow2_col16 {\n",
       "            background-color:  #c1d4f4;\n",
       "            color:  #000000;\n",
       "        }    #T_adef18bc_7eb4_11ea_a4ab_38f9d3bb4b3arow2_col17 {\n",
       "            background-color:  #7597f6;\n",
       "            color:  #000000;\n",
       "        }    #T_adef18bc_7eb4_11ea_a4ab_38f9d3bb4b3arow2_col18 {\n",
       "            background-color:  #d5dbe5;\n",
       "            color:  #000000;\n",
       "        }    #T_adef18bc_7eb4_11ea_a4ab_38f9d3bb4b3arow2_col19 {\n",
       "            background-color:  #d1dae9;\n",
       "            color:  #000000;\n",
       "        }    #T_adef18bc_7eb4_11ea_a4ab_38f9d3bb4b3arow2_col20 {\n",
       "            background-color:  #a9c6fd;\n",
       "            color:  #000000;\n",
       "        }    #T_adef18bc_7eb4_11ea_a4ab_38f9d3bb4b3arow2_col21 {\n",
       "            background-color:  #86a9fc;\n",
       "            color:  #000000;\n",
       "        }    #T_adef18bc_7eb4_11ea_a4ab_38f9d3bb4b3arow2_col22 {\n",
       "            background-color:  #6485ec;\n",
       "            color:  #000000;\n",
       "        }    #T_adef18bc_7eb4_11ea_a4ab_38f9d3bb4b3arow2_col23 {\n",
       "            background-color:  #5a78e4;\n",
       "            color:  #000000;\n",
       "        }    #T_adef18bc_7eb4_11ea_a4ab_38f9d3bb4b3arow3_col0 {\n",
       "            background-color:  #6788ee;\n",
       "            color:  #000000;\n",
       "        }    #T_adef18bc_7eb4_11ea_a4ab_38f9d3bb4b3arow3_col1 {\n",
       "            background-color:  #d2dbe8;\n",
       "            color:  #000000;\n",
       "        }    #T_adef18bc_7eb4_11ea_a4ab_38f9d3bb4b3arow3_col2 {\n",
       "            background-color:  #e7745b;\n",
       "            color:  #000000;\n",
       "        }    #T_adef18bc_7eb4_11ea_a4ab_38f9d3bb4b3arow3_col3 {\n",
       "            background-color:  #b40426;\n",
       "            color:  #f1f1f1;\n",
       "        }    #T_adef18bc_7eb4_11ea_a4ab_38f9d3bb4b3arow3_col4 {\n",
       "            background-color:  #c5d6f2;\n",
       "            color:  #000000;\n",
       "        }    #T_adef18bc_7eb4_11ea_a4ab_38f9d3bb4b3arow3_col5 {\n",
       "            background-color:  #485fd1;\n",
       "            color:  #f1f1f1;\n",
       "        }    #T_adef18bc_7eb4_11ea_a4ab_38f9d3bb4b3arow3_col6 {\n",
       "            background-color:  #da5a49;\n",
       "            color:  #000000;\n",
       "        }    #T_adef18bc_7eb4_11ea_a4ab_38f9d3bb4b3arow3_col7 {\n",
       "            background-color:  #485fd1;\n",
       "            color:  #f1f1f1;\n",
       "        }    #T_adef18bc_7eb4_11ea_a4ab_38f9d3bb4b3arow3_col8 {\n",
       "            background-color:  #3b4cc0;\n",
       "            color:  #f1f1f1;\n",
       "        }    #T_adef18bc_7eb4_11ea_a4ab_38f9d3bb4b3arow3_col9 {\n",
       "            background-color:  #3b4cc0;\n",
       "            color:  #f1f1f1;\n",
       "        }    #T_adef18bc_7eb4_11ea_a4ab_38f9d3bb4b3arow3_col10 {\n",
       "            background-color:  #cbd8ee;\n",
       "            color:  #000000;\n",
       "        }    #T_adef18bc_7eb4_11ea_a4ab_38f9d3bb4b3arow3_col11 {\n",
       "            background-color:  #5977e3;\n",
       "            color:  #000000;\n",
       "        }    #T_adef18bc_7eb4_11ea_a4ab_38f9d3bb4b3arow3_col12 {\n",
       "            background-color:  #3f53c6;\n",
       "            color:  #f1f1f1;\n",
       "        }    #T_adef18bc_7eb4_11ea_a4ab_38f9d3bb4b3arow3_col13 {\n",
       "            background-color:  #5a78e4;\n",
       "            color:  #000000;\n",
       "        }    #T_adef18bc_7eb4_11ea_a4ab_38f9d3bb4b3arow3_col14 {\n",
       "            background-color:  #a7c5fe;\n",
       "            color:  #000000;\n",
       "        }    #T_adef18bc_7eb4_11ea_a4ab_38f9d3bb4b3arow3_col15 {\n",
       "            background-color:  #6e90f2;\n",
       "            color:  #000000;\n",
       "        }    #T_adef18bc_7eb4_11ea_a4ab_38f9d3bb4b3arow3_col16 {\n",
       "            background-color:  #adc9fd;\n",
       "            color:  #000000;\n",
       "        }    #T_adef18bc_7eb4_11ea_a4ab_38f9d3bb4b3arow3_col17 {\n",
       "            background-color:  #80a3fa;\n",
       "            color:  #000000;\n",
       "        }    #T_adef18bc_7eb4_11ea_a4ab_38f9d3bb4b3arow3_col18 {\n",
       "            background-color:  #d1dae9;\n",
       "            color:  #000000;\n",
       "        }    #T_adef18bc_7eb4_11ea_a4ab_38f9d3bb4b3arow3_col19 {\n",
       "            background-color:  #94b6ff;\n",
       "            color:  #000000;\n",
       "        }    #T_adef18bc_7eb4_11ea_a4ab_38f9d3bb4b3arow3_col20 {\n",
       "            background-color:  #aec9fc;\n",
       "            color:  #000000;\n",
       "        }    #T_adef18bc_7eb4_11ea_a4ab_38f9d3bb4b3arow3_col21 {\n",
       "            background-color:  #d3dbe7;\n",
       "            color:  #000000;\n",
       "        }    #T_adef18bc_7eb4_11ea_a4ab_38f9d3bb4b3arow3_col22 {\n",
       "            background-color:  #3b4cc0;\n",
       "            color:  #f1f1f1;\n",
       "        }    #T_adef18bc_7eb4_11ea_a4ab_38f9d3bb4b3arow3_col23 {\n",
       "            background-color:  #5a78e4;\n",
       "            color:  #000000;\n",
       "        }    #T_adef18bc_7eb4_11ea_a4ab_38f9d3bb4b3arow4_col0 {\n",
       "            background-color:  #5673e0;\n",
       "            color:  #000000;\n",
       "        }    #T_adef18bc_7eb4_11ea_a4ab_38f9d3bb4b3arow4_col1 {\n",
       "            background-color:  #bed2f6;\n",
       "            color:  #000000;\n",
       "        }    #T_adef18bc_7eb4_11ea_a4ab_38f9d3bb4b3arow4_col2 {\n",
       "            background-color:  #ead4c8;\n",
       "            color:  #000000;\n",
       "        }    #T_adef18bc_7eb4_11ea_a4ab_38f9d3bb4b3arow4_col3 {\n",
       "            background-color:  #e4d9d2;\n",
       "            color:  #000000;\n",
       "        }    #T_adef18bc_7eb4_11ea_a4ab_38f9d3bb4b3arow4_col4 {\n",
       "            background-color:  #b40426;\n",
       "            color:  #f1f1f1;\n",
       "        }    #T_adef18bc_7eb4_11ea_a4ab_38f9d3bb4b3arow4_col5 {\n",
       "            background-color:  #6f92f3;\n",
       "            color:  #000000;\n",
       "        }    #T_adef18bc_7eb4_11ea_a4ab_38f9d3bb4b3arow4_col6 {\n",
       "            background-color:  #edd2c3;\n",
       "            color:  #000000;\n",
       "        }    #T_adef18bc_7eb4_11ea_a4ab_38f9d3bb4b3arow4_col7 {\n",
       "            background-color:  #6687ed;\n",
       "            color:  #000000;\n",
       "        }    #T_adef18bc_7eb4_11ea_a4ab_38f9d3bb4b3arow4_col8 {\n",
       "            background-color:  #536edd;\n",
       "            color:  #000000;\n",
       "        }    #T_adef18bc_7eb4_11ea_a4ab_38f9d3bb4b3arow4_col9 {\n",
       "            background-color:  #485fd1;\n",
       "            color:  #f1f1f1;\n",
       "        }    #T_adef18bc_7eb4_11ea_a4ab_38f9d3bb4b3arow4_col10 {\n",
       "            background-color:  #dcdddd;\n",
       "            color:  #000000;\n",
       "        }    #T_adef18bc_7eb4_11ea_a4ab_38f9d3bb4b3arow4_col11 {\n",
       "            background-color:  #4c66d6;\n",
       "            color:  #000000;\n",
       "        }    #T_adef18bc_7eb4_11ea_a4ab_38f9d3bb4b3arow4_col12 {\n",
       "            background-color:  #3b4cc0;\n",
       "            color:  #f1f1f1;\n",
       "        }    #T_adef18bc_7eb4_11ea_a4ab_38f9d3bb4b3arow4_col13 {\n",
       "            background-color:  #3e51c5;\n",
       "            color:  #f1f1f1;\n",
       "        }    #T_adef18bc_7eb4_11ea_a4ab_38f9d3bb4b3arow4_col14 {\n",
       "            background-color:  #c1d4f4;\n",
       "            color:  #000000;\n",
       "        }    #T_adef18bc_7eb4_11ea_a4ab_38f9d3bb4b3arow4_col15 {\n",
       "            background-color:  #6c8ff1;\n",
       "            color:  #000000;\n",
       "        }    #T_adef18bc_7eb4_11ea_a4ab_38f9d3bb4b3arow4_col16 {\n",
       "            background-color:  #c6d6f1;\n",
       "            color:  #000000;\n",
       "        }    #T_adef18bc_7eb4_11ea_a4ab_38f9d3bb4b3arow4_col17 {\n",
       "            background-color:  #6c8ff1;\n",
       "            color:  #000000;\n",
       "        }    #T_adef18bc_7eb4_11ea_a4ab_38f9d3bb4b3arow4_col18 {\n",
       "            background-color:  #cdd9ec;\n",
       "            color:  #000000;\n",
       "        }    #T_adef18bc_7eb4_11ea_a4ab_38f9d3bb4b3arow4_col19 {\n",
       "            background-color:  #cfdaea;\n",
       "            color:  #000000;\n",
       "        }    #T_adef18bc_7eb4_11ea_a4ab_38f9d3bb4b3arow4_col20 {\n",
       "            background-color:  #aec9fc;\n",
       "            color:  #000000;\n",
       "        }    #T_adef18bc_7eb4_11ea_a4ab_38f9d3bb4b3arow4_col21 {\n",
       "            background-color:  #82a6fb;\n",
       "            color:  #000000;\n",
       "        }    #T_adef18bc_7eb4_11ea_a4ab_38f9d3bb4b3arow4_col22 {\n",
       "            background-color:  #b7cff9;\n",
       "            color:  #000000;\n",
       "        }    #T_adef18bc_7eb4_11ea_a4ab_38f9d3bb4b3arow4_col23 {\n",
       "            background-color:  #6180e9;\n",
       "            color:  #000000;\n",
       "        }    #T_adef18bc_7eb4_11ea_a4ab_38f9d3bb4b3arow5_col0 {\n",
       "            background-color:  #4e68d8;\n",
       "            color:  #000000;\n",
       "        }    #T_adef18bc_7eb4_11ea_a4ab_38f9d3bb4b3arow5_col1 {\n",
       "            background-color:  #7295f4;\n",
       "            color:  #000000;\n",
       "        }    #T_adef18bc_7eb4_11ea_a4ab_38f9d3bb4b3arow5_col2 {\n",
       "            background-color:  #88abfd;\n",
       "            color:  #000000;\n",
       "        }    #T_adef18bc_7eb4_11ea_a4ab_38f9d3bb4b3arow5_col3 {\n",
       "            background-color:  #8badfd;\n",
       "            color:  #000000;\n",
       "        }    #T_adef18bc_7eb4_11ea_a4ab_38f9d3bb4b3arow5_col4 {\n",
       "            background-color:  #7597f6;\n",
       "            color:  #000000;\n",
       "        }    #T_adef18bc_7eb4_11ea_a4ab_38f9d3bb4b3arow5_col5 {\n",
       "            background-color:  #b40426;\n",
       "            color:  #f1f1f1;\n",
       "        }    #T_adef18bc_7eb4_11ea_a4ab_38f9d3bb4b3arow5_col6 {\n",
       "            background-color:  #84a7fc;\n",
       "            color:  #000000;\n",
       "        }    #T_adef18bc_7eb4_11ea_a4ab_38f9d3bb4b3arow5_col7 {\n",
       "            background-color:  #f6a283;\n",
       "            color:  #000000;\n",
       "        }    #T_adef18bc_7eb4_11ea_a4ab_38f9d3bb4b3arow5_col8 {\n",
       "            background-color:  #6687ed;\n",
       "            color:  #000000;\n",
       "        }    #T_adef18bc_7eb4_11ea_a4ab_38f9d3bb4b3arow5_col9 {\n",
       "            background-color:  #5673e0;\n",
       "            color:  #000000;\n",
       "        }    #T_adef18bc_7eb4_11ea_a4ab_38f9d3bb4b3arow5_col10 {\n",
       "            background-color:  #bad0f8;\n",
       "            color:  #000000;\n",
       "        }    #T_adef18bc_7eb4_11ea_a4ab_38f9d3bb4b3arow5_col11 {\n",
       "            background-color:  #8db0fe;\n",
       "            color:  #000000;\n",
       "        }    #T_adef18bc_7eb4_11ea_a4ab_38f9d3bb4b3arow5_col12 {\n",
       "            background-color:  #7295f4;\n",
       "            color:  #000000;\n",
       "        }    #T_adef18bc_7eb4_11ea_a4ab_38f9d3bb4b3arow5_col13 {\n",
       "            background-color:  #8db0fe;\n",
       "            color:  #000000;\n",
       "        }    #T_adef18bc_7eb4_11ea_a4ab_38f9d3bb4b3arow5_col14 {\n",
       "            background-color:  #5470de;\n",
       "            color:  #000000;\n",
       "        }    #T_adef18bc_7eb4_11ea_a4ab_38f9d3bb4b3arow5_col15 {\n",
       "            background-color:  #97b8ff;\n",
       "            color:  #000000;\n",
       "        }    #T_adef18bc_7eb4_11ea_a4ab_38f9d3bb4b3arow5_col16 {\n",
       "            background-color:  #82a6fb;\n",
       "            color:  #000000;\n",
       "        }    #T_adef18bc_7eb4_11ea_a4ab_38f9d3bb4b3arow5_col17 {\n",
       "            background-color:  #98b9ff;\n",
       "            color:  #000000;\n",
       "        }    #T_adef18bc_7eb4_11ea_a4ab_38f9d3bb4b3arow5_col18 {\n",
       "            background-color:  #afcafc;\n",
       "            color:  #000000;\n",
       "        }    #T_adef18bc_7eb4_11ea_a4ab_38f9d3bb4b3arow5_col19 {\n",
       "            background-color:  #b5cdfa;\n",
       "            color:  #000000;\n",
       "        }    #T_adef18bc_7eb4_11ea_a4ab_38f9d3bb4b3arow5_col20 {\n",
       "            background-color:  #bbd1f8;\n",
       "            color:  #000000;\n",
       "        }    #T_adef18bc_7eb4_11ea_a4ab_38f9d3bb4b3arow5_col21 {\n",
       "            background-color:  #485fd1;\n",
       "            color:  #f1f1f1;\n",
       "        }    #T_adef18bc_7eb4_11ea_a4ab_38f9d3bb4b3arow5_col22 {\n",
       "            background-color:  #f1cdba;\n",
       "            color:  #000000;\n",
       "        }    #T_adef18bc_7eb4_11ea_a4ab_38f9d3bb4b3arow5_col23 {\n",
       "            background-color:  #92b4fe;\n",
       "            color:  #000000;\n",
       "        }    #T_adef18bc_7eb4_11ea_a4ab_38f9d3bb4b3arow6_col0 {\n",
       "            background-color:  #6a8bef;\n",
       "            color:  #000000;\n",
       "        }    #T_adef18bc_7eb4_11ea_a4ab_38f9d3bb4b3arow6_col1 {\n",
       "            background-color:  #f1cdba;\n",
       "            color:  #000000;\n",
       "        }    #T_adef18bc_7eb4_11ea_a4ab_38f9d3bb4b3arow6_col2 {\n",
       "            background-color:  #d44e41;\n",
       "            color:  #000000;\n",
       "        }    #T_adef18bc_7eb4_11ea_a4ab_38f9d3bb4b3arow6_col3 {\n",
       "            background-color:  #d85646;\n",
       "            color:  #000000;\n",
       "        }    #T_adef18bc_7eb4_11ea_a4ab_38f9d3bb4b3arow6_col4 {\n",
       "            background-color:  #dddcdc;\n",
       "            color:  #000000;\n",
       "        }    #T_adef18bc_7eb4_11ea_a4ab_38f9d3bb4b3arow6_col5 {\n",
       "            background-color:  #5572df;\n",
       "            color:  #000000;\n",
       "        }    #T_adef18bc_7eb4_11ea_a4ab_38f9d3bb4b3arow6_col6 {\n",
       "            background-color:  #b40426;\n",
       "            color:  #f1f1f1;\n",
       "        }    #T_adef18bc_7eb4_11ea_a4ab_38f9d3bb4b3arow6_col7 {\n",
       "            background-color:  #5572df;\n",
       "            color:  #000000;\n",
       "        }    #T_adef18bc_7eb4_11ea_a4ab_38f9d3bb4b3arow6_col8 {\n",
       "            background-color:  #4055c8;\n",
       "            color:  #f1f1f1;\n",
       "        }    #T_adef18bc_7eb4_11ea_a4ab_38f9d3bb4b3arow6_col9 {\n",
       "            background-color:  #3d50c3;\n",
       "            color:  #f1f1f1;\n",
       "        }    #T_adef18bc_7eb4_11ea_a4ab_38f9d3bb4b3arow6_col10 {\n",
       "            background-color:  #e6d7cf;\n",
       "            color:  #000000;\n",
       "        }    #T_adef18bc_7eb4_11ea_a4ab_38f9d3bb4b3arow6_col11 {\n",
       "            background-color:  #5977e3;\n",
       "            color:  #000000;\n",
       "        }    #T_adef18bc_7eb4_11ea_a4ab_38f9d3bb4b3arow6_col12 {\n",
       "            background-color:  #4055c8;\n",
       "            color:  #f1f1f1;\n",
       "        }    #T_adef18bc_7eb4_11ea_a4ab_38f9d3bb4b3arow6_col13 {\n",
       "            background-color:  #506bda;\n",
       "            color:  #000000;\n",
       "        }    #T_adef18bc_7eb4_11ea_a4ab_38f9d3bb4b3arow6_col14 {\n",
       "            background-color:  #b6cefa;\n",
       "            color:  #000000;\n",
       "        }    #T_adef18bc_7eb4_11ea_a4ab_38f9d3bb4b3arow6_col15 {\n",
       "            background-color:  #7093f3;\n",
       "            color:  #000000;\n",
       "        }    #T_adef18bc_7eb4_11ea_a4ab_38f9d3bb4b3arow6_col16 {\n",
       "            background-color:  #bbd1f8;\n",
       "            color:  #000000;\n",
       "        }    #T_adef18bc_7eb4_11ea_a4ab_38f9d3bb4b3arow6_col17 {\n",
       "            background-color:  #7a9df8;\n",
       "            color:  #000000;\n",
       "        }    #T_adef18bc_7eb4_11ea_a4ab_38f9d3bb4b3arow6_col18 {\n",
       "            background-color:  #d4dbe6;\n",
       "            color:  #000000;\n",
       "        }    #T_adef18bc_7eb4_11ea_a4ab_38f9d3bb4b3arow6_col19 {\n",
       "            background-color:  #bbd1f8;\n",
       "            color:  #000000;\n",
       "        }    #T_adef18bc_7eb4_11ea_a4ab_38f9d3bb4b3arow6_col20 {\n",
       "            background-color:  #aac7fd;\n",
       "            color:  #000000;\n",
       "        }    #T_adef18bc_7eb4_11ea_a4ab_38f9d3bb4b3arow6_col21 {\n",
       "            background-color:  #e1dad6;\n",
       "            color:  #000000;\n",
       "        }    #T_adef18bc_7eb4_11ea_a4ab_38f9d3bb4b3arow6_col22 {\n",
       "            background-color:  #506bda;\n",
       "            color:  #000000;\n",
       "        }    #T_adef18bc_7eb4_11ea_a4ab_38f9d3bb4b3arow6_col23 {\n",
       "            background-color:  #5977e3;\n",
       "            color:  #000000;\n",
       "        }    #T_adef18bc_7eb4_11ea_a4ab_38f9d3bb4b3arow7_col0 {\n",
       "            background-color:  #5470de;\n",
       "            color:  #000000;\n",
       "        }    #T_adef18bc_7eb4_11ea_a4ab_38f9d3bb4b3arow7_col1 {\n",
       "            background-color:  #7a9df8;\n",
       "            color:  #000000;\n",
       "        }    #T_adef18bc_7eb4_11ea_a4ab_38f9d3bb4b3arow7_col2 {\n",
       "            background-color:  #93b5fe;\n",
       "            color:  #000000;\n",
       "        }    #T_adef18bc_7eb4_11ea_a4ab_38f9d3bb4b3arow7_col3 {\n",
       "            background-color:  #9bbcff;\n",
       "            color:  #000000;\n",
       "        }    #T_adef18bc_7eb4_11ea_a4ab_38f9d3bb4b3arow7_col4 {\n",
       "            background-color:  #7b9ff9;\n",
       "            color:  #000000;\n",
       "        }    #T_adef18bc_7eb4_11ea_a4ab_38f9d3bb4b3arow7_col5 {\n",
       "            background-color:  #f59c7d;\n",
       "            color:  #000000;\n",
       "        }    #T_adef18bc_7eb4_11ea_a4ab_38f9d3bb4b3arow7_col6 {\n",
       "            background-color:  #93b5fe;\n",
       "            color:  #000000;\n",
       "        }    #T_adef18bc_7eb4_11ea_a4ab_38f9d3bb4b3arow7_col7 {\n",
       "            background-color:  #b40426;\n",
       "            color:  #f1f1f1;\n",
       "        }    #T_adef18bc_7eb4_11ea_a4ab_38f9d3bb4b3arow7_col8 {\n",
       "            background-color:  #5b7ae5;\n",
       "            color:  #000000;\n",
       "        }    #T_adef18bc_7eb4_11ea_a4ab_38f9d3bb4b3arow7_col9 {\n",
       "            background-color:  #516ddb;\n",
       "            color:  #000000;\n",
       "        }    #T_adef18bc_7eb4_11ea_a4ab_38f9d3bb4b3arow7_col10 {\n",
       "            background-color:  #afcafc;\n",
       "            color:  #000000;\n",
       "        }    #T_adef18bc_7eb4_11ea_a4ab_38f9d3bb4b3arow7_col11 {\n",
       "            background-color:  #85a8fc;\n",
       "            color:  #000000;\n",
       "        }    #T_adef18bc_7eb4_11ea_a4ab_38f9d3bb4b3arow7_col12 {\n",
       "            background-color:  #6788ee;\n",
       "            color:  #000000;\n",
       "        }    #T_adef18bc_7eb4_11ea_a4ab_38f9d3bb4b3arow7_col13 {\n",
       "            background-color:  #8badfd;\n",
       "            color:  #000000;\n",
       "        }    #T_adef18bc_7eb4_11ea_a4ab_38f9d3bb4b3arow7_col14 {\n",
       "            background-color:  #6180e9;\n",
       "            color:  #000000;\n",
       "        }    #T_adef18bc_7eb4_11ea_a4ab_38f9d3bb4b3arow7_col15 {\n",
       "            background-color:  #92b4fe;\n",
       "            color:  #000000;\n",
       "        }    #T_adef18bc_7eb4_11ea_a4ab_38f9d3bb4b3arow7_col16 {\n",
       "            background-color:  #86a9fc;\n",
       "            color:  #000000;\n",
       "        }    #T_adef18bc_7eb4_11ea_a4ab_38f9d3bb4b3arow7_col17 {\n",
       "            background-color:  #94b6ff;\n",
       "            color:  #000000;\n",
       "        }    #T_adef18bc_7eb4_11ea_a4ab_38f9d3bb4b3arow7_col18 {\n",
       "            background-color:  #b2ccfb;\n",
       "            color:  #000000;\n",
       "        }    #T_adef18bc_7eb4_11ea_a4ab_38f9d3bb4b3arow7_col19 {\n",
       "            background-color:  #aec9fc;\n",
       "            color:  #000000;\n",
       "        }    #T_adef18bc_7eb4_11ea_a4ab_38f9d3bb4b3arow7_col20 {\n",
       "            background-color:  #bad0f8;\n",
       "            color:  #000000;\n",
       "        }    #T_adef18bc_7eb4_11ea_a4ab_38f9d3bb4b3arow7_col21 {\n",
       "            background-color:  #5977e3;\n",
       "            color:  #000000;\n",
       "        }    #T_adef18bc_7eb4_11ea_a4ab_38f9d3bb4b3arow7_col22 {\n",
       "            background-color:  #e3d9d3;\n",
       "            color:  #000000;\n",
       "        }    #T_adef18bc_7eb4_11ea_a4ab_38f9d3bb4b3arow7_col23 {\n",
       "            background-color:  #8db0fe;\n",
       "            color:  #000000;\n",
       "        }    #T_adef18bc_7eb4_11ea_a4ab_38f9d3bb4b3arow8_col0 {\n",
       "            background-color:  #4257c9;\n",
       "            color:  #f1f1f1;\n",
       "        }    #T_adef18bc_7eb4_11ea_a4ab_38f9d3bb4b3arow8_col1 {\n",
       "            background-color:  #6a8bef;\n",
       "            color:  #000000;\n",
       "        }    #T_adef18bc_7eb4_11ea_a4ab_38f9d3bb4b3arow8_col2 {\n",
       "            background-color:  #86a9fc;\n",
       "            color:  #000000;\n",
       "        }    #T_adef18bc_7eb4_11ea_a4ab_38f9d3bb4b3arow8_col3 {\n",
       "            background-color:  #a9c6fd;\n",
       "            color:  #000000;\n",
       "        }    #T_adef18bc_7eb4_11ea_a4ab_38f9d3bb4b3arow8_col4 {\n",
       "            background-color:  #88abfd;\n",
       "            color:  #000000;\n",
       "        }    #T_adef18bc_7eb4_11ea_a4ab_38f9d3bb4b3arow8_col5 {\n",
       "            background-color:  #94b6ff;\n",
       "            color:  #000000;\n",
       "        }    #T_adef18bc_7eb4_11ea_a4ab_38f9d3bb4b3arow8_col6 {\n",
       "            background-color:  #9dbdff;\n",
       "            color:  #000000;\n",
       "        }    #T_adef18bc_7eb4_11ea_a4ab_38f9d3bb4b3arow8_col7 {\n",
       "            background-color:  #7a9df8;\n",
       "            color:  #000000;\n",
       "        }    #T_adef18bc_7eb4_11ea_a4ab_38f9d3bb4b3arow8_col8 {\n",
       "            background-color:  #b40426;\n",
       "            color:  #f1f1f1;\n",
       "        }    #T_adef18bc_7eb4_11ea_a4ab_38f9d3bb4b3arow8_col9 {\n",
       "            background-color:  #455cce;\n",
       "            color:  #f1f1f1;\n",
       "        }    #T_adef18bc_7eb4_11ea_a4ab_38f9d3bb4b3arow8_col10 {\n",
       "            background-color:  #84a7fc;\n",
       "            color:  #000000;\n",
       "        }    #T_adef18bc_7eb4_11ea_a4ab_38f9d3bb4b3arow8_col11 {\n",
       "            background-color:  #5a78e4;\n",
       "            color:  #000000;\n",
       "        }    #T_adef18bc_7eb4_11ea_a4ab_38f9d3bb4b3arow8_col12 {\n",
       "            background-color:  #4b64d5;\n",
       "            color:  #f1f1f1;\n",
       "        }    #T_adef18bc_7eb4_11ea_a4ab_38f9d3bb4b3arow8_col13 {\n",
       "            background-color:  #88abfd;\n",
       "            color:  #000000;\n",
       "        }    #T_adef18bc_7eb4_11ea_a4ab_38f9d3bb4b3arow8_col14 {\n",
       "            background-color:  #7597f6;\n",
       "            color:  #000000;\n",
       "        }    #T_adef18bc_7eb4_11ea_a4ab_38f9d3bb4b3arow8_col15 {\n",
       "            background-color:  #80a3fa;\n",
       "            color:  #000000;\n",
       "        }    #T_adef18bc_7eb4_11ea_a4ab_38f9d3bb4b3arow8_col16 {\n",
       "            background-color:  #8badfd;\n",
       "            color:  #000000;\n",
       "        }    #T_adef18bc_7eb4_11ea_a4ab_38f9d3bb4b3arow8_col17 {\n",
       "            background-color:  #8fb1fe;\n",
       "            color:  #000000;\n",
       "        }    #T_adef18bc_7eb4_11ea_a4ab_38f9d3bb4b3arow8_col18 {\n",
       "            background-color:  #b5cdfa;\n",
       "            color:  #000000;\n",
       "        }    #T_adef18bc_7eb4_11ea_a4ab_38f9d3bb4b3arow8_col19 {\n",
       "            background-color:  #8fb1fe;\n",
       "            color:  #000000;\n",
       "        }    #T_adef18bc_7eb4_11ea_a4ab_38f9d3bb4b3arow8_col20 {\n",
       "            background-color:  #bbd1f8;\n",
       "            color:  #000000;\n",
       "        }    #T_adef18bc_7eb4_11ea_a4ab_38f9d3bb4b3arow8_col21 {\n",
       "            background-color:  #a7c5fe;\n",
       "            color:  #000000;\n",
       "        }    #T_adef18bc_7eb4_11ea_a4ab_38f9d3bb4b3arow8_col22 {\n",
       "            background-color:  #d8dce2;\n",
       "            color:  #000000;\n",
       "        }    #T_adef18bc_7eb4_11ea_a4ab_38f9d3bb4b3arow8_col23 {\n",
       "            background-color:  #85a8fc;\n",
       "            color:  #000000;\n",
       "        }    #T_adef18bc_7eb4_11ea_a4ab_38f9d3bb4b3arow9_col0 {\n",
       "            background-color:  #4358cb;\n",
       "            color:  #f1f1f1;\n",
       "        }    #T_adef18bc_7eb4_11ea_a4ab_38f9d3bb4b3arow9_col1 {\n",
       "            background-color:  #6f92f3;\n",
       "            color:  #000000;\n",
       "        }    #T_adef18bc_7eb4_11ea_a4ab_38f9d3bb4b3arow9_col2 {\n",
       "            background-color:  #90b2fe;\n",
       "            color:  #000000;\n",
       "        }    #T_adef18bc_7eb4_11ea_a4ab_38f9d3bb4b3arow9_col3 {\n",
       "            background-color:  #b1cbfc;\n",
       "            color:  #000000;\n",
       "        }    #T_adef18bc_7eb4_11ea_a4ab_38f9d3bb4b3arow9_col4 {\n",
       "            background-color:  #86a9fc;\n",
       "            color:  #000000;\n",
       "        }    #T_adef18bc_7eb4_11ea_a4ab_38f9d3bb4b3arow9_col5 {\n",
       "            background-color:  #8fb1fe;\n",
       "            color:  #000000;\n",
       "        }    #T_adef18bc_7eb4_11ea_a4ab_38f9d3bb4b3arow9_col6 {\n",
       "            background-color:  #a2c1ff;\n",
       "            color:  #000000;\n",
       "        }    #T_adef18bc_7eb4_11ea_a4ab_38f9d3bb4b3arow9_col7 {\n",
       "            background-color:  #7a9df8;\n",
       "            color:  #000000;\n",
       "        }    #T_adef18bc_7eb4_11ea_a4ab_38f9d3bb4b3arow9_col8 {\n",
       "            background-color:  #506bda;\n",
       "            color:  #000000;\n",
       "        }    #T_adef18bc_7eb4_11ea_a4ab_38f9d3bb4b3arow9_col9 {\n",
       "            background-color:  #b40426;\n",
       "            color:  #f1f1f1;\n",
       "        }    #T_adef18bc_7eb4_11ea_a4ab_38f9d3bb4b3arow9_col10 {\n",
       "            background-color:  #86a9fc;\n",
       "            color:  #000000;\n",
       "        }    #T_adef18bc_7eb4_11ea_a4ab_38f9d3bb4b3arow9_col11 {\n",
       "            background-color:  #5673e0;\n",
       "            color:  #000000;\n",
       "        }    #T_adef18bc_7eb4_11ea_a4ab_38f9d3bb4b3arow9_col12 {\n",
       "            background-color:  #4e68d8;\n",
       "            color:  #000000;\n",
       "        }    #T_adef18bc_7eb4_11ea_a4ab_38f9d3bb4b3arow9_col13 {\n",
       "            background-color:  #88abfd;\n",
       "            color:  #000000;\n",
       "        }    #T_adef18bc_7eb4_11ea_a4ab_38f9d3bb4b3arow9_col14 {\n",
       "            background-color:  #799cf8;\n",
       "            color:  #000000;\n",
       "        }    #T_adef18bc_7eb4_11ea_a4ab_38f9d3bb4b3arow9_col15 {\n",
       "            background-color:  #80a3fa;\n",
       "            color:  #000000;\n",
       "        }    #T_adef18bc_7eb4_11ea_a4ab_38f9d3bb4b3arow9_col16 {\n",
       "            background-color:  #8db0fe;\n",
       "            color:  #000000;\n",
       "        }    #T_adef18bc_7eb4_11ea_a4ab_38f9d3bb4b3arow9_col17 {\n",
       "            background-color:  #8db0fe;\n",
       "            color:  #000000;\n",
       "        }    #T_adef18bc_7eb4_11ea_a4ab_38f9d3bb4b3arow9_col18 {\n",
       "            background-color:  #b5cdfa;\n",
       "            color:  #000000;\n",
       "        }    #T_adef18bc_7eb4_11ea_a4ab_38f9d3bb4b3arow9_col19 {\n",
       "            background-color:  #8caffe;\n",
       "            color:  #000000;\n",
       "        }    #T_adef18bc_7eb4_11ea_a4ab_38f9d3bb4b3arow9_col20 {\n",
       "            background-color:  #b5cdfa;\n",
       "            color:  #000000;\n",
       "        }    #T_adef18bc_7eb4_11ea_a4ab_38f9d3bb4b3arow9_col21 {\n",
       "            background-color:  #9bbcff;\n",
       "            color:  #000000;\n",
       "        }    #T_adef18bc_7eb4_11ea_a4ab_38f9d3bb4b3arow9_col22 {\n",
       "            background-color:  #ccd9ed;\n",
       "            color:  #000000;\n",
       "        }    #T_adef18bc_7eb4_11ea_a4ab_38f9d3bb4b3arow9_col23 {\n",
       "            background-color:  #86a9fc;\n",
       "            color:  #000000;\n",
       "        }    #T_adef18bc_7eb4_11ea_a4ab_38f9d3bb4b3arow10_col0 {\n",
       "            background-color:  #6a8bef;\n",
       "            color:  #000000;\n",
       "        }    #T_adef18bc_7eb4_11ea_a4ab_38f9d3bb4b3arow10_col1 {\n",
       "            background-color:  #dddcdc;\n",
       "            color:  #000000;\n",
       "        }    #T_adef18bc_7eb4_11ea_a4ab_38f9d3bb4b3arow10_col2 {\n",
       "            background-color:  #f7b093;\n",
       "            color:  #000000;\n",
       "        }    #T_adef18bc_7eb4_11ea_a4ab_38f9d3bb4b3arow10_col3 {\n",
       "            background-color:  #e6d7cf;\n",
       "            color:  #000000;\n",
       "        }    #T_adef18bc_7eb4_11ea_a4ab_38f9d3bb4b3arow10_col4 {\n",
       "            background-color:  #dadce0;\n",
       "            color:  #000000;\n",
       "        }    #T_adef18bc_7eb4_11ea_a4ab_38f9d3bb4b3arow10_col5 {\n",
       "            background-color:  #b2ccfb;\n",
       "            color:  #000000;\n",
       "        }    #T_adef18bc_7eb4_11ea_a4ab_38f9d3bb4b3arow10_col6 {\n",
       "            background-color:  #f1cdba;\n",
       "            color:  #000000;\n",
       "        }    #T_adef18bc_7eb4_11ea_a4ab_38f9d3bb4b3arow10_col7 {\n",
       "            background-color:  #9abbff;\n",
       "            color:  #000000;\n",
       "        }    #T_adef18bc_7eb4_11ea_a4ab_38f9d3bb4b3arow10_col8 {\n",
       "            background-color:  #4b64d5;\n",
       "            color:  #f1f1f1;\n",
       "        }    #T_adef18bc_7eb4_11ea_a4ab_38f9d3bb4b3arow10_col9 {\n",
       "            background-color:  #4358cb;\n",
       "            color:  #f1f1f1;\n",
       "        }    #T_adef18bc_7eb4_11ea_a4ab_38f9d3bb4b3arow10_col10 {\n",
       "            background-color:  #b40426;\n",
       "            color:  #f1f1f1;\n",
       "        }    #T_adef18bc_7eb4_11ea_a4ab_38f9d3bb4b3arow10_col11 {\n",
       "            background-color:  #7295f4;\n",
       "            color:  #000000;\n",
       "        }    #T_adef18bc_7eb4_11ea_a4ab_38f9d3bb4b3arow10_col12 {\n",
       "            background-color:  #5572df;\n",
       "            color:  #000000;\n",
       "        }    #T_adef18bc_7eb4_11ea_a4ab_38f9d3bb4b3arow10_col13 {\n",
       "            background-color:  #5875e1;\n",
       "            color:  #000000;\n",
       "        }    #T_adef18bc_7eb4_11ea_a4ab_38f9d3bb4b3arow10_col14 {\n",
       "            background-color:  #9dbdff;\n",
       "            color:  #000000;\n",
       "        }    #T_adef18bc_7eb4_11ea_a4ab_38f9d3bb4b3arow10_col15 {\n",
       "            background-color:  #85a8fc;\n",
       "            color:  #000000;\n",
       "        }    #T_adef18bc_7eb4_11ea_a4ab_38f9d3bb4b3arow10_col16 {\n",
       "            background-color:  #bad0f8;\n",
       "            color:  #000000;\n",
       "        }    #T_adef18bc_7eb4_11ea_a4ab_38f9d3bb4b3arow10_col17 {\n",
       "            background-color:  #7396f5;\n",
       "            color:  #000000;\n",
       "        }    #T_adef18bc_7eb4_11ea_a4ab_38f9d3bb4b3arow10_col18 {\n",
       "            background-color:  #cdd9ec;\n",
       "            color:  #000000;\n",
       "        }    #T_adef18bc_7eb4_11ea_a4ab_38f9d3bb4b3arow10_col19 {\n",
       "            background-color:  #dddcdc;\n",
       "            color:  #000000;\n",
       "        }    #T_adef18bc_7eb4_11ea_a4ab_38f9d3bb4b3arow10_col20 {\n",
       "            background-color:  #aec9fc;\n",
       "            color:  #000000;\n",
       "        }    #T_adef18bc_7eb4_11ea_a4ab_38f9d3bb4b3arow10_col21 {\n",
       "            background-color:  #3e51c5;\n",
       "            color:  #f1f1f1;\n",
       "        }    #T_adef18bc_7eb4_11ea_a4ab_38f9d3bb4b3arow10_col22 {\n",
       "            background-color:  #f4c6af;\n",
       "            color:  #000000;\n",
       "        }    #T_adef18bc_7eb4_11ea_a4ab_38f9d3bb4b3arow10_col23 {\n",
       "            background-color:  #6f92f3;\n",
       "            color:  #000000;\n",
       "        }    #T_adef18bc_7eb4_11ea_a4ab_38f9d3bb4b3arow11_col0 {\n",
       "            background-color:  #7093f3;\n",
       "            color:  #000000;\n",
       "        }    #T_adef18bc_7eb4_11ea_a4ab_38f9d3bb4b3arow11_col1 {\n",
       "            background-color:  #7da0f9;\n",
       "            color:  #000000;\n",
       "        }    #T_adef18bc_7eb4_11ea_a4ab_38f9d3bb4b3arow11_col2 {\n",
       "            background-color:  #a9c6fd;\n",
       "            color:  #000000;\n",
       "        }    #T_adef18bc_7eb4_11ea_a4ab_38f9d3bb4b3arow11_col3 {\n",
       "            background-color:  #bfd3f6;\n",
       "            color:  #000000;\n",
       "        }    #T_adef18bc_7eb4_11ea_a4ab_38f9d3bb4b3arow11_col4 {\n",
       "            background-color:  #82a6fb;\n",
       "            color:  #000000;\n",
       "        }    #T_adef18bc_7eb4_11ea_a4ab_38f9d3bb4b3arow11_col5 {\n",
       "            background-color:  #b6cefa;\n",
       "            color:  #000000;\n",
       "        }    #T_adef18bc_7eb4_11ea_a4ab_38f9d3bb4b3arow11_col6 {\n",
       "            background-color:  #afcafc;\n",
       "            color:  #000000;\n",
       "        }    #T_adef18bc_7eb4_11ea_a4ab_38f9d3bb4b3arow11_col7 {\n",
       "            background-color:  #a1c0ff;\n",
       "            color:  #000000;\n",
       "        }    #T_adef18bc_7eb4_11ea_a4ab_38f9d3bb4b3arow11_col8 {\n",
       "            background-color:  #5a78e4;\n",
       "            color:  #000000;\n",
       "        }    #T_adef18bc_7eb4_11ea_a4ab_38f9d3bb4b3arow11_col9 {\n",
       "            background-color:  #4c66d6;\n",
       "            color:  #000000;\n",
       "        }    #T_adef18bc_7eb4_11ea_a4ab_38f9d3bb4b3arow11_col10 {\n",
       "            background-color:  #a7c5fe;\n",
       "            color:  #000000;\n",
       "        }    #T_adef18bc_7eb4_11ea_a4ab_38f9d3bb4b3arow11_col11 {\n",
       "            background-color:  #b40426;\n",
       "            color:  #f1f1f1;\n",
       "        }    #T_adef18bc_7eb4_11ea_a4ab_38f9d3bb4b3arow11_col12 {\n",
       "            background-color:  #6687ed;\n",
       "            color:  #000000;\n",
       "        }    #T_adef18bc_7eb4_11ea_a4ab_38f9d3bb4b3arow11_col13 {\n",
       "            background-color:  #97b8ff;\n",
       "            color:  #000000;\n",
       "        }    #T_adef18bc_7eb4_11ea_a4ab_38f9d3bb4b3arow11_col14 {\n",
       "            background-color:  #6788ee;\n",
       "            color:  #000000;\n",
       "        }    #T_adef18bc_7eb4_11ea_a4ab_38f9d3bb4b3arow11_col15 {\n",
       "            background-color:  #89acfd;\n",
       "            color:  #000000;\n",
       "        }    #T_adef18bc_7eb4_11ea_a4ab_38f9d3bb4b3arow11_col16 {\n",
       "            background-color:  #84a7fc;\n",
       "            color:  #000000;\n",
       "        }    #T_adef18bc_7eb4_11ea_a4ab_38f9d3bb4b3arow11_col17 {\n",
       "            background-color:  #92b4fe;\n",
       "            color:  #000000;\n",
       "        }    #T_adef18bc_7eb4_11ea_a4ab_38f9d3bb4b3arow11_col18 {\n",
       "            background-color:  #b3cdfb;\n",
       "            color:  #000000;\n",
       "        }    #T_adef18bc_7eb4_11ea_a4ab_38f9d3bb4b3arow11_col19 {\n",
       "            background-color:  #9dbdff;\n",
       "            color:  #000000;\n",
       "        }    #T_adef18bc_7eb4_11ea_a4ab_38f9d3bb4b3arow11_col20 {\n",
       "            background-color:  #f1cdba;\n",
       "            color:  #000000;\n",
       "        }    #T_adef18bc_7eb4_11ea_a4ab_38f9d3bb4b3arow11_col21 {\n",
       "            background-color:  #7a9df8;\n",
       "            color:  #000000;\n",
       "        }    #T_adef18bc_7eb4_11ea_a4ab_38f9d3bb4b3arow11_col22 {\n",
       "            background-color:  #c0d4f5;\n",
       "            color:  #000000;\n",
       "        }    #T_adef18bc_7eb4_11ea_a4ab_38f9d3bb4b3arow11_col23 {\n",
       "            background-color:  #84a7fc;\n",
       "            color:  #000000;\n",
       "        }    #T_adef18bc_7eb4_11ea_a4ab_38f9d3bb4b3arow12_col0 {\n",
       "            background-color:  #4961d2;\n",
       "            color:  #f1f1f1;\n",
       "        }    #T_adef18bc_7eb4_11ea_a4ab_38f9d3bb4b3arow12_col1 {\n",
       "            background-color:  #6a8bef;\n",
       "            color:  #000000;\n",
       "        }    #T_adef18bc_7eb4_11ea_a4ab_38f9d3bb4b3arow12_col2 {\n",
       "            background-color:  #92b4fe;\n",
       "            color:  #000000;\n",
       "        }    #T_adef18bc_7eb4_11ea_a4ab_38f9d3bb4b3arow12_col3 {\n",
       "            background-color:  #adc9fd;\n",
       "            color:  #000000;\n",
       "        }    #T_adef18bc_7eb4_11ea_a4ab_38f9d3bb4b3arow12_col4 {\n",
       "            background-color:  #6f92f3;\n",
       "            color:  #000000;\n",
       "        }    #T_adef18bc_7eb4_11ea_a4ab_38f9d3bb4b3arow12_col5 {\n",
       "            background-color:  #9ebeff;\n",
       "            color:  #000000;\n",
       "        }    #T_adef18bc_7eb4_11ea_a4ab_38f9d3bb4b3arow12_col6 {\n",
       "            background-color:  #9dbdff;\n",
       "            color:  #000000;\n",
       "        }    #T_adef18bc_7eb4_11ea_a4ab_38f9d3bb4b3arow12_col7 {\n",
       "            background-color:  #85a8fc;\n",
       "            color:  #000000;\n",
       "        }    #T_adef18bc_7eb4_11ea_a4ab_38f9d3bb4b3arow12_col8 {\n",
       "            background-color:  #4b64d5;\n",
       "            color:  #f1f1f1;\n",
       "        }    #T_adef18bc_7eb4_11ea_a4ab_38f9d3bb4b3arow12_col9 {\n",
       "            background-color:  #4358cb;\n",
       "            color:  #f1f1f1;\n",
       "        }    #T_adef18bc_7eb4_11ea_a4ab_38f9d3bb4b3arow12_col10 {\n",
       "            background-color:  #8db0fe;\n",
       "            color:  #000000;\n",
       "        }    #T_adef18bc_7eb4_11ea_a4ab_38f9d3bb4b3arow12_col11 {\n",
       "            background-color:  #6485ec;\n",
       "            color:  #000000;\n",
       "        }    #T_adef18bc_7eb4_11ea_a4ab_38f9d3bb4b3arow12_col12 {\n",
       "            background-color:  #b40426;\n",
       "            color:  #f1f1f1;\n",
       "        }    #T_adef18bc_7eb4_11ea_a4ab_38f9d3bb4b3arow12_col13 {\n",
       "            background-color:  #cedaeb;\n",
       "            color:  #000000;\n",
       "        }    #T_adef18bc_7eb4_11ea_a4ab_38f9d3bb4b3arow12_col14 {\n",
       "            background-color:  #7ea1fa;\n",
       "            color:  #000000;\n",
       "        }    #T_adef18bc_7eb4_11ea_a4ab_38f9d3bb4b3arow12_col15 {\n",
       "            background-color:  #688aef;\n",
       "            color:  #000000;\n",
       "        }    #T_adef18bc_7eb4_11ea_a4ab_38f9d3bb4b3arow12_col16 {\n",
       "            background-color:  #81a4fb;\n",
       "            color:  #000000;\n",
       "        }    #T_adef18bc_7eb4_11ea_a4ab_38f9d3bb4b3arow12_col17 {\n",
       "            background-color:  #92b4fe;\n",
       "            color:  #000000;\n",
       "        }    #T_adef18bc_7eb4_11ea_a4ab_38f9d3bb4b3arow12_col18 {\n",
       "            background-color:  #b6cefa;\n",
       "            color:  #000000;\n",
       "        }    #T_adef18bc_7eb4_11ea_a4ab_38f9d3bb4b3arow12_col19 {\n",
       "            background-color:  #80a3fa;\n",
       "            color:  #000000;\n",
       "        }    #T_adef18bc_7eb4_11ea_a4ab_38f9d3bb4b3arow12_col20 {\n",
       "            background-color:  #bbd1f8;\n",
       "            color:  #000000;\n",
       "        }    #T_adef18bc_7eb4_11ea_a4ab_38f9d3bb4b3arow12_col21 {\n",
       "            background-color:  #799cf8;\n",
       "            color:  #000000;\n",
       "        }    #T_adef18bc_7eb4_11ea_a4ab_38f9d3bb4b3arow12_col22 {\n",
       "            background-color:  #c1d4f4;\n",
       "            color:  #000000;\n",
       "        }    #T_adef18bc_7eb4_11ea_a4ab_38f9d3bb4b3arow12_col23 {\n",
       "            background-color:  #8db0fe;\n",
       "            color:  #000000;\n",
       "        }    #T_adef18bc_7eb4_11ea_a4ab_38f9d3bb4b3arow13_col0 {\n",
       "            background-color:  #3d50c3;\n",
       "            color:  #f1f1f1;\n",
       "        }    #T_adef18bc_7eb4_11ea_a4ab_38f9d3bb4b3arow13_col1 {\n",
       "            background-color:  #3b4cc0;\n",
       "            color:  #f1f1f1;\n",
       "        }    #T_adef18bc_7eb4_11ea_a4ab_38f9d3bb4b3arow13_col2 {\n",
       "            background-color:  #5f7fe8;\n",
       "            color:  #000000;\n",
       "        }    #T_adef18bc_7eb4_11ea_a4ab_38f9d3bb4b3arow13_col3 {\n",
       "            background-color:  #93b5fe;\n",
       "            color:  #000000;\n",
       "        }    #T_adef18bc_7eb4_11ea_a4ab_38f9d3bb4b3arow13_col4 {\n",
       "            background-color:  #3b4cc0;\n",
       "            color:  #f1f1f1;\n",
       "        }    #T_adef18bc_7eb4_11ea_a4ab_38f9d3bb4b3arow13_col5 {\n",
       "            background-color:  #85a8fc;\n",
       "            color:  #000000;\n",
       "        }    #T_adef18bc_7eb4_11ea_a4ab_38f9d3bb4b3arow13_col6 {\n",
       "            background-color:  #7699f6;\n",
       "            color:  #000000;\n",
       "        }    #T_adef18bc_7eb4_11ea_a4ab_38f9d3bb4b3arow13_col7 {\n",
       "            background-color:  #7295f4;\n",
       "            color:  #000000;\n",
       "        }    #T_adef18bc_7eb4_11ea_a4ab_38f9d3bb4b3arow13_col8 {\n",
       "            background-color:  #4f69d9;\n",
       "            color:  #000000;\n",
       "        }    #T_adef18bc_7eb4_11ea_a4ab_38f9d3bb4b3arow13_col9 {\n",
       "            background-color:  #455cce;\n",
       "            color:  #f1f1f1;\n",
       "        }    #T_adef18bc_7eb4_11ea_a4ab_38f9d3bb4b3arow13_col10 {\n",
       "            background-color:  #5875e1;\n",
       "            color:  #000000;\n",
       "        }    #T_adef18bc_7eb4_11ea_a4ab_38f9d3bb4b3arow13_col11 {\n",
       "            background-color:  #5f7fe8;\n",
       "            color:  #000000;\n",
       "        }    #T_adef18bc_7eb4_11ea_a4ab_38f9d3bb4b3arow13_col12 {\n",
       "            background-color:  #a7c5fe;\n",
       "            color:  #000000;\n",
       "        }    #T_adef18bc_7eb4_11ea_a4ab_38f9d3bb4b3arow13_col13 {\n",
       "            background-color:  #b40426;\n",
       "            color:  #f1f1f1;\n",
       "        }    #T_adef18bc_7eb4_11ea_a4ab_38f9d3bb4b3arow13_col14 {\n",
       "            background-color:  #536edd;\n",
       "            color:  #000000;\n",
       "        }    #T_adef18bc_7eb4_11ea_a4ab_38f9d3bb4b3arow13_col15 {\n",
       "            background-color:  #7093f3;\n",
       "            color:  #000000;\n",
       "        }    #T_adef18bc_7eb4_11ea_a4ab_38f9d3bb4b3arow13_col16 {\n",
       "            background-color:  #7b9ff9;\n",
       "            color:  #000000;\n",
       "        }    #T_adef18bc_7eb4_11ea_a4ab_38f9d3bb4b3arow13_col17 {\n",
       "            background-color:  #96b7ff;\n",
       "            color:  #000000;\n",
       "        }    #T_adef18bc_7eb4_11ea_a4ab_38f9d3bb4b3arow13_col18 {\n",
       "            background-color:  #aec9fc;\n",
       "            color:  #000000;\n",
       "        }    #T_adef18bc_7eb4_11ea_a4ab_38f9d3bb4b3arow13_col19 {\n",
       "            background-color:  #3b4cc0;\n",
       "            color:  #f1f1f1;\n",
       "        }    #T_adef18bc_7eb4_11ea_a4ab_38f9d3bb4b3arow13_col20 {\n",
       "            background-color:  #bfd3f6;\n",
       "            color:  #000000;\n",
       "        }    #T_adef18bc_7eb4_11ea_a4ab_38f9d3bb4b3arow13_col21 {\n",
       "            background-color:  #89acfd;\n",
       "            color:  #000000;\n",
       "        }    #T_adef18bc_7eb4_11ea_a4ab_38f9d3bb4b3arow13_col22 {\n",
       "            background-color:  #c0d4f5;\n",
       "            color:  #000000;\n",
       "        }    #T_adef18bc_7eb4_11ea_a4ab_38f9d3bb4b3arow13_col23 {\n",
       "            background-color:  #c0d4f5;\n",
       "            color:  #000000;\n",
       "        }    #T_adef18bc_7eb4_11ea_a4ab_38f9d3bb4b3arow14_col0 {\n",
       "            background-color:  #5470de;\n",
       "            color:  #000000;\n",
       "        }    #T_adef18bc_7eb4_11ea_a4ab_38f9d3bb4b3arow14_col1 {\n",
       "            background-color:  #adc9fd;\n",
       "            color:  #000000;\n",
       "        }    #T_adef18bc_7eb4_11ea_a4ab_38f9d3bb4b3arow14_col2 {\n",
       "            background-color:  #c9d7f0;\n",
       "            color:  #000000;\n",
       "        }    #T_adef18bc_7eb4_11ea_a4ab_38f9d3bb4b3arow14_col3 {\n",
       "            background-color:  #d6dce4;\n",
       "            color:  #000000;\n",
       "        }    #T_adef18bc_7eb4_11ea_a4ab_38f9d3bb4b3arow14_col4 {\n",
       "            background-color:  #c7d7f0;\n",
       "            color:  #000000;\n",
       "        }    #T_adef18bc_7eb4_11ea_a4ab_38f9d3bb4b3arow14_col5 {\n",
       "            background-color:  #5875e1;\n",
       "            color:  #000000;\n",
       "        }    #T_adef18bc_7eb4_11ea_a4ab_38f9d3bb4b3arow14_col6 {\n",
       "            background-color:  #d5dbe5;\n",
       "            color:  #000000;\n",
       "        }    #T_adef18bc_7eb4_11ea_a4ab_38f9d3bb4b3arow14_col7 {\n",
       "            background-color:  #5470de;\n",
       "            color:  #000000;\n",
       "        }    #T_adef18bc_7eb4_11ea_a4ab_38f9d3bb4b3arow14_col8 {\n",
       "            background-color:  #485fd1;\n",
       "            color:  #f1f1f1;\n",
       "        }    #T_adef18bc_7eb4_11ea_a4ab_38f9d3bb4b3arow14_col9 {\n",
       "            background-color:  #4358cb;\n",
       "            color:  #f1f1f1;\n",
       "        }    #T_adef18bc_7eb4_11ea_a4ab_38f9d3bb4b3arow14_col10 {\n",
       "            background-color:  #a7c5fe;\n",
       "            color:  #000000;\n",
       "        }    #T_adef18bc_7eb4_11ea_a4ab_38f9d3bb4b3arow14_col11 {\n",
       "            background-color:  #3b4cc0;\n",
       "            color:  #f1f1f1;\n",
       "        }    #T_adef18bc_7eb4_11ea_a4ab_38f9d3bb4b3arow14_col12 {\n",
       "            background-color:  #536edd;\n",
       "            color:  #000000;\n",
       "        }    #T_adef18bc_7eb4_11ea_a4ab_38f9d3bb4b3arow14_col13 {\n",
       "            background-color:  #6180e9;\n",
       "            color:  #000000;\n",
       "        }    #T_adef18bc_7eb4_11ea_a4ab_38f9d3bb4b3arow14_col14 {\n",
       "            background-color:  #b40426;\n",
       "            color:  #f1f1f1;\n",
       "        }    #T_adef18bc_7eb4_11ea_a4ab_38f9d3bb4b3arow14_col15 {\n",
       "            background-color:  #3b4cc0;\n",
       "            color:  #f1f1f1;\n",
       "        }    #T_adef18bc_7eb4_11ea_a4ab_38f9d3bb4b3arow14_col16 {\n",
       "            background-color:  #e8d6cc;\n",
       "            color:  #000000;\n",
       "        }    #T_adef18bc_7eb4_11ea_a4ab_38f9d3bb4b3arow14_col17 {\n",
       "            background-color:  #6282ea;\n",
       "            color:  #000000;\n",
       "        }    #T_adef18bc_7eb4_11ea_a4ab_38f9d3bb4b3arow14_col18 {\n",
       "            background-color:  #c4d5f3;\n",
       "            color:  #000000;\n",
       "        }    #T_adef18bc_7eb4_11ea_a4ab_38f9d3bb4b3arow14_col19 {\n",
       "            background-color:  #d2dbe8;\n",
       "            color:  #000000;\n",
       "        }    #T_adef18bc_7eb4_11ea_a4ab_38f9d3bb4b3arow14_col20 {\n",
       "            background-color:  #afcafc;\n",
       "            color:  #000000;\n",
       "        }    #T_adef18bc_7eb4_11ea_a4ab_38f9d3bb4b3arow14_col21 {\n",
       "            background-color:  #96b7ff;\n",
       "            color:  #000000;\n",
       "        }    #T_adef18bc_7eb4_11ea_a4ab_38f9d3bb4b3arow14_col22 {\n",
       "            background-color:  #a5c3fe;\n",
       "            color:  #000000;\n",
       "        }    #T_adef18bc_7eb4_11ea_a4ab_38f9d3bb4b3arow14_col23 {\n",
       "            background-color:  #3b4cc0;\n",
       "            color:  #f1f1f1;\n",
       "        }    #T_adef18bc_7eb4_11ea_a4ab_38f9d3bb4b3arow15_col0 {\n",
       "            background-color:  #485fd1;\n",
       "            color:  #f1f1f1;\n",
       "        }    #T_adef18bc_7eb4_11ea_a4ab_38f9d3bb4b3arow15_col1 {\n",
       "            background-color:  #6f92f3;\n",
       "            color:  #000000;\n",
       "        }    #T_adef18bc_7eb4_11ea_a4ab_38f9d3bb4b3arow15_col2 {\n",
       "            background-color:  #96b7ff;\n",
       "            color:  #000000;\n",
       "        }    #T_adef18bc_7eb4_11ea_a4ab_38f9d3bb4b3arow15_col3 {\n",
       "            background-color:  #afcafc;\n",
       "            color:  #000000;\n",
       "        }    #T_adef18bc_7eb4_11ea_a4ab_38f9d3bb4b3arow15_col4 {\n",
       "            background-color:  #7699f6;\n",
       "            color:  #000000;\n",
       "        }    #T_adef18bc_7eb4_11ea_a4ab_38f9d3bb4b3arow15_col5 {\n",
       "            background-color:  #9bbcff;\n",
       "            color:  #000000;\n",
       "        }    #T_adef18bc_7eb4_11ea_a4ab_38f9d3bb4b3arow15_col6 {\n",
       "            background-color:  #9fbfff;\n",
       "            color:  #000000;\n",
       "        }    #T_adef18bc_7eb4_11ea_a4ab_38f9d3bb4b3arow15_col7 {\n",
       "            background-color:  #85a8fc;\n",
       "            color:  #000000;\n",
       "        }    #T_adef18bc_7eb4_11ea_a4ab_38f9d3bb4b3arow15_col8 {\n",
       "            background-color:  #5470de;\n",
       "            color:  #000000;\n",
       "        }    #T_adef18bc_7eb4_11ea_a4ab_38f9d3bb4b3arow15_col9 {\n",
       "            background-color:  #4a63d3;\n",
       "            color:  #f1f1f1;\n",
       "        }    #T_adef18bc_7eb4_11ea_a4ab_38f9d3bb4b3arow15_col10 {\n",
       "            background-color:  #92b4fe;\n",
       "            color:  #000000;\n",
       "        }    #T_adef18bc_7eb4_11ea_a4ab_38f9d3bb4b3arow15_col11 {\n",
       "            background-color:  #5e7de7;\n",
       "            color:  #000000;\n",
       "        }    #T_adef18bc_7eb4_11ea_a4ab_38f9d3bb4b3arow15_col12 {\n",
       "            background-color:  #3d50c3;\n",
       "            color:  #f1f1f1;\n",
       "        }    #T_adef18bc_7eb4_11ea_a4ab_38f9d3bb4b3arow15_col13 {\n",
       "            background-color:  #7ea1fa;\n",
       "            color:  #000000;\n",
       "        }    #T_adef18bc_7eb4_11ea_a4ab_38f9d3bb4b3arow15_col14 {\n",
       "            background-color:  #3b4cc0;\n",
       "            color:  #f1f1f1;\n",
       "        }    #T_adef18bc_7eb4_11ea_a4ab_38f9d3bb4b3arow15_col15 {\n",
       "            background-color:  #b40426;\n",
       "            color:  #f1f1f1;\n",
       "        }    #T_adef18bc_7eb4_11ea_a4ab_38f9d3bb4b3arow15_col16 {\n",
       "            background-color:  #a3c2fe;\n",
       "            color:  #000000;\n",
       "        }    #T_adef18bc_7eb4_11ea_a4ab_38f9d3bb4b3arow15_col17 {\n",
       "            background-color:  #8fb1fe;\n",
       "            color:  #000000;\n",
       "        }    #T_adef18bc_7eb4_11ea_a4ab_38f9d3bb4b3arow15_col18 {\n",
       "            background-color:  #bfd3f6;\n",
       "            color:  #000000;\n",
       "        }    #T_adef18bc_7eb4_11ea_a4ab_38f9d3bb4b3arow15_col19 {\n",
       "            background-color:  #8db0fe;\n",
       "            color:  #000000;\n",
       "        }    #T_adef18bc_7eb4_11ea_a4ab_38f9d3bb4b3arow15_col20 {\n",
       "            background-color:  #b5cdfa;\n",
       "            color:  #000000;\n",
       "        }    #T_adef18bc_7eb4_11ea_a4ab_38f9d3bb4b3arow15_col21 {\n",
       "            background-color:  #779af7;\n",
       "            color:  #000000;\n",
       "        }    #T_adef18bc_7eb4_11ea_a4ab_38f9d3bb4b3arow15_col22 {\n",
       "            background-color:  #c5d6f2;\n",
       "            color:  #000000;\n",
       "        }    #T_adef18bc_7eb4_11ea_a4ab_38f9d3bb4b3arow15_col23 {\n",
       "            background-color:  #81a4fb;\n",
       "            color:  #000000;\n",
       "        }    #T_adef18bc_7eb4_11ea_a4ab_38f9d3bb4b3arow16_col0 {\n",
       "            background-color:  #4c66d6;\n",
       "            color:  #000000;\n",
       "        }    #T_adef18bc_7eb4_11ea_a4ab_38f9d3bb4b3arow16_col1 {\n",
       "            background-color:  #afcafc;\n",
       "            color:  #000000;\n",
       "        }    #T_adef18bc_7eb4_11ea_a4ab_38f9d3bb4b3arow16_col2 {\n",
       "            background-color:  #cad8ef;\n",
       "            color:  #000000;\n",
       "        }    #T_adef18bc_7eb4_11ea_a4ab_38f9d3bb4b3arow16_col3 {\n",
       "            background-color:  #d1dae9;\n",
       "            color:  #000000;\n",
       "        }    #T_adef18bc_7eb4_11ea_a4ab_38f9d3bb4b3arow16_col4 {\n",
       "            background-color:  #c0d4f5;\n",
       "            color:  #000000;\n",
       "        }    #T_adef18bc_7eb4_11ea_a4ab_38f9d3bb4b3arow16_col5 {\n",
       "            background-color:  #7597f6;\n",
       "            color:  #000000;\n",
       "        }    #T_adef18bc_7eb4_11ea_a4ab_38f9d3bb4b3arow16_col6 {\n",
       "            background-color:  #cfdaea;\n",
       "            color:  #000000;\n",
       "        }    #T_adef18bc_7eb4_11ea_a4ab_38f9d3bb4b3arow16_col7 {\n",
       "            background-color:  #688aef;\n",
       "            color:  #000000;\n",
       "        }    #T_adef18bc_7eb4_11ea_a4ab_38f9d3bb4b3arow16_col8 {\n",
       "            background-color:  #4e68d8;\n",
       "            color:  #000000;\n",
       "        }    #T_adef18bc_7eb4_11ea_a4ab_38f9d3bb4b3arow16_col9 {\n",
       "            background-color:  #465ecf;\n",
       "            color:  #f1f1f1;\n",
       "        }    #T_adef18bc_7eb4_11ea_a4ab_38f9d3bb4b3arow16_col10 {\n",
       "            background-color:  #b7cff9;\n",
       "            color:  #000000;\n",
       "        }    #T_adef18bc_7eb4_11ea_a4ab_38f9d3bb4b3arow16_col11 {\n",
       "            background-color:  #455cce;\n",
       "            color:  #f1f1f1;\n",
       "        }    #T_adef18bc_7eb4_11ea_a4ab_38f9d3bb4b3arow16_col12 {\n",
       "            background-color:  #4358cb;\n",
       "            color:  #f1f1f1;\n",
       "        }    #T_adef18bc_7eb4_11ea_a4ab_38f9d3bb4b3arow16_col13 {\n",
       "            background-color:  #779af7;\n",
       "            color:  #000000;\n",
       "        }    #T_adef18bc_7eb4_11ea_a4ab_38f9d3bb4b3arow16_col14 {\n",
       "            background-color:  #e1dad6;\n",
       "            color:  #000000;\n",
       "        }    #T_adef18bc_7eb4_11ea_a4ab_38f9d3bb4b3arow16_col15 {\n",
       "            background-color:  #93b5fe;\n",
       "            color:  #000000;\n",
       "        }    #T_adef18bc_7eb4_11ea_a4ab_38f9d3bb4b3arow16_col16 {\n",
       "            background-color:  #b40426;\n",
       "            color:  #f1f1f1;\n",
       "        }    #T_adef18bc_7eb4_11ea_a4ab_38f9d3bb4b3arow16_col17 {\n",
       "            background-color:  #3b4cc0;\n",
       "            color:  #f1f1f1;\n",
       "        }    #T_adef18bc_7eb4_11ea_a4ab_38f9d3bb4b3arow16_col18 {\n",
       "            background-color:  #c6d6f1;\n",
       "            color:  #000000;\n",
       "        }    #T_adef18bc_7eb4_11ea_a4ab_38f9d3bb4b3arow16_col19 {\n",
       "            background-color:  #d5dbe5;\n",
       "            color:  #000000;\n",
       "        }    #T_adef18bc_7eb4_11ea_a4ab_38f9d3bb4b3arow16_col20 {\n",
       "            background-color:  #afcafc;\n",
       "            color:  #000000;\n",
       "        }    #T_adef18bc_7eb4_11ea_a4ab_38f9d3bb4b3arow16_col21 {\n",
       "            background-color:  #84a7fc;\n",
       "            color:  #000000;\n",
       "        }    #T_adef18bc_7eb4_11ea_a4ab_38f9d3bb4b3arow16_col22 {\n",
       "            background-color:  #b3cdfb;\n",
       "            color:  #000000;\n",
       "        }    #T_adef18bc_7eb4_11ea_a4ab_38f9d3bb4b3arow16_col23 {\n",
       "            background-color:  #3e51c5;\n",
       "            color:  #f1f1f1;\n",
       "        }    #T_adef18bc_7eb4_11ea_a4ab_38f9d3bb4b3arow17_col0 {\n",
       "            background-color:  #4961d2;\n",
       "            color:  #f1f1f1;\n",
       "        }    #T_adef18bc_7eb4_11ea_a4ab_38f9d3bb4b3arow17_col1 {\n",
       "            background-color:  #5a78e4;\n",
       "            color:  #000000;\n",
       "        }    #T_adef18bc_7eb4_11ea_a4ab_38f9d3bb4b3arow17_col2 {\n",
       "            background-color:  #81a4fb;\n",
       "            color:  #000000;\n",
       "        }    #T_adef18bc_7eb4_11ea_a4ab_38f9d3bb4b3arow17_col3 {\n",
       "            background-color:  #aec9fc;\n",
       "            color:  #000000;\n",
       "        }    #T_adef18bc_7eb4_11ea_a4ab_38f9d3bb4b3arow17_col4 {\n",
       "            background-color:  #6485ec;\n",
       "            color:  #000000;\n",
       "        }    #T_adef18bc_7eb4_11ea_a4ab_38f9d3bb4b3arow17_col5 {\n",
       "            background-color:  #8caffe;\n",
       "            color:  #000000;\n",
       "        }    #T_adef18bc_7eb4_11ea_a4ab_38f9d3bb4b3arow17_col6 {\n",
       "            background-color:  #98b9ff;\n",
       "            color:  #000000;\n",
       "        }    #T_adef18bc_7eb4_11ea_a4ab_38f9d3bb4b3arow17_col7 {\n",
       "            background-color:  #779af7;\n",
       "            color:  #000000;\n",
       "        }    #T_adef18bc_7eb4_11ea_a4ab_38f9d3bb4b3arow17_col8 {\n",
       "            background-color:  #516ddb;\n",
       "            color:  #000000;\n",
       "        }    #T_adef18bc_7eb4_11ea_a4ab_38f9d3bb4b3arow17_col9 {\n",
       "            background-color:  #465ecf;\n",
       "            color:  #f1f1f1;\n",
       "        }    #T_adef18bc_7eb4_11ea_a4ab_38f9d3bb4b3arow17_col10 {\n",
       "            background-color:  #6e90f2;\n",
       "            color:  #000000;\n",
       "        }    #T_adef18bc_7eb4_11ea_a4ab_38f9d3bb4b3arow17_col11 {\n",
       "            background-color:  #5470de;\n",
       "            color:  #000000;\n",
       "        }    #T_adef18bc_7eb4_11ea_a4ab_38f9d3bb4b3arow17_col12 {\n",
       "            background-color:  #5572df;\n",
       "            color:  #000000;\n",
       "        }    #T_adef18bc_7eb4_11ea_a4ab_38f9d3bb4b3arow17_col13 {\n",
       "            background-color:  #92b4fe;\n",
       "            color:  #000000;\n",
       "        }    #T_adef18bc_7eb4_11ea_a4ab_38f9d3bb4b3arow17_col14 {\n",
       "            background-color:  #506bda;\n",
       "            color:  #000000;\n",
       "        }    #T_adef18bc_7eb4_11ea_a4ab_38f9d3bb4b3arow17_col15 {\n",
       "            background-color:  #7da0f9;\n",
       "            color:  #000000;\n",
       "        }    #T_adef18bc_7eb4_11ea_a4ab_38f9d3bb4b3arow17_col16 {\n",
       "            background-color:  #3b4cc0;\n",
       "            color:  #f1f1f1;\n",
       "        }    #T_adef18bc_7eb4_11ea_a4ab_38f9d3bb4b3arow17_col17 {\n",
       "            background-color:  #b40426;\n",
       "            color:  #f1f1f1;\n",
       "        }    #T_adef18bc_7eb4_11ea_a4ab_38f9d3bb4b3arow17_col18 {\n",
       "            background-color:  #a9c6fd;\n",
       "            color:  #000000;\n",
       "        }    #T_adef18bc_7eb4_11ea_a4ab_38f9d3bb4b3arow17_col19 {\n",
       "            background-color:  #6f92f3;\n",
       "            color:  #000000;\n",
       "        }    #T_adef18bc_7eb4_11ea_a4ab_38f9d3bb4b3arow17_col20 {\n",
       "            background-color:  #c1d4f4;\n",
       "            color:  #000000;\n",
       "        }    #T_adef18bc_7eb4_11ea_a4ab_38f9d3bb4b3arow17_col21 {\n",
       "            background-color:  #96b7ff;\n",
       "            color:  #000000;\n",
       "        }    #T_adef18bc_7eb4_11ea_a4ab_38f9d3bb4b3arow17_col22 {\n",
       "            background-color:  #b7cff9;\n",
       "            color:  #000000;\n",
       "        }    #T_adef18bc_7eb4_11ea_a4ab_38f9d3bb4b3arow17_col23 {\n",
       "            background-color:  #89acfd;\n",
       "            color:  #000000;\n",
       "        }    #T_adef18bc_7eb4_11ea_a4ab_38f9d3bb4b3arow18_col0 {\n",
       "            background-color:  #4257c9;\n",
       "            color:  #f1f1f1;\n",
       "        }    #T_adef18bc_7eb4_11ea_a4ab_38f9d3bb4b3arow18_col1 {\n",
       "            background-color:  #86a9fc;\n",
       "            color:  #000000;\n",
       "        }    #T_adef18bc_7eb4_11ea_a4ab_38f9d3bb4b3arow18_col2 {\n",
       "            background-color:  #bed2f6;\n",
       "            color:  #000000;\n",
       "        }    #T_adef18bc_7eb4_11ea_a4ab_38f9d3bb4b3arow18_col3 {\n",
       "            background-color:  #d2dbe8;\n",
       "            color:  #000000;\n",
       "        }    #T_adef18bc_7eb4_11ea_a4ab_38f9d3bb4b3arow18_col4 {\n",
       "            background-color:  #a2c1ff;\n",
       "            color:  #000000;\n",
       "        }    #T_adef18bc_7eb4_11ea_a4ab_38f9d3bb4b3arow18_col5 {\n",
       "            background-color:  #7396f5;\n",
       "            color:  #000000;\n",
       "        }    #T_adef18bc_7eb4_11ea_a4ab_38f9d3bb4b3arow18_col6 {\n",
       "            background-color:  #c9d7f0;\n",
       "            color:  #000000;\n",
       "        }    #T_adef18bc_7eb4_11ea_a4ab_38f9d3bb4b3arow18_col7 {\n",
       "            background-color:  #6687ed;\n",
       "            color:  #000000;\n",
       "        }    #T_adef18bc_7eb4_11ea_a4ab_38f9d3bb4b3arow18_col8 {\n",
       "            background-color:  #4a63d3;\n",
       "            color:  #f1f1f1;\n",
       "        }    #T_adef18bc_7eb4_11ea_a4ab_38f9d3bb4b3arow18_col9 {\n",
       "            background-color:  #4055c8;\n",
       "            color:  #f1f1f1;\n",
       "        }    #T_adef18bc_7eb4_11ea_a4ab_38f9d3bb4b3arow18_col10 {\n",
       "            background-color:  #a6c4fe;\n",
       "            color:  #000000;\n",
       "        }    #T_adef18bc_7eb4_11ea_a4ab_38f9d3bb4b3arow18_col11 {\n",
       "            background-color:  #485fd1;\n",
       "            color:  #f1f1f1;\n",
       "        }    #T_adef18bc_7eb4_11ea_a4ab_38f9d3bb4b3arow18_col12 {\n",
       "            background-color:  #4c66d6;\n",
       "            color:  #000000;\n",
       "        }    #T_adef18bc_7eb4_11ea_a4ab_38f9d3bb4b3arow18_col13 {\n",
       "            background-color:  #7a9df8;\n",
       "            color:  #000000;\n",
       "        }    #T_adef18bc_7eb4_11ea_a4ab_38f9d3bb4b3arow18_col14 {\n",
       "            background-color:  #8caffe;\n",
       "            color:  #000000;\n",
       "        }    #T_adef18bc_7eb4_11ea_a4ab_38f9d3bb4b3arow18_col15 {\n",
       "            background-color:  #84a7fc;\n",
       "            color:  #000000;\n",
       "        }    #T_adef18bc_7eb4_11ea_a4ab_38f9d3bb4b3arow18_col16 {\n",
       "            background-color:  #9fbfff;\n",
       "            color:  #000000;\n",
       "        }    #T_adef18bc_7eb4_11ea_a4ab_38f9d3bb4b3arow18_col17 {\n",
       "            background-color:  #7a9df8;\n",
       "            color:  #000000;\n",
       "        }    #T_adef18bc_7eb4_11ea_a4ab_38f9d3bb4b3arow18_col18 {\n",
       "            background-color:  #b40426;\n",
       "            color:  #f1f1f1;\n",
       "        }    #T_adef18bc_7eb4_11ea_a4ab_38f9d3bb4b3arow18_col19 {\n",
       "            background-color:  #94b6ff;\n",
       "            color:  #000000;\n",
       "        }    #T_adef18bc_7eb4_11ea_a4ab_38f9d3bb4b3arow18_col20 {\n",
       "            background-color:  #3b4cc0;\n",
       "            color:  #f1f1f1;\n",
       "        }    #T_adef18bc_7eb4_11ea_a4ab_38f9d3bb4b3arow18_col21 {\n",
       "            background-color:  #89acfd;\n",
       "            color:  #000000;\n",
       "        }    #T_adef18bc_7eb4_11ea_a4ab_38f9d3bb4b3arow18_col22 {\n",
       "            background-color:  #aec9fc;\n",
       "            color:  #000000;\n",
       "        }    #T_adef18bc_7eb4_11ea_a4ab_38f9d3bb4b3arow18_col23 {\n",
       "            background-color:  #799cf8;\n",
       "            color:  #000000;\n",
       "        }    #T_adef18bc_7eb4_11ea_a4ab_38f9d3bb4b3arow19_col0 {\n",
       "            background-color:  #7295f4;\n",
       "            color:  #000000;\n",
       "        }    #T_adef18bc_7eb4_11ea_a4ab_38f9d3bb4b3arow19_col1 {\n",
       "            background-color:  #ef886b;\n",
       "            color:  #000000;\n",
       "        }    #T_adef18bc_7eb4_11ea_a4ab_38f9d3bb4b3arow19_col2 {\n",
       "            background-color:  #d9dce1;\n",
       "            color:  #000000;\n",
       "        }    #T_adef18bc_7eb4_11ea_a4ab_38f9d3bb4b3arow19_col3 {\n",
       "            background-color:  #c1d4f4;\n",
       "            color:  #000000;\n",
       "        }    #T_adef18bc_7eb4_11ea_a4ab_38f9d3bb4b3arow19_col4 {\n",
       "            background-color:  #cdd9ec;\n",
       "            color:  #000000;\n",
       "        }    #T_adef18bc_7eb4_11ea_a4ab_38f9d3bb4b3arow19_col5 {\n",
       "            background-color:  #aec9fc;\n",
       "            color:  #000000;\n",
       "        }    #T_adef18bc_7eb4_11ea_a4ab_38f9d3bb4b3arow19_col6 {\n",
       "            background-color:  #d2dbe8;\n",
       "            color:  #000000;\n",
       "        }    #T_adef18bc_7eb4_11ea_a4ab_38f9d3bb4b3arow19_col7 {\n",
       "            background-color:  #98b9ff;\n",
       "            color:  #000000;\n",
       "        }    #T_adef18bc_7eb4_11ea_a4ab_38f9d3bb4b3arow19_col8 {\n",
       "            background-color:  #5673e0;\n",
       "            color:  #000000;\n",
       "        }    #T_adef18bc_7eb4_11ea_a4ab_38f9d3bb4b3arow19_col9 {\n",
       "            background-color:  #4a63d3;\n",
       "            color:  #f1f1f1;\n",
       "        }    #T_adef18bc_7eb4_11ea_a4ab_38f9d3bb4b3arow19_col10 {\n",
       "            background-color:  #dddcdc;\n",
       "            color:  #000000;\n",
       "        }    #T_adef18bc_7eb4_11ea_a4ab_38f9d3bb4b3arow19_col11 {\n",
       "            background-color:  #6485ec;\n",
       "            color:  #000000;\n",
       "        }    #T_adef18bc_7eb4_11ea_a4ab_38f9d3bb4b3arow19_col12 {\n",
       "            background-color:  #465ecf;\n",
       "            color:  #f1f1f1;\n",
       "        }    #T_adef18bc_7eb4_11ea_a4ab_38f9d3bb4b3arow19_col13 {\n",
       "            background-color:  #3b4cc0;\n",
       "            color:  #f1f1f1;\n",
       "        }    #T_adef18bc_7eb4_11ea_a4ab_38f9d3bb4b3arow19_col14 {\n",
       "            background-color:  #cbd8ee;\n",
       "            color:  #000000;\n",
       "        }    #T_adef18bc_7eb4_11ea_a4ab_38f9d3bb4b3arow19_col15 {\n",
       "            background-color:  #80a3fa;\n",
       "            color:  #000000;\n",
       "        }    #T_adef18bc_7eb4_11ea_a4ab_38f9d3bb4b3arow19_col16 {\n",
       "            background-color:  #d7dce3;\n",
       "            color:  #000000;\n",
       "        }    #T_adef18bc_7eb4_11ea_a4ab_38f9d3bb4b3arow19_col17 {\n",
       "            background-color:  #7396f5;\n",
       "            color:  #000000;\n",
       "        }    #T_adef18bc_7eb4_11ea_a4ab_38f9d3bb4b3arow19_col18 {\n",
       "            background-color:  #c0d4f5;\n",
       "            color:  #000000;\n",
       "        }    #T_adef18bc_7eb4_11ea_a4ab_38f9d3bb4b3arow19_col19 {\n",
       "            background-color:  #b40426;\n",
       "            color:  #f1f1f1;\n",
       "        }    #T_adef18bc_7eb4_11ea_a4ab_38f9d3bb4b3arow19_col20 {\n",
       "            background-color:  #bcd2f7;\n",
       "            color:  #000000;\n",
       "        }    #T_adef18bc_7eb4_11ea_a4ab_38f9d3bb4b3arow19_col21 {\n",
       "            background-color:  #6788ee;\n",
       "            color:  #000000;\n",
       "        }    #T_adef18bc_7eb4_11ea_a4ab_38f9d3bb4b3arow19_col22 {\n",
       "            background-color:  #d1dae9;\n",
       "            color:  #000000;\n",
       "        }    #T_adef18bc_7eb4_11ea_a4ab_38f9d3bb4b3arow19_col23 {\n",
       "            background-color:  #3b4cc0;\n",
       "            color:  #f1f1f1;\n",
       "        }    #T_adef18bc_7eb4_11ea_a4ab_38f9d3bb4b3arow20_col0 {\n",
       "            background-color:  #7699f6;\n",
       "            color:  #000000;\n",
       "        }    #T_adef18bc_7eb4_11ea_a4ab_38f9d3bb4b3arow20_col1 {\n",
       "            background-color:  #6788ee;\n",
       "            color:  #000000;\n",
       "        }    #T_adef18bc_7eb4_11ea_a4ab_38f9d3bb4b3arow20_col2 {\n",
       "            background-color:  #85a8fc;\n",
       "            color:  #000000;\n",
       "        }    #T_adef18bc_7eb4_11ea_a4ab_38f9d3bb4b3arow20_col3 {\n",
       "            background-color:  #afcafc;\n",
       "            color:  #000000;\n",
       "        }    #T_adef18bc_7eb4_11ea_a4ab_38f9d3bb4b3arow20_col4 {\n",
       "            background-color:  #779af7;\n",
       "            color:  #000000;\n",
       "        }    #T_adef18bc_7eb4_11ea_a4ab_38f9d3bb4b3arow20_col5 {\n",
       "            background-color:  #84a7fc;\n",
       "            color:  #000000;\n",
       "        }    #T_adef18bc_7eb4_11ea_a4ab_38f9d3bb4b3arow20_col6 {\n",
       "            background-color:  #98b9ff;\n",
       "            color:  #000000;\n",
       "        }    #T_adef18bc_7eb4_11ea_a4ab_38f9d3bb4b3arow20_col7 {\n",
       "            background-color:  #7295f4;\n",
       "            color:  #000000;\n",
       "        }    #T_adef18bc_7eb4_11ea_a4ab_38f9d3bb4b3arow20_col8 {\n",
       "            background-color:  #5470de;\n",
       "            color:  #000000;\n",
       "        }    #T_adef18bc_7eb4_11ea_a4ab_38f9d3bb4b3arow20_col9 {\n",
       "            background-color:  #4055c8;\n",
       "            color:  #f1f1f1;\n",
       "        }    #T_adef18bc_7eb4_11ea_a4ab_38f9d3bb4b3arow20_col10 {\n",
       "            background-color:  #7b9ff9;\n",
       "            color:  #000000;\n",
       "        }    #T_adef18bc_7eb4_11ea_a4ab_38f9d3bb4b3arow20_col11 {\n",
       "            background-color:  #bed2f6;\n",
       "            color:  #000000;\n",
       "        }    #T_adef18bc_7eb4_11ea_a4ab_38f9d3bb4b3arow20_col12 {\n",
       "            background-color:  #5470de;\n",
       "            color:  #000000;\n",
       "        }    #T_adef18bc_7eb4_11ea_a4ab_38f9d3bb4b3arow20_col13 {\n",
       "            background-color:  #92b4fe;\n",
       "            color:  #000000;\n",
       "        }    #T_adef18bc_7eb4_11ea_a4ab_38f9d3bb4b3arow20_col14 {\n",
       "            background-color:  #7093f3;\n",
       "            color:  #000000;\n",
       "        }    #T_adef18bc_7eb4_11ea_a4ab_38f9d3bb4b3arow20_col15 {\n",
       "            background-color:  #7699f6;\n",
       "            color:  #000000;\n",
       "        }    #T_adef18bc_7eb4_11ea_a4ab_38f9d3bb4b3arow20_col16 {\n",
       "            background-color:  #81a4fb;\n",
       "            color:  #000000;\n",
       "        }    #T_adef18bc_7eb4_11ea_a4ab_38f9d3bb4b3arow20_col17 {\n",
       "            background-color:  #98b9ff;\n",
       "            color:  #000000;\n",
       "        }    #T_adef18bc_7eb4_11ea_a4ab_38f9d3bb4b3arow20_col18 {\n",
       "            background-color:  #3b4cc0;\n",
       "            color:  #f1f1f1;\n",
       "        }    #T_adef18bc_7eb4_11ea_a4ab_38f9d3bb4b3arow20_col19 {\n",
       "            background-color:  #8db0fe;\n",
       "            color:  #000000;\n",
       "        }    #T_adef18bc_7eb4_11ea_a4ab_38f9d3bb4b3arow20_col20 {\n",
       "            background-color:  #b40426;\n",
       "            color:  #f1f1f1;\n",
       "        }    #T_adef18bc_7eb4_11ea_a4ab_38f9d3bb4b3arow20_col21 {\n",
       "            background-color:  #93b5fe;\n",
       "            color:  #000000;\n",
       "        }    #T_adef18bc_7eb4_11ea_a4ab_38f9d3bb4b3arow20_col22 {\n",
       "            background-color:  #bfd3f6;\n",
       "            color:  #000000;\n",
       "        }    #T_adef18bc_7eb4_11ea_a4ab_38f9d3bb4b3arow20_col23 {\n",
       "            background-color:  #80a3fa;\n",
       "            color:  #000000;\n",
       "        }    #T_adef18bc_7eb4_11ea_a4ab_38f9d3bb4b3arow21_col0 {\n",
       "            background-color:  #4358cb;\n",
       "            color:  #f1f1f1;\n",
       "        }    #T_adef18bc_7eb4_11ea_a4ab_38f9d3bb4b3arow21_col1 {\n",
       "            background-color:  #5f7fe8;\n",
       "            color:  #000000;\n",
       "        }    #T_adef18bc_7eb4_11ea_a4ab_38f9d3bb4b3arow21_col2 {\n",
       "            background-color:  #93b5fe;\n",
       "            color:  #000000;\n",
       "        }    #T_adef18bc_7eb4_11ea_a4ab_38f9d3bb4b3arow21_col3 {\n",
       "            background-color:  #ead5c9;\n",
       "            color:  #000000;\n",
       "        }    #T_adef18bc_7eb4_11ea_a4ab_38f9d3bb4b3arow21_col4 {\n",
       "            background-color:  #7a9df8;\n",
       "            color:  #000000;\n",
       "        }    #T_adef18bc_7eb4_11ea_a4ab_38f9d3bb4b3arow21_col5 {\n",
       "            background-color:  #3b4cc0;\n",
       "            color:  #f1f1f1;\n",
       "        }    #T_adef18bc_7eb4_11ea_a4ab_38f9d3bb4b3arow21_col6 {\n",
       "            background-color:  #edd2c3;\n",
       "            color:  #000000;\n",
       "        }    #T_adef18bc_7eb4_11ea_a4ab_38f9d3bb4b3arow21_col7 {\n",
       "            background-color:  #3b4cc0;\n",
       "            color:  #f1f1f1;\n",
       "        }    #T_adef18bc_7eb4_11ea_a4ab_38f9d3bb4b3arow21_col8 {\n",
       "            background-color:  #6f92f3;\n",
       "            color:  #000000;\n",
       "        }    #T_adef18bc_7eb4_11ea_a4ab_38f9d3bb4b3arow21_col9 {\n",
       "            background-color:  #5875e1;\n",
       "            color:  #000000;\n",
       "        }    #T_adef18bc_7eb4_11ea_a4ab_38f9d3bb4b3arow21_col10 {\n",
       "            background-color:  #3b4cc0;\n",
       "            color:  #f1f1f1;\n",
       "        }    #T_adef18bc_7eb4_11ea_a4ab_38f9d3bb4b3arow21_col11 {\n",
       "            background-color:  #3b4cc0;\n",
       "            color:  #f1f1f1;\n",
       "        }    #T_adef18bc_7eb4_11ea_a4ab_38f9d3bb4b3arow21_col12 {\n",
       "            background-color:  #3c4ec2;\n",
       "            color:  #f1f1f1;\n",
       "        }    #T_adef18bc_7eb4_11ea_a4ab_38f9d3bb4b3arow21_col13 {\n",
       "            background-color:  #86a9fc;\n",
       "            color:  #000000;\n",
       "        }    #T_adef18bc_7eb4_11ea_a4ab_38f9d3bb4b3arow21_col14 {\n",
       "            background-color:  #86a9fc;\n",
       "            color:  #000000;\n",
       "        }    #T_adef18bc_7eb4_11ea_a4ab_38f9d3bb4b3arow21_col15 {\n",
       "            background-color:  #6687ed;\n",
       "            color:  #000000;\n",
       "        }    #T_adef18bc_7eb4_11ea_a4ab_38f9d3bb4b3arow21_col16 {\n",
       "            background-color:  #85a8fc;\n",
       "            color:  #000000;\n",
       "        }    #T_adef18bc_7eb4_11ea_a4ab_38f9d3bb4b3arow21_col17 {\n",
       "            background-color:  #96b7ff;\n",
       "            color:  #000000;\n",
       "        }    #T_adef18bc_7eb4_11ea_a4ab_38f9d3bb4b3arow21_col18 {\n",
       "            background-color:  #b6cefa;\n",
       "            color:  #000000;\n",
       "        }    #T_adef18bc_7eb4_11ea_a4ab_38f9d3bb4b3arow21_col19 {\n",
       "            background-color:  #6384eb;\n",
       "            color:  #000000;\n",
       "        }    #T_adef18bc_7eb4_11ea_a4ab_38f9d3bb4b3arow21_col20 {\n",
       "            background-color:  #bcd2f7;\n",
       "            color:  #000000;\n",
       "        }    #T_adef18bc_7eb4_11ea_a4ab_38f9d3bb4b3arow21_col21 {\n",
       "            background-color:  #b40426;\n",
       "            color:  #f1f1f1;\n",
       "        }    #T_adef18bc_7eb4_11ea_a4ab_38f9d3bb4b3arow21_col22 {\n",
       "            background-color:  #7295f4;\n",
       "            color:  #000000;\n",
       "        }    #T_adef18bc_7eb4_11ea_a4ab_38f9d3bb4b3arow21_col23 {\n",
       "            background-color:  #7093f3;\n",
       "            color:  #000000;\n",
       "        }    #T_adef18bc_7eb4_11ea_a4ab_38f9d3bb4b3arow22_col0 {\n",
       "            background-color:  #3c4ec2;\n",
       "            color:  #f1f1f1;\n",
       "        }    #T_adef18bc_7eb4_11ea_a4ab_38f9d3bb4b3arow22_col1 {\n",
       "            background-color:  #4c66d6;\n",
       "            color:  #000000;\n",
       "        }    #T_adef18bc_7eb4_11ea_a4ab_38f9d3bb4b3arow22_col2 {\n",
       "            background-color:  #3b4cc0;\n",
       "            color:  #f1f1f1;\n",
       "        }    #T_adef18bc_7eb4_11ea_a4ab_38f9d3bb4b3arow22_col3 {\n",
       "            background-color:  #3b4cc0;\n",
       "            color:  #f1f1f1;\n",
       "        }    #T_adef18bc_7eb4_11ea_a4ab_38f9d3bb4b3arow22_col4 {\n",
       "            background-color:  #81a4fb;\n",
       "            color:  #000000;\n",
       "        }    #T_adef18bc_7eb4_11ea_a4ab_38f9d3bb4b3arow22_col5 {\n",
       "            background-color:  #d9dce1;\n",
       "            color:  #000000;\n",
       "        }    #T_adef18bc_7eb4_11ea_a4ab_38f9d3bb4b3arow22_col6 {\n",
       "            background-color:  #3b4cc0;\n",
       "            color:  #f1f1f1;\n",
       "        }    #T_adef18bc_7eb4_11ea_a4ab_38f9d3bb4b3arow22_col7 {\n",
       "            background-color:  #b5cdfa;\n",
       "            color:  #000000;\n",
       "        }    #T_adef18bc_7eb4_11ea_a4ab_38f9d3bb4b3arow22_col8 {\n",
       "            background-color:  #85a8fc;\n",
       "            color:  #000000;\n",
       "        }    #T_adef18bc_7eb4_11ea_a4ab_38f9d3bb4b3arow22_col9 {\n",
       "            background-color:  #6384eb;\n",
       "            color:  #000000;\n",
       "        }    #T_adef18bc_7eb4_11ea_a4ab_38f9d3bb4b3arow22_col10 {\n",
       "            background-color:  #e6d7cf;\n",
       "            color:  #000000;\n",
       "        }    #T_adef18bc_7eb4_11ea_a4ab_38f9d3bb4b3arow22_col11 {\n",
       "            background-color:  #5a78e4;\n",
       "            color:  #000000;\n",
       "        }    #T_adef18bc_7eb4_11ea_a4ab_38f9d3bb4b3arow22_col12 {\n",
       "            background-color:  #5d7ce6;\n",
       "            color:  #000000;\n",
       "        }    #T_adef18bc_7eb4_11ea_a4ab_38f9d3bb4b3arow22_col13 {\n",
       "            background-color:  #93b5fe;\n",
       "            color:  #000000;\n",
       "        }    #T_adef18bc_7eb4_11ea_a4ab_38f9d3bb4b3arow22_col14 {\n",
       "            background-color:  #6180e9;\n",
       "            color:  #000000;\n",
       "        }    #T_adef18bc_7eb4_11ea_a4ab_38f9d3bb4b3arow22_col15 {\n",
       "            background-color:  #8caffe;\n",
       "            color:  #000000;\n",
       "        }    #T_adef18bc_7eb4_11ea_a4ab_38f9d3bb4b3arow22_col16 {\n",
       "            background-color:  #85a8fc;\n",
       "            color:  #000000;\n",
       "        }    #T_adef18bc_7eb4_11ea_a4ab_38f9d3bb4b3arow22_col17 {\n",
       "            background-color:  #8badfd;\n",
       "            color:  #000000;\n",
       "        }    #T_adef18bc_7eb4_11ea_a4ab_38f9d3bb4b3arow22_col18 {\n",
       "            background-color:  #adc9fd;\n",
       "            color:  #000000;\n",
       "        }    #T_adef18bc_7eb4_11ea_a4ab_38f9d3bb4b3arow22_col19 {\n",
       "            background-color:  #a9c6fd;\n",
       "            color:  #000000;\n",
       "        }    #T_adef18bc_7eb4_11ea_a4ab_38f9d3bb4b3arow22_col20 {\n",
       "            background-color:  #bfd3f6;\n",
       "            color:  #000000;\n",
       "        }    #T_adef18bc_7eb4_11ea_a4ab_38f9d3bb4b3arow22_col21 {\n",
       "            background-color:  #3b4cc0;\n",
       "            color:  #f1f1f1;\n",
       "        }    #T_adef18bc_7eb4_11ea_a4ab_38f9d3bb4b3arow22_col22 {\n",
       "            background-color:  #b40426;\n",
       "            color:  #f1f1f1;\n",
       "        }    #T_adef18bc_7eb4_11ea_a4ab_38f9d3bb4b3arow22_col23 {\n",
       "            background-color:  #a1c0ff;\n",
       "            color:  #000000;\n",
       "        }    #T_adef18bc_7eb4_11ea_a4ab_38f9d3bb4b3arow23_col0 {\n",
       "            background-color:  #3b4cc0;\n",
       "            color:  #f1f1f1;\n",
       "        }    #T_adef18bc_7eb4_11ea_a4ab_38f9d3bb4b3arow23_col1 {\n",
       "            background-color:  #4e68d8;\n",
       "            color:  #000000;\n",
       "        }    #T_adef18bc_7eb4_11ea_a4ab_38f9d3bb4b3arow23_col2 {\n",
       "            background-color:  #799cf8;\n",
       "            color:  #000000;\n",
       "        }    #T_adef18bc_7eb4_11ea_a4ab_38f9d3bb4b3arow23_col3 {\n",
       "            background-color:  #9fbfff;\n",
       "            color:  #000000;\n",
       "        }    #T_adef18bc_7eb4_11ea_a4ab_38f9d3bb4b3arow23_col4 {\n",
       "            background-color:  #6a8bef;\n",
       "            color:  #000000;\n",
       "        }    #T_adef18bc_7eb4_11ea_a4ab_38f9d3bb4b3arow23_col5 {\n",
       "            background-color:  #94b6ff;\n",
       "            color:  #000000;\n",
       "        }    #T_adef18bc_7eb4_11ea_a4ab_38f9d3bb4b3arow23_col6 {\n",
       "            background-color:  #8badfd;\n",
       "            color:  #000000;\n",
       "        }    #T_adef18bc_7eb4_11ea_a4ab_38f9d3bb4b3arow23_col7 {\n",
       "            background-color:  #81a4fb;\n",
       "            color:  #000000;\n",
       "        }    #T_adef18bc_7eb4_11ea_a4ab_38f9d3bb4b3arow23_col8 {\n",
       "            background-color:  #5a78e4;\n",
       "            color:  #000000;\n",
       "        }    #T_adef18bc_7eb4_11ea_a4ab_38f9d3bb4b3arow23_col9 {\n",
       "            background-color:  #516ddb;\n",
       "            color:  #000000;\n",
       "        }    #T_adef18bc_7eb4_11ea_a4ab_38f9d3bb4b3arow23_col10 {\n",
       "            background-color:  #7b9ff9;\n",
       "            color:  #000000;\n",
       "        }    #T_adef18bc_7eb4_11ea_a4ab_38f9d3bb4b3arow23_col11 {\n",
       "            background-color:  #5875e1;\n",
       "            color:  #000000;\n",
       "        }    #T_adef18bc_7eb4_11ea_a4ab_38f9d3bb4b3arow23_col12 {\n",
       "            background-color:  #6384eb;\n",
       "            color:  #000000;\n",
       "        }    #T_adef18bc_7eb4_11ea_a4ab_38f9d3bb4b3arow23_col13 {\n",
       "            background-color:  #c9d7f0;\n",
       "            color:  #000000;\n",
       "        }    #T_adef18bc_7eb4_11ea_a4ab_38f9d3bb4b3arow23_col14 {\n",
       "            background-color:  #3b4cc0;\n",
       "            color:  #f1f1f1;\n",
       "        }    #T_adef18bc_7eb4_11ea_a4ab_38f9d3bb4b3arow23_col15 {\n",
       "            background-color:  #80a3fa;\n",
       "            color:  #000000;\n",
       "        }    #T_adef18bc_7eb4_11ea_a4ab_38f9d3bb4b3arow23_col16 {\n",
       "            background-color:  #506bda;\n",
       "            color:  #000000;\n",
       "        }    #T_adef18bc_7eb4_11ea_a4ab_38f9d3bb4b3arow23_col17 {\n",
       "            background-color:  #9abbff;\n",
       "            color:  #000000;\n",
       "        }    #T_adef18bc_7eb4_11ea_a4ab_38f9d3bb4b3arow23_col18 {\n",
       "            background-color:  #b6cefa;\n",
       "            color:  #000000;\n",
       "        }    #T_adef18bc_7eb4_11ea_a4ab_38f9d3bb4b3arow23_col19 {\n",
       "            background-color:  #485fd1;\n",
       "            color:  #f1f1f1;\n",
       "        }    #T_adef18bc_7eb4_11ea_a4ab_38f9d3bb4b3arow23_col20 {\n",
       "            background-color:  #bbd1f8;\n",
       "            color:  #000000;\n",
       "        }    #T_adef18bc_7eb4_11ea_a4ab_38f9d3bb4b3arow23_col21 {\n",
       "            background-color:  #81a4fb;\n",
       "            color:  #000000;\n",
       "        }    #T_adef18bc_7eb4_11ea_a4ab_38f9d3bb4b3arow23_col22 {\n",
       "            background-color:  #d2dbe8;\n",
       "            color:  #000000;\n",
       "        }    #T_adef18bc_7eb4_11ea_a4ab_38f9d3bb4b3arow23_col23 {\n",
       "            background-color:  #b40426;\n",
       "            color:  #f1f1f1;\n",
       "        }</style><table id=\"T_adef18bc_7eb4_11ea_a4ab_38f9d3bb4b3a\" ><thead>    <tr>        <th class=\"blank level0\" ></th>        <th class=\"col_heading level0 col0\" >total_images</th>        <th class=\"col_heading level0 col1\" >last_price</th>        <th class=\"col_heading level0 col2\" >total_area</th>        <th class=\"col_heading level0 col3\" >rooms</th>        <th class=\"col_heading level0 col4\" >ceiling_height</th>        <th class=\"col_heading level0 col5\" >floors_total</th>        <th class=\"col_heading level0 col6\" >living_area</th>        <th class=\"col_heading level0 col7\" >floor</th>        <th class=\"col_heading level0 col8\" >studio</th>        <th class=\"col_heading level0 col9\" >open_plan</th>        <th class=\"col_heading level0 col10\" >kitchen_area</th>        <th class=\"col_heading level0 col11\" >balcony</th>        <th class=\"col_heading level0 col12\" >airports_nearest</th>        <th class=\"col_heading level0 col13\" >cityCenters_nearest</th>        <th class=\"col_heading level0 col14\" >parks_around3000</th>        <th class=\"col_heading level0 col15\" >parks_nearest</th>        <th class=\"col_heading level0 col16\" >ponds_around3000</th>        <th class=\"col_heading level0 col17\" >ponds_nearest</th>        <th class=\"col_heading level0 col18\" >days_exposition</th>        <th class=\"col_heading level0 col19\" >m2</th>        <th class=\"col_heading level0 col20\" >year_exposition</th>        <th class=\"col_heading level0 col21\" >living_area_relation</th>        <th class=\"col_heading level0 col22\" >kitchen_total_area_relation</th>        <th class=\"col_heading level0 col23\" >suburbs</th>    </tr></thead><tbody>\n",
       "                <tr>\n",
       "                        <th id=\"T_adef18bc_7eb4_11ea_a4ab_38f9d3bb4b3alevel0_row0\" class=\"row_heading level0 row0\" >total_images</th>\n",
       "                        <td id=\"T_adef18bc_7eb4_11ea_a4ab_38f9d3bb4b3arow0_col0\" class=\"data row0 col0\" >1</td>\n",
       "                        <td id=\"T_adef18bc_7eb4_11ea_a4ab_38f9d3bb4b3arow0_col1\" class=\"data row0 col1\" >0.0986467</td>\n",
       "                        <td id=\"T_adef18bc_7eb4_11ea_a4ab_38f9d3bb4b3arow0_col2\" class=\"data row0 col2\" >0.10961</td>\n",
       "                        <td id=\"T_adef18bc_7eb4_11ea_a4ab_38f9d3bb4b3arow0_col3\" class=\"data row0 col3\" >0.094063</td>\n",
       "                        <td id=\"T_adef18bc_7eb4_11ea_a4ab_38f9d3bb4b3arow0_col4\" class=\"data row0 col4\" >0.0432905</td>\n",
       "                        <td id=\"T_adef18bc_7eb4_11ea_a4ab_38f9d3bb4b3arow0_col5\" class=\"data row0 col5\" >0.0119797</td>\n",
       "                        <td id=\"T_adef18bc_7eb4_11ea_a4ab_38f9d3bb4b3arow0_col6\" class=\"data row0 col6\" >0.101832</td>\n",
       "                        <td id=\"T_adef18bc_7eb4_11ea_a4ab_38f9d3bb4b3arow0_col7\" class=\"data row0 col7\" >0.0314435</td>\n",
       "                        <td id=\"T_adef18bc_7eb4_11ea_a4ab_38f9d3bb4b3arow0_col8\" class=\"data row0 col8\" >-0.0278503</td>\n",
       "                        <td id=\"T_adef18bc_7eb4_11ea_a4ab_38f9d3bb4b3arow0_col9\" class=\"data row0 col9\" >-0.0242403</td>\n",
       "                        <td id=\"T_adef18bc_7eb4_11ea_a4ab_38f9d3bb4b3arow0_col10\" class=\"data row0 col10\" >0.102474</td>\n",
       "                        <td id=\"T_adef18bc_7eb4_11ea_a4ab_38f9d3bb4b3arow0_col11\" class=\"data row0 col11\" >0.123071</td>\n",
       "                        <td id=\"T_adef18bc_7eb4_11ea_a4ab_38f9d3bb4b3arow0_col12\" class=\"data row0 col12\" >-0.00246629</td>\n",
       "                        <td id=\"T_adef18bc_7eb4_11ea_a4ab_38f9d3bb4b3arow0_col13\" class=\"data row0 col13\" >-0.0450668</td>\n",
       "                        <td id=\"T_adef18bc_7eb4_11ea_a4ab_38f9d3bb4b3arow0_col14\" class=\"data row0 col14\" >0.035167</td>\n",
       "                        <td id=\"T_adef18bc_7eb4_11ea_a4ab_38f9d3bb4b3arow0_col15\" class=\"data row0 col15\" >-0.00702818</td>\n",
       "                        <td id=\"T_adef18bc_7eb4_11ea_a4ab_38f9d3bb4b3arow0_col16\" class=\"data row0 col16\" >0.00764873</td>\n",
       "                        <td id=\"T_adef18bc_7eb4_11ea_a4ab_38f9d3bb4b3arow0_col17\" class=\"data row0 col17\" >-0.00447475</td>\n",
       "                        <td id=\"T_adef18bc_7eb4_11ea_a4ab_38f9d3bb4b3arow0_col18\" class=\"data row0 col18\" >-0.0304449</td>\n",
       "                        <td id=\"T_adef18bc_7eb4_11ea_a4ab_38f9d3bb4b3arow0_col19\" class=\"data row0 col19\" >0.127771</td>\n",
       "                        <td id=\"T_adef18bc_7eb4_11ea_a4ab_38f9d3bb4b3arow0_col20\" class=\"data row0 col20\" >0.142123</td>\n",
       "                        <td id=\"T_adef18bc_7eb4_11ea_a4ab_38f9d3bb4b3arow0_col21\" class=\"data row0 col21\" >-0.0238383</td>\n",
       "                        <td id=\"T_adef18bc_7eb4_11ea_a4ab_38f9d3bb4b3arow0_col22\" class=\"data row0 col22\" >-0.0491436</td>\n",
       "                        <td id=\"T_adef18bc_7eb4_11ea_a4ab_38f9d3bb4b3arow0_col23\" class=\"data row0 col23\" >-0.0553845</td>\n",
       "            </tr>\n",
       "            <tr>\n",
       "                        <th id=\"T_adef18bc_7eb4_11ea_a4ab_38f9d3bb4b3alevel0_row1\" class=\"row_heading level0 row1\" >last_price</th>\n",
       "                        <td id=\"T_adef18bc_7eb4_11ea_a4ab_38f9d3bb4b3arow1_col0\" class=\"data row1 col0\" >0.0986467</td>\n",
       "                        <td id=\"T_adef18bc_7eb4_11ea_a4ab_38f9d3bb4b3arow1_col1\" class=\"data row1 col1\" >1</td>\n",
       "                        <td id=\"T_adef18bc_7eb4_11ea_a4ab_38f9d3bb4b3arow1_col2\" class=\"data row1 col2\" >0.612063</td>\n",
       "                        <td id=\"T_adef18bc_7eb4_11ea_a4ab_38f9d3bb4b3arow1_col3\" class=\"data row1 col3\" >0.347102</td>\n",
       "                        <td id=\"T_adef18bc_7eb4_11ea_a4ab_38f9d3bb4b3arow1_col4\" class=\"data row1 col4\" >0.264384</td>\n",
       "                        <td id=\"T_adef18bc_7eb4_11ea_a4ab_38f9d3bb4b3arow1_col5\" class=\"data row1 col5\" >0.00196813</td>\n",
       "                        <td id=\"T_adef18bc_7eb4_11ea_a4ab_38f9d3bb4b3arow1_col6\" class=\"data row1 col6\" >0.504246</td>\n",
       "                        <td id=\"T_adef18bc_7eb4_11ea_a4ab_38f9d3bb4b3arow1_col7\" class=\"data row1 col7\" >0.0294359</td>\n",
       "                        <td id=\"T_adef18bc_7eb4_11ea_a4ab_38f9d3bb4b3arow1_col8\" class=\"data row1 col8\" >-0.0268827</td>\n",
       "                        <td id=\"T_adef18bc_7eb4_11ea_a4ab_38f9d3bb4b3arow1_col9\" class=\"data row1 col9\" >-0.00859254</td>\n",
       "                        <td id=\"T_adef18bc_7eb4_11ea_a4ab_38f9d3bb4b3arow1_col10\" class=\"data row1 col10\" >0.399376</td>\n",
       "                        <td id=\"T_adef18bc_7eb4_11ea_a4ab_38f9d3bb4b3arow1_col11\" class=\"data row1 col11\" >0.0367368</td>\n",
       "                        <td id=\"T_adef18bc_7eb4_11ea_a4ab_38f9d3bb4b3arow1_col12\" class=\"data row1 col12\" >-0.0259845</td>\n",
       "                        <td id=\"T_adef18bc_7eb4_11ea_a4ab_38f9d3bb4b3arow1_col13\" class=\"data row1 col13\" >-0.210117</td>\n",
       "                        <td id=\"T_adef18bc_7eb4_11ea_a4ab_38f9d3bb4b3arow1_col14\" class=\"data row1 col14\" >0.203466</td>\n",
       "                        <td id=\"T_adef18bc_7eb4_11ea_a4ab_38f9d3bb4b3arow1_col15\" class=\"data row1 col15\" >-0.0106001</td>\n",
       "                        <td id=\"T_adef18bc_7eb4_11ea_a4ab_38f9d3bb4b3arow1_col16\" class=\"data row1 col16\" >0.212071</td>\n",
       "                        <td id=\"T_adef18bc_7eb4_11ea_a4ab_38f9d3bb4b3arow1_col17\" class=\"data row1 col17\" >-0.0834044</td>\n",
       "                        <td id=\"T_adef18bc_7eb4_11ea_a4ab_38f9d3bb4b3arow1_col18\" class=\"data row1 col18\" >0.0733953</td>\n",
       "                        <td id=\"T_adef18bc_7eb4_11ea_a4ab_38f9d3bb4b3arow1_col19\" class=\"data row1 col19\" >0.749064</td>\n",
       "                        <td id=\"T_adef18bc_7eb4_11ea_a4ab_38f9d3bb4b3arow1_col20\" class=\"data row1 col20\" >-0.0395983</td>\n",
       "                        <td id=\"T_adef18bc_7eb4_11ea_a4ab_38f9d3bb4b3arow1_col21\" class=\"data row1 col21\" >-0.0680168</td>\n",
       "                        <td id=\"T_adef18bc_7eb4_11ea_a4ab_38f9d3bb4b3arow1_col22\" class=\"data row1 col22\" >-0.135592</td>\n",
       "                        <td id=\"T_adef18bc_7eb4_11ea_a4ab_38f9d3bb4b3arow1_col23\" class=\"data row1 col23\" >-0.13096</td>\n",
       "            </tr>\n",
       "            <tr>\n",
       "                        <th id=\"T_adef18bc_7eb4_11ea_a4ab_38f9d3bb4b3alevel0_row2\" class=\"row_heading level0 row2\" >total_area</th>\n",
       "                        <td id=\"T_adef18bc_7eb4_11ea_a4ab_38f9d3bb4b3arow2_col0\" class=\"data row2 col0\" >0.10961</td>\n",
       "                        <td id=\"T_adef18bc_7eb4_11ea_a4ab_38f9d3bb4b3arow2_col1\" class=\"data row2 col1\" >0.612063</td>\n",
       "                        <td id=\"T_adef18bc_7eb4_11ea_a4ab_38f9d3bb4b3arow2_col2\" class=\"data row2 col2\" >1</td>\n",
       "                        <td id=\"T_adef18bc_7eb4_11ea_a4ab_38f9d3bb4b3arow2_col3\" class=\"data row2 col3\" >0.768892</td>\n",
       "                        <td id=\"T_adef18bc_7eb4_11ea_a4ab_38f9d3bb4b3arow2_col4\" class=\"data row2 col4\" >0.380997</td>\n",
       "                        <td id=\"T_adef18bc_7eb4_11ea_a4ab_38f9d3bb4b3arow2_col5\" class=\"data row2 col5\" >-0.0699577</td>\n",
       "                        <td id=\"T_adef18bc_7eb4_11ea_a4ab_38f9d3bb4b3arow2_col6\" class=\"data row2 col6\" >0.868753</td>\n",
       "                        <td id=\"T_adef18bc_7eb4_11ea_a4ab_38f9d3bb4b3arow2_col7\" class=\"data row2 col7\" >-0.024213</td>\n",
       "                        <td id=\"T_adef18bc_7eb4_11ea_a4ab_38f9d3bb4b3arow2_col8\" class=\"data row2 col8\" >-0.0774906</td>\n",
       "                        <td id=\"T_adef18bc_7eb4_11ea_a4ab_38f9d3bb4b3arow2_col9\" class=\"data row2 col9\" >-0.0363818</td>\n",
       "                        <td id=\"T_adef18bc_7eb4_11ea_a4ab_38f9d3bb4b3arow2_col10\" class=\"data row2 col10\" >0.563931</td>\n",
       "                        <td id=\"T_adef18bc_7eb4_11ea_a4ab_38f9d3bb4b3arow2_col11\" class=\"data row2 col11\" >0.0597607</td>\n",
       "                        <td id=\"T_adef18bc_7eb4_11ea_a4ab_38f9d3bb4b3arow2_col12\" class=\"data row2 col12\" >-0.0304632</td>\n",
       "                        <td id=\"T_adef18bc_7eb4_11ea_a4ab_38f9d3bb4b3arow2_col13\" class=\"data row2 col13\" >-0.23346</td>\n",
       "                        <td id=\"T_adef18bc_7eb4_11ea_a4ab_38f9d3bb4b3arow2_col14\" class=\"data row2 col14\" >0.201251</td>\n",
       "                        <td id=\"T_adef18bc_7eb4_11ea_a4ab_38f9d3bb4b3arow2_col15\" class=\"data row2 col15\" >-0.0140883</td>\n",
       "                        <td id=\"T_adef18bc_7eb4_11ea_a4ab_38f9d3bb4b3arow2_col16\" class=\"data row2 col16\" >0.201727</td>\n",
       "                        <td id=\"T_adef18bc_7eb4_11ea_a4ab_38f9d3bb4b3arow2_col17\" class=\"data row2 col17\" >-0.0976517</td>\n",
       "                        <td id=\"T_adef18bc_7eb4_11ea_a4ab_38f9d3bb4b3arow2_col18\" class=\"data row2 col18\" >0.148701</td>\n",
       "                        <td id=\"T_adef18bc_7eb4_11ea_a4ab_38f9d3bb4b3arow2_col19\" class=\"data row2 col19\" >0.278866</td>\n",
       "                        <td id=\"T_adef18bc_7eb4_11ea_a4ab_38f9d3bb4b3arow2_col20\" class=\"data row2 col20\" >-0.0819793</td>\n",
       "                        <td id=\"T_adef18bc_7eb4_11ea_a4ab_38f9d3bb4b3arow2_col21\" class=\"data row2 col21\" >-0.0266875</td>\n",
       "                        <td id=\"T_adef18bc_7eb4_11ea_a4ab_38f9d3bb4b3arow2_col22\" class=\"data row2 col22\" >-0.400528</td>\n",
       "                        <td id=\"T_adef18bc_7eb4_11ea_a4ab_38f9d3bb4b3arow2_col23\" class=\"data row2 col23\" >-0.130691</td>\n",
       "            </tr>\n",
       "            <tr>\n",
       "                        <th id=\"T_adef18bc_7eb4_11ea_a4ab_38f9d3bb4b3alevel0_row3\" class=\"row_heading level0 row3\" >rooms</th>\n",
       "                        <td id=\"T_adef18bc_7eb4_11ea_a4ab_38f9d3bb4b3arow3_col0\" class=\"data row3 col0\" >0.094063</td>\n",
       "                        <td id=\"T_adef18bc_7eb4_11ea_a4ab_38f9d3bb4b3arow3_col1\" class=\"data row3 col1\" >0.347102</td>\n",
       "                        <td id=\"T_adef18bc_7eb4_11ea_a4ab_38f9d3bb4b3arow3_col2\" class=\"data row3 col2\" >0.768892</td>\n",
       "                        <td id=\"T_adef18bc_7eb4_11ea_a4ab_38f9d3bb4b3arow3_col3\" class=\"data row3 col3\" >1</td>\n",
       "                        <td id=\"T_adef18bc_7eb4_11ea_a4ab_38f9d3bb4b3arow3_col4\" class=\"data row3 col4\" >0.238845</td>\n",
       "                        <td id=\"T_adef18bc_7eb4_11ea_a4ab_38f9d3bb4b3arow3_col5\" class=\"data row3 col5\" >-0.221092</td>\n",
       "                        <td id=\"T_adef18bc_7eb4_11ea_a4ab_38f9d3bb4b3arow3_col6\" class=\"data row3 col6\" >0.826062</td>\n",
       "                        <td id=\"T_adef18bc_7eb4_11ea_a4ab_38f9d3bb4b3arow3_col7\" class=\"data row3 col7\" >-0.148211</td>\n",
       "                        <td id=\"T_adef18bc_7eb4_11ea_a4ab_38f9d3bb4b3arow3_col8\" class=\"data row3 col8\" >-0.0807055</td>\n",
       "                        <td id=\"T_adef18bc_7eb4_11ea_a4ab_38f9d3bb4b3arow3_col9\" class=\"data row3 col9\" >-0.0449677</td>\n",
       "                        <td id=\"T_adef18bc_7eb4_11ea_a4ab_38f9d3bb4b3arow3_col10\" class=\"data row3 col10\" >0.254595</td>\n",
       "                        <td id=\"T_adef18bc_7eb4_11ea_a4ab_38f9d3bb4b3arow3_col11\" class=\"data row3 col11\" >0.0271041</td>\n",
       "                        <td id=\"T_adef18bc_7eb4_11ea_a4ab_38f9d3bb4b3arow3_col12\" class=\"data row3 col12\" >-0.0638464</td>\n",
       "                        <td id=\"T_adef18bc_7eb4_11ea_a4ab_38f9d3bb4b3arow3_col13\" class=\"data row3 col13\" >-0.182021</td>\n",
       "                        <td id=\"T_adef18bc_7eb4_11ea_a4ab_38f9d3bb4b3arow3_col14\" class=\"data row3 col14\" >0.151569</td>\n",
       "                        <td id=\"T_adef18bc_7eb4_11ea_a4ab_38f9d3bb4b3arow3_col15\" class=\"data row3 col15\" >-0.0514344</td>\n",
       "                        <td id=\"T_adef18bc_7eb4_11ea_a4ab_38f9d3bb4b3arow3_col16\" class=\"data row3 col16\" >0.118297</td>\n",
       "                        <td id=\"T_adef18bc_7eb4_11ea_a4ab_38f9d3bb4b3arow3_col17\" class=\"data row3 col17\" >-0.0561448</td>\n",
       "                        <td id=\"T_adef18bc_7eb4_11ea_a4ab_38f9d3bb4b3arow3_col18\" class=\"data row3 col18\" >0.123006</td>\n",
       "                        <td id=\"T_adef18bc_7eb4_11ea_a4ab_38f9d3bb4b3arow3_col19\" class=\"data row3 col19\" >0.0372789</td>\n",
       "                        <td id=\"T_adef18bc_7eb4_11ea_a4ab_38f9d3bb4b3arow3_col20\" class=\"data row3 col20\" >-0.0546772</td>\n",
       "                        <td id=\"T_adef18bc_7eb4_11ea_a4ab_38f9d3bb4b3arow3_col21\" class=\"data row3 col21\" >0.279506</td>\n",
       "                        <td id=\"T_adef18bc_7eb4_11ea_a4ab_38f9d3bb4b3arow3_col22\" class=\"data row3 col22\" >-0.617063</td>\n",
       "                        <td id=\"T_adef18bc_7eb4_11ea_a4ab_38f9d3bb4b3arow3_col23\" class=\"data row3 col23\" >-0.128849</td>\n",
       "            </tr>\n",
       "            <tr>\n",
       "                        <th id=\"T_adef18bc_7eb4_11ea_a4ab_38f9d3bb4b3alevel0_row4\" class=\"row_heading level0 row4\" >ceiling_height</th>\n",
       "                        <td id=\"T_adef18bc_7eb4_11ea_a4ab_38f9d3bb4b3arow4_col0\" class=\"data row4 col0\" >0.0432905</td>\n",
       "                        <td id=\"T_adef18bc_7eb4_11ea_a4ab_38f9d3bb4b3arow4_col1\" class=\"data row4 col1\" >0.264384</td>\n",
       "                        <td id=\"T_adef18bc_7eb4_11ea_a4ab_38f9d3bb4b3arow4_col2\" class=\"data row4 col2\" >0.380997</td>\n",
       "                        <td id=\"T_adef18bc_7eb4_11ea_a4ab_38f9d3bb4b3arow4_col3\" class=\"data row4 col3\" >0.238845</td>\n",
       "                        <td id=\"T_adef18bc_7eb4_11ea_a4ab_38f9d3bb4b3arow4_col4\" class=\"data row4 col4\" >1</td>\n",
       "                        <td id=\"T_adef18bc_7eb4_11ea_a4ab_38f9d3bb4b3arow4_col5\" class=\"data row4 col5\" >-0.065856</td>\n",
       "                        <td id=\"T_adef18bc_7eb4_11ea_a4ab_38f9d3bb4b3arow4_col6\" class=\"data row4 col6\" >0.350845</td>\n",
       "                        <td id=\"T_adef18bc_7eb4_11ea_a4ab_38f9d3bb4b3arow4_col7\" class=\"data row4 col7\" >-0.0372078</td>\n",
       "                        <td id=\"T_adef18bc_7eb4_11ea_a4ab_38f9d3bb4b3arow4_col8\" class=\"data row4 col8\" >0.00762059</td>\n",
       "                        <td id=\"T_adef18bc_7eb4_11ea_a4ab_38f9d3bb4b3arow4_col9\" class=\"data row4 col9\" >0.000106189</td>\n",
       "                        <td id=\"T_adef18bc_7eb4_11ea_a4ab_38f9d3bb4b3arow4_col10\" class=\"data row4 col10\" >0.337738</td>\n",
       "                        <td id=\"T_adef18bc_7eb4_11ea_a4ab_38f9d3bb4b3arow4_col11\" class=\"data row4 col11\" >-0.0147364</td>\n",
       "                        <td id=\"T_adef18bc_7eb4_11ea_a4ab_38f9d3bb4b3arow4_col12\" class=\"data row4 col12\" >-0.082385</td>\n",
       "                        <td id=\"T_adef18bc_7eb4_11ea_a4ab_38f9d3bb4b3arow4_col13\" class=\"data row4 col13\" >-0.299626</td>\n",
       "                        <td id=\"T_adef18bc_7eb4_11ea_a4ab_38f9d3bb4b3arow4_col14\" class=\"data row4 col14\" >0.251163</td>\n",
       "                        <td id=\"T_adef18bc_7eb4_11ea_a4ab_38f9d3bb4b3arow4_col15\" class=\"data row4 col15\" >-0.0575004</td>\n",
       "                        <td id=\"T_adef18bc_7eb4_11ea_a4ab_38f9d3bb4b3arow4_col16\" class=\"data row4 col16\" >0.222871</td>\n",
       "                        <td id=\"T_adef18bc_7eb4_11ea_a4ab_38f9d3bb4b3arow4_col17\" class=\"data row4 col17\" >-0.125903</td>\n",
       "                        <td id=\"T_adef18bc_7eb4_11ea_a4ab_38f9d3bb4b3arow4_col18\" class=\"data row4 col18\" >0.105335</td>\n",
       "                        <td id=\"T_adef18bc_7eb4_11ea_a4ab_38f9d3bb4b3arow4_col19\" class=\"data row4 col19\" >0.276527</td>\n",
       "                        <td id=\"T_adef18bc_7eb4_11ea_a4ab_38f9d3bb4b3arow4_col20\" class=\"data row4 col20\" >-0.0521158</td>\n",
       "                        <td id=\"T_adef18bc_7eb4_11ea_a4ab_38f9d3bb4b3arow4_col21\" class=\"data row4 col21\" >-0.0416134</td>\n",
       "                        <td id=\"T_adef18bc_7eb4_11ea_a4ab_38f9d3bb4b3arow4_col22\" class=\"data row4 col22\" >-0.0156626</td>\n",
       "                        <td id=\"T_adef18bc_7eb4_11ea_a4ab_38f9d3bb4b3arow4_col23\" class=\"data row4 col23\" >-0.103094</td>\n",
       "            </tr>\n",
       "            <tr>\n",
       "                        <th id=\"T_adef18bc_7eb4_11ea_a4ab_38f9d3bb4b3alevel0_row5\" class=\"row_heading level0 row5\" >floors_total</th>\n",
       "                        <td id=\"T_adef18bc_7eb4_11ea_a4ab_38f9d3bb4b3arow5_col0\" class=\"data row5 col0\" >0.0119797</td>\n",
       "                        <td id=\"T_adef18bc_7eb4_11ea_a4ab_38f9d3bb4b3arow5_col1\" class=\"data row5 col1\" >0.00196813</td>\n",
       "                        <td id=\"T_adef18bc_7eb4_11ea_a4ab_38f9d3bb4b3arow5_col2\" class=\"data row5 col2\" >-0.0699577</td>\n",
       "                        <td id=\"T_adef18bc_7eb4_11ea_a4ab_38f9d3bb4b3arow5_col3\" class=\"data row5 col3\" >-0.221092</td>\n",
       "                        <td id=\"T_adef18bc_7eb4_11ea_a4ab_38f9d3bb4b3arow5_col4\" class=\"data row5 col4\" >-0.065856</td>\n",
       "                        <td id=\"T_adef18bc_7eb4_11ea_a4ab_38f9d3bb4b3arow5_col5\" class=\"data row5 col5\" >1</td>\n",
       "                        <td id=\"T_adef18bc_7eb4_11ea_a4ab_38f9d3bb4b3arow5_col6\" class=\"data row5 col6\" >-0.162673</td>\n",
       "                        <td id=\"T_adef18bc_7eb4_11ea_a4ab_38f9d3bb4b3arow5_col7\" class=\"data row5 col7\" >0.673193</td>\n",
       "                        <td id=\"T_adef18bc_7eb4_11ea_a4ab_38f9d3bb4b3arow5_col8\" class=\"data row5 col8\" >0.0680532</td>\n",
       "                        <td id=\"T_adef18bc_7eb4_11ea_a4ab_38f9d3bb4b3arow5_col9\" class=\"data row5 col9\" >0.0495298</td>\n",
       "                        <td id=\"T_adef18bc_7eb4_11ea_a4ab_38f9d3bb4b3arow5_col10\" class=\"data row5 col10\" >0.18141</td>\n",
       "                        <td id=\"T_adef18bc_7eb4_11ea_a4ab_38f9d3bb4b3arow5_col11\" class=\"data row5 col11\" >0.193759</td>\n",
       "                        <td id=\"T_adef18bc_7eb4_11ea_a4ab_38f9d3bb4b3arow5_col12\" class=\"data row5 col12\" >0.107374</td>\n",
       "                        <td id=\"T_adef18bc_7eb4_11ea_a4ab_38f9d3bb4b3arow5_col13\" class=\"data row5 col13\" >0.0132835</td>\n",
       "                        <td id=\"T_adef18bc_7eb4_11ea_a4ab_38f9d3bb4b3arow5_col14\" class=\"data row5 col14\" >-0.156245</td>\n",
       "                        <td id=\"T_adef18bc_7eb4_11ea_a4ab_38f9d3bb4b3arow5_col15\" class=\"data row5 col15\" >0.095324</td>\n",
       "                        <td id=\"T_adef18bc_7eb4_11ea_a4ab_38f9d3bb4b3arow5_col16\" class=\"data row5 col16\" >-0.0454847</td>\n",
       "                        <td id=\"T_adef18bc_7eb4_11ea_a4ab_38f9d3bb4b3arow5_col17\" class=\"data row5 col17\" >0.0391164</td>\n",
       "                        <td id=\"T_adef18bc_7eb4_11ea_a4ab_38f9d3bb4b3arow5_col18\" class=\"data row5 col18\" >-0.0497711</td>\n",
       "                        <td id=\"T_adef18bc_7eb4_11ea_a4ab_38f9d3bb4b3arow5_col19\" class=\"data row5 col19\" >0.162695</td>\n",
       "                        <td id=\"T_adef18bc_7eb4_11ea_a4ab_38f9d3bb4b3arow5_col20\" class=\"data row5 col20\" >0.00775781</td>\n",
       "                        <td id=\"T_adef18bc_7eb4_11ea_a4ab_38f9d3bb4b3arow5_col21\" class=\"data row5 col21\" >-0.276564</td>\n",
       "                        <td id=\"T_adef18bc_7eb4_11ea_a4ab_38f9d3bb4b3arow5_col22\" class=\"data row5 col22\" >0.342705</td>\n",
       "                        <td id=\"T_adef18bc_7eb4_11ea_a4ab_38f9d3bb4b3arow5_col23\" class=\"data row5 col23\" >0.0708057</td>\n",
       "            </tr>\n",
       "            <tr>\n",
       "                        <th id=\"T_adef18bc_7eb4_11ea_a4ab_38f9d3bb4b3alevel0_row6\" class=\"row_heading level0 row6\" >living_area</th>\n",
       "                        <td id=\"T_adef18bc_7eb4_11ea_a4ab_38f9d3bb4b3arow6_col0\" class=\"data row6 col0\" >0.101832</td>\n",
       "                        <td id=\"T_adef18bc_7eb4_11ea_a4ab_38f9d3bb4b3arow6_col1\" class=\"data row6 col1\" >0.504246</td>\n",
       "                        <td id=\"T_adef18bc_7eb4_11ea_a4ab_38f9d3bb4b3arow6_col2\" class=\"data row6 col2\" >0.868753</td>\n",
       "                        <td id=\"T_adef18bc_7eb4_11ea_a4ab_38f9d3bb4b3arow6_col3\" class=\"data row6 col3\" >0.826062</td>\n",
       "                        <td id=\"T_adef18bc_7eb4_11ea_a4ab_38f9d3bb4b3arow6_col4\" class=\"data row6 col4\" >0.350845</td>\n",
       "                        <td id=\"T_adef18bc_7eb4_11ea_a4ab_38f9d3bb4b3arow6_col5\" class=\"data row6 col5\" >-0.162673</td>\n",
       "                        <td id=\"T_adef18bc_7eb4_11ea_a4ab_38f9d3bb4b3arow6_col6\" class=\"data row6 col6\" >1</td>\n",
       "                        <td id=\"T_adef18bc_7eb4_11ea_a4ab_38f9d3bb4b3arow6_col7\" class=\"data row6 col7\" >-0.0961891</td>\n",
       "                        <td id=\"T_adef18bc_7eb4_11ea_a4ab_38f9d3bb4b3arow6_col8\" class=\"data row6 col8\" >-0.0568229</td>\n",
       "                        <td id=\"T_adef18bc_7eb4_11ea_a4ab_38f9d3bb4b3arow6_col9\" class=\"data row6 col9\" >-0.0335641</td>\n",
       "                        <td id=\"T_adef18bc_7eb4_11ea_a4ab_38f9d3bb4b3arow6_col10\" class=\"data row6 col10\" >0.387124</td>\n",
       "                        <td id=\"T_adef18bc_7eb4_11ea_a4ab_38f9d3bb4b3arow6_col11\" class=\"data row6 col11\" >0.0275253</td>\n",
       "                        <td id=\"T_adef18bc_7eb4_11ea_a4ab_38f9d3bb4b3arow6_col12\" class=\"data row6 col12\" >-0.0577759</td>\n",
       "                        <td id=\"T_adef18bc_7eb4_11ea_a4ab_38f9d3bb4b3arow6_col13\" class=\"data row6 col13\" >-0.22324</td>\n",
       "                        <td id=\"T_adef18bc_7eb4_11ea_a4ab_38f9d3bb4b3arow6_col14\" class=\"data row6 col14\" >0.203944</td>\n",
       "                        <td id=\"T_adef18bc_7eb4_11ea_a4ab_38f9d3bb4b3arow6_col15\" class=\"data row6 col15\" >-0.0457992</td>\n",
       "                        <td id=\"T_adef18bc_7eb4_11ea_a4ab_38f9d3bb4b3arow6_col16\" class=\"data row6 col16\" >0.175891</td>\n",
       "                        <td id=\"T_adef18bc_7eb4_11ea_a4ab_38f9d3bb4b3arow6_col17\" class=\"data row6 col17\" >-0.073988</td>\n",
       "                        <td id=\"T_adef18bc_7eb4_11ea_a4ab_38f9d3bb4b3arow6_col18\" class=\"data row6 col18\" >0.140307</td>\n",
       "                        <td id=\"T_adef18bc_7eb4_11ea_a4ab_38f9d3bb4b3arow6_col19\" class=\"data row6 col19\" >0.189486</td>\n",
       "                        <td id=\"T_adef18bc_7eb4_11ea_a4ab_38f9d3bb4b3arow6_col20\" class=\"data row6 col20\" >-0.0750325</td>\n",
       "                        <td id=\"T_adef18bc_7eb4_11ea_a4ab_38f9d3bb4b3arow6_col21\" class=\"data row6 col21\" >0.355882</td>\n",
       "                        <td id=\"T_adef18bc_7eb4_11ea_a4ab_38f9d3bb4b3arow6_col22\" class=\"data row6 col22\" >-0.498676</td>\n",
       "                        <td id=\"T_adef18bc_7eb4_11ea_a4ab_38f9d3bb4b3arow6_col23\" class=\"data row6 col23\" >-0.133675</td>\n",
       "            </tr>\n",
       "            <tr>\n",
       "                        <th id=\"T_adef18bc_7eb4_11ea_a4ab_38f9d3bb4b3alevel0_row7\" class=\"row_heading level0 row7\" >floor</th>\n",
       "                        <td id=\"T_adef18bc_7eb4_11ea_a4ab_38f9d3bb4b3arow7_col0\" class=\"data row7 col0\" >0.0314435</td>\n",
       "                        <td id=\"T_adef18bc_7eb4_11ea_a4ab_38f9d3bb4b3arow7_col1\" class=\"data row7 col1\" >0.0294359</td>\n",
       "                        <td id=\"T_adef18bc_7eb4_11ea_a4ab_38f9d3bb4b3arow7_col2\" class=\"data row7 col2\" >-0.024213</td>\n",
       "                        <td id=\"T_adef18bc_7eb4_11ea_a4ab_38f9d3bb4b3arow7_col3\" class=\"data row7 col3\" >-0.148211</td>\n",
       "                        <td id=\"T_adef18bc_7eb4_11ea_a4ab_38f9d3bb4b3arow7_col4\" class=\"data row7 col4\" >-0.0372078</td>\n",
       "                        <td id=\"T_adef18bc_7eb4_11ea_a4ab_38f9d3bb4b3arow7_col5\" class=\"data row7 col5\" >0.673193</td>\n",
       "                        <td id=\"T_adef18bc_7eb4_11ea_a4ab_38f9d3bb4b3arow7_col6\" class=\"data row7 col6\" >-0.0961891</td>\n",
       "                        <td id=\"T_adef18bc_7eb4_11ea_a4ab_38f9d3bb4b3arow7_col7\" class=\"data row7 col7\" >1</td>\n",
       "                        <td id=\"T_adef18bc_7eb4_11ea_a4ab_38f9d3bb4b3arow7_col8\" class=\"data row7 col8\" >0.035436</td>\n",
       "                        <td id=\"T_adef18bc_7eb4_11ea_a4ab_38f9d3bb4b3arow7_col9\" class=\"data row7 col9\" >0.034347</td>\n",
       "                        <td id=\"T_adef18bc_7eb4_11ea_a4ab_38f9d3bb4b3arow7_col10\" class=\"data row7 col10\" >0.143709</td>\n",
       "                        <td id=\"T_adef18bc_7eb4_11ea_a4ab_38f9d3bb4b3arow7_col11\" class=\"data row7 col11\" >0.168164</td>\n",
       "                        <td id=\"T_adef18bc_7eb4_11ea_a4ab_38f9d3bb4b3arow7_col12\" class=\"data row7 col12\" >0.0712142</td>\n",
       "                        <td id=\"T_adef18bc_7eb4_11ea_a4ab_38f9d3bb4b3arow7_col13\" class=\"data row7 col13\" >0.00553029</td>\n",
       "                        <td id=\"T_adef18bc_7eb4_11ea_a4ab_38f9d3bb4b3arow7_col14\" class=\"data row7 col14\" >-0.10349</td>\n",
       "                        <td id=\"T_adef18bc_7eb4_11ea_a4ab_38f9d3bb4b3arow7_col15\" class=\"data row7 col15\" >0.0721511</td>\n",
       "                        <td id=\"T_adef18bc_7eb4_11ea_a4ab_38f9d3bb4b3arow7_col16\" class=\"data row7 col16\" >-0.0268841</td>\n",
       "                        <td id=\"T_adef18bc_7eb4_11ea_a4ab_38f9d3bb4b3arow7_col17\" class=\"data row7 col17\" >0.0250009</td>\n",
       "                        <td id=\"T_adef18bc_7eb4_11ea_a4ab_38f9d3bb4b3arow7_col18\" class=\"data row7 col18\" >-0.0377383</td>\n",
       "                        <td id=\"T_adef18bc_7eb4_11ea_a4ab_38f9d3bb4b3arow7_col19\" class=\"data row7 col19\" >0.138153</td>\n",
       "                        <td id=\"T_adef18bc_7eb4_11ea_a4ab_38f9d3bb4b3arow7_col20\" class=\"data row7 col20\" >0.00487346</td>\n",
       "                        <td id=\"T_adef18bc_7eb4_11ea_a4ab_38f9d3bb4b3arow7_col21\" class=\"data row7 col21\" >-0.202961</td>\n",
       "                        <td id=\"T_adef18bc_7eb4_11ea_a4ab_38f9d3bb4b3arow7_col22\" class=\"data row7 col22\" >0.235504</td>\n",
       "                        <td id=\"T_adef18bc_7eb4_11ea_a4ab_38f9d3bb4b3arow7_col23\" class=\"data row7 col23\" >0.0573</td>\n",
       "            </tr>\n",
       "            <tr>\n",
       "                        <th id=\"T_adef18bc_7eb4_11ea_a4ab_38f9d3bb4b3alevel0_row8\" class=\"row_heading level0 row8\" >studio</th>\n",
       "                        <td id=\"T_adef18bc_7eb4_11ea_a4ab_38f9d3bb4b3arow8_col0\" class=\"data row8 col0\" >-0.0278503</td>\n",
       "                        <td id=\"T_adef18bc_7eb4_11ea_a4ab_38f9d3bb4b3arow8_col1\" class=\"data row8 col1\" >-0.0268827</td>\n",
       "                        <td id=\"T_adef18bc_7eb4_11ea_a4ab_38f9d3bb4b3arow8_col2\" class=\"data row8 col2\" >-0.0774906</td>\n",
       "                        <td id=\"T_adef18bc_7eb4_11ea_a4ab_38f9d3bb4b3arow8_col3\" class=\"data row8 col3\" >-0.0807055</td>\n",
       "                        <td id=\"T_adef18bc_7eb4_11ea_a4ab_38f9d3bb4b3arow8_col4\" class=\"data row8 col4\" >0.00762059</td>\n",
       "                        <td id=\"T_adef18bc_7eb4_11ea_a4ab_38f9d3bb4b3arow8_col5\" class=\"data row8 col5\" >0.0680532</td>\n",
       "                        <td id=\"T_adef18bc_7eb4_11ea_a4ab_38f9d3bb4b3arow8_col6\" class=\"data row8 col6\" >-0.0568229</td>\n",
       "                        <td id=\"T_adef18bc_7eb4_11ea_a4ab_38f9d3bb4b3arow8_col7\" class=\"data row8 col7\" >0.035436</td>\n",
       "                        <td id=\"T_adef18bc_7eb4_11ea_a4ab_38f9d3bb4b3arow8_col8\" class=\"data row8 col8\" >1</td>\n",
       "                        <td id=\"T_adef18bc_7eb4_11ea_a4ab_38f9d3bb4b3arow8_col9\" class=\"data row8 col9\" >-0.0042067</td>\n",
       "                        <td id=\"T_adef18bc_7eb4_11ea_a4ab_38f9d3bb4b3arow8_col10\" class=\"data row8 col10\" >-0.0209102</td>\n",
       "                        <td id=\"T_adef18bc_7eb4_11ea_a4ab_38f9d3bb4b3arow8_col11\" class=\"data row8 col11\" >0.0322371</td>\n",
       "                        <td id=\"T_adef18bc_7eb4_11ea_a4ab_38f9d3bb4b3arow8_col12\" class=\"data row8 col12\" >-0.0214213</td>\n",
       "                        <td id=\"T_adef18bc_7eb4_11ea_a4ab_38f9d3bb4b3arow8_col13\" class=\"data row8 col13\" >-0.00629155</td>\n",
       "                        <td id=\"T_adef18bc_7eb4_11ea_a4ab_38f9d3bb4b3arow8_col14\" class=\"data row8 col14\" >-0.0334088</td>\n",
       "                        <td id=\"T_adef18bc_7eb4_11ea_a4ab_38f9d3bb4b3arow8_col15\" class=\"data row8 col15\" >0.00848118</td>\n",
       "                        <td id=\"T_adef18bc_7eb4_11ea_a4ab_38f9d3bb4b3arow8_col16\" class=\"data row8 col16\" >-0.0108549</td>\n",
       "                        <td id=\"T_adef18bc_7eb4_11ea_a4ab_38f9d3bb4b3arow8_col17\" class=\"data row8 col17\" >0.00266193</td>\n",
       "                        <td id=\"T_adef18bc_7eb4_11ea_a4ab_38f9d3bb4b3arow8_col18\" class=\"data row8 col18\" >-0.0216456</td>\n",
       "                        <td id=\"T_adef18bc_7eb4_11ea_a4ab_38f9d3bb4b3arow8_col19\" class=\"data row8 col19\" >0.017179</td>\n",
       "                        <td id=\"T_adef18bc_7eb4_11ea_a4ab_38f9d3bb4b3arow8_col20\" class=\"data row8 col20\" >0.011646</td>\n",
       "                        <td id=\"T_adef18bc_7eb4_11ea_a4ab_38f9d3bb4b3arow8_col21\" class=\"data row8 col21\" >0.0985124</td>\n",
       "                        <td id=\"T_adef18bc_7eb4_11ea_a4ab_38f9d3bb4b3arow8_col22\" class=\"data row8 col22\" >0.164687</td>\n",
       "                        <td id=\"T_adef18bc_7eb4_11ea_a4ab_38f9d3bb4b3arow8_col23\" class=\"data row8 col23\" >0.0292538</td>\n",
       "            </tr>\n",
       "            <tr>\n",
       "                        <th id=\"T_adef18bc_7eb4_11ea_a4ab_38f9d3bb4b3alevel0_row9\" class=\"row_heading level0 row9\" >open_plan</th>\n",
       "                        <td id=\"T_adef18bc_7eb4_11ea_a4ab_38f9d3bb4b3arow9_col0\" class=\"data row9 col0\" >-0.0242403</td>\n",
       "                        <td id=\"T_adef18bc_7eb4_11ea_a4ab_38f9d3bb4b3arow9_col1\" class=\"data row9 col1\" >-0.00859254</td>\n",
       "                        <td id=\"T_adef18bc_7eb4_11ea_a4ab_38f9d3bb4b3arow9_col2\" class=\"data row9 col2\" >-0.0363818</td>\n",
       "                        <td id=\"T_adef18bc_7eb4_11ea_a4ab_38f9d3bb4b3arow9_col3\" class=\"data row9 col3\" >-0.0449677</td>\n",
       "                        <td id=\"T_adef18bc_7eb4_11ea_a4ab_38f9d3bb4b3arow9_col4\" class=\"data row9 col4\" >0.000106189</td>\n",
       "                        <td id=\"T_adef18bc_7eb4_11ea_a4ab_38f9d3bb4b3arow9_col5\" class=\"data row9 col5\" >0.0495298</td>\n",
       "                        <td id=\"T_adef18bc_7eb4_11ea_a4ab_38f9d3bb4b3arow9_col6\" class=\"data row9 col6\" >-0.0335641</td>\n",
       "                        <td id=\"T_adef18bc_7eb4_11ea_a4ab_38f9d3bb4b3arow9_col7\" class=\"data row9 col7\" >0.034347</td>\n",
       "                        <td id=\"T_adef18bc_7eb4_11ea_a4ab_38f9d3bb4b3arow9_col8\" class=\"data row9 col8\" >-0.0042067</td>\n",
       "                        <td id=\"T_adef18bc_7eb4_11ea_a4ab_38f9d3bb4b3arow9_col9\" class=\"data row9 col9\" >1</td>\n",
       "                        <td id=\"T_adef18bc_7eb4_11ea_a4ab_38f9d3bb4b3arow9_col10\" class=\"data row9 col10\" >-0.0126308</td>\n",
       "                        <td id=\"T_adef18bc_7eb4_11ea_a4ab_38f9d3bb4b3arow9_col11\" class=\"data row9 col11\" >0.0187767</td>\n",
       "                        <td id=\"T_adef18bc_7eb4_11ea_a4ab_38f9d3bb4b3arow9_col12\" class=\"data row9 col12\" >-0.0137219</td>\n",
       "                        <td id=\"T_adef18bc_7eb4_11ea_a4ab_38f9d3bb4b3arow9_col13\" class=\"data row9 col13\" >-0.0045905</td>\n",
       "                        <td id=\"T_adef18bc_7eb4_11ea_a4ab_38f9d3bb4b3arow9_col14\" class=\"data row9 col14\" >-0.0158826</td>\n",
       "                        <td id=\"T_adef18bc_7eb4_11ea_a4ab_38f9d3bb4b3arow9_col15\" class=\"data row9 col15\" >0.0106314</td>\n",
       "                        <td id=\"T_adef18bc_7eb4_11ea_a4ab_38f9d3bb4b3arow9_col16\" class=\"data row9 col16\" >-0.00338794</td>\n",
       "                        <td id=\"T_adef18bc_7eb4_11ea_a4ab_38f9d3bb4b3arow9_col17\" class=\"data row9 col17\" >-0.00343727</td>\n",
       "                        <td id=\"T_adef18bc_7eb4_11ea_a4ab_38f9d3bb4b3arow9_col18\" class=\"data row9 col18\" >-0.0237305</td>\n",
       "                        <td id=\"T_adef18bc_7eb4_11ea_a4ab_38f9d3bb4b3arow9_col19\" class=\"data row9 col19\" >0.00911294</td>\n",
       "                        <td id=\"T_adef18bc_7eb4_11ea_a4ab_38f9d3bb4b3arow9_col20\" class=\"data row9 col20\" >-0.0211271</td>\n",
       "                        <td id=\"T_adef18bc_7eb4_11ea_a4ab_38f9d3bb4b3arow9_col21\" class=\"data row9 col21\" >0.0536836</td>\n",
       "                        <td id=\"T_adef18bc_7eb4_11ea_a4ab_38f9d3bb4b3arow9_col22\" class=\"data row9 col22\" >0.0913224</td>\n",
       "                        <td id=\"T_adef18bc_7eb4_11ea_a4ab_38f9d3bb4b3arow9_col23\" class=\"data row9 col23\" >0.0352703</td>\n",
       "            </tr>\n",
       "            <tr>\n",
       "                        <th id=\"T_adef18bc_7eb4_11ea_a4ab_38f9d3bb4b3alevel0_row10\" class=\"row_heading level0 row10\" >kitchen_area</th>\n",
       "                        <td id=\"T_adef18bc_7eb4_11ea_a4ab_38f9d3bb4b3arow10_col0\" class=\"data row10 col0\" >0.102474</td>\n",
       "                        <td id=\"T_adef18bc_7eb4_11ea_a4ab_38f9d3bb4b3arow10_col1\" class=\"data row10 col1\" >0.399376</td>\n",
       "                        <td id=\"T_adef18bc_7eb4_11ea_a4ab_38f9d3bb4b3arow10_col2\" class=\"data row10 col2\" >0.563931</td>\n",
       "                        <td id=\"T_adef18bc_7eb4_11ea_a4ab_38f9d3bb4b3arow10_col3\" class=\"data row10 col3\" >0.254595</td>\n",
       "                        <td id=\"T_adef18bc_7eb4_11ea_a4ab_38f9d3bb4b3arow10_col4\" class=\"data row10 col4\" >0.337738</td>\n",
       "                        <td id=\"T_adef18bc_7eb4_11ea_a4ab_38f9d3bb4b3arow10_col5\" class=\"data row10 col5\" >0.18141</td>\n",
       "                        <td id=\"T_adef18bc_7eb4_11ea_a4ab_38f9d3bb4b3arow10_col6\" class=\"data row10 col6\" >0.387124</td>\n",
       "                        <td id=\"T_adef18bc_7eb4_11ea_a4ab_38f9d3bb4b3arow10_col7\" class=\"data row10 col7\" >0.143709</td>\n",
       "                        <td id=\"T_adef18bc_7eb4_11ea_a4ab_38f9d3bb4b3arow10_col8\" class=\"data row10 col8\" >-0.0209102</td>\n",
       "                        <td id=\"T_adef18bc_7eb4_11ea_a4ab_38f9d3bb4b3arow10_col9\" class=\"data row10 col9\" >-0.0126308</td>\n",
       "                        <td id=\"T_adef18bc_7eb4_11ea_a4ab_38f9d3bb4b3arow10_col10\" class=\"data row10 col10\" >1</td>\n",
       "                        <td id=\"T_adef18bc_7eb4_11ea_a4ab_38f9d3bb4b3arow10_col11\" class=\"data row10 col11\" >0.109096</td>\n",
       "                        <td id=\"T_adef18bc_7eb4_11ea_a4ab_38f9d3bb4b3arow10_col12\" class=\"data row10 col12\" >0.0110561</td>\n",
       "                        <td id=\"T_adef18bc_7eb4_11ea_a4ab_38f9d3bb4b3arow10_col13\" class=\"data row10 col13\" >-0.191077</td>\n",
       "                        <td id=\"T_adef18bc_7eb4_11ea_a4ab_38f9d3bb4b3arow10_col14\" class=\"data row10 col14\" >0.109913</td>\n",
       "                        <td id=\"T_adef18bc_7eb4_11ea_a4ab_38f9d3bb4b3arow10_col15\" class=\"data row10 col15\" >0.0305553</td>\n",
       "                        <td id=\"T_adef18bc_7eb4_11ea_a4ab_38f9d3bb4b3arow10_col16\" class=\"data row10 col16\" >0.171021</td>\n",
       "                        <td id=\"T_adef18bc_7eb4_11ea_a4ab_38f9d3bb4b3arow10_col17\" class=\"data row10 col17\" >-0.103242</td>\n",
       "                        <td id=\"T_adef18bc_7eb4_11ea_a4ab_38f9d3bb4b3arow10_col18\" class=\"data row10 col18\" >0.103104</td>\n",
       "                        <td id=\"T_adef18bc_7eb4_11ea_a4ab_38f9d3bb4b3arow10_col19\" class=\"data row10 col19\" >0.341276</td>\n",
       "                        <td id=\"T_adef18bc_7eb4_11ea_a4ab_38f9d3bb4b3arow10_col20\" class=\"data row10 col20\" >-0.0549782</td>\n",
       "                        <td id=\"T_adef18bc_7eb4_11ea_a4ab_38f9d3bb4b3arow10_col21\" class=\"data row10 col21\" >-0.319612</td>\n",
       "                        <td id=\"T_adef18bc_7eb4_11ea_a4ab_38f9d3bb4b3arow10_col22\" class=\"data row10 col22\" >0.38711</td>\n",
       "                        <td id=\"T_adef18bc_7eb4_11ea_a4ab_38f9d3bb4b3arow10_col23\" class=\"data row10 col23\" >-0.0517487</td>\n",
       "            </tr>\n",
       "            <tr>\n",
       "                        <th id=\"T_adef18bc_7eb4_11ea_a4ab_38f9d3bb4b3alevel0_row11\" class=\"row_heading level0 row11\" >balcony</th>\n",
       "                        <td id=\"T_adef18bc_7eb4_11ea_a4ab_38f9d3bb4b3arow11_col0\" class=\"data row11 col0\" >0.123071</td>\n",
       "                        <td id=\"T_adef18bc_7eb4_11ea_a4ab_38f9d3bb4b3arow11_col1\" class=\"data row11 col1\" >0.0367368</td>\n",
       "                        <td id=\"T_adef18bc_7eb4_11ea_a4ab_38f9d3bb4b3arow11_col2\" class=\"data row11 col2\" >0.0597607</td>\n",
       "                        <td id=\"T_adef18bc_7eb4_11ea_a4ab_38f9d3bb4b3arow11_col3\" class=\"data row11 col3\" >0.0271041</td>\n",
       "                        <td id=\"T_adef18bc_7eb4_11ea_a4ab_38f9d3bb4b3arow11_col4\" class=\"data row11 col4\" >-0.0147364</td>\n",
       "                        <td id=\"T_adef18bc_7eb4_11ea_a4ab_38f9d3bb4b3arow11_col5\" class=\"data row11 col5\" >0.193759</td>\n",
       "                        <td id=\"T_adef18bc_7eb4_11ea_a4ab_38f9d3bb4b3arow11_col6\" class=\"data row11 col6\" >0.0275253</td>\n",
       "                        <td id=\"T_adef18bc_7eb4_11ea_a4ab_38f9d3bb4b3arow11_col7\" class=\"data row11 col7\" >0.168164</td>\n",
       "                        <td id=\"T_adef18bc_7eb4_11ea_a4ab_38f9d3bb4b3arow11_col8\" class=\"data row11 col8\" >0.0322371</td>\n",
       "                        <td id=\"T_adef18bc_7eb4_11ea_a4ab_38f9d3bb4b3arow11_col9\" class=\"data row11 col9\" >0.0187767</td>\n",
       "                        <td id=\"T_adef18bc_7eb4_11ea_a4ab_38f9d3bb4b3arow11_col10\" class=\"data row11 col10\" >0.109096</td>\n",
       "                        <td id=\"T_adef18bc_7eb4_11ea_a4ab_38f9d3bb4b3arow11_col11\" class=\"data row11 col11\" >1</td>\n",
       "                        <td id=\"T_adef18bc_7eb4_11ea_a4ab_38f9d3bb4b3arow11_col12\" class=\"data row11 col12\" >0.0673693</td>\n",
       "                        <td id=\"T_adef18bc_7eb4_11ea_a4ab_38f9d3bb4b3arow11_col13\" class=\"data row11 col13\" >0.0478836</td>\n",
       "                        <td id=\"T_adef18bc_7eb4_11ea_a4ab_38f9d3bb4b3arow11_col14\" class=\"data row11 col14\" >-0.0791368</td>\n",
       "                        <td id=\"T_adef18bc_7eb4_11ea_a4ab_38f9d3bb4b3arow11_col15\" class=\"data row11 col15\" >0.0462064</td>\n",
       "                        <td id=\"T_adef18bc_7eb4_11ea_a4ab_38f9d3bb4b3arow11_col16\" class=\"data row11 col16\" >-0.0391837</td>\n",
       "                        <td id=\"T_adef18bc_7eb4_11ea_a4ab_38f9d3bb4b3arow11_col17\" class=\"data row11 col17\" >0.0133844</td>\n",
       "                        <td id=\"T_adef18bc_7eb4_11ea_a4ab_38f9d3bb4b3arow11_col18\" class=\"data row11 col18\" >-0.0303377</td>\n",
       "                        <td id=\"T_adef18bc_7eb4_11ea_a4ab_38f9d3bb4b3arow11_col19\" class=\"data row11 col19\" >0.0683538</td>\n",
       "                        <td id=\"T_adef18bc_7eb4_11ea_a4ab_38f9d3bb4b3arow11_col20\" class=\"data row11 col20\" >0.343771</td>\n",
       "                        <td id=\"T_adef18bc_7eb4_11ea_a4ab_38f9d3bb4b3arow11_col21\" class=\"data row11 col21\" >-0.0761031</td>\n",
       "                        <td id=\"T_adef18bc_7eb4_11ea_a4ab_38f9d3bb4b3arow11_col22\" class=\"data row11 col22\" >0.0335219</td>\n",
       "                        <td id=\"T_adef18bc_7eb4_11ea_a4ab_38f9d3bb4b3arow11_col23\" class=\"data row11 col23\" >0.0231706</td>\n",
       "            </tr>\n",
       "            <tr>\n",
       "                        <th id=\"T_adef18bc_7eb4_11ea_a4ab_38f9d3bb4b3alevel0_row12\" class=\"row_heading level0 row12\" >airports_nearest</th>\n",
       "                        <td id=\"T_adef18bc_7eb4_11ea_a4ab_38f9d3bb4b3arow12_col0\" class=\"data row12 col0\" >-0.00246629</td>\n",
       "                        <td id=\"T_adef18bc_7eb4_11ea_a4ab_38f9d3bb4b3arow12_col1\" class=\"data row12 col1\" >-0.0259845</td>\n",
       "                        <td id=\"T_adef18bc_7eb4_11ea_a4ab_38f9d3bb4b3arow12_col2\" class=\"data row12 col2\" >-0.0304632</td>\n",
       "                        <td id=\"T_adef18bc_7eb4_11ea_a4ab_38f9d3bb4b3arow12_col3\" class=\"data row12 col3\" >-0.0638464</td>\n",
       "                        <td id=\"T_adef18bc_7eb4_11ea_a4ab_38f9d3bb4b3arow12_col4\" class=\"data row12 col4\" >-0.082385</td>\n",
       "                        <td id=\"T_adef18bc_7eb4_11ea_a4ab_38f9d3bb4b3arow12_col5\" class=\"data row12 col5\" >0.107374</td>\n",
       "                        <td id=\"T_adef18bc_7eb4_11ea_a4ab_38f9d3bb4b3arow12_col6\" class=\"data row12 col6\" >-0.0577759</td>\n",
       "                        <td id=\"T_adef18bc_7eb4_11ea_a4ab_38f9d3bb4b3arow12_col7\" class=\"data row12 col7\" >0.0712142</td>\n",
       "                        <td id=\"T_adef18bc_7eb4_11ea_a4ab_38f9d3bb4b3arow12_col8\" class=\"data row12 col8\" >-0.0214213</td>\n",
       "                        <td id=\"T_adef18bc_7eb4_11ea_a4ab_38f9d3bb4b3arow12_col9\" class=\"data row12 col9\" >-0.0137219</td>\n",
       "                        <td id=\"T_adef18bc_7eb4_11ea_a4ab_38f9d3bb4b3arow12_col10\" class=\"data row12 col10\" >0.0110561</td>\n",
       "                        <td id=\"T_adef18bc_7eb4_11ea_a4ab_38f9d3bb4b3arow12_col11\" class=\"data row12 col11\" >0.0673693</td>\n",
       "                        <td id=\"T_adef18bc_7eb4_11ea_a4ab_38f9d3bb4b3arow12_col12\" class=\"data row12 col12\" >1</td>\n",
       "                        <td id=\"T_adef18bc_7eb4_11ea_a4ab_38f9d3bb4b3arow12_col13\" class=\"data row12 col13\" >0.270607</td>\n",
       "                        <td id=\"T_adef18bc_7eb4_11ea_a4ab_38f9d3bb4b3arow12_col14\" class=\"data row12 col14\" >0.00248231</td>\n",
       "                        <td id=\"T_adef18bc_7eb4_11ea_a4ab_38f9d3bb4b3arow12_col15\" class=\"data row12 col15\" >-0.0721158</td>\n",
       "                        <td id=\"T_adef18bc_7eb4_11ea_a4ab_38f9d3bb4b3arow12_col16\" class=\"data row12 col16\" >-0.0493435</td>\n",
       "                        <td id=\"T_adef18bc_7eb4_11ea_a4ab_38f9d3bb4b3arow12_col17\" class=\"data row12 col17\" >0.0141104</td>\n",
       "                        <td id=\"T_adef18bc_7eb4_11ea_a4ab_38f9d3bb4b3arow12_col18\" class=\"data row12 col18\" >-0.0174004</td>\n",
       "                        <td id=\"T_adef18bc_7eb4_11ea_a4ab_38f9d3bb4b3arow12_col19\" class=\"data row12 col19\" >-0.0377368</td>\n",
       "                        <td id=\"T_adef18bc_7eb4_11ea_a4ab_38f9d3bb4b3arow12_col20\" class=\"data row12 col20\" >0.00791645</td>\n",
       "                        <td id=\"T_adef18bc_7eb4_11ea_a4ab_38f9d3bb4b3arow12_col21\" class=\"data row12 col21\" >-0.0773023</td>\n",
       "                        <td id=\"T_adef18bc_7eb4_11ea_a4ab_38f9d3bb4b3arow12_col22\" class=\"data row12 col22\" >0.0392016</td>\n",
       "                        <td id=\"T_adef18bc_7eb4_11ea_a4ab_38f9d3bb4b3arow12_col23\" class=\"data row12 col23\" >0.0586822</td>\n",
       "            </tr>\n",
       "            <tr>\n",
       "                        <th id=\"T_adef18bc_7eb4_11ea_a4ab_38f9d3bb4b3alevel0_row13\" class=\"row_heading level0 row13\" >cityCenters_nearest</th>\n",
       "                        <td id=\"T_adef18bc_7eb4_11ea_a4ab_38f9d3bb4b3arow13_col0\" class=\"data row13 col0\" >-0.0450668</td>\n",
       "                        <td id=\"T_adef18bc_7eb4_11ea_a4ab_38f9d3bb4b3arow13_col1\" class=\"data row13 col1\" >-0.210117</td>\n",
       "                        <td id=\"T_adef18bc_7eb4_11ea_a4ab_38f9d3bb4b3arow13_col2\" class=\"data row13 col2\" >-0.23346</td>\n",
       "                        <td id=\"T_adef18bc_7eb4_11ea_a4ab_38f9d3bb4b3arow13_col3\" class=\"data row13 col3\" >-0.182021</td>\n",
       "                        <td id=\"T_adef18bc_7eb4_11ea_a4ab_38f9d3bb4b3arow13_col4\" class=\"data row13 col4\" >-0.299626</td>\n",
       "                        <td id=\"T_adef18bc_7eb4_11ea_a4ab_38f9d3bb4b3arow13_col5\" class=\"data row13 col5\" >0.0132835</td>\n",
       "                        <td id=\"T_adef18bc_7eb4_11ea_a4ab_38f9d3bb4b3arow13_col6\" class=\"data row13 col6\" >-0.22324</td>\n",
       "                        <td id=\"T_adef18bc_7eb4_11ea_a4ab_38f9d3bb4b3arow13_col7\" class=\"data row13 col7\" >0.00553029</td>\n",
       "                        <td id=\"T_adef18bc_7eb4_11ea_a4ab_38f9d3bb4b3arow13_col8\" class=\"data row13 col8\" >-0.00629155</td>\n",
       "                        <td id=\"T_adef18bc_7eb4_11ea_a4ab_38f9d3bb4b3arow13_col9\" class=\"data row13 col9\" >-0.0045905</td>\n",
       "                        <td id=\"T_adef18bc_7eb4_11ea_a4ab_38f9d3bb4b3arow13_col10\" class=\"data row13 col10\" >-0.191077</td>\n",
       "                        <td id=\"T_adef18bc_7eb4_11ea_a4ab_38f9d3bb4b3arow13_col11\" class=\"data row13 col11\" >0.0478836</td>\n",
       "                        <td id=\"T_adef18bc_7eb4_11ea_a4ab_38f9d3bb4b3arow13_col12\" class=\"data row13 col12\" >0.270607</td>\n",
       "                        <td id=\"T_adef18bc_7eb4_11ea_a4ab_38f9d3bb4b3arow13_col13\" class=\"data row13 col13\" >1</td>\n",
       "                        <td id=\"T_adef18bc_7eb4_11ea_a4ab_38f9d3bb4b3arow13_col14\" class=\"data row13 col14\" >-0.157001</td>\n",
       "                        <td id=\"T_adef18bc_7eb4_11ea_a4ab_38f9d3bb4b3arow13_col15\" class=\"data row13 col15\" >-0.0427121</td>\n",
       "                        <td id=\"T_adef18bc_7eb4_11ea_a4ab_38f9d3bb4b3arow13_col16\" class=\"data row13 col16\" >-0.0693366</td>\n",
       "                        <td id=\"T_adef18bc_7eb4_11ea_a4ab_38f9d3bb4b3arow13_col17\" class=\"data row13 col17\" >0.029276</td>\n",
       "                        <td id=\"T_adef18bc_7eb4_11ea_a4ab_38f9d3bb4b3arow13_col18\" class=\"data row13 col18\" >-0.0565587</td>\n",
       "                        <td id=\"T_adef18bc_7eb4_11ea_a4ab_38f9d3bb4b3arow13_col19\" class=\"data row13 col19\" >-0.318711</td>\n",
       "                        <td id=\"T_adef18bc_7eb4_11ea_a4ab_38f9d3bb4b3arow13_col20\" class=\"data row13 col20\" >0.030179</td>\n",
       "                        <td id=\"T_adef18bc_7eb4_11ea_a4ab_38f9d3bb4b3arow13_col21\" class=\"data row13 col21\" >-0.0140751</td>\n",
       "                        <td id=\"T_adef18bc_7eb4_11ea_a4ab_38f9d3bb4b3arow13_col22\" class=\"data row13 col22\" >0.0317331</td>\n",
       "                        <td id=\"T_adef18bc_7eb4_11ea_a4ab_38f9d3bb4b3arow13_col23\" class=\"data row13 col23\" >0.243659</td>\n",
       "            </tr>\n",
       "            <tr>\n",
       "                        <th id=\"T_adef18bc_7eb4_11ea_a4ab_38f9d3bb4b3alevel0_row14\" class=\"row_heading level0 row14\" >parks_around3000</th>\n",
       "                        <td id=\"T_adef18bc_7eb4_11ea_a4ab_38f9d3bb4b3arow14_col0\" class=\"data row14 col0\" >0.035167</td>\n",
       "                        <td id=\"T_adef18bc_7eb4_11ea_a4ab_38f9d3bb4b3arow14_col1\" class=\"data row14 col1\" >0.203466</td>\n",
       "                        <td id=\"T_adef18bc_7eb4_11ea_a4ab_38f9d3bb4b3arow14_col2\" class=\"data row14 col2\" >0.201251</td>\n",
       "                        <td id=\"T_adef18bc_7eb4_11ea_a4ab_38f9d3bb4b3arow14_col3\" class=\"data row14 col3\" >0.151569</td>\n",
       "                        <td id=\"T_adef18bc_7eb4_11ea_a4ab_38f9d3bb4b3arow14_col4\" class=\"data row14 col4\" >0.251163</td>\n",
       "                        <td id=\"T_adef18bc_7eb4_11ea_a4ab_38f9d3bb4b3arow14_col5\" class=\"data row14 col5\" >-0.156245</td>\n",
       "                        <td id=\"T_adef18bc_7eb4_11ea_a4ab_38f9d3bb4b3arow14_col6\" class=\"data row14 col6\" >0.203944</td>\n",
       "                        <td id=\"T_adef18bc_7eb4_11ea_a4ab_38f9d3bb4b3arow14_col7\" class=\"data row14 col7\" >-0.10349</td>\n",
       "                        <td id=\"T_adef18bc_7eb4_11ea_a4ab_38f9d3bb4b3arow14_col8\" class=\"data row14 col8\" >-0.0334088</td>\n",
       "                        <td id=\"T_adef18bc_7eb4_11ea_a4ab_38f9d3bb4b3arow14_col9\" class=\"data row14 col9\" >-0.0158826</td>\n",
       "                        <td id=\"T_adef18bc_7eb4_11ea_a4ab_38f9d3bb4b3arow14_col10\" class=\"data row14 col10\" >0.109913</td>\n",
       "                        <td id=\"T_adef18bc_7eb4_11ea_a4ab_38f9d3bb4b3arow14_col11\" class=\"data row14 col11\" >-0.0791368</td>\n",
       "                        <td id=\"T_adef18bc_7eb4_11ea_a4ab_38f9d3bb4b3arow14_col12\" class=\"data row14 col12\" >0.00248231</td>\n",
       "                        <td id=\"T_adef18bc_7eb4_11ea_a4ab_38f9d3bb4b3arow14_col13\" class=\"data row14 col13\" >-0.157001</td>\n",
       "                        <td id=\"T_adef18bc_7eb4_11ea_a4ab_38f9d3bb4b3arow14_col14\" class=\"data row14 col14\" >1</td>\n",
       "                        <td id=\"T_adef18bc_7eb4_11ea_a4ab_38f9d3bb4b3arow14_col15\" class=\"data row14 col15\" >-0.257172</td>\n",
       "                        <td id=\"T_adef18bc_7eb4_11ea_a4ab_38f9d3bb4b3arow14_col16\" class=\"data row14 col16\" >0.390835</td>\n",
       "                        <td id=\"T_adef18bc_7eb4_11ea_a4ab_38f9d3bb4b3arow14_col17\" class=\"data row14 col17\" >-0.168424</td>\n",
       "                        <td id=\"T_adef18bc_7eb4_11ea_a4ab_38f9d3bb4b3arow14_col18\" class=\"data row14 col18\" >0.0529713</td>\n",
       "                        <td id=\"T_adef18bc_7eb4_11ea_a4ab_38f9d3bb4b3arow14_col19\" class=\"data row14 col19\" >0.288839</td>\n",
       "                        <td id=\"T_adef18bc_7eb4_11ea_a4ab_38f9d3bb4b3arow14_col20\" class=\"data row14 col20\" >-0.0471189</td>\n",
       "                        <td id=\"T_adef18bc_7eb4_11ea_a4ab_38f9d3bb4b3arow14_col21\" class=\"data row14 col21\" >0.0329131</td>\n",
       "                        <td id=\"T_adef18bc_7eb4_11ea_a4ab_38f9d3bb4b3arow14_col22\" class=\"data row14 col22\" >-0.105119</td>\n",
       "                        <td id=\"T_adef18bc_7eb4_11ea_a4ab_38f9d3bb4b3arow14_col23\" class=\"data row14 col23\" >-0.260043</td>\n",
       "            </tr>\n",
       "            <tr>\n",
       "                        <th id=\"T_adef18bc_7eb4_11ea_a4ab_38f9d3bb4b3alevel0_row15\" class=\"row_heading level0 row15\" >parks_nearest</th>\n",
       "                        <td id=\"T_adef18bc_7eb4_11ea_a4ab_38f9d3bb4b3arow15_col0\" class=\"data row15 col0\" >-0.00702818</td>\n",
       "                        <td id=\"T_adef18bc_7eb4_11ea_a4ab_38f9d3bb4b3arow15_col1\" class=\"data row15 col1\" >-0.0106001</td>\n",
       "                        <td id=\"T_adef18bc_7eb4_11ea_a4ab_38f9d3bb4b3arow15_col2\" class=\"data row15 col2\" >-0.0140883</td>\n",
       "                        <td id=\"T_adef18bc_7eb4_11ea_a4ab_38f9d3bb4b3arow15_col3\" class=\"data row15 col3\" >-0.0514344</td>\n",
       "                        <td id=\"T_adef18bc_7eb4_11ea_a4ab_38f9d3bb4b3arow15_col4\" class=\"data row15 col4\" >-0.0575004</td>\n",
       "                        <td id=\"T_adef18bc_7eb4_11ea_a4ab_38f9d3bb4b3arow15_col5\" class=\"data row15 col5\" >0.095324</td>\n",
       "                        <td id=\"T_adef18bc_7eb4_11ea_a4ab_38f9d3bb4b3arow15_col6\" class=\"data row15 col6\" >-0.0457992</td>\n",
       "                        <td id=\"T_adef18bc_7eb4_11ea_a4ab_38f9d3bb4b3arow15_col7\" class=\"data row15 col7\" >0.0721511</td>\n",
       "                        <td id=\"T_adef18bc_7eb4_11ea_a4ab_38f9d3bb4b3arow15_col8\" class=\"data row15 col8\" >0.00848118</td>\n",
       "                        <td id=\"T_adef18bc_7eb4_11ea_a4ab_38f9d3bb4b3arow15_col9\" class=\"data row15 col9\" >0.0106314</td>\n",
       "                        <td id=\"T_adef18bc_7eb4_11ea_a4ab_38f9d3bb4b3arow15_col10\" class=\"data row15 col10\" >0.0305553</td>\n",
       "                        <td id=\"T_adef18bc_7eb4_11ea_a4ab_38f9d3bb4b3arow15_col11\" class=\"data row15 col11\" >0.0462064</td>\n",
       "                        <td id=\"T_adef18bc_7eb4_11ea_a4ab_38f9d3bb4b3arow15_col12\" class=\"data row15 col12\" >-0.0721158</td>\n",
       "                        <td id=\"T_adef18bc_7eb4_11ea_a4ab_38f9d3bb4b3arow15_col13\" class=\"data row15 col13\" >-0.0427121</td>\n",
       "                        <td id=\"T_adef18bc_7eb4_11ea_a4ab_38f9d3bb4b3arow15_col14\" class=\"data row15 col14\" >-0.257172</td>\n",
       "                        <td id=\"T_adef18bc_7eb4_11ea_a4ab_38f9d3bb4b3arow15_col15\" class=\"data row15 col15\" >1</td>\n",
       "                        <td id=\"T_adef18bc_7eb4_11ea_a4ab_38f9d3bb4b3arow15_col16\" class=\"data row15 col16\" >0.0796396</td>\n",
       "                        <td id=\"T_adef18bc_7eb4_11ea_a4ab_38f9d3bb4b3arow15_col17\" class=\"data row15 col17\" >0.000349879</td>\n",
       "                        <td id=\"T_adef18bc_7eb4_11ea_a4ab_38f9d3bb4b3arow15_col18\" class=\"data row15 col18\" >0.0269317</td>\n",
       "                        <td id=\"T_adef18bc_7eb4_11ea_a4ab_38f9d3bb4b3arow15_col19\" class=\"data row15 col19\" >0.012573</td>\n",
       "                        <td id=\"T_adef18bc_7eb4_11ea_a4ab_38f9d3bb4b3arow15_col20\" class=\"data row15 col20\" >-0.0229864</td>\n",
       "                        <td id=\"T_adef18bc_7eb4_11ea_a4ab_38f9d3bb4b3arow15_col21\" class=\"data row15 col21\" >-0.0849706</td>\n",
       "                        <td id=\"T_adef18bc_7eb4_11ea_a4ab_38f9d3bb4b3arow15_col22\" class=\"data row15 col22\" >0.0526176</td>\n",
       "                        <td id=\"T_adef18bc_7eb4_11ea_a4ab_38f9d3bb4b3arow15_col23\" class=\"data row15 col23\" >0.0108752</td>\n",
       "            </tr>\n",
       "            <tr>\n",
       "                        <th id=\"T_adef18bc_7eb4_11ea_a4ab_38f9d3bb4b3alevel0_row16\" class=\"row_heading level0 row16\" >ponds_around3000</th>\n",
       "                        <td id=\"T_adef18bc_7eb4_11ea_a4ab_38f9d3bb4b3arow16_col0\" class=\"data row16 col0\" >0.00764873</td>\n",
       "                        <td id=\"T_adef18bc_7eb4_11ea_a4ab_38f9d3bb4b3arow16_col1\" class=\"data row16 col1\" >0.212071</td>\n",
       "                        <td id=\"T_adef18bc_7eb4_11ea_a4ab_38f9d3bb4b3arow16_col2\" class=\"data row16 col2\" >0.201727</td>\n",
       "                        <td id=\"T_adef18bc_7eb4_11ea_a4ab_38f9d3bb4b3arow16_col3\" class=\"data row16 col3\" >0.118297</td>\n",
       "                        <td id=\"T_adef18bc_7eb4_11ea_a4ab_38f9d3bb4b3arow16_col4\" class=\"data row16 col4\" >0.222871</td>\n",
       "                        <td id=\"T_adef18bc_7eb4_11ea_a4ab_38f9d3bb4b3arow16_col5\" class=\"data row16 col5\" >-0.0454847</td>\n",
       "                        <td id=\"T_adef18bc_7eb4_11ea_a4ab_38f9d3bb4b3arow16_col6\" class=\"data row16 col6\" >0.175891</td>\n",
       "                        <td id=\"T_adef18bc_7eb4_11ea_a4ab_38f9d3bb4b3arow16_col7\" class=\"data row16 col7\" >-0.0268841</td>\n",
       "                        <td id=\"T_adef18bc_7eb4_11ea_a4ab_38f9d3bb4b3arow16_col8\" class=\"data row16 col8\" >-0.0108549</td>\n",
       "                        <td id=\"T_adef18bc_7eb4_11ea_a4ab_38f9d3bb4b3arow16_col9\" class=\"data row16 col9\" >-0.00338794</td>\n",
       "                        <td id=\"T_adef18bc_7eb4_11ea_a4ab_38f9d3bb4b3arow16_col10\" class=\"data row16 col10\" >0.171021</td>\n",
       "                        <td id=\"T_adef18bc_7eb4_11ea_a4ab_38f9d3bb4b3arow16_col11\" class=\"data row16 col11\" >-0.0391837</td>\n",
       "                        <td id=\"T_adef18bc_7eb4_11ea_a4ab_38f9d3bb4b3arow16_col12\" class=\"data row16 col12\" >-0.0493435</td>\n",
       "                        <td id=\"T_adef18bc_7eb4_11ea_a4ab_38f9d3bb4b3arow16_col13\" class=\"data row16 col13\" >-0.0693366</td>\n",
       "                        <td id=\"T_adef18bc_7eb4_11ea_a4ab_38f9d3bb4b3arow16_col14\" class=\"data row16 col14\" >0.390835</td>\n",
       "                        <td id=\"T_adef18bc_7eb4_11ea_a4ab_38f9d3bb4b3arow16_col15\" class=\"data row16 col15\" >0.0796396</td>\n",
       "                        <td id=\"T_adef18bc_7eb4_11ea_a4ab_38f9d3bb4b3arow16_col16\" class=\"data row16 col16\" >1</td>\n",
       "                        <td id=\"T_adef18bc_7eb4_11ea_a4ab_38f9d3bb4b3arow16_col17\" class=\"data row16 col17\" >-0.340603</td>\n",
       "                        <td id=\"T_adef18bc_7eb4_11ea_a4ab_38f9d3bb4b3arow16_col18\" class=\"data row16 col18\" >0.0639805</td>\n",
       "                        <td id=\"T_adef18bc_7eb4_11ea_a4ab_38f9d3bb4b3arow16_col19\" class=\"data row16 col19\" >0.301337</td>\n",
       "                        <td id=\"T_adef18bc_7eb4_11ea_a4ab_38f9d3bb4b3arow16_col20\" class=\"data row16 col20\" >-0.0488601</td>\n",
       "                        <td id=\"T_adef18bc_7eb4_11ea_a4ab_38f9d3bb4b3arow16_col21\" class=\"data row16 col21\" >-0.0366658</td>\n",
       "                        <td id=\"T_adef18bc_7eb4_11ea_a4ab_38f9d3bb4b3arow16_col22\" class=\"data row16 col22\" >-0.0355043</td>\n",
       "                        <td id=\"T_adef18bc_7eb4_11ea_a4ab_38f9d3bb4b3arow16_col23\" class=\"data row16 col23\" >-0.242543</td>\n",
       "            </tr>\n",
       "            <tr>\n",
       "                        <th id=\"T_adef18bc_7eb4_11ea_a4ab_38f9d3bb4b3alevel0_row17\" class=\"row_heading level0 row17\" >ponds_nearest</th>\n",
       "                        <td id=\"T_adef18bc_7eb4_11ea_a4ab_38f9d3bb4b3arow17_col0\" class=\"data row17 col0\" >-0.00447475</td>\n",
       "                        <td id=\"T_adef18bc_7eb4_11ea_a4ab_38f9d3bb4b3arow17_col1\" class=\"data row17 col1\" >-0.0834044</td>\n",
       "                        <td id=\"T_adef18bc_7eb4_11ea_a4ab_38f9d3bb4b3arow17_col2\" class=\"data row17 col2\" >-0.0976517</td>\n",
       "                        <td id=\"T_adef18bc_7eb4_11ea_a4ab_38f9d3bb4b3arow17_col3\" class=\"data row17 col3\" >-0.0561448</td>\n",
       "                        <td id=\"T_adef18bc_7eb4_11ea_a4ab_38f9d3bb4b3arow17_col4\" class=\"data row17 col4\" >-0.125903</td>\n",
       "                        <td id=\"T_adef18bc_7eb4_11ea_a4ab_38f9d3bb4b3arow17_col5\" class=\"data row17 col5\" >0.0391164</td>\n",
       "                        <td id=\"T_adef18bc_7eb4_11ea_a4ab_38f9d3bb4b3arow17_col6\" class=\"data row17 col6\" >-0.073988</td>\n",
       "                        <td id=\"T_adef18bc_7eb4_11ea_a4ab_38f9d3bb4b3arow17_col7\" class=\"data row17 col7\" >0.0250009</td>\n",
       "                        <td id=\"T_adef18bc_7eb4_11ea_a4ab_38f9d3bb4b3arow17_col8\" class=\"data row17 col8\" >0.00266193</td>\n",
       "                        <td id=\"T_adef18bc_7eb4_11ea_a4ab_38f9d3bb4b3arow17_col9\" class=\"data row17 col9\" >-0.00343727</td>\n",
       "                        <td id=\"T_adef18bc_7eb4_11ea_a4ab_38f9d3bb4b3arow17_col10\" class=\"data row17 col10\" >-0.103242</td>\n",
       "                        <td id=\"T_adef18bc_7eb4_11ea_a4ab_38f9d3bb4b3arow17_col11\" class=\"data row17 col11\" >0.0133844</td>\n",
       "                        <td id=\"T_adef18bc_7eb4_11ea_a4ab_38f9d3bb4b3arow17_col12\" class=\"data row17 col12\" >0.0141104</td>\n",
       "                        <td id=\"T_adef18bc_7eb4_11ea_a4ab_38f9d3bb4b3arow17_col13\" class=\"data row17 col13\" >0.029276</td>\n",
       "                        <td id=\"T_adef18bc_7eb4_11ea_a4ab_38f9d3bb4b3arow17_col14\" class=\"data row17 col14\" >-0.168424</td>\n",
       "                        <td id=\"T_adef18bc_7eb4_11ea_a4ab_38f9d3bb4b3arow17_col15\" class=\"data row17 col15\" >0.000349879</td>\n",
       "                        <td id=\"T_adef18bc_7eb4_11ea_a4ab_38f9d3bb4b3arow17_col16\" class=\"data row17 col16\" >-0.340603</td>\n",
       "                        <td id=\"T_adef18bc_7eb4_11ea_a4ab_38f9d3bb4b3arow17_col17\" class=\"data row17 col17\" >1</td>\n",
       "                        <td id=\"T_adef18bc_7eb4_11ea_a4ab_38f9d3bb4b3arow17_col18\" class=\"data row17 col18\" >-0.0784616</td>\n",
       "                        <td id=\"T_adef18bc_7eb4_11ea_a4ab_38f9d3bb4b3arow17_col19\" class=\"data row17 col19\" >-0.101844</td>\n",
       "                        <td id=\"T_adef18bc_7eb4_11ea_a4ab_38f9d3bb4b3arow17_col20\" class=\"data row17 col20\" >0.0392884</td>\n",
       "                        <td id=\"T_adef18bc_7eb4_11ea_a4ab_38f9d3bb4b3arow17_col21\" class=\"data row17 col21\" >0.0295989</td>\n",
       "                        <td id=\"T_adef18bc_7eb4_11ea_a4ab_38f9d3bb4b3arow17_col22\" class=\"data row17 col22\" >-0.0123688</td>\n",
       "                        <td id=\"T_adef18bc_7eb4_11ea_a4ab_38f9d3bb4b3arow17_col23\" class=\"data row17 col23\" >0.0428097</td>\n",
       "            </tr>\n",
       "            <tr>\n",
       "                        <th id=\"T_adef18bc_7eb4_11ea_a4ab_38f9d3bb4b3alevel0_row18\" class=\"row_heading level0 row18\" >days_exposition</th>\n",
       "                        <td id=\"T_adef18bc_7eb4_11ea_a4ab_38f9d3bb4b3arow18_col0\" class=\"data row18 col0\" >-0.0304449</td>\n",
       "                        <td id=\"T_adef18bc_7eb4_11ea_a4ab_38f9d3bb4b3arow18_col1\" class=\"data row18 col1\" >0.0733953</td>\n",
       "                        <td id=\"T_adef18bc_7eb4_11ea_a4ab_38f9d3bb4b3arow18_col2\" class=\"data row18 col2\" >0.148701</td>\n",
       "                        <td id=\"T_adef18bc_7eb4_11ea_a4ab_38f9d3bb4b3arow18_col3\" class=\"data row18 col3\" >0.123006</td>\n",
       "                        <td id=\"T_adef18bc_7eb4_11ea_a4ab_38f9d3bb4b3arow18_col4\" class=\"data row18 col4\" >0.105335</td>\n",
       "                        <td id=\"T_adef18bc_7eb4_11ea_a4ab_38f9d3bb4b3arow18_col5\" class=\"data row18 col5\" >-0.0497711</td>\n",
       "                        <td id=\"T_adef18bc_7eb4_11ea_a4ab_38f9d3bb4b3arow18_col6\" class=\"data row18 col6\" >0.140307</td>\n",
       "                        <td id=\"T_adef18bc_7eb4_11ea_a4ab_38f9d3bb4b3arow18_col7\" class=\"data row18 col7\" >-0.0377383</td>\n",
       "                        <td id=\"T_adef18bc_7eb4_11ea_a4ab_38f9d3bb4b3arow18_col8\" class=\"data row18 col8\" >-0.0216456</td>\n",
       "                        <td id=\"T_adef18bc_7eb4_11ea_a4ab_38f9d3bb4b3arow18_col9\" class=\"data row18 col9\" >-0.0237305</td>\n",
       "                        <td id=\"T_adef18bc_7eb4_11ea_a4ab_38f9d3bb4b3arow18_col10\" class=\"data row18 col10\" >0.103104</td>\n",
       "                        <td id=\"T_adef18bc_7eb4_11ea_a4ab_38f9d3bb4b3arow18_col11\" class=\"data row18 col11\" >-0.0303377</td>\n",
       "                        <td id=\"T_adef18bc_7eb4_11ea_a4ab_38f9d3bb4b3arow18_col12\" class=\"data row18 col12\" >-0.0174004</td>\n",
       "                        <td id=\"T_adef18bc_7eb4_11ea_a4ab_38f9d3bb4b3arow18_col13\" class=\"data row18 col13\" >-0.0565587</td>\n",
       "                        <td id=\"T_adef18bc_7eb4_11ea_a4ab_38f9d3bb4b3arow18_col14\" class=\"data row18 col14\" >0.0529713</td>\n",
       "                        <td id=\"T_adef18bc_7eb4_11ea_a4ab_38f9d3bb4b3arow18_col15\" class=\"data row18 col15\" >0.0269317</td>\n",
       "                        <td id=\"T_adef18bc_7eb4_11ea_a4ab_38f9d3bb4b3arow18_col16\" class=\"data row18 col16\" >0.0639805</td>\n",
       "                        <td id=\"T_adef18bc_7eb4_11ea_a4ab_38f9d3bb4b3arow18_col17\" class=\"data row18 col17\" >-0.0784616</td>\n",
       "                        <td id=\"T_adef18bc_7eb4_11ea_a4ab_38f9d3bb4b3arow18_col18\" class=\"data row18 col18\" >1</td>\n",
       "                        <td id=\"T_adef18bc_7eb4_11ea_a4ab_38f9d3bb4b3arow18_col19\" class=\"data row18 col19\" >0.0373383</td>\n",
       "                        <td id=\"T_adef18bc_7eb4_11ea_a4ab_38f9d3bb4b3arow18_col20\" class=\"data row18 col20\" >-0.610609</td>\n",
       "                        <td id=\"T_adef18bc_7eb4_11ea_a4ab_38f9d3bb4b3arow18_col21\" class=\"data row18 col21\" >-0.0179976</td>\n",
       "                        <td id=\"T_adef18bc_7eb4_11ea_a4ab_38f9d3bb4b3arow18_col22\" class=\"data row18 col22\" >-0.0590737</td>\n",
       "                        <td id=\"T_adef18bc_7eb4_11ea_a4ab_38f9d3bb4b3arow18_col23\" class=\"data row18 col23\" >-0.0173569</td>\n",
       "            </tr>\n",
       "            <tr>\n",
       "                        <th id=\"T_adef18bc_7eb4_11ea_a4ab_38f9d3bb4b3alevel0_row19\" class=\"row_heading level0 row19\" >m2</th>\n",
       "                        <td id=\"T_adef18bc_7eb4_11ea_a4ab_38f9d3bb4b3arow19_col0\" class=\"data row19 col0\" >0.127771</td>\n",
       "                        <td id=\"T_adef18bc_7eb4_11ea_a4ab_38f9d3bb4b3arow19_col1\" class=\"data row19 col1\" >0.749064</td>\n",
       "                        <td id=\"T_adef18bc_7eb4_11ea_a4ab_38f9d3bb4b3arow19_col2\" class=\"data row19 col2\" >0.278866</td>\n",
       "                        <td id=\"T_adef18bc_7eb4_11ea_a4ab_38f9d3bb4b3arow19_col3\" class=\"data row19 col3\" >0.0372789</td>\n",
       "                        <td id=\"T_adef18bc_7eb4_11ea_a4ab_38f9d3bb4b3arow19_col4\" class=\"data row19 col4\" >0.276527</td>\n",
       "                        <td id=\"T_adef18bc_7eb4_11ea_a4ab_38f9d3bb4b3arow19_col5\" class=\"data row19 col5\" >0.162695</td>\n",
       "                        <td id=\"T_adef18bc_7eb4_11ea_a4ab_38f9d3bb4b3arow19_col6\" class=\"data row19 col6\" >0.189486</td>\n",
       "                        <td id=\"T_adef18bc_7eb4_11ea_a4ab_38f9d3bb4b3arow19_col7\" class=\"data row19 col7\" >0.138153</td>\n",
       "                        <td id=\"T_adef18bc_7eb4_11ea_a4ab_38f9d3bb4b3arow19_col8\" class=\"data row19 col8\" >0.017179</td>\n",
       "                        <td id=\"T_adef18bc_7eb4_11ea_a4ab_38f9d3bb4b3arow19_col9\" class=\"data row19 col9\" >0.00911294</td>\n",
       "                        <td id=\"T_adef18bc_7eb4_11ea_a4ab_38f9d3bb4b3arow19_col10\" class=\"data row19 col10\" >0.341276</td>\n",
       "                        <td id=\"T_adef18bc_7eb4_11ea_a4ab_38f9d3bb4b3arow19_col11\" class=\"data row19 col11\" >0.0683538</td>\n",
       "                        <td id=\"T_adef18bc_7eb4_11ea_a4ab_38f9d3bb4b3arow19_col12\" class=\"data row19 col12\" >-0.0377368</td>\n",
       "                        <td id=\"T_adef18bc_7eb4_11ea_a4ab_38f9d3bb4b3arow19_col13\" class=\"data row19 col13\" >-0.318711</td>\n",
       "                        <td id=\"T_adef18bc_7eb4_11ea_a4ab_38f9d3bb4b3arow19_col14\" class=\"data row19 col14\" >0.288839</td>\n",
       "                        <td id=\"T_adef18bc_7eb4_11ea_a4ab_38f9d3bb4b3arow19_col15\" class=\"data row19 col15\" >0.012573</td>\n",
       "                        <td id=\"T_adef18bc_7eb4_11ea_a4ab_38f9d3bb4b3arow19_col16\" class=\"data row19 col16\" >0.301337</td>\n",
       "                        <td id=\"T_adef18bc_7eb4_11ea_a4ab_38f9d3bb4b3arow19_col17\" class=\"data row19 col17\" >-0.101844</td>\n",
       "                        <td id=\"T_adef18bc_7eb4_11ea_a4ab_38f9d3bb4b3arow19_col18\" class=\"data row19 col18\" >0.0373383</td>\n",
       "                        <td id=\"T_adef18bc_7eb4_11ea_a4ab_38f9d3bb4b3arow19_col19\" class=\"data row19 col19\" >1</td>\n",
       "                        <td id=\"T_adef18bc_7eb4_11ea_a4ab_38f9d3bb4b3arow19_col20\" class=\"data row19 col20\" >0.0148744</td>\n",
       "                        <td id=\"T_adef18bc_7eb4_11ea_a4ab_38f9d3bb4b3arow19_col21\" class=\"data row19 col21\" >-0.144838</td>\n",
       "                        <td id=\"T_adef18bc_7eb4_11ea_a4ab_38f9d3bb4b3arow19_col22\" class=\"data row19 col22\" >0.118927</td>\n",
       "                        <td id=\"T_adef18bc_7eb4_11ea_a4ab_38f9d3bb4b3arow19_col23\" class=\"data row19 col23\" >-0.25949</td>\n",
       "            </tr>\n",
       "            <tr>\n",
       "                        <th id=\"T_adef18bc_7eb4_11ea_a4ab_38f9d3bb4b3alevel0_row20\" class=\"row_heading level0 row20\" >year_exposition</th>\n",
       "                        <td id=\"T_adef18bc_7eb4_11ea_a4ab_38f9d3bb4b3arow20_col0\" class=\"data row20 col0\" >0.142123</td>\n",
       "                        <td id=\"T_adef18bc_7eb4_11ea_a4ab_38f9d3bb4b3arow20_col1\" class=\"data row20 col1\" >-0.0395983</td>\n",
       "                        <td id=\"T_adef18bc_7eb4_11ea_a4ab_38f9d3bb4b3arow20_col2\" class=\"data row20 col2\" >-0.0819793</td>\n",
       "                        <td id=\"T_adef18bc_7eb4_11ea_a4ab_38f9d3bb4b3arow20_col3\" class=\"data row20 col3\" >-0.0546772</td>\n",
       "                        <td id=\"T_adef18bc_7eb4_11ea_a4ab_38f9d3bb4b3arow20_col4\" class=\"data row20 col4\" >-0.0521158</td>\n",
       "                        <td id=\"T_adef18bc_7eb4_11ea_a4ab_38f9d3bb4b3arow20_col5\" class=\"data row20 col5\" >0.00775781</td>\n",
       "                        <td id=\"T_adef18bc_7eb4_11ea_a4ab_38f9d3bb4b3arow20_col6\" class=\"data row20 col6\" >-0.0750325</td>\n",
       "                        <td id=\"T_adef18bc_7eb4_11ea_a4ab_38f9d3bb4b3arow20_col7\" class=\"data row20 col7\" >0.00487346</td>\n",
       "                        <td id=\"T_adef18bc_7eb4_11ea_a4ab_38f9d3bb4b3arow20_col8\" class=\"data row20 col8\" >0.011646</td>\n",
       "                        <td id=\"T_adef18bc_7eb4_11ea_a4ab_38f9d3bb4b3arow20_col9\" class=\"data row20 col9\" >-0.0211271</td>\n",
       "                        <td id=\"T_adef18bc_7eb4_11ea_a4ab_38f9d3bb4b3arow20_col10\" class=\"data row20 col10\" >-0.0549782</td>\n",
       "                        <td id=\"T_adef18bc_7eb4_11ea_a4ab_38f9d3bb4b3arow20_col11\" class=\"data row20 col11\" >0.343771</td>\n",
       "                        <td id=\"T_adef18bc_7eb4_11ea_a4ab_38f9d3bb4b3arow20_col12\" class=\"data row20 col12\" >0.00791645</td>\n",
       "                        <td id=\"T_adef18bc_7eb4_11ea_a4ab_38f9d3bb4b3arow20_col13\" class=\"data row20 col13\" >0.030179</td>\n",
       "                        <td id=\"T_adef18bc_7eb4_11ea_a4ab_38f9d3bb4b3arow20_col14\" class=\"data row20 col14\" >-0.0471189</td>\n",
       "                        <td id=\"T_adef18bc_7eb4_11ea_a4ab_38f9d3bb4b3arow20_col15\" class=\"data row20 col15\" >-0.0229864</td>\n",
       "                        <td id=\"T_adef18bc_7eb4_11ea_a4ab_38f9d3bb4b3arow20_col16\" class=\"data row20 col16\" >-0.0488601</td>\n",
       "                        <td id=\"T_adef18bc_7eb4_11ea_a4ab_38f9d3bb4b3arow20_col17\" class=\"data row20 col17\" >0.0392884</td>\n",
       "                        <td id=\"T_adef18bc_7eb4_11ea_a4ab_38f9d3bb4b3arow20_col18\" class=\"data row20 col18\" >-0.610609</td>\n",
       "                        <td id=\"T_adef18bc_7eb4_11ea_a4ab_38f9d3bb4b3arow20_col19\" class=\"data row20 col19\" >0.0148744</td>\n",
       "                        <td id=\"T_adef18bc_7eb4_11ea_a4ab_38f9d3bb4b3arow20_col20\" class=\"data row20 col20\" >1</td>\n",
       "                        <td id=\"T_adef18bc_7eb4_11ea_a4ab_38f9d3bb4b3arow20_col21\" class=\"data row20 col21\" >0.0184868</td>\n",
       "                        <td id=\"T_adef18bc_7eb4_11ea_a4ab_38f9d3bb4b3arow20_col22\" class=\"data row20 col22\" >0.0269138</td>\n",
       "                        <td id=\"T_adef18bc_7eb4_11ea_a4ab_38f9d3bb4b3arow20_col23\" class=\"data row20 col23\" >0.00986758</td>\n",
       "            </tr>\n",
       "            <tr>\n",
       "                        <th id=\"T_adef18bc_7eb4_11ea_a4ab_38f9d3bb4b3alevel0_row21\" class=\"row_heading level0 row21\" >living_area_relation</th>\n",
       "                        <td id=\"T_adef18bc_7eb4_11ea_a4ab_38f9d3bb4b3arow21_col0\" class=\"data row21 col0\" >-0.0238383</td>\n",
       "                        <td id=\"T_adef18bc_7eb4_11ea_a4ab_38f9d3bb4b3arow21_col1\" class=\"data row21 col1\" >-0.0680168</td>\n",
       "                        <td id=\"T_adef18bc_7eb4_11ea_a4ab_38f9d3bb4b3arow21_col2\" class=\"data row21 col2\" >-0.0266875</td>\n",
       "                        <td id=\"T_adef18bc_7eb4_11ea_a4ab_38f9d3bb4b3arow21_col3\" class=\"data row21 col3\" >0.279506</td>\n",
       "                        <td id=\"T_adef18bc_7eb4_11ea_a4ab_38f9d3bb4b3arow21_col4\" class=\"data row21 col4\" >-0.0416134</td>\n",
       "                        <td id=\"T_adef18bc_7eb4_11ea_a4ab_38f9d3bb4b3arow21_col5\" class=\"data row21 col5\" >-0.276564</td>\n",
       "                        <td id=\"T_adef18bc_7eb4_11ea_a4ab_38f9d3bb4b3arow21_col6\" class=\"data row21 col6\" >0.355882</td>\n",
       "                        <td id=\"T_adef18bc_7eb4_11ea_a4ab_38f9d3bb4b3arow21_col7\" class=\"data row21 col7\" >-0.202961</td>\n",
       "                        <td id=\"T_adef18bc_7eb4_11ea_a4ab_38f9d3bb4b3arow21_col8\" class=\"data row21 col8\" >0.0985124</td>\n",
       "                        <td id=\"T_adef18bc_7eb4_11ea_a4ab_38f9d3bb4b3arow21_col9\" class=\"data row21 col9\" >0.0536836</td>\n",
       "                        <td id=\"T_adef18bc_7eb4_11ea_a4ab_38f9d3bb4b3arow21_col10\" class=\"data row21 col10\" >-0.319612</td>\n",
       "                        <td id=\"T_adef18bc_7eb4_11ea_a4ab_38f9d3bb4b3arow21_col11\" class=\"data row21 col11\" >-0.0761031</td>\n",
       "                        <td id=\"T_adef18bc_7eb4_11ea_a4ab_38f9d3bb4b3arow21_col12\" class=\"data row21 col12\" >-0.0773023</td>\n",
       "                        <td id=\"T_adef18bc_7eb4_11ea_a4ab_38f9d3bb4b3arow21_col13\" class=\"data row21 col13\" >-0.0140751</td>\n",
       "                        <td id=\"T_adef18bc_7eb4_11ea_a4ab_38f9d3bb4b3arow21_col14\" class=\"data row21 col14\" >0.0329131</td>\n",
       "                        <td id=\"T_adef18bc_7eb4_11ea_a4ab_38f9d3bb4b3arow21_col15\" class=\"data row21 col15\" >-0.0849706</td>\n",
       "                        <td id=\"T_adef18bc_7eb4_11ea_a4ab_38f9d3bb4b3arow21_col16\" class=\"data row21 col16\" >-0.0366658</td>\n",
       "                        <td id=\"T_adef18bc_7eb4_11ea_a4ab_38f9d3bb4b3arow21_col17\" class=\"data row21 col17\" >0.0295989</td>\n",
       "                        <td id=\"T_adef18bc_7eb4_11ea_a4ab_38f9d3bb4b3arow21_col18\" class=\"data row21 col18\" >-0.0179976</td>\n",
       "                        <td id=\"T_adef18bc_7eb4_11ea_a4ab_38f9d3bb4b3arow21_col19\" class=\"data row21 col19\" >-0.144838</td>\n",
       "                        <td id=\"T_adef18bc_7eb4_11ea_a4ab_38f9d3bb4b3arow21_col20\" class=\"data row21 col20\" >0.0184868</td>\n",
       "                        <td id=\"T_adef18bc_7eb4_11ea_a4ab_38f9d3bb4b3arow21_col21\" class=\"data row21 col21\" >1</td>\n",
       "                        <td id=\"T_adef18bc_7eb4_11ea_a4ab_38f9d3bb4b3arow21_col22\" class=\"data row21 col22\" >-0.337306</td>\n",
       "                        <td id=\"T_adef18bc_7eb4_11ea_a4ab_38f9d3bb4b3arow21_col23\" class=\"data row21 col23\" >-0.04729</td>\n",
       "            </tr>\n",
       "            <tr>\n",
       "                        <th id=\"T_adef18bc_7eb4_11ea_a4ab_38f9d3bb4b3alevel0_row22\" class=\"row_heading level0 row22\" >kitchen_total_area_relation</th>\n",
       "                        <td id=\"T_adef18bc_7eb4_11ea_a4ab_38f9d3bb4b3arow22_col0\" class=\"data row22 col0\" >-0.0491436</td>\n",
       "                        <td id=\"T_adef18bc_7eb4_11ea_a4ab_38f9d3bb4b3arow22_col1\" class=\"data row22 col1\" >-0.135592</td>\n",
       "                        <td id=\"T_adef18bc_7eb4_11ea_a4ab_38f9d3bb4b3arow22_col2\" class=\"data row22 col2\" >-0.400528</td>\n",
       "                        <td id=\"T_adef18bc_7eb4_11ea_a4ab_38f9d3bb4b3arow22_col3\" class=\"data row22 col3\" >-0.617063</td>\n",
       "                        <td id=\"T_adef18bc_7eb4_11ea_a4ab_38f9d3bb4b3arow22_col4\" class=\"data row22 col4\" >-0.0156626</td>\n",
       "                        <td id=\"T_adef18bc_7eb4_11ea_a4ab_38f9d3bb4b3arow22_col5\" class=\"data row22 col5\" >0.342705</td>\n",
       "                        <td id=\"T_adef18bc_7eb4_11ea_a4ab_38f9d3bb4b3arow22_col6\" class=\"data row22 col6\" >-0.498676</td>\n",
       "                        <td id=\"T_adef18bc_7eb4_11ea_a4ab_38f9d3bb4b3arow22_col7\" class=\"data row22 col7\" >0.235504</td>\n",
       "                        <td id=\"T_adef18bc_7eb4_11ea_a4ab_38f9d3bb4b3arow22_col8\" class=\"data row22 col8\" >0.164687</td>\n",
       "                        <td id=\"T_adef18bc_7eb4_11ea_a4ab_38f9d3bb4b3arow22_col9\" class=\"data row22 col9\" >0.0913224</td>\n",
       "                        <td id=\"T_adef18bc_7eb4_11ea_a4ab_38f9d3bb4b3arow22_col10\" class=\"data row22 col10\" >0.38711</td>\n",
       "                        <td id=\"T_adef18bc_7eb4_11ea_a4ab_38f9d3bb4b3arow22_col11\" class=\"data row22 col11\" >0.0335219</td>\n",
       "                        <td id=\"T_adef18bc_7eb4_11ea_a4ab_38f9d3bb4b3arow22_col12\" class=\"data row22 col12\" >0.0392016</td>\n",
       "                        <td id=\"T_adef18bc_7eb4_11ea_a4ab_38f9d3bb4b3arow22_col13\" class=\"data row22 col13\" >0.0317331</td>\n",
       "                        <td id=\"T_adef18bc_7eb4_11ea_a4ab_38f9d3bb4b3arow22_col14\" class=\"data row22 col14\" >-0.105119</td>\n",
       "                        <td id=\"T_adef18bc_7eb4_11ea_a4ab_38f9d3bb4b3arow22_col15\" class=\"data row22 col15\" >0.0526176</td>\n",
       "                        <td id=\"T_adef18bc_7eb4_11ea_a4ab_38f9d3bb4b3arow22_col16\" class=\"data row22 col16\" >-0.0355043</td>\n",
       "                        <td id=\"T_adef18bc_7eb4_11ea_a4ab_38f9d3bb4b3arow22_col17\" class=\"data row22 col17\" >-0.0123688</td>\n",
       "                        <td id=\"T_adef18bc_7eb4_11ea_a4ab_38f9d3bb4b3arow22_col18\" class=\"data row22 col18\" >-0.0590737</td>\n",
       "                        <td id=\"T_adef18bc_7eb4_11ea_a4ab_38f9d3bb4b3arow22_col19\" class=\"data row22 col19\" >0.118927</td>\n",
       "                        <td id=\"T_adef18bc_7eb4_11ea_a4ab_38f9d3bb4b3arow22_col20\" class=\"data row22 col20\" >0.0269138</td>\n",
       "                        <td id=\"T_adef18bc_7eb4_11ea_a4ab_38f9d3bb4b3arow22_col21\" class=\"data row22 col21\" >-0.337306</td>\n",
       "                        <td id=\"T_adef18bc_7eb4_11ea_a4ab_38f9d3bb4b3arow22_col22\" class=\"data row22 col22\" >1</td>\n",
       "                        <td id=\"T_adef18bc_7eb4_11ea_a4ab_38f9d3bb4b3arow22_col23\" class=\"data row22 col23\" >0.127716</td>\n",
       "            </tr>\n",
       "            <tr>\n",
       "                        <th id=\"T_adef18bc_7eb4_11ea_a4ab_38f9d3bb4b3alevel0_row23\" class=\"row_heading level0 row23\" >suburbs</th>\n",
       "                        <td id=\"T_adef18bc_7eb4_11ea_a4ab_38f9d3bb4b3arow23_col0\" class=\"data row23 col0\" >-0.0553845</td>\n",
       "                        <td id=\"T_adef18bc_7eb4_11ea_a4ab_38f9d3bb4b3arow23_col1\" class=\"data row23 col1\" >-0.13096</td>\n",
       "                        <td id=\"T_adef18bc_7eb4_11ea_a4ab_38f9d3bb4b3arow23_col2\" class=\"data row23 col2\" >-0.130691</td>\n",
       "                        <td id=\"T_adef18bc_7eb4_11ea_a4ab_38f9d3bb4b3arow23_col3\" class=\"data row23 col3\" >-0.128849</td>\n",
       "                        <td id=\"T_adef18bc_7eb4_11ea_a4ab_38f9d3bb4b3arow23_col4\" class=\"data row23 col4\" >-0.103094</td>\n",
       "                        <td id=\"T_adef18bc_7eb4_11ea_a4ab_38f9d3bb4b3arow23_col5\" class=\"data row23 col5\" >0.0708057</td>\n",
       "                        <td id=\"T_adef18bc_7eb4_11ea_a4ab_38f9d3bb4b3arow23_col6\" class=\"data row23 col6\" >-0.133675</td>\n",
       "                        <td id=\"T_adef18bc_7eb4_11ea_a4ab_38f9d3bb4b3arow23_col7\" class=\"data row23 col7\" >0.0573</td>\n",
       "                        <td id=\"T_adef18bc_7eb4_11ea_a4ab_38f9d3bb4b3arow23_col8\" class=\"data row23 col8\" >0.0292538</td>\n",
       "                        <td id=\"T_adef18bc_7eb4_11ea_a4ab_38f9d3bb4b3arow23_col9\" class=\"data row23 col9\" >0.0352703</td>\n",
       "                        <td id=\"T_adef18bc_7eb4_11ea_a4ab_38f9d3bb4b3arow23_col10\" class=\"data row23 col10\" >-0.0517487</td>\n",
       "                        <td id=\"T_adef18bc_7eb4_11ea_a4ab_38f9d3bb4b3arow23_col11\" class=\"data row23 col11\" >0.0231706</td>\n",
       "                        <td id=\"T_adef18bc_7eb4_11ea_a4ab_38f9d3bb4b3arow23_col12\" class=\"data row23 col12\" >0.0586822</td>\n",
       "                        <td id=\"T_adef18bc_7eb4_11ea_a4ab_38f9d3bb4b3arow23_col13\" class=\"data row23 col13\" >0.243659</td>\n",
       "                        <td id=\"T_adef18bc_7eb4_11ea_a4ab_38f9d3bb4b3arow23_col14\" class=\"data row23 col14\" >-0.260043</td>\n",
       "                        <td id=\"T_adef18bc_7eb4_11ea_a4ab_38f9d3bb4b3arow23_col15\" class=\"data row23 col15\" >0.0108752</td>\n",
       "                        <td id=\"T_adef18bc_7eb4_11ea_a4ab_38f9d3bb4b3arow23_col16\" class=\"data row23 col16\" >-0.242543</td>\n",
       "                        <td id=\"T_adef18bc_7eb4_11ea_a4ab_38f9d3bb4b3arow23_col17\" class=\"data row23 col17\" >0.0428097</td>\n",
       "                        <td id=\"T_adef18bc_7eb4_11ea_a4ab_38f9d3bb4b3arow23_col18\" class=\"data row23 col18\" >-0.0173569</td>\n",
       "                        <td id=\"T_adef18bc_7eb4_11ea_a4ab_38f9d3bb4b3arow23_col19\" class=\"data row23 col19\" >-0.25949</td>\n",
       "                        <td id=\"T_adef18bc_7eb4_11ea_a4ab_38f9d3bb4b3arow23_col20\" class=\"data row23 col20\" >0.00986758</td>\n",
       "                        <td id=\"T_adef18bc_7eb4_11ea_a4ab_38f9d3bb4b3arow23_col21\" class=\"data row23 col21\" >-0.04729</td>\n",
       "                        <td id=\"T_adef18bc_7eb4_11ea_a4ab_38f9d3bb4b3arow23_col22\" class=\"data row23 col22\" >0.127716</td>\n",
       "                        <td id=\"T_adef18bc_7eb4_11ea_a4ab_38f9d3bb4b3arow23_col23\" class=\"data row23 col23\" >1</td>\n",
       "            </tr>\n",
       "    </tbody></table>"
      ],
      "text/plain": [
       "<pandas.io.formats.style.Styler at 0x1a1be11be0>"
      ]
     },
     "execution_count": 165,
     "metadata": {},
     "output_type": "execute_result"
    }
   ],
   "source": [
    "corr = data.corr()\n",
    "corr.style.background_gradient(cmap='coolwarm')"
   ]
  },
  {
   "cell_type": "markdown",
   "metadata": {},
   "source": [
    "We see that the price at the time of removal from publication is closely related to the cost per square meter, kitchen area, living and total area, number of rooms, ceiling height, and even a little with the presence of a Park and pond within a radius of 3 km. There are parameters such as the number of photos in the ad that are not related to anything and do not affect anything. Let's look at the correlation between the main characteristics"
   ]
  },
  {
   "cell_type": "code",
   "execution_count": 166,
   "metadata": {},
   "outputs": [
    {
     "data": {
      "text/html": [
       "<div>\n",
       "<style scoped>\n",
       "    .dataframe tbody tr th:only-of-type {\n",
       "        vertical-align: middle;\n",
       "    }\n",
       "\n",
       "    .dataframe tbody tr th {\n",
       "        vertical-align: top;\n",
       "    }\n",
       "\n",
       "    .dataframe thead th {\n",
       "        text-align: right;\n",
       "    }\n",
       "</style>\n",
       "<table border=\"1\" class=\"dataframe\">\n",
       "  <thead>\n",
       "    <tr style=\"text-align: right;\">\n",
       "      <th></th>\n",
       "      <th>rooms</th>\n",
       "      <th>level_1</th>\n",
       "      <th>last_price</th>\n",
       "    </tr>\n",
       "  </thead>\n",
       "  <tbody>\n",
       "    <tr>\n",
       "      <th>0</th>\n",
       "      <td>1</td>\n",
       "      <td>total_area</td>\n",
       "      <td>0.654804</td>\n",
       "    </tr>\n",
       "    <tr>\n",
       "      <th>3</th>\n",
       "      <td>1</td>\n",
       "      <td>last_price</td>\n",
       "      <td>1.000000</td>\n",
       "    </tr>\n",
       "    <tr>\n",
       "      <th>7</th>\n",
       "      <td>1</td>\n",
       "      <td>m2</td>\n",
       "      <td>0.765660</td>\n",
       "    </tr>\n",
       "    <tr>\n",
       "      <th>8</th>\n",
       "      <td>2</td>\n",
       "      <td>total_area</td>\n",
       "      <td>0.699172</td>\n",
       "    </tr>\n",
       "    <tr>\n",
       "      <th>11</th>\n",
       "      <td>2</td>\n",
       "      <td>last_price</td>\n",
       "      <td>1.000000</td>\n",
       "    </tr>\n",
       "    <tr>\n",
       "      <th>15</th>\n",
       "      <td>2</td>\n",
       "      <td>m2</td>\n",
       "      <td>0.888895</td>\n",
       "    </tr>\n",
       "    <tr>\n",
       "      <th>16</th>\n",
       "      <td>3</td>\n",
       "      <td>total_area</td>\n",
       "      <td>0.707688</td>\n",
       "    </tr>\n",
       "    <tr>\n",
       "      <th>19</th>\n",
       "      <td>3</td>\n",
       "      <td>last_price</td>\n",
       "      <td>1.000000</td>\n",
       "    </tr>\n",
       "    <tr>\n",
       "      <th>23</th>\n",
       "      <td>3</td>\n",
       "      <td>m2</td>\n",
       "      <td>0.897506</td>\n",
       "    </tr>\n",
       "    <tr>\n",
       "      <th>24</th>\n",
       "      <td>4</td>\n",
       "      <td>total_area</td>\n",
       "      <td>0.769122</td>\n",
       "    </tr>\n",
       "    <tr>\n",
       "      <th>27</th>\n",
       "      <td>4</td>\n",
       "      <td>last_price</td>\n",
       "      <td>1.000000</td>\n",
       "    </tr>\n",
       "    <tr>\n",
       "      <th>31</th>\n",
       "      <td>4</td>\n",
       "      <td>m2</td>\n",
       "      <td>0.864203</td>\n",
       "    </tr>\n",
       "    <tr>\n",
       "      <th>32</th>\n",
       "      <td>5</td>\n",
       "      <td>total_area</td>\n",
       "      <td>0.625609</td>\n",
       "    </tr>\n",
       "    <tr>\n",
       "      <th>35</th>\n",
       "      <td>5</td>\n",
       "      <td>last_price</td>\n",
       "      <td>1.000000</td>\n",
       "    </tr>\n",
       "    <tr>\n",
       "      <th>39</th>\n",
       "      <td>5</td>\n",
       "      <td>m2</td>\n",
       "      <td>0.924820</td>\n",
       "    </tr>\n",
       "    <tr>\n",
       "      <th>40</th>\n",
       "      <td>6</td>\n",
       "      <td>total_area</td>\n",
       "      <td>0.571116</td>\n",
       "    </tr>\n",
       "    <tr>\n",
       "      <th>42</th>\n",
       "      <td>6</td>\n",
       "      <td>living_area</td>\n",
       "      <td>0.503229</td>\n",
       "    </tr>\n",
       "    <tr>\n",
       "      <th>43</th>\n",
       "      <td>6</td>\n",
       "      <td>last_price</td>\n",
       "      <td>1.000000</td>\n",
       "    </tr>\n",
       "    <tr>\n",
       "      <th>47</th>\n",
       "      <td>6</td>\n",
       "      <td>m2</td>\n",
       "      <td>0.970181</td>\n",
       "    </tr>\n",
       "    <tr>\n",
       "      <th>48</th>\n",
       "      <td>7</td>\n",
       "      <td>total_area</td>\n",
       "      <td>0.747980</td>\n",
       "    </tr>\n",
       "    <tr>\n",
       "      <th>51</th>\n",
       "      <td>7</td>\n",
       "      <td>last_price</td>\n",
       "      <td>1.000000</td>\n",
       "    </tr>\n",
       "    <tr>\n",
       "      <th>53</th>\n",
       "      <td>7</td>\n",
       "      <td>living_area_relation</td>\n",
       "      <td>-0.574228</td>\n",
       "    </tr>\n",
       "    <tr>\n",
       "      <th>54</th>\n",
       "      <td>7</td>\n",
       "      <td>kitchen_total_area_relation</td>\n",
       "      <td>-0.556503</td>\n",
       "    </tr>\n",
       "    <tr>\n",
       "      <th>55</th>\n",
       "      <td>7</td>\n",
       "      <td>m2</td>\n",
       "      <td>0.533726</td>\n",
       "    </tr>\n",
       "    <tr>\n",
       "      <th>56</th>\n",
       "      <td>8</td>\n",
       "      <td>total_area</td>\n",
       "      <td>1.000000</td>\n",
       "    </tr>\n",
       "    <tr>\n",
       "      <th>57</th>\n",
       "      <td>8</td>\n",
       "      <td>cityCenters_nearest</td>\n",
       "      <td>-1.000000</td>\n",
       "    </tr>\n",
       "    <tr>\n",
       "      <th>58</th>\n",
       "      <td>8</td>\n",
       "      <td>living_area</td>\n",
       "      <td>1.000000</td>\n",
       "    </tr>\n",
       "    <tr>\n",
       "      <th>59</th>\n",
       "      <td>8</td>\n",
       "      <td>last_price</td>\n",
       "      <td>1.000000</td>\n",
       "    </tr>\n",
       "    <tr>\n",
       "      <th>60</th>\n",
       "      <td>8</td>\n",
       "      <td>kitchen_area</td>\n",
       "      <td>-1.000000</td>\n",
       "    </tr>\n",
       "    <tr>\n",
       "      <th>61</th>\n",
       "      <td>8</td>\n",
       "      <td>living_area_relation</td>\n",
       "      <td>-1.000000</td>\n",
       "    </tr>\n",
       "    <tr>\n",
       "      <th>62</th>\n",
       "      <td>8</td>\n",
       "      <td>kitchen_total_area_relation</td>\n",
       "      <td>-1.000000</td>\n",
       "    </tr>\n",
       "    <tr>\n",
       "      <th>63</th>\n",
       "      <td>8</td>\n",
       "      <td>m2</td>\n",
       "      <td>1.000000</td>\n",
       "    </tr>\n",
       "    <tr>\n",
       "      <th>65</th>\n",
       "      <td>9</td>\n",
       "      <td>cityCenters_nearest</td>\n",
       "      <td>0.812524</td>\n",
       "    </tr>\n",
       "    <tr>\n",
       "      <th>66</th>\n",
       "      <td>9</td>\n",
       "      <td>living_area</td>\n",
       "      <td>0.670858</td>\n",
       "    </tr>\n",
       "    <tr>\n",
       "      <th>67</th>\n",
       "      <td>9</td>\n",
       "      <td>last_price</td>\n",
       "      <td>1.000000</td>\n",
       "    </tr>\n",
       "    <tr>\n",
       "      <th>68</th>\n",
       "      <td>9</td>\n",
       "      <td>kitchen_area</td>\n",
       "      <td>-0.848590</td>\n",
       "    </tr>\n",
       "    <tr>\n",
       "      <th>69</th>\n",
       "      <td>9</td>\n",
       "      <td>living_area_relation</td>\n",
       "      <td>0.767840</td>\n",
       "    </tr>\n",
       "    <tr>\n",
       "      <th>70</th>\n",
       "      <td>9</td>\n",
       "      <td>kitchen_total_area_relation</td>\n",
       "      <td>-0.793845</td>\n",
       "    </tr>\n",
       "    <tr>\n",
       "      <th>71</th>\n",
       "      <td>9</td>\n",
       "      <td>m2</td>\n",
       "      <td>0.665830</td>\n",
       "    </tr>\n",
       "    <tr>\n",
       "      <th>72</th>\n",
       "      <td>11</td>\n",
       "      <td>total_area</td>\n",
       "      <td>1.000000</td>\n",
       "    </tr>\n",
       "    <tr>\n",
       "      <th>73</th>\n",
       "      <td>11</td>\n",
       "      <td>cityCenters_nearest</td>\n",
       "      <td>-1.000000</td>\n",
       "    </tr>\n",
       "    <tr>\n",
       "      <th>74</th>\n",
       "      <td>11</td>\n",
       "      <td>living_area</td>\n",
       "      <td>-1.000000</td>\n",
       "    </tr>\n",
       "    <tr>\n",
       "      <th>75</th>\n",
       "      <td>11</td>\n",
       "      <td>last_price</td>\n",
       "      <td>1.000000</td>\n",
       "    </tr>\n",
       "    <tr>\n",
       "      <th>76</th>\n",
       "      <td>11</td>\n",
       "      <td>kitchen_area</td>\n",
       "      <td>-1.000000</td>\n",
       "    </tr>\n",
       "    <tr>\n",
       "      <th>77</th>\n",
       "      <td>11</td>\n",
       "      <td>living_area_relation</td>\n",
       "      <td>-1.000000</td>\n",
       "    </tr>\n",
       "    <tr>\n",
       "      <th>78</th>\n",
       "      <td>11</td>\n",
       "      <td>kitchen_total_area_relation</td>\n",
       "      <td>-1.000000</td>\n",
       "    </tr>\n",
       "    <tr>\n",
       "      <th>79</th>\n",
       "      <td>11</td>\n",
       "      <td>m2</td>\n",
       "      <td>1.000000</td>\n",
       "    </tr>\n",
       "  </tbody>\n",
       "</table>\n",
       "</div>"
      ],
      "text/plain": [
       "    rooms                      level_1  last_price\n",
       "0       1                   total_area    0.654804\n",
       "3       1                   last_price    1.000000\n",
       "7       1                           m2    0.765660\n",
       "8       2                   total_area    0.699172\n",
       "11      2                   last_price    1.000000\n",
       "15      2                           m2    0.888895\n",
       "16      3                   total_area    0.707688\n",
       "19      3                   last_price    1.000000\n",
       "23      3                           m2    0.897506\n",
       "24      4                   total_area    0.769122\n",
       "27      4                   last_price    1.000000\n",
       "31      4                           m2    0.864203\n",
       "32      5                   total_area    0.625609\n",
       "35      5                   last_price    1.000000\n",
       "39      5                           m2    0.924820\n",
       "40      6                   total_area    0.571116\n",
       "42      6                  living_area    0.503229\n",
       "43      6                   last_price    1.000000\n",
       "47      6                           m2    0.970181\n",
       "48      7                   total_area    0.747980\n",
       "51      7                   last_price    1.000000\n",
       "53      7         living_area_relation   -0.574228\n",
       "54      7  kitchen_total_area_relation   -0.556503\n",
       "55      7                           m2    0.533726\n",
       "56      8                   total_area    1.000000\n",
       "57      8          cityCenters_nearest   -1.000000\n",
       "58      8                  living_area    1.000000\n",
       "59      8                   last_price    1.000000\n",
       "60      8                 kitchen_area   -1.000000\n",
       "61      8         living_area_relation   -1.000000\n",
       "62      8  kitchen_total_area_relation   -1.000000\n",
       "63      8                           m2    1.000000\n",
       "65      9          cityCenters_nearest    0.812524\n",
       "66      9                  living_area    0.670858\n",
       "67      9                   last_price    1.000000\n",
       "68      9                 kitchen_area   -0.848590\n",
       "69      9         living_area_relation    0.767840\n",
       "70      9  kitchen_total_area_relation   -0.793845\n",
       "71      9                           m2    0.665830\n",
       "72     11                   total_area    1.000000\n",
       "73     11          cityCenters_nearest   -1.000000\n",
       "74     11                  living_area   -1.000000\n",
       "75     11                   last_price    1.000000\n",
       "76     11                 kitchen_area   -1.000000\n",
       "77     11         living_area_relation   -1.000000\n",
       "78     11  kitchen_total_area_relation   -1.000000\n",
       "79     11                           m2    1.000000"
      ]
     },
     "execution_count": 166,
     "metadata": {},
     "output_type": "execute_result"
    }
   ],
   "source": [
    "corr_with_price_by_rooms = good_place.groupby('rooms')\\\n",
    "    [['total_area', 'cityCenters_nearest', 'living_area', 'last_price', \n",
    "      'kitchen_area', 'living_area_relation', 'kitchen_total_area_relation', 'm2']]\\\n",
    "        .corr()['last_price'].reset_index()\n",
    "\n",
    "corr_with_price_by_rooms[corr_with_price_by_rooms['last_price'].abs() > 0.5]"
   ]
  },
  {
   "cell_type": "markdown",
   "metadata": {},
   "source": [
    "The number of rooms is most correlated with the area, cost per square meter, and price"
   ]
  },
  {
   "cell_type": "code",
   "execution_count": 167,
   "metadata": {},
   "outputs": [
    {
     "data": {
      "text/html": [
       "<div>\n",
       "<style scoped>\n",
       "    .dataframe tbody tr th:only-of-type {\n",
       "        vertical-align: middle;\n",
       "    }\n",
       "\n",
       "    .dataframe tbody tr th {\n",
       "        vertical-align: top;\n",
       "    }\n",
       "\n",
       "    .dataframe thead th {\n",
       "        text-align: right;\n",
       "    }\n",
       "</style>\n",
       "<table border=\"1\" class=\"dataframe\">\n",
       "  <thead>\n",
       "    <tr style=\"text-align: right;\">\n",
       "      <th></th>\n",
       "      <th>total_area</th>\n",
       "      <th>level_1</th>\n",
       "      <th>last_price</th>\n",
       "    </tr>\n",
       "  </thead>\n",
       "  <tbody>\n",
       "    <tr>\n",
       "      <th>9</th>\n",
       "      <td>13</td>\n",
       "      <td>cityCenters_nearest</td>\n",
       "      <td>-0.685187</td>\n",
       "    </tr>\n",
       "    <tr>\n",
       "      <th>10</th>\n",
       "      <td>13</td>\n",
       "      <td>living_area</td>\n",
       "      <td>-0.985429</td>\n",
       "    </tr>\n",
       "    <tr>\n",
       "      <th>11</th>\n",
       "      <td>13</td>\n",
       "      <td>last_price</td>\n",
       "      <td>1.000000</td>\n",
       "    </tr>\n",
       "    <tr>\n",
       "      <th>13</th>\n",
       "      <td>13</td>\n",
       "      <td>living_area_relation</td>\n",
       "      <td>-0.985767</td>\n",
       "    </tr>\n",
       "    <tr>\n",
       "      <th>15</th>\n",
       "      <td>13</td>\n",
       "      <td>m2</td>\n",
       "      <td>0.999939</td>\n",
       "    </tr>\n",
       "    <tr>\n",
       "      <th>17</th>\n",
       "      <td>15</td>\n",
       "      <td>cityCenters_nearest</td>\n",
       "      <td>-1.000000</td>\n",
       "    </tr>\n",
       "    <tr>\n",
       "      <th>18</th>\n",
       "      <td>15</td>\n",
       "      <td>living_area</td>\n",
       "      <td>-0.922613</td>\n",
       "    </tr>\n",
       "    <tr>\n",
       "      <th>19</th>\n",
       "      <td>15</td>\n",
       "      <td>last_price</td>\n",
       "      <td>1.000000</td>\n",
       "    </tr>\n",
       "    <tr>\n",
       "      <th>21</th>\n",
       "      <td>15</td>\n",
       "      <td>living_area_relation</td>\n",
       "      <td>-0.922613</td>\n",
       "    </tr>\n",
       "    <tr>\n",
       "      <th>22</th>\n",
       "      <td>15</td>\n",
       "      <td>kitchen_total_area_relation</td>\n",
       "      <td>-0.922613</td>\n",
       "    </tr>\n",
       "    <tr>\n",
       "      <th>23</th>\n",
       "      <td>15</td>\n",
       "      <td>m2</td>\n",
       "      <td>0.999087</td>\n",
       "    </tr>\n",
       "    <tr>\n",
       "      <th>33</th>\n",
       "      <td>17</td>\n",
       "      <td>cityCenters_nearest</td>\n",
       "      <td>-0.834649</td>\n",
       "    </tr>\n",
       "    <tr>\n",
       "      <th>35</th>\n",
       "      <td>17</td>\n",
       "      <td>last_price</td>\n",
       "      <td>1.000000</td>\n",
       "    </tr>\n",
       "    <tr>\n",
       "      <th>39</th>\n",
       "      <td>17</td>\n",
       "      <td>m2</td>\n",
       "      <td>0.999253</td>\n",
       "    </tr>\n",
       "    <tr>\n",
       "      <th>41</th>\n",
       "      <td>18</td>\n",
       "      <td>cityCenters_nearest</td>\n",
       "      <td>-0.631340</td>\n",
       "    </tr>\n",
       "    <tr>\n",
       "      <th>42</th>\n",
       "      <td>18</td>\n",
       "      <td>living_area</td>\n",
       "      <td>-0.758410</td>\n",
       "    </tr>\n",
       "    <tr>\n",
       "      <th>43</th>\n",
       "      <td>18</td>\n",
       "      <td>last_price</td>\n",
       "      <td>1.000000</td>\n",
       "    </tr>\n",
       "    <tr>\n",
       "      <th>45</th>\n",
       "      <td>18</td>\n",
       "      <td>living_area_relation</td>\n",
       "      <td>-0.752495</td>\n",
       "    </tr>\n",
       "    <tr>\n",
       "      <th>47</th>\n",
       "      <td>18</td>\n",
       "      <td>m2</td>\n",
       "      <td>0.995179</td>\n",
       "    </tr>\n",
       "    <tr>\n",
       "      <th>49</th>\n",
       "      <td>19</td>\n",
       "      <td>cityCenters_nearest</td>\n",
       "      <td>-1.000000</td>\n",
       "    </tr>\n",
       "  </tbody>\n",
       "</table>\n",
       "</div>"
      ],
      "text/plain": [
       "    total_area                      level_1  last_price\n",
       "9           13          cityCenters_nearest   -0.685187\n",
       "10          13                  living_area   -0.985429\n",
       "11          13                   last_price    1.000000\n",
       "13          13         living_area_relation   -0.985767\n",
       "15          13                           m2    0.999939\n",
       "17          15          cityCenters_nearest   -1.000000\n",
       "18          15                  living_area   -0.922613\n",
       "19          15                   last_price    1.000000\n",
       "21          15         living_area_relation   -0.922613\n",
       "22          15  kitchen_total_area_relation   -0.922613\n",
       "23          15                           m2    0.999087\n",
       "33          17          cityCenters_nearest   -0.834649\n",
       "35          17                   last_price    1.000000\n",
       "39          17                           m2    0.999253\n",
       "41          18          cityCenters_nearest   -0.631340\n",
       "42          18                  living_area   -0.758410\n",
       "43          18                   last_price    1.000000\n",
       "45          18         living_area_relation   -0.752495\n",
       "47          18                           m2    0.995179\n",
       "49          19          cityCenters_nearest   -1.000000"
      ]
     },
     "execution_count": 167,
     "metadata": {},
     "output_type": "execute_result"
    }
   ],
   "source": [
    "corr_with_price_by_area = good_place.groupby('total_area')\\\n",
    "    [[ 'rooms', 'cityCenters_nearest', 'living_area', 'last_price', \n",
    "      'kitchen_area', 'living_area_relation', 'kitchen_total_area_relation', 'm2']]\\\n",
    "        .corr()['last_price'].reset_index()\n",
    "\n",
    "corr_with_price_by_area[corr_with_price_by_area['last_price'].abs() > 0.5].head(20)"
   ]
  },
  {
   "cell_type": "markdown",
   "metadata": {},
   "source": [
    "The total area is most correlated with the proximity to the center, the cost per square meter and the area of the kitchen"
   ]
  },
  {
   "cell_type": "code",
   "execution_count": 168,
   "metadata": {},
   "outputs": [
    {
     "data": {
      "text/html": [
       "<div>\n",
       "<style scoped>\n",
       "    .dataframe tbody tr th:only-of-type {\n",
       "        vertical-align: middle;\n",
       "    }\n",
       "\n",
       "    .dataframe tbody tr th {\n",
       "        vertical-align: top;\n",
       "    }\n",
       "\n",
       "    .dataframe thead th {\n",
       "        text-align: right;\n",
       "    }\n",
       "</style>\n",
       "<table border=\"1\" class=\"dataframe\">\n",
       "  <thead>\n",
       "    <tr style=\"text-align: right;\">\n",
       "      <th></th>\n",
       "      <th>locality_name_type</th>\n",
       "      <th>level_1</th>\n",
       "      <th>last_price</th>\n",
       "    </tr>\n",
       "  </thead>\n",
       "  <tbody>\n",
       "    <tr>\n",
       "      <th>2</th>\n",
       "      <td>Saint Peterburg</td>\n",
       "      <td>living_area</td>\n",
       "      <td>0.555968</td>\n",
       "    </tr>\n",
       "    <tr>\n",
       "      <th>3</th>\n",
       "      <td>Saint Peterburg</td>\n",
       "      <td>last_price</td>\n",
       "      <td>1.000000</td>\n",
       "    </tr>\n",
       "    <tr>\n",
       "      <th>7</th>\n",
       "      <td>Saint Peterburg</td>\n",
       "      <td>m2</td>\n",
       "      <td>0.666309</td>\n",
       "    </tr>\n",
       "    <tr>\n",
       "      <th>11</th>\n",
       "      <td>city</td>\n",
       "      <td>last_price</td>\n",
       "      <td>1.000000</td>\n",
       "    </tr>\n",
       "    <tr>\n",
       "      <th>15</th>\n",
       "      <td>city</td>\n",
       "      <td>m2</td>\n",
       "      <td>0.677590</td>\n",
       "    </tr>\n",
       "    <tr>\n",
       "      <th>18</th>\n",
       "      <td>the location is unknown</td>\n",
       "      <td>living_area</td>\n",
       "      <td>0.624198</td>\n",
       "    </tr>\n",
       "    <tr>\n",
       "      <th>19</th>\n",
       "      <td>the location is unknown</td>\n",
       "      <td>last_price</td>\n",
       "      <td>1.000000</td>\n",
       "    </tr>\n",
       "    <tr>\n",
       "      <th>23</th>\n",
       "      <td>the location is unknown</td>\n",
       "      <td>m2</td>\n",
       "      <td>0.792273</td>\n",
       "    </tr>\n",
       "    <tr>\n",
       "      <th>27</th>\n",
       "      <td>village</td>\n",
       "      <td>last_price</td>\n",
       "      <td>1.000000</td>\n",
       "    </tr>\n",
       "    <tr>\n",
       "      <th>28</th>\n",
       "      <td>village</td>\n",
       "      <td>kitchen_area</td>\n",
       "      <td>0.527526</td>\n",
       "    </tr>\n",
       "    <tr>\n",
       "      <th>31</th>\n",
       "      <td>village</td>\n",
       "      <td>m2</td>\n",
       "      <td>0.572607</td>\n",
       "    </tr>\n",
       "  </tbody>\n",
       "</table>\n",
       "</div>"
      ],
      "text/plain": [
       "         locality_name_type       level_1  last_price\n",
       "2           Saint Peterburg   living_area    0.555968\n",
       "3           Saint Peterburg    last_price    1.000000\n",
       "7           Saint Peterburg            m2    0.666309\n",
       "11                     city    last_price    1.000000\n",
       "15                     city            m2    0.677590\n",
       "18  the location is unknown   living_area    0.624198\n",
       "19  the location is unknown    last_price    1.000000\n",
       "23  the location is unknown            m2    0.792273\n",
       "27                  village    last_price    1.000000\n",
       "28                  village  kitchen_area    0.527526\n",
       "31                  village            m2    0.572607"
      ]
     },
     "execution_count": 168,
     "metadata": {},
     "output_type": "execute_result"
    }
   ],
   "source": [
    "corr_with_price_by_location = good_place.groupby('locality_name_type')\\\n",
    "    [[ 'rooms', 'cityCenters_nearest', 'living_area', 'last_price', \n",
    "      'kitchen_area', 'living_area_relation', 'kitchen_total_area_relation', 'm2']]\\\n",
    "        .corr()['last_price'].reset_index()\n",
    "\n",
    "corr_with_price_by_location[corr_with_price_by_location['last_price'].abs() > 0.5]"
   ]
  },
  {
   "cell_type": "markdown",
   "metadata": {},
   "source": [
    "The type of location is most correlated with the area, cost per square meter, and price"
   ]
  },
  {
   "cell_type": "markdown",
   "metadata": {},
   "source": [
    "## Choose the most characteristic parameters for apartments, studios and open-plan apartments. Do they affect the price? Compare with similar parameters of standard layout apartments. <a class=\"anchor\" id=\"27\"></a>"
   ]
  },
  {
   "cell_type": "code",
   "execution_count": 169,
   "metadata": {},
   "outputs": [
    {
     "data": {
      "text/html": [
       "<div>\n",
       "<style scoped>\n",
       "    .dataframe tbody tr th:only-of-type {\n",
       "        vertical-align: middle;\n",
       "    }\n",
       "\n",
       "    .dataframe tbody tr th {\n",
       "        vertical-align: top;\n",
       "    }\n",
       "\n",
       "    .dataframe thead th {\n",
       "        text-align: right;\n",
       "    }\n",
       "</style>\n",
       "<table border=\"1\" class=\"dataframe\">\n",
       "  <thead>\n",
       "    <tr style=\"text-align: right;\">\n",
       "      <th></th>\n",
       "      <th>ceiling_height</th>\n",
       "      <th>days_exposition</th>\n",
       "      <th>floor</th>\n",
       "      <th>kitchen_area</th>\n",
       "      <th>last_price</th>\n",
       "      <th>m2</th>\n",
       "      <th>rooms</th>\n",
       "      <th>total_area</th>\n",
       "    </tr>\n",
       "    <tr>\n",
       "      <th>type_plan</th>\n",
       "      <th></th>\n",
       "      <th></th>\n",
       "      <th></th>\n",
       "      <th></th>\n",
       "      <th></th>\n",
       "      <th></th>\n",
       "      <th></th>\n",
       "      <th></th>\n",
       "    </tr>\n",
       "  </thead>\n",
       "  <tbody>\n",
       "    <tr>\n",
       "      <th>another</th>\n",
       "      <td>2.65</td>\n",
       "      <td>93.0</td>\n",
       "      <td>4.0</td>\n",
       "      <td>9.0</td>\n",
       "      <td>4500000</td>\n",
       "      <td>93457.0</td>\n",
       "      <td>2</td>\n",
       "      <td>50</td>\n",
       "    </tr>\n",
       "    <tr>\n",
       "      <th>apartment</th>\n",
       "      <td>3.00</td>\n",
       "      <td>60.0</td>\n",
       "      <td>3.0</td>\n",
       "      <td>9.5</td>\n",
       "      <td>6030000</td>\n",
       "      <td>108858.0</td>\n",
       "      <td>2</td>\n",
       "      <td>56</td>\n",
       "    </tr>\n",
       "    <tr>\n",
       "      <th>open plan</th>\n",
       "      <td>2.65</td>\n",
       "      <td>45.0</td>\n",
       "      <td>7.5</td>\n",
       "      <td>9.0</td>\n",
       "      <td>2715000</td>\n",
       "      <td>101111.0</td>\n",
       "      <td>1</td>\n",
       "      <td>27</td>\n",
       "    </tr>\n",
       "    <tr>\n",
       "      <th>studio</th>\n",
       "      <td>2.65</td>\n",
       "      <td>54.0</td>\n",
       "      <td>7.0</td>\n",
       "      <td>9.0</td>\n",
       "      <td>2775000</td>\n",
       "      <td>105306.5</td>\n",
       "      <td>1</td>\n",
       "      <td>26</td>\n",
       "    </tr>\n",
       "  </tbody>\n",
       "</table>\n",
       "</div>"
      ],
      "text/plain": [
       "           ceiling_height  days_exposition  floor  kitchen_area  last_price  \\\n",
       "type_plan                                                                     \n",
       "another              2.65             93.0    4.0           9.0     4500000   \n",
       "apartment            3.00             60.0    3.0           9.5     6030000   \n",
       "open plan            2.65             45.0    7.5           9.0     2715000   \n",
       "studio               2.65             54.0    7.0           9.0     2775000   \n",
       "\n",
       "                 m2  rooms  total_area  \n",
       "type_plan                               \n",
       "another     93457.0      2          50  \n",
       "apartment  108858.0      2          56  \n",
       "open plan  101111.0      1          27  \n",
       "studio     105306.5      1          26  "
      ]
     },
     "execution_count": 169,
     "metadata": {},
     "output_type": "execute_result"
    }
   ],
   "source": [
    "good_houses_by_type = good_place.pivot_table(index='type_plan',\n",
    "        values=['last_price', 'total_area', 'm2', 'days_exposition', 'kitchen_area', 'ceiling_height', 'rooms', 'floor'], \n",
    "                                             aggfunc='median')\n",
    "\n",
    "good_houses_by_type"
   ]
  },
  {
   "cell_type": "markdown",
   "metadata": {},
   "source": [
    "I compared the main median parameters (ceiling height, floor, cost per square meter and total, number of rooms, etc.) in apartments of 4 types of layout.\n",
    "It became obvious that open-plan apartments and studios are sold for almost the same amount (and it is cheaper than other categories) and faster (45 and 54 days, respectively) The number of floors is higher, the number of rooms is 1, while other types of layout have 2. it is Interesting that the kitchen area does not depend on the type of layout, but the total area of open-plan apartments and studios is almost half that of other apartments. The ceilings are higher only in the apartments, and in the other apartments they are identical. The cost of a square meter does not differ in principle and is only slightly lower in standard apartments and slightly higher in apartments."
   ]
  },
  {
   "cell_type": "markdown",
   "metadata": {},
   "source": [
    "# Project SUMMARY <a class= \"anchor\" id= \"28\"></a>\n",
    "\n",
    "### The project was difficult, but interesting))) . Now, having reached the end, I began to understand better how to optimize the work time in the next project, and it became clear to me that some of the work could not be done. \n",
    "### While working on the project, all data was reviewed and processed, omissions were filled in, and anomalies were eliminated. I used both deleting columns and replacing them with the median value, building histograms, and correlation tables. I categorise some of the characteristics (type of settlement, distance to the centre of the floor). We calculated and added to the table: the price per square meter; the day of the week, month and year of publication of the ad; the floor where the apartment is located (first, last, other), the ratio of residential and total area, as well as the ratio of kitchen area to total.\n",
    "\n",
    "### We calculated the parameters of a typical apartment and analyzed whether the price per square meter depends on the number of rooms, floor (first or last), distance from the center and the date of placement: day of the week, month and year. My analysis showed that the further from the center the apartment is located, the lower the price per square meter, that in St. Petersburg apartments are more expensive than in the region and that in the period from 2016 to 2019, the price per square meter increased.\n",
    "\n",
    "### Determined the top 10 localities by the number of ads (Peter, Vyborg, Kudrovo village, Pargonovo village, Murino village, Peergof, Gatchina, Kolpino, etc.) and found that in St. Petersburg the most expensive apartments (per square meter), and the cheapest in Vyborg. I analyzed open-plan apartments, apartments and studios and found out their typical characteristics. It became clear that studios and open-plan apartments are very similar in terms of parameters, but apartments are more expensive, have a larger area and cost.\n",
    "\n",
    "### The main factors that affect the price are the total area, distance from the center and location, number of rooms. Other characteristics do not have such a strong impact."
   ]
  },
  {
   "cell_type": "code",
   "execution_count": null,
   "metadata": {},
   "outputs": [],
   "source": []
  }
 ],
 "metadata": {
  "kernelspec": {
   "display_name": "Python 3",
   "language": "python",
   "name": "python3"
  },
  "language_info": {
   "codemirror_mode": {
    "name": "ipython",
    "version": 3
   },
   "file_extension": ".py",
   "mimetype": "text/x-python",
   "name": "python",
   "nbconvert_exporter": "python",
   "pygments_lexer": "ipython3",
   "version": "3.7.3"
  }
 },
 "nbformat": 4,
 "nbformat_minor": 2
}
