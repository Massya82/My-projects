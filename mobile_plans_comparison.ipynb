{
 "cells": [
  {
   "cell_type": "markdown",
   "metadata": {},
   "source": [
    "# Project \"Megaline\"  \n",
    "\n",
    "## Prepaid plans description\n",
    "### Surf\n",
    "Monthly charge: $20\n",
    "\n",
    "500 monthly minutes, 50 SMS and 15 GB of web traffic\n",
    "\n",
    "After exceeding the package limits: \n",
    "1. 1 minute: 3 cents (\"Megaline\" always rounds up the minute and megabyte values. \n",
    "If the call lasted just one second, it will be counted as one minute); \n",
    "2. SMS: 3 cents; \n",
    "3. 1 GB of web traffic: $10.\n",
    "\n",
    "### Ultimate\n",
    "Monthly charge: $70\n",
    "\n",
    "3000 monthly minutes, \n",
    "1000 SMS and 30 GB of web traffic\n",
    "\n",
    "After exceeding the package limits: \n",
    "1. 1 minute: 1 cent; \n",
    "2. SMS: 1 cent; \n",
    "3. 1 GB of web traffic: $7.\n"
   ]
  },
  {
   "cell_type": "markdown",
   "metadata": {},
   "source": [
    "# Table of contents:\n",
    "\n",
    "* [Step 1. Open the data file and study the general information](#1)\n",
    "    * [ Summary](#2)\n",
    "* [Step 2. Prepare the data](#3)\n",
    "* [Step 3. Analyse the data](#4)\n",
    "* [Step 4. Test the hypotheses](#5)\n",
    "* [Summary](#6)\n"
   ]
  },
  {
   "cell_type": "markdown",
   "metadata": {},
   "source": [
    "# Step 1. Open the data file and study the general information <a class=\"anchor\" id=\"1\"></a>\n"
   ]
  },
  {
   "cell_type": "code",
   "execution_count": 1,
   "metadata": {},
   "outputs": [],
   "source": [
    "import pandas as pd\n",
    "import numpy as np\n",
    "import matplotlib.pyplot as plt\n",
    "from datetime import datetime\n"
   ]
  },
  {
   "cell_type": "markdown",
   "metadata": {},
   "source": [
    "Open the data file and study the general information"
   ]
  },
  {
   "cell_type": "code",
   "execution_count": 2,
   "metadata": {},
   "outputs": [],
   "source": [
    "calls = pd.read_csv('/Users/mariashemyakina/Downloads/megaline_calls.csv')\n",
    "internet = pd.read_csv('/Users/mariashemyakina/Downloads/megaline_internet.csv')\n",
    "sms = pd.read_csv('/Users/mariashemyakina/Downloads/megaline_messages.csv')\n",
    "tariff = pd.read_csv('/Users/mariashemyakina/Downloads/megaline_tariffs.csv')\n",
    "users = pd.read_csv('/Users/mariashemyakina/Downloads/megaline_users.csv')\n"
   ]
  },
  {
   "cell_type": "code",
   "execution_count": 3,
   "metadata": {},
   "outputs": [
    {
     "name": "stdout",
     "output_type": "stream",
     "text": [
      "<class 'pandas.core.frame.DataFrame'>\n",
      "RangeIndex: 137735 entries, 0 to 137734\n",
      "Data columns (total 4 columns):\n",
      "id           137735 non-null object\n",
      "user_id      137735 non-null int64\n",
      "call_date    137735 non-null object\n",
      "duration     137735 non-null float64\n",
      "dtypes: float64(1), int64(1), object(2)\n",
      "memory usage: 4.2+ MB\n"
     ]
    }
   ],
   "source": [
    "calls.info()"
   ]
  },
  {
   "cell_type": "code",
   "execution_count": 4,
   "metadata": {},
   "outputs": [
    {
     "name": "stdout",
     "output_type": "stream",
     "text": [
      "<class 'pandas.core.frame.DataFrame'>\n",
      "RangeIndex: 104825 entries, 0 to 104824\n",
      "Data columns (total 4 columns):\n",
      "id              104825 non-null object\n",
      "user_id         104825 non-null int64\n",
      "session_date    104825 non-null object\n",
      "mb_used         104825 non-null float64\n",
      "dtypes: float64(1), int64(1), object(2)\n",
      "memory usage: 3.2+ MB\n"
     ]
    }
   ],
   "source": [
    "internet.info()"
   ]
  },
  {
   "cell_type": "code",
   "execution_count": 5,
   "metadata": {},
   "outputs": [
    {
     "name": "stdout",
     "output_type": "stream",
     "text": [
      "<class 'pandas.core.frame.DataFrame'>\n",
      "RangeIndex: 76051 entries, 0 to 76050\n",
      "Data columns (total 3 columns):\n",
      "id              76051 non-null object\n",
      "user_id         76051 non-null int64\n",
      "message_date    76051 non-null object\n",
      "dtypes: int64(1), object(2)\n",
      "memory usage: 1.7+ MB\n"
     ]
    }
   ],
   "source": [
    "sms.info()"
   ]
  },
  {
   "cell_type": "code",
   "execution_count": 6,
   "metadata": {},
   "outputs": [
    {
     "name": "stdout",
     "output_type": "stream",
     "text": [
      "<class 'pandas.core.frame.DataFrame'>\n",
      "RangeIndex: 2 entries, 0 to 1\n",
      "Data columns (total 8 columns):\n",
      "messages_included        2 non-null int64\n",
      "mb_per_month_included    2 non-null int64\n",
      "minutes_included         2 non-null int64\n",
      "usd_monthly_pay          2 non-null int64\n",
      "usd_per_gb               2 non-null int64\n",
      "usd_per_message          2 non-null float64\n",
      "usd_per_minute           2 non-null float64\n",
      "tariff_name              2 non-null object\n",
      "dtypes: float64(2), int64(5), object(1)\n",
      "memory usage: 256.0+ bytes\n"
     ]
    }
   ],
   "source": [
    "tariff.info()"
   ]
  },
  {
   "cell_type": "code",
   "execution_count": 7,
   "metadata": {},
   "outputs": [
    {
     "name": "stdout",
     "output_type": "stream",
     "text": [
      "<class 'pandas.core.frame.DataFrame'>\n",
      "RangeIndex: 500 entries, 0 to 499\n",
      "Data columns (total 8 columns):\n",
      "user_id       500 non-null int64\n",
      "first_name    500 non-null object\n",
      "last_name     500 non-null object\n",
      "age           500 non-null int64\n",
      "city          500 non-null object\n",
      "reg_date      500 non-null object\n",
      "tariff        500 non-null object\n",
      "churn_date    34 non-null object\n",
      "dtypes: int64(2), object(6)\n",
      "memory usage: 31.4+ KB\n"
     ]
    }
   ],
   "source": [
    "users.info()"
   ]
  },
  {
   "cell_type": "markdown",
   "metadata": {},
   "source": [
    "# Step 2. Prepare the data <a class=\"anchor\" id=\"3\"></a>\n"
   ]
  },
  {
   "cell_type": "markdown",
   "metadata": {},
   "source": [
    "###  Calls "
   ]
  },
  {
   "cell_type": "code",
   "execution_count": 8,
   "metadata": {},
   "outputs": [
    {
     "data": {
      "text/html": [
       "<div>\n",
       "<style scoped>\n",
       "    .dataframe tbody tr th:only-of-type {\n",
       "        vertical-align: middle;\n",
       "    }\n",
       "\n",
       "    .dataframe tbody tr th {\n",
       "        vertical-align: top;\n",
       "    }\n",
       "\n",
       "    .dataframe thead th {\n",
       "        text-align: right;\n",
       "    }\n",
       "</style>\n",
       "<table border=\"1\" class=\"dataframe\">\n",
       "  <thead>\n",
       "    <tr style=\"text-align: right;\">\n",
       "      <th></th>\n",
       "      <th>id</th>\n",
       "      <th>user_id</th>\n",
       "      <th>call_date</th>\n",
       "      <th>duration</th>\n",
       "    </tr>\n",
       "  </thead>\n",
       "  <tbody>\n",
       "    <tr>\n",
       "      <th>4213</th>\n",
       "      <td>1017_183</td>\n",
       "      <td>1017</td>\n",
       "      <td>2018-09-22</td>\n",
       "      <td>0.00</td>\n",
       "    </tr>\n",
       "    <tr>\n",
       "      <th>105060</th>\n",
       "      <td>1370_145</td>\n",
       "      <td>1370</td>\n",
       "      <td>2018-10-20</td>\n",
       "      <td>13.13</td>\n",
       "    </tr>\n",
       "    <tr>\n",
       "      <th>116918</th>\n",
       "      <td>1408_567</td>\n",
       "      <td>1408</td>\n",
       "      <td>2018-03-08</td>\n",
       "      <td>7.47</td>\n",
       "    </tr>\n",
       "    <tr>\n",
       "      <th>118917</th>\n",
       "      <td>1414_215</td>\n",
       "      <td>1414</td>\n",
       "      <td>2018-10-29</td>\n",
       "      <td>6.24</td>\n",
       "    </tr>\n",
       "    <tr>\n",
       "      <th>115787</th>\n",
       "      <td>1406_13</td>\n",
       "      <td>1406</td>\n",
       "      <td>2018-11-04</td>\n",
       "      <td>6.89</td>\n",
       "    </tr>\n",
       "    <tr>\n",
       "      <th>96248</th>\n",
       "      <td>1341_263</td>\n",
       "      <td>1341</td>\n",
       "      <td>2018-12-29</td>\n",
       "      <td>3.07</td>\n",
       "    </tr>\n",
       "    <tr>\n",
       "      <th>115734</th>\n",
       "      <td>1405_177</td>\n",
       "      <td>1405</td>\n",
       "      <td>2018-07-18</td>\n",
       "      <td>13.43</td>\n",
       "    </tr>\n",
       "    <tr>\n",
       "      <th>108354</th>\n",
       "      <td>1382_1657</td>\n",
       "      <td>1382</td>\n",
       "      <td>2018-10-15</td>\n",
       "      <td>0.00</td>\n",
       "    </tr>\n",
       "    <tr>\n",
       "      <th>4730</th>\n",
       "      <td>1021_306</td>\n",
       "      <td>1021</td>\n",
       "      <td>2018-12-24</td>\n",
       "      <td>17.16</td>\n",
       "    </tr>\n",
       "    <tr>\n",
       "      <th>28205</th>\n",
       "      <td>1106_629</td>\n",
       "      <td>1106</td>\n",
       "      <td>2018-10-23</td>\n",
       "      <td>0.00</td>\n",
       "    </tr>\n",
       "    <tr>\n",
       "      <th>19811</th>\n",
       "      <td>1076_112</td>\n",
       "      <td>1076</td>\n",
       "      <td>2018-10-10</td>\n",
       "      <td>12.77</td>\n",
       "    </tr>\n",
       "    <tr>\n",
       "      <th>52589</th>\n",
       "      <td>1188_71</td>\n",
       "      <td>1188</td>\n",
       "      <td>2018-11-18</td>\n",
       "      <td>17.04</td>\n",
       "    </tr>\n",
       "    <tr>\n",
       "      <th>125972</th>\n",
       "      <td>1446_63</td>\n",
       "      <td>1446</td>\n",
       "      <td>2018-10-13</td>\n",
       "      <td>9.14</td>\n",
       "    </tr>\n",
       "    <tr>\n",
       "      <th>31115</th>\n",
       "      <td>1117_89</td>\n",
       "      <td>1117</td>\n",
       "      <td>2018-07-21</td>\n",
       "      <td>3.47</td>\n",
       "    </tr>\n",
       "    <tr>\n",
       "      <th>61789</th>\n",
       "      <td>1222_436</td>\n",
       "      <td>1222</td>\n",
       "      <td>2018-10-16</td>\n",
       "      <td>0.00</td>\n",
       "    </tr>\n",
       "  </tbody>\n",
       "</table>\n",
       "</div>"
      ],
      "text/plain": [
       "               id  user_id   call_date  duration\n",
       "4213     1017_183     1017  2018-09-22      0.00\n",
       "105060   1370_145     1370  2018-10-20     13.13\n",
       "116918   1408_567     1408  2018-03-08      7.47\n",
       "118917   1414_215     1414  2018-10-29      6.24\n",
       "115787    1406_13     1406  2018-11-04      6.89\n",
       "96248    1341_263     1341  2018-12-29      3.07\n",
       "115734   1405_177     1405  2018-07-18     13.43\n",
       "108354  1382_1657     1382  2018-10-15      0.00\n",
       "4730     1021_306     1021  2018-12-24     17.16\n",
       "28205    1106_629     1106  2018-10-23      0.00\n",
       "19811    1076_112     1076  2018-10-10     12.77\n",
       "52589     1188_71     1188  2018-11-18     17.04\n",
       "125972    1446_63     1446  2018-10-13      9.14\n",
       "31115     1117_89     1117  2018-07-21      3.47\n",
       "61789    1222_436     1222  2018-10-16      0.00"
      ]
     },
     "execution_count": 8,
     "metadata": {},
     "output_type": "execute_result"
    }
   ],
   "source": [
    "calls.sample(15)"
   ]
  },
  {
   "cell_type": "markdown",
   "metadata": {},
   "source": [
    "We can see the zero duration of calls. We'll need to think about what to do with this data. It is also better to round up the duration. Let's do it"
   ]
  },
  {
   "cell_type": "code",
   "execution_count": 9,
   "metadata": {},
   "outputs": [],
   "source": [
    "calls['duration'] = np.ceil(calls['duration'])"
   ]
  },
  {
   "cell_type": "code",
   "execution_count": 10,
   "metadata": {},
   "outputs": [
    {
     "data": {
      "text/html": [
       "<div>\n",
       "<style scoped>\n",
       "    .dataframe tbody tr th:only-of-type {\n",
       "        vertical-align: middle;\n",
       "    }\n",
       "\n",
       "    .dataframe tbody tr th {\n",
       "        vertical-align: top;\n",
       "    }\n",
       "\n",
       "    .dataframe thead th {\n",
       "        text-align: right;\n",
       "    }\n",
       "</style>\n",
       "<table border=\"1\" class=\"dataframe\">\n",
       "  <thead>\n",
       "    <tr style=\"text-align: right;\">\n",
       "      <th></th>\n",
       "      <th>id</th>\n",
       "      <th>user_id</th>\n",
       "      <th>call_date</th>\n",
       "      <th>duration</th>\n",
       "    </tr>\n",
       "  </thead>\n",
       "  <tbody>\n",
       "    <tr>\n",
       "      <th>77866</th>\n",
       "      <td>1278_348</td>\n",
       "      <td>1278</td>\n",
       "      <td>2018-12-19</td>\n",
       "      <td>5.0</td>\n",
       "    </tr>\n",
       "    <tr>\n",
       "      <th>42661</th>\n",
       "      <td>1156_266</td>\n",
       "      <td>1156</td>\n",
       "      <td>2018-04-24</td>\n",
       "      <td>1.0</td>\n",
       "    </tr>\n",
       "    <tr>\n",
       "      <th>7260</th>\n",
       "      <td>1033_276</td>\n",
       "      <td>1033</td>\n",
       "      <td>2018-10-05</td>\n",
       "      <td>4.0</td>\n",
       "    </tr>\n",
       "    <tr>\n",
       "      <th>82499</th>\n",
       "      <td>1299_157</td>\n",
       "      <td>1299</td>\n",
       "      <td>2018-12-30</td>\n",
       "      <td>6.0</td>\n",
       "    </tr>\n",
       "    <tr>\n",
       "      <th>46382</th>\n",
       "      <td>1167_465</td>\n",
       "      <td>1167</td>\n",
       "      <td>2018-07-29</td>\n",
       "      <td>7.0</td>\n",
       "    </tr>\n",
       "    <tr>\n",
       "      <th>131047</th>\n",
       "      <td>1470_496</td>\n",
       "      <td>1470</td>\n",
       "      <td>2018-07-15</td>\n",
       "      <td>2.0</td>\n",
       "    </tr>\n",
       "    <tr>\n",
       "      <th>74183</th>\n",
       "      <td>1263_167</td>\n",
       "      <td>1263</td>\n",
       "      <td>2018-04-19</td>\n",
       "      <td>11.0</td>\n",
       "    </tr>\n",
       "    <tr>\n",
       "      <th>40524</th>\n",
       "      <td>1149_212</td>\n",
       "      <td>1149</td>\n",
       "      <td>2018-11-08</td>\n",
       "      <td>6.0</td>\n",
       "    </tr>\n",
       "    <tr>\n",
       "      <th>14003</th>\n",
       "      <td>1059_225</td>\n",
       "      <td>1059</td>\n",
       "      <td>2018-10-04</td>\n",
       "      <td>7.0</td>\n",
       "    </tr>\n",
       "    <tr>\n",
       "      <th>27202</th>\n",
       "      <td>1102_52</td>\n",
       "      <td>1102</td>\n",
       "      <td>2018-12-11</td>\n",
       "      <td>7.0</td>\n",
       "    </tr>\n",
       "    <tr>\n",
       "      <th>119994</th>\n",
       "      <td>1417_789</td>\n",
       "      <td>1417</td>\n",
       "      <td>2018-12-15</td>\n",
       "      <td>10.0</td>\n",
       "    </tr>\n",
       "    <tr>\n",
       "      <th>128638</th>\n",
       "      <td>1462_51</td>\n",
       "      <td>1462</td>\n",
       "      <td>2018-10-18</td>\n",
       "      <td>5.0</td>\n",
       "    </tr>\n",
       "    <tr>\n",
       "      <th>96218</th>\n",
       "      <td>1341_233</td>\n",
       "      <td>1341</td>\n",
       "      <td>2018-12-20</td>\n",
       "      <td>1.0</td>\n",
       "    </tr>\n",
       "    <tr>\n",
       "      <th>92733</th>\n",
       "      <td>1334_101</td>\n",
       "      <td>1334</td>\n",
       "      <td>2018-12-24</td>\n",
       "      <td>9.0</td>\n",
       "    </tr>\n",
       "    <tr>\n",
       "      <th>33775</th>\n",
       "      <td>1126_619</td>\n",
       "      <td>1126</td>\n",
       "      <td>2018-08-01</td>\n",
       "      <td>0.0</td>\n",
       "    </tr>\n",
       "  </tbody>\n",
       "</table>\n",
       "</div>"
      ],
      "text/plain": [
       "              id  user_id   call_date  duration\n",
       "77866   1278_348     1278  2018-12-19       5.0\n",
       "42661   1156_266     1156  2018-04-24       1.0\n",
       "7260    1033_276     1033  2018-10-05       4.0\n",
       "82499   1299_157     1299  2018-12-30       6.0\n",
       "46382   1167_465     1167  2018-07-29       7.0\n",
       "131047  1470_496     1470  2018-07-15       2.0\n",
       "74183   1263_167     1263  2018-04-19      11.0\n",
       "40524   1149_212     1149  2018-11-08       6.0\n",
       "14003   1059_225     1059  2018-10-04       7.0\n",
       "27202    1102_52     1102  2018-12-11       7.0\n",
       "119994  1417_789     1417  2018-12-15      10.0\n",
       "128638   1462_51     1462  2018-10-18       5.0\n",
       "96218   1341_233     1341  2018-12-20       1.0\n",
       "92733   1334_101     1334  2018-12-24       9.0\n",
       "33775   1126_619     1126  2018-08-01       0.0"
      ]
     },
     "execution_count": 10,
     "metadata": {},
     "output_type": "execute_result"
    }
   ],
   "source": [
    "calls.sample(15)"
   ]
  },
  {
   "cell_type": "markdown",
   "metadata": {},
   "source": [
    "Let's see what percentage of zero calls we have"
   ]
  },
  {
   "cell_type": "code",
   "execution_count": 11,
   "metadata": {},
   "outputs": [
    {
     "name": "stdout",
     "output_type": "stream",
     "text": [
      "calls: 26834\t Zero calls percentage: 19.5%\n"
     ]
    }
   ],
   "source": [
    "calls_counts = calls[calls['duration'] <= 0].shape[0]\n",
    "print(\"calls: {}\\t Zero calls percentage: {:.1%}\"\n",
    "      .format(calls_counts, calls_counts/calls.shape[0]))"
   ]
  },
  {
   "cell_type": "markdown",
   "metadata": {},
   "source": [
    "Zero calls still are calls, and they percentage is quite high, so we need to replace (round) them to 1 minute"
   ]
  },
  {
   "cell_type": "code",
   "execution_count": 12,
   "metadata": {},
   "outputs": [],
   "source": [
    "calls['duration'] = calls['duration'].where(calls['duration'] != 0, 1)"
   ]
  },
  {
   "cell_type": "code",
   "execution_count": 13,
   "metadata": {},
   "outputs": [
    {
     "name": "stdout",
     "output_type": "stream",
     "text": [
      "calls: 0\t Zero calls percentage: 0.0%\n"
     ]
    }
   ],
   "source": [
    "calls_counts = calls[calls['duration'] <= 0].shape[0]\n",
    "print(\"calls: {}\\t Zero calls percentage: {:.1%}\"\n",
    "      .format(calls_counts, calls_counts/calls.shape[0]))"
   ]
  },
  {
   "cell_type": "code",
   "execution_count": 14,
   "metadata": {},
   "outputs": [
    {
     "data": {
      "text/html": [
       "<div>\n",
       "<style scoped>\n",
       "    .dataframe tbody tr th:only-of-type {\n",
       "        vertical-align: middle;\n",
       "    }\n",
       "\n",
       "    .dataframe tbody tr th {\n",
       "        vertical-align: top;\n",
       "    }\n",
       "\n",
       "    .dataframe thead th {\n",
       "        text-align: right;\n",
       "    }\n",
       "</style>\n",
       "<table border=\"1\" class=\"dataframe\">\n",
       "  <thead>\n",
       "    <tr style=\"text-align: right;\">\n",
       "      <th></th>\n",
       "      <th>user_id</th>\n",
       "      <th>duration</th>\n",
       "    </tr>\n",
       "  </thead>\n",
       "  <tbody>\n",
       "    <tr>\n",
       "      <th>count</th>\n",
       "      <td>137735.000000</td>\n",
       "      <td>137735.000000</td>\n",
       "    </tr>\n",
       "    <tr>\n",
       "      <th>mean</th>\n",
       "      <td>1247.658046</td>\n",
       "      <td>7.341496</td>\n",
       "    </tr>\n",
       "    <tr>\n",
       "      <th>std</th>\n",
       "      <td>139.416268</td>\n",
       "      <td>5.728989</td>\n",
       "    </tr>\n",
       "    <tr>\n",
       "      <th>min</th>\n",
       "      <td>1000.000000</td>\n",
       "      <td>1.000000</td>\n",
       "    </tr>\n",
       "    <tr>\n",
       "      <th>25%</th>\n",
       "      <td>1128.000000</td>\n",
       "      <td>2.000000</td>\n",
       "    </tr>\n",
       "    <tr>\n",
       "      <th>50%</th>\n",
       "      <td>1247.000000</td>\n",
       "      <td>6.000000</td>\n",
       "    </tr>\n",
       "    <tr>\n",
       "      <th>75%</th>\n",
       "      <td>1365.000000</td>\n",
       "      <td>11.000000</td>\n",
       "    </tr>\n",
       "    <tr>\n",
       "      <th>max</th>\n",
       "      <td>1499.000000</td>\n",
       "      <td>38.000000</td>\n",
       "    </tr>\n",
       "  </tbody>\n",
       "</table>\n",
       "</div>"
      ],
      "text/plain": [
       "             user_id       duration\n",
       "count  137735.000000  137735.000000\n",
       "mean     1247.658046       7.341496\n",
       "std       139.416268       5.728989\n",
       "min      1000.000000       1.000000\n",
       "25%      1128.000000       2.000000\n",
       "50%      1247.000000       6.000000\n",
       "75%      1365.000000      11.000000\n",
       "max      1499.000000      38.000000"
      ]
     },
     "execution_count": 14,
     "metadata": {},
     "output_type": "execute_result"
    }
   ],
   "source": [
    "calls.describe()"
   ]
  },
  {
   "cell_type": "code",
   "execution_count": 15,
   "metadata": {},
   "outputs": [
    {
     "name": "stdout",
     "output_type": "stream",
     "text": [
      "<class 'pandas.core.frame.DataFrame'>\n",
      "RangeIndex: 137735 entries, 0 to 137734\n",
      "Data columns (total 4 columns):\n",
      "id           137735 non-null object\n",
      "user_id      137735 non-null int64\n",
      "call_date    137735 non-null object\n",
      "duration     137735 non-null float64\n",
      "dtypes: float64(1), int64(1), object(2)\n",
      "memory usage: 4.2+ MB\n"
     ]
    }
   ],
   "source": [
    "calls.info()"
   ]
  },
  {
   "cell_type": "markdown",
   "metadata": {},
   "source": [
    "We see that the call_date and id formats are of the object type, they should be of the datetime and int formats, respectively"
   ]
  },
  {
   "cell_type": "code",
   "execution_count": 16,
   "metadata": {},
   "outputs": [],
   "source": [
    "#calls['id'] = calls['id'].astype('int16')\n",
    "calls['duration'] = calls['duration'].astype('int16')"
   ]
  },
  {
   "cell_type": "code",
   "execution_count": 17,
   "metadata": {},
   "outputs": [],
   "source": [
    "calls['call_date'] = pd.to_datetime(calls['call_date'], format='%Y-%m-%d')"
   ]
  },
  {
   "cell_type": "code",
   "execution_count": 18,
   "metadata": {},
   "outputs": [
    {
     "name": "stdout",
     "output_type": "stream",
     "text": [
      "<class 'pandas.core.frame.DataFrame'>\n",
      "RangeIndex: 137735 entries, 0 to 137734\n",
      "Data columns (total 4 columns):\n",
      "id           137735 non-null object\n",
      "user_id      137735 non-null int64\n",
      "call_date    137735 non-null datetime64[ns]\n",
      "duration     137735 non-null int16\n",
      "dtypes: datetime64[ns](1), int16(1), int64(1), object(1)\n",
      "memory usage: 3.4+ MB\n"
     ]
    }
   ],
   "source": [
    "calls.info()"
   ]
  },
  {
   "cell_type": "code",
   "execution_count": 19,
   "metadata": {},
   "outputs": [
    {
     "data": {
      "text/plain": [
       "0"
      ]
     },
     "execution_count": 19,
     "metadata": {},
     "output_type": "execute_result"
    }
   ],
   "source": [
    "calls.duplicated().sum()"
   ]
  },
  {
   "cell_type": "code",
   "execution_count": 20,
   "metadata": {},
   "outputs": [
    {
     "data": {
      "text/plain": [
       "id           0\n",
       "user_id      0\n",
       "call_date    0\n",
       "duration     0\n",
       "dtype: int64"
      ]
     },
     "execution_count": 20,
     "metadata": {},
     "output_type": "execute_result"
    }
   ],
   "source": [
    "calls.isnull().sum()"
   ]
  },
  {
   "cell_type": "markdown",
   "metadata": {},
   "source": [
    "### Internet"
   ]
  },
  {
   "cell_type": "code",
   "execution_count": 21,
   "metadata": {},
   "outputs": [
    {
     "data": {
      "text/html": [
       "<div>\n",
       "<style scoped>\n",
       "    .dataframe tbody tr th:only-of-type {\n",
       "        vertical-align: middle;\n",
       "    }\n",
       "\n",
       "    .dataframe tbody tr th {\n",
       "        vertical-align: top;\n",
       "    }\n",
       "\n",
       "    .dataframe thead th {\n",
       "        text-align: right;\n",
       "    }\n",
       "</style>\n",
       "<table border=\"1\" class=\"dataframe\">\n",
       "  <thead>\n",
       "    <tr style=\"text-align: right;\">\n",
       "      <th></th>\n",
       "      <th>id</th>\n",
       "      <th>user_id</th>\n",
       "      <th>session_date</th>\n",
       "      <th>mb_used</th>\n",
       "    </tr>\n",
       "  </thead>\n",
       "  <tbody>\n",
       "    <tr>\n",
       "      <th>0</th>\n",
       "      <td>1000_13</td>\n",
       "      <td>1000</td>\n",
       "      <td>2018-12-29</td>\n",
       "      <td>89.86</td>\n",
       "    </tr>\n",
       "    <tr>\n",
       "      <th>1</th>\n",
       "      <td>1000_204</td>\n",
       "      <td>1000</td>\n",
       "      <td>2018-12-31</td>\n",
       "      <td>0.00</td>\n",
       "    </tr>\n",
       "    <tr>\n",
       "      <th>2</th>\n",
       "      <td>1000_379</td>\n",
       "      <td>1000</td>\n",
       "      <td>2018-12-28</td>\n",
       "      <td>660.40</td>\n",
       "    </tr>\n",
       "    <tr>\n",
       "      <th>3</th>\n",
       "      <td>1000_413</td>\n",
       "      <td>1000</td>\n",
       "      <td>2018-12-26</td>\n",
       "      <td>270.99</td>\n",
       "    </tr>\n",
       "    <tr>\n",
       "      <th>4</th>\n",
       "      <td>1000_442</td>\n",
       "      <td>1000</td>\n",
       "      <td>2018-12-27</td>\n",
       "      <td>880.22</td>\n",
       "    </tr>\n",
       "  </tbody>\n",
       "</table>\n",
       "</div>"
      ],
      "text/plain": [
       "         id  user_id session_date  mb_used\n",
       "0   1000_13     1000   2018-12-29    89.86\n",
       "1  1000_204     1000   2018-12-31     0.00\n",
       "2  1000_379     1000   2018-12-28   660.40\n",
       "3  1000_413     1000   2018-12-26   270.99\n",
       "4  1000_442     1000   2018-12-27   880.22"
      ]
     },
     "execution_count": 21,
     "metadata": {},
     "output_type": "execute_result"
    }
   ],
   "source": [
    "internet.head()"
   ]
  },
  {
   "cell_type": "code",
   "execution_count": 22,
   "metadata": {},
   "outputs": [
    {
     "data": {
      "text/html": [
       "<div>\n",
       "<style scoped>\n",
       "    .dataframe tbody tr th:only-of-type {\n",
       "        vertical-align: middle;\n",
       "    }\n",
       "\n",
       "    .dataframe tbody tr th {\n",
       "        vertical-align: top;\n",
       "    }\n",
       "\n",
       "    .dataframe thead th {\n",
       "        text-align: right;\n",
       "    }\n",
       "</style>\n",
       "<table border=\"1\" class=\"dataframe\">\n",
       "  <thead>\n",
       "    <tr style=\"text-align: right;\">\n",
       "      <th></th>\n",
       "      <th>user_id</th>\n",
       "      <th>mb_used</th>\n",
       "    </tr>\n",
       "  </thead>\n",
       "  <tbody>\n",
       "    <tr>\n",
       "      <th>count</th>\n",
       "      <td>104825.000000</td>\n",
       "      <td>104825.000000</td>\n",
       "    </tr>\n",
       "    <tr>\n",
       "      <th>mean</th>\n",
       "      <td>1242.496361</td>\n",
       "      <td>366.713701</td>\n",
       "    </tr>\n",
       "    <tr>\n",
       "      <th>std</th>\n",
       "      <td>142.053913</td>\n",
       "      <td>277.170542</td>\n",
       "    </tr>\n",
       "    <tr>\n",
       "      <th>min</th>\n",
       "      <td>1000.000000</td>\n",
       "      <td>0.000000</td>\n",
       "    </tr>\n",
       "    <tr>\n",
       "      <th>25%</th>\n",
       "      <td>1122.000000</td>\n",
       "      <td>136.080000</td>\n",
       "    </tr>\n",
       "    <tr>\n",
       "      <th>50%</th>\n",
       "      <td>1236.000000</td>\n",
       "      <td>343.980000</td>\n",
       "    </tr>\n",
       "    <tr>\n",
       "      <th>75%</th>\n",
       "      <td>1367.000000</td>\n",
       "      <td>554.610000</td>\n",
       "    </tr>\n",
       "    <tr>\n",
       "      <th>max</th>\n",
       "      <td>1499.000000</td>\n",
       "      <td>1693.470000</td>\n",
       "    </tr>\n",
       "  </tbody>\n",
       "</table>\n",
       "</div>"
      ],
      "text/plain": [
       "             user_id        mb_used\n",
       "count  104825.000000  104825.000000\n",
       "mean     1242.496361     366.713701\n",
       "std       142.053913     277.170542\n",
       "min      1000.000000       0.000000\n",
       "25%      1122.000000     136.080000\n",
       "50%      1236.000000     343.980000\n",
       "75%      1367.000000     554.610000\n",
       "max      1499.000000    1693.470000"
      ]
     },
     "execution_count": 22,
     "metadata": {},
     "output_type": "execute_result"
    }
   ],
   "source": [
    "internet.describe()"
   ]
  },
  {
   "cell_type": "code",
   "execution_count": 23,
   "metadata": {},
   "outputs": [
    {
     "data": {
      "text/plain": [
       "id              0\n",
       "user_id         0\n",
       "session_date    0\n",
       "mb_used         0\n",
       "dtype: int64"
      ]
     },
     "execution_count": 23,
     "metadata": {},
     "output_type": "execute_result"
    }
   ],
   "source": [
    "internet.isnull().sum()"
   ]
  },
  {
   "cell_type": "code",
   "execution_count": 24,
   "metadata": {},
   "outputs": [
    {
     "name": "stdout",
     "output_type": "stream",
     "text": [
      "<class 'pandas.core.frame.DataFrame'>\n",
      "RangeIndex: 104825 entries, 0 to 104824\n",
      "Data columns (total 4 columns):\n",
      "id              104825 non-null object\n",
      "user_id         104825 non-null int64\n",
      "session_date    104825 non-null object\n",
      "mb_used         104825 non-null float64\n",
      "dtypes: float64(1), int64(1), object(2)\n",
      "memory usage: 3.2+ MB\n"
     ]
    }
   ],
   "source": [
    "internet.info()"
   ]
  },
  {
   "cell_type": "markdown",
   "metadata": {},
   "source": [
    "We can see the zeros in mb_used . It is also better to round up the mb_used. Let's do it"
   ]
  },
  {
   "cell_type": "code",
   "execution_count": 25,
   "metadata": {},
   "outputs": [],
   "source": [
    "internet['mb_used'] = np.ceil(internet['mb_used'])\n"
   ]
  },
  {
   "cell_type": "markdown",
   "metadata": {},
   "source": [
    "Let's convert to the right types"
   ]
  },
  {
   "cell_type": "code",
   "execution_count": 26,
   "metadata": {},
   "outputs": [],
   "source": [
    "#internet['id'] = internet['id'].astype('int16')"
   ]
  },
  {
   "cell_type": "code",
   "execution_count": 27,
   "metadata": {},
   "outputs": [],
   "source": [
    "internet['mb_used'] = internet['mb_used'].astype('int16')"
   ]
  },
  {
   "cell_type": "code",
   "execution_count": 28,
   "metadata": {},
   "outputs": [],
   "source": [
    "internet['session_date'] = pd.to_datetime(internet['session_date'], format='%Y-%m-%d')"
   ]
  },
  {
   "cell_type": "code",
   "execution_count": 29,
   "metadata": {},
   "outputs": [
    {
     "name": "stdout",
     "output_type": "stream",
     "text": [
      "<class 'pandas.core.frame.DataFrame'>\n",
      "RangeIndex: 104825 entries, 0 to 104824\n",
      "Data columns (total 4 columns):\n",
      "id              104825 non-null object\n",
      "user_id         104825 non-null int64\n",
      "session_date    104825 non-null datetime64[ns]\n",
      "mb_used         104825 non-null int16\n",
      "dtypes: datetime64[ns](1), int16(1), int64(1), object(1)\n",
      "memory usage: 2.6+ MB\n"
     ]
    }
   ],
   "source": [
    "internet.info()"
   ]
  },
  {
   "cell_type": "markdown",
   "metadata": {},
   "source": [
    "Zero mb_used percentage"
   ]
  },
  {
   "cell_type": "code",
   "execution_count": 30,
   "metadata": {},
   "outputs": [
    {
     "name": "stdout",
     "output_type": "stream",
     "text": [
      "mb_used: 13747\t Zero mb_used percentage: 13.1%\n"
     ]
    }
   ],
   "source": [
    "mb_counts = internet[internet['mb_used'] <= 0].shape[0]\n",
    "print(\"mb_used: {}\\t Zero mb_used percentage: {:.1%}\"\n",
    "      .format(mb_counts, mb_counts/internet.shape[0]))"
   ]
  },
  {
   "cell_type": "markdown",
   "metadata": {},
   "source": [
    "Zero traffic also means entering the network, so it should be rounded (replaced) to 1. Round the used megabytes up and check the success of the replacement"
   ]
  },
  {
   "cell_type": "code",
   "execution_count": 31,
   "metadata": {},
   "outputs": [],
   "source": [
    "internet['mb_used'] = internet['mb_used'].where(internet['mb_used'] != 0, 1)"
   ]
  },
  {
   "cell_type": "code",
   "execution_count": 32,
   "metadata": {},
   "outputs": [
    {
     "name": "stdout",
     "output_type": "stream",
     "text": [
      "mb_used: 0\t Zero mb_used percentage: 0.0%\n"
     ]
    }
   ],
   "source": [
    "mb_counts = internet[internet['mb_used'] <= 0].shape[0]\n",
    "print(\"mb_used: {}\\t Zero mb_used percentage: {:.1%}\"\n",
    "      .format(mb_counts, mb_counts/internet.shape[0]))"
   ]
  },
  {
   "cell_type": "code",
   "execution_count": 33,
   "metadata": {},
   "outputs": [
    {
     "data": {
      "text/plain": [
       "0"
      ]
     },
     "execution_count": 33,
     "metadata": {},
     "output_type": "execute_result"
    }
   ],
   "source": [
    "internet.duplicated().sum()"
   ]
  },
  {
   "cell_type": "markdown",
   "metadata": {},
   "source": [
    "### SMS"
   ]
  },
  {
   "cell_type": "code",
   "execution_count": 34,
   "metadata": {},
   "outputs": [
    {
     "data": {
      "text/html": [
       "<div>\n",
       "<style scoped>\n",
       "    .dataframe tbody tr th:only-of-type {\n",
       "        vertical-align: middle;\n",
       "    }\n",
       "\n",
       "    .dataframe tbody tr th {\n",
       "        vertical-align: top;\n",
       "    }\n",
       "\n",
       "    .dataframe thead th {\n",
       "        text-align: right;\n",
       "    }\n",
       "</style>\n",
       "<table border=\"1\" class=\"dataframe\">\n",
       "  <thead>\n",
       "    <tr style=\"text-align: right;\">\n",
       "      <th></th>\n",
       "      <th>id</th>\n",
       "      <th>user_id</th>\n",
       "      <th>message_date</th>\n",
       "    </tr>\n",
       "  </thead>\n",
       "  <tbody>\n",
       "    <tr>\n",
       "      <th>0</th>\n",
       "      <td>1000_125</td>\n",
       "      <td>1000</td>\n",
       "      <td>2018-12-27</td>\n",
       "    </tr>\n",
       "    <tr>\n",
       "      <th>1</th>\n",
       "      <td>1000_160</td>\n",
       "      <td>1000</td>\n",
       "      <td>2018-12-31</td>\n",
       "    </tr>\n",
       "    <tr>\n",
       "      <th>2</th>\n",
       "      <td>1000_223</td>\n",
       "      <td>1000</td>\n",
       "      <td>2018-12-31</td>\n",
       "    </tr>\n",
       "    <tr>\n",
       "      <th>3</th>\n",
       "      <td>1000_251</td>\n",
       "      <td>1000</td>\n",
       "      <td>2018-12-27</td>\n",
       "    </tr>\n",
       "    <tr>\n",
       "      <th>4</th>\n",
       "      <td>1000_255</td>\n",
       "      <td>1000</td>\n",
       "      <td>2018-12-26</td>\n",
       "    </tr>\n",
       "  </tbody>\n",
       "</table>\n",
       "</div>"
      ],
      "text/plain": [
       "         id  user_id message_date\n",
       "0  1000_125     1000   2018-12-27\n",
       "1  1000_160     1000   2018-12-31\n",
       "2  1000_223     1000   2018-12-31\n",
       "3  1000_251     1000   2018-12-27\n",
       "4  1000_255     1000   2018-12-26"
      ]
     },
     "execution_count": 34,
     "metadata": {},
     "output_type": "execute_result"
    }
   ],
   "source": [
    "sms.head()"
   ]
  },
  {
   "cell_type": "code",
   "execution_count": 35,
   "metadata": {},
   "outputs": [
    {
     "name": "stdout",
     "output_type": "stream",
     "text": [
      "<class 'pandas.core.frame.DataFrame'>\n",
      "RangeIndex: 76051 entries, 0 to 76050\n",
      "Data columns (total 3 columns):\n",
      "id              76051 non-null object\n",
      "user_id         76051 non-null int64\n",
      "message_date    76051 non-null object\n",
      "dtypes: int64(1), object(2)\n",
      "memory usage: 1.7+ MB\n"
     ]
    }
   ],
   "source": [
    "sms.info()"
   ]
  },
  {
   "cell_type": "code",
   "execution_count": 36,
   "metadata": {},
   "outputs": [],
   "source": [
    "sms['message_date'] = pd.to_datetime(sms['message_date'], format='%Y-%m-%d')"
   ]
  },
  {
   "cell_type": "code",
   "execution_count": 37,
   "metadata": {},
   "outputs": [
    {
     "name": "stdout",
     "output_type": "stream",
     "text": [
      "<class 'pandas.core.frame.DataFrame'>\n",
      "RangeIndex: 76051 entries, 0 to 76050\n",
      "Data columns (total 3 columns):\n",
      "id              76051 non-null object\n",
      "user_id         76051 non-null int64\n",
      "message_date    76051 non-null datetime64[ns]\n",
      "dtypes: datetime64[ns](1), int64(1), object(1)\n",
      "memory usage: 1.7+ MB\n"
     ]
    }
   ],
   "source": [
    "sms.info()"
   ]
  },
  {
   "cell_type": "code",
   "execution_count": 38,
   "metadata": {},
   "outputs": [
    {
     "data": {
      "text/plain": [
       "0"
      ]
     },
     "execution_count": 38,
     "metadata": {},
     "output_type": "execute_result"
    }
   ],
   "source": [
    "sms.duplicated().sum()"
   ]
  },
  {
   "cell_type": "markdown",
   "metadata": {},
   "source": [
    "### Tariff"
   ]
  },
  {
   "cell_type": "code",
   "execution_count": 39,
   "metadata": {},
   "outputs": [
    {
     "data": {
      "text/html": [
       "<div>\n",
       "<style scoped>\n",
       "    .dataframe tbody tr th:only-of-type {\n",
       "        vertical-align: middle;\n",
       "    }\n",
       "\n",
       "    .dataframe tbody tr th {\n",
       "        vertical-align: top;\n",
       "    }\n",
       "\n",
       "    .dataframe thead th {\n",
       "        text-align: right;\n",
       "    }\n",
       "</style>\n",
       "<table border=\"1\" class=\"dataframe\">\n",
       "  <thead>\n",
       "    <tr style=\"text-align: right;\">\n",
       "      <th></th>\n",
       "      <th>messages_included</th>\n",
       "      <th>mb_per_month_included</th>\n",
       "      <th>minutes_included</th>\n",
       "      <th>usd_monthly_pay</th>\n",
       "      <th>usd_per_gb</th>\n",
       "      <th>usd_per_message</th>\n",
       "      <th>usd_per_minute</th>\n",
       "      <th>tariff_name</th>\n",
       "    </tr>\n",
       "  </thead>\n",
       "  <tbody>\n",
       "    <tr>\n",
       "      <th>0</th>\n",
       "      <td>50</td>\n",
       "      <td>15360</td>\n",
       "      <td>500</td>\n",
       "      <td>20</td>\n",
       "      <td>10</td>\n",
       "      <td>0.03</td>\n",
       "      <td>0.03</td>\n",
       "      <td>surf</td>\n",
       "    </tr>\n",
       "    <tr>\n",
       "      <th>1</th>\n",
       "      <td>1000</td>\n",
       "      <td>30720</td>\n",
       "      <td>3000</td>\n",
       "      <td>70</td>\n",
       "      <td>7</td>\n",
       "      <td>0.01</td>\n",
       "      <td>0.01</td>\n",
       "      <td>ultimate</td>\n",
       "    </tr>\n",
       "  </tbody>\n",
       "</table>\n",
       "</div>"
      ],
      "text/plain": [
       "   messages_included  mb_per_month_included  minutes_included  \\\n",
       "0                 50                  15360               500   \n",
       "1               1000                  30720              3000   \n",
       "\n",
       "   usd_monthly_pay  usd_per_gb  usd_per_message  usd_per_minute tariff_name  \n",
       "0               20          10             0.03            0.03        surf  \n",
       "1               70           7             0.01            0.01    ultimate  "
      ]
     },
     "execution_count": 39,
     "metadata": {},
     "output_type": "execute_result"
    }
   ],
   "source": [
    "tariff.head()"
   ]
  },
  {
   "cell_type": "code",
   "execution_count": 40,
   "metadata": {},
   "outputs": [
    {
     "name": "stdout",
     "output_type": "stream",
     "text": [
      "<class 'pandas.core.frame.DataFrame'>\n",
      "RangeIndex: 2 entries, 0 to 1\n",
      "Data columns (total 8 columns):\n",
      "messages_included        2 non-null int64\n",
      "mb_per_month_included    2 non-null int64\n",
      "minutes_included         2 non-null int64\n",
      "usd_monthly_pay          2 non-null int64\n",
      "usd_per_gb               2 non-null int64\n",
      "usd_per_message          2 non-null float64\n",
      "usd_per_minute           2 non-null float64\n",
      "tariff_name              2 non-null object\n",
      "dtypes: float64(2), int64(5), object(1)\n",
      "memory usage: 256.0+ bytes\n"
     ]
    }
   ],
   "source": [
    "tariff.info()"
   ]
  },
  {
   "cell_type": "markdown",
   "metadata": {},
   "source": [
    "### Users"
   ]
  },
  {
   "cell_type": "code",
   "execution_count": 41,
   "metadata": {},
   "outputs": [
    {
     "data": {
      "text/html": [
       "<div>\n",
       "<style scoped>\n",
       "    .dataframe tbody tr th:only-of-type {\n",
       "        vertical-align: middle;\n",
       "    }\n",
       "\n",
       "    .dataframe tbody tr th {\n",
       "        vertical-align: top;\n",
       "    }\n",
       "\n",
       "    .dataframe thead th {\n",
       "        text-align: right;\n",
       "    }\n",
       "</style>\n",
       "<table border=\"1\" class=\"dataframe\">\n",
       "  <thead>\n",
       "    <tr style=\"text-align: right;\">\n",
       "      <th></th>\n",
       "      <th>user_id</th>\n",
       "      <th>first_name</th>\n",
       "      <th>last_name</th>\n",
       "      <th>age</th>\n",
       "      <th>city</th>\n",
       "      <th>reg_date</th>\n",
       "      <th>tariff</th>\n",
       "      <th>churn_date</th>\n",
       "    </tr>\n",
       "  </thead>\n",
       "  <tbody>\n",
       "    <tr>\n",
       "      <th>173</th>\n",
       "      <td>1173</td>\n",
       "      <td>Tristan</td>\n",
       "      <td>Cain</td>\n",
       "      <td>27</td>\n",
       "      <td>Oxnard-Thousand Oaks-Ventura, CA MSA</td>\n",
       "      <td>2018-09-28</td>\n",
       "      <td>surf</td>\n",
       "      <td>NaN</td>\n",
       "    </tr>\n",
       "    <tr>\n",
       "      <th>207</th>\n",
       "      <td>1207</td>\n",
       "      <td>Samuel</td>\n",
       "      <td>Porter</td>\n",
       "      <td>63</td>\n",
       "      <td>Omaha-Council Bluffs, NE-IA MSA</td>\n",
       "      <td>2018-12-22</td>\n",
       "      <td>surf</td>\n",
       "      <td>NaN</td>\n",
       "    </tr>\n",
       "    <tr>\n",
       "      <th>65</th>\n",
       "      <td>1065</td>\n",
       "      <td>Sherlyn</td>\n",
       "      <td>Noel</td>\n",
       "      <td>26</td>\n",
       "      <td>Los Angeles-Long Beach-Anaheim, CA MSA</td>\n",
       "      <td>2018-08-03</td>\n",
       "      <td>surf</td>\n",
       "      <td>NaN</td>\n",
       "    </tr>\n",
       "    <tr>\n",
       "      <th>433</th>\n",
       "      <td>1433</td>\n",
       "      <td>Lyndon</td>\n",
       "      <td>Morrison</td>\n",
       "      <td>29</td>\n",
       "      <td>Philadelphia-Camden-Wilmington, PA-NJ-DE-MD MSA</td>\n",
       "      <td>2018-08-29</td>\n",
       "      <td>ultimate</td>\n",
       "      <td>NaN</td>\n",
       "    </tr>\n",
       "    <tr>\n",
       "      <th>27</th>\n",
       "      <td>1027</td>\n",
       "      <td>Georgeanna</td>\n",
       "      <td>Cardenas</td>\n",
       "      <td>38</td>\n",
       "      <td>New York-Newark-Jersey City, NY-NJ-PA MSA</td>\n",
       "      <td>2018-06-26</td>\n",
       "      <td>surf</td>\n",
       "      <td>NaN</td>\n",
       "    </tr>\n",
       "    <tr>\n",
       "      <th>99</th>\n",
       "      <td>1099</td>\n",
       "      <td>Shavon</td>\n",
       "      <td>Banks</td>\n",
       "      <td>48</td>\n",
       "      <td>New York-Newark-Jersey City, NY-NJ-PA MSA</td>\n",
       "      <td>2018-02-26</td>\n",
       "      <td>surf</td>\n",
       "      <td>NaN</td>\n",
       "    </tr>\n",
       "    <tr>\n",
       "      <th>401</th>\n",
       "      <td>1401</td>\n",
       "      <td>Charmain</td>\n",
       "      <td>Bryant</td>\n",
       "      <td>67</td>\n",
       "      <td>Richmond, VA MSA</td>\n",
       "      <td>2018-08-24</td>\n",
       "      <td>ultimate</td>\n",
       "      <td>NaN</td>\n",
       "    </tr>\n",
       "    <tr>\n",
       "      <th>368</th>\n",
       "      <td>1368</td>\n",
       "      <td>Enola</td>\n",
       "      <td>Ray</td>\n",
       "      <td>60</td>\n",
       "      <td>Pittsburgh, PA MSA</td>\n",
       "      <td>2018-05-20</td>\n",
       "      <td>ultimate</td>\n",
       "      <td>NaN</td>\n",
       "    </tr>\n",
       "    <tr>\n",
       "      <th>366</th>\n",
       "      <td>1366</td>\n",
       "      <td>Rod</td>\n",
       "      <td>Huff</td>\n",
       "      <td>62</td>\n",
       "      <td>Cincinnati, OH-KY-IN MSA</td>\n",
       "      <td>2018-07-30</td>\n",
       "      <td>surf</td>\n",
       "      <td>NaN</td>\n",
       "    </tr>\n",
       "    <tr>\n",
       "      <th>16</th>\n",
       "      <td>1016</td>\n",
       "      <td>Jann</td>\n",
       "      <td>Salinas</td>\n",
       "      <td>30</td>\n",
       "      <td>Fresno, CA MSA</td>\n",
       "      <td>2018-10-25</td>\n",
       "      <td>surf</td>\n",
       "      <td>NaN</td>\n",
       "    </tr>\n",
       "  </tbody>\n",
       "</table>\n",
       "</div>"
      ],
      "text/plain": [
       "     user_id  first_name last_name  age  \\\n",
       "173     1173     Tristan      Cain   27   \n",
       "207     1207      Samuel    Porter   63   \n",
       "65      1065     Sherlyn      Noel   26   \n",
       "433     1433      Lyndon  Morrison   29   \n",
       "27      1027  Georgeanna  Cardenas   38   \n",
       "99      1099      Shavon     Banks   48   \n",
       "401     1401    Charmain    Bryant   67   \n",
       "368     1368       Enola       Ray   60   \n",
       "366     1366         Rod      Huff   62   \n",
       "16      1016        Jann   Salinas   30   \n",
       "\n",
       "                                                city    reg_date    tariff  \\\n",
       "173             Oxnard-Thousand Oaks-Ventura, CA MSA  2018-09-28      surf   \n",
       "207                  Omaha-Council Bluffs, NE-IA MSA  2018-12-22      surf   \n",
       "65            Los Angeles-Long Beach-Anaheim, CA MSA  2018-08-03      surf   \n",
       "433  Philadelphia-Camden-Wilmington, PA-NJ-DE-MD MSA  2018-08-29  ultimate   \n",
       "27         New York-Newark-Jersey City, NY-NJ-PA MSA  2018-06-26      surf   \n",
       "99         New York-Newark-Jersey City, NY-NJ-PA MSA  2018-02-26      surf   \n",
       "401                                 Richmond, VA MSA  2018-08-24  ultimate   \n",
       "368                               Pittsburgh, PA MSA  2018-05-20  ultimate   \n",
       "366                         Cincinnati, OH-KY-IN MSA  2018-07-30      surf   \n",
       "16                                    Fresno, CA MSA  2018-10-25      surf   \n",
       "\n",
       "    churn_date  \n",
       "173        NaN  \n",
       "207        NaN  \n",
       "65         NaN  \n",
       "433        NaN  \n",
       "27         NaN  \n",
       "99         NaN  \n",
       "401        NaN  \n",
       "368        NaN  \n",
       "366        NaN  \n",
       "16         NaN  "
      ]
     },
     "execution_count": 41,
     "metadata": {},
     "output_type": "execute_result"
    }
   ],
   "source": [
    "users.sample(10)"
   ]
  },
  {
   "cell_type": "code",
   "execution_count": 42,
   "metadata": {},
   "outputs": [
    {
     "name": "stdout",
     "output_type": "stream",
     "text": [
      "<class 'pandas.core.frame.DataFrame'>\n",
      "RangeIndex: 500 entries, 0 to 499\n",
      "Data columns (total 8 columns):\n",
      "user_id       500 non-null int64\n",
      "first_name    500 non-null object\n",
      "last_name     500 non-null object\n",
      "age           500 non-null int64\n",
      "city          500 non-null object\n",
      "reg_date      500 non-null object\n",
      "tariff        500 non-null object\n",
      "churn_date    34 non-null object\n",
      "dtypes: int64(2), object(6)\n",
      "memory usage: 31.4+ KB\n"
     ]
    }
   ],
   "source": [
    "users.info()"
   ]
  },
  {
   "cell_type": "markdown",
   "metadata": {},
   "source": [
    "We see a large number of NaN in churn_date and the object format instead of datetime, the reg_date format is also object instead of datetime"
   ]
  },
  {
   "cell_type": "code",
   "execution_count": 43,
   "metadata": {},
   "outputs": [
    {
     "data": {
      "text/plain": [
       "0"
      ]
     },
     "execution_count": 43,
     "metadata": {},
     "output_type": "execute_result"
    }
   ],
   "source": [
    "users.duplicated().sum()"
   ]
  },
  {
   "cell_type": "code",
   "execution_count": 44,
   "metadata": {},
   "outputs": [
    {
     "data": {
      "text/plain": [
       "user_id         0\n",
       "first_name      0\n",
       "last_name       0\n",
       "age             0\n",
       "city            0\n",
       "reg_date        0\n",
       "tariff          0\n",
       "churn_date    466\n",
       "dtype: int64"
      ]
     },
     "execution_count": 44,
     "metadata": {},
     "output_type": "execute_result"
    }
   ],
   "source": [
    "users.isnull().sum()"
   ]
  },
  {
   "cell_type": "code",
   "execution_count": 45,
   "metadata": {},
   "outputs": [],
   "source": [
    "users['reg_date'] = pd.to_datetime(users['reg_date'], format='%Y-%m-%d')"
   ]
  },
  {
   "cell_type": "code",
   "execution_count": 46,
   "metadata": {},
   "outputs": [],
   "source": [
    "users['churn_date'] = pd.to_datetime(users['reg_date'], format='%Y-%m-%d')"
   ]
  },
  {
   "cell_type": "code",
   "execution_count": 47,
   "metadata": {},
   "outputs": [
    {
     "name": "stdout",
     "output_type": "stream",
     "text": [
      "<class 'pandas.core.frame.DataFrame'>\n",
      "RangeIndex: 500 entries, 0 to 499\n",
      "Data columns (total 8 columns):\n",
      "user_id       500 non-null int64\n",
      "first_name    500 non-null object\n",
      "last_name     500 non-null object\n",
      "age           500 non-null int64\n",
      "city          500 non-null object\n",
      "reg_date      500 non-null datetime64[ns]\n",
      "tariff        500 non-null object\n",
      "churn_date    500 non-null datetime64[ns]\n",
      "dtypes: datetime64[ns](2), int64(2), object(4)\n",
      "memory usage: 31.4+ KB\n"
     ]
    }
   ],
   "source": [
    "users.info()"
   ]
  },
  {
   "cell_type": "markdown",
   "metadata": {},
   "source": [
    "### Pre Summary .  <a class=\"anchor\" id=\"2\"></a>\n",
    "The first inspection of the data showed that we have zeros in the duration of calls and megabytes. Otherwise, the data looks quite normal. Only the churn date  has any Nans. We also changed the type of some data. All dataframes must be grouped into one."
   ]
  },
  {
   "cell_type": "markdown",
   "metadata": {},
   "source": [
    "Creating separate month columns for grouping and changing the data type"
   ]
  },
  {
   "cell_type": "code",
   "execution_count": 48,
   "metadata": {},
   "outputs": [],
   "source": [
    "internet['month'] = pd.to_datetime(internet['session_date'], format='%Y-%m-%d').dt.month.astype('int16')"
   ]
  },
  {
   "cell_type": "code",
   "execution_count": 49,
   "metadata": {},
   "outputs": [],
   "source": [
    "sms['month'] = pd.to_datetime(sms['message_date'], format='%Y-%m-%d').dt.month.astype('int16')"
   ]
  },
  {
   "cell_type": "code",
   "execution_count": 50,
   "metadata": {},
   "outputs": [],
   "source": [
    "calls['month'] = pd.to_datetime(calls['call_date'], format = '%Y-%m-%d').dt.month.astype('int16')"
   ]
  },
  {
   "cell_type": "markdown",
   "metadata": {},
   "source": [
    "### Creating a new dataframe, where we collect the volume of Internet traffic spent by month, grouped by user_id"
   ]
  },
  {
   "cell_type": "code",
   "execution_count": 51,
   "metadata": {},
   "outputs": [],
   "source": [
    "internet_group = internet\\\n",
    "                            .groupby(['user_id','month'])\\\n",
    "                            .agg({'mb_used':'sum'})\\\n",
    "                            .reset_index()\n",
    "                            "
   ]
  },
  {
   "cell_type": "code",
   "execution_count": 52,
   "metadata": {},
   "outputs": [
    {
     "data": {
      "text/plain": [
       "<matplotlib.axes._subplots.AxesSubplot at 0x11c7e25c0>"
      ]
     },
     "execution_count": 52,
     "metadata": {},
     "output_type": "execute_result"
    },
    {
     "data": {
      "image/png": "[encoded data removed]",
      "text/plain": [
       "<Figure size 864x576 with 1 Axes>"
      ]
     },
     "metadata": {
      "needs_background": "light"
     },
     "output_type": "display_data"
    }
   ],
   "source": [
    "internet_group['mb_used'].hist(bins = 100, figsize = (12,8),  grid = True, range = (0, 35000), color = 'purple') "
   ]
  },
  {
   "cell_type": "code",
   "execution_count": 53,
   "metadata": {},
   "outputs": [
    {
     "data": {
      "text/html": [
       "<div>\n",
       "<style scoped>\n",
       "    .dataframe tbody tr th:only-of-type {\n",
       "        vertical-align: middle;\n",
       "    }\n",
       "\n",
       "    .dataframe tbody tr th {\n",
       "        vertical-align: top;\n",
       "    }\n",
       "\n",
       "    .dataframe thead th {\n",
       "        text-align: right;\n",
       "    }\n",
       "</style>\n",
       "<table border=\"1\" class=\"dataframe\">\n",
       "  <thead>\n",
       "    <tr style=\"text-align: right;\">\n",
       "      <th></th>\n",
       "      <th>user_id</th>\n",
       "      <th>month</th>\n",
       "      <th>mb_used</th>\n",
       "    </tr>\n",
       "  </thead>\n",
       "  <tbody>\n",
       "    <tr>\n",
       "      <th>0</th>\n",
       "      <td>1000</td>\n",
       "      <td>12</td>\n",
       "      <td>1904.0</td>\n",
       "    </tr>\n",
       "    <tr>\n",
       "      <th>1</th>\n",
       "      <td>1001</td>\n",
       "      <td>8</td>\n",
       "      <td>6933.0</td>\n",
       "    </tr>\n",
       "    <tr>\n",
       "      <th>2</th>\n",
       "      <td>1001</td>\n",
       "      <td>9</td>\n",
       "      <td>13346.0</td>\n",
       "    </tr>\n",
       "    <tr>\n",
       "      <th>3</th>\n",
       "      <td>1001</td>\n",
       "      <td>10</td>\n",
       "      <td>22364.0</td>\n",
       "    </tr>\n",
       "    <tr>\n",
       "      <th>4</th>\n",
       "      <td>1001</td>\n",
       "      <td>11</td>\n",
       "      <td>18527.0</td>\n",
       "    </tr>\n",
       "  </tbody>\n",
       "</table>\n",
       "</div>"
      ],
      "text/plain": [
       "   user_id  month  mb_used\n",
       "0     1000     12   1904.0\n",
       "1     1001      8   6933.0\n",
       "2     1001      9  13346.0\n",
       "3     1001     10  22364.0\n",
       "4     1001     11  18527.0"
      ]
     },
     "execution_count": 53,
     "metadata": {},
     "output_type": "execute_result"
    }
   ],
   "source": [
    "internet_group.head()"
   ]
  },
  {
   "cell_type": "code",
   "execution_count": 54,
   "metadata": {},
   "outputs": [
    {
     "name": "stdout",
     "output_type": "stream",
     "text": [
      "<class 'pandas.core.frame.DataFrame'>\n",
      "RangeIndex: 2277 entries, 0 to 2276\n",
      "Data columns (total 3 columns):\n",
      "user_id    2277 non-null int64\n",
      "month      2277 non-null int64\n",
      "mb_used    2277 non-null float64\n",
      "dtypes: float64(1), int64(2)\n",
      "memory usage: 53.5 KB\n"
     ]
    }
   ],
   "source": [
    "internet_group.info()"
   ]
  },
  {
   "cell_type": "markdown",
   "metadata": {},
   "source": [
    "### Creating a new dataframe, where we collect the number of sent messages by month, grouped by user_id"
   ]
  },
  {
   "cell_type": "code",
   "execution_count": 55,
   "metadata": {},
   "outputs": [],
   "source": [
    "sms_group = sms\\\n",
    "                .groupby(['user_id', 'month'])\\\n",
    "                .agg({'id': 'count'})\\\n",
    "                .reset_index()\\\n",
    "                .rename(columns={'id':'sms_count'})"
   ]
  },
  {
   "cell_type": "code",
   "execution_count": 56,
   "metadata": {},
   "outputs": [
    {
     "data": {
      "text/plain": [
       "<matplotlib.axes._subplots.AxesSubplot at 0x11c7bc550>"
      ]
     },
     "execution_count": 56,
     "metadata": {},
     "output_type": "execute_result"
    },
    {
     "data": {
      "image/png": "[encoded data removed]",
      "text/plain": [
       "<Figure size 864x576 with 1 Axes>"
      ]
     },
     "metadata": {
      "needs_background": "light"
     },
     "output_type": "display_data"
    }
   ],
   "source": [
    "sms_group['sms_count'].hist(bins = 100, figsize = (12,8), range = (0,170), grid = True) "
   ]
  },
  {
   "cell_type": "code",
   "execution_count": 57,
   "metadata": {},
   "outputs": [
    {
     "data": {
      "text/html": [
       "<div>\n",
       "<style scoped>\n",
       "    .dataframe tbody tr th:only-of-type {\n",
       "        vertical-align: middle;\n",
       "    }\n",
       "\n",
       "    .dataframe tbody tr th {\n",
       "        vertical-align: top;\n",
       "    }\n",
       "\n",
       "    .dataframe thead th {\n",
       "        text-align: right;\n",
       "    }\n",
       "</style>\n",
       "<table border=\"1\" class=\"dataframe\">\n",
       "  <thead>\n",
       "    <tr style=\"text-align: right;\">\n",
       "      <th></th>\n",
       "      <th>user_id</th>\n",
       "      <th>month</th>\n",
       "      <th>sms_count</th>\n",
       "    </tr>\n",
       "  </thead>\n",
       "  <tbody>\n",
       "    <tr>\n",
       "      <th>0</th>\n",
       "      <td>1000</td>\n",
       "      <td>12</td>\n",
       "      <td>11</td>\n",
       "    </tr>\n",
       "    <tr>\n",
       "      <th>1</th>\n",
       "      <td>1001</td>\n",
       "      <td>8</td>\n",
       "      <td>30</td>\n",
       "    </tr>\n",
       "    <tr>\n",
       "      <th>2</th>\n",
       "      <td>1001</td>\n",
       "      <td>9</td>\n",
       "      <td>44</td>\n",
       "    </tr>\n",
       "    <tr>\n",
       "      <th>3</th>\n",
       "      <td>1001</td>\n",
       "      <td>10</td>\n",
       "      <td>53</td>\n",
       "    </tr>\n",
       "    <tr>\n",
       "      <th>4</th>\n",
       "      <td>1001</td>\n",
       "      <td>11</td>\n",
       "      <td>36</td>\n",
       "    </tr>\n",
       "  </tbody>\n",
       "</table>\n",
       "</div>"
      ],
      "text/plain": [
       "   user_id  month  sms_count\n",
       "0     1000     12         11\n",
       "1     1001      8         30\n",
       "2     1001      9         44\n",
       "3     1001     10         53\n",
       "4     1001     11         36"
      ]
     },
     "execution_count": 57,
     "metadata": {},
     "output_type": "execute_result"
    }
   ],
   "source": [
    "sms_group.head()"
   ]
  },
  {
   "cell_type": "code",
   "execution_count": 58,
   "metadata": {},
   "outputs": [
    {
     "name": "stdout",
     "output_type": "stream",
     "text": [
      "<class 'pandas.core.frame.DataFrame'>\n",
      "RangeIndex: 1806 entries, 0 to 1805\n",
      "Data columns (total 3 columns):\n",
      "user_id      1806 non-null int64\n",
      "month        1806 non-null int64\n",
      "sms_count    1806 non-null int64\n",
      "dtypes: int64(3)\n",
      "memory usage: 42.5 KB\n"
     ]
    }
   ],
   "source": [
    "sms_group.info()"
   ]
  },
  {
   "cell_type": "markdown",
   "metadata": {},
   "source": [
    "### Let's create a new dataframe, where we will collect the number of calls made and minutes of conversation spent by month per month, grouped by user_id"
   ]
  },
  {
   "cell_type": "code",
   "execution_count": 59,
   "metadata": {},
   "outputs": [],
   "source": [
    "calls_group = calls\\\n",
    "                    .groupby(['month','user_id'])\\\n",
    "                    .agg({'id':'count','duration':'sum'})\\\n",
    "                    .reset_index()\\\n",
    "                    .rename(columns = {'id':'call_count','duration':'call_duration'})\n",
    "\n",
    "\n"
   ]
  },
  {
   "cell_type": "code",
   "execution_count": 60,
   "metadata": {},
   "outputs": [
    {
     "data": {
      "text/html": [
       "<div>\n",
       "<style scoped>\n",
       "    .dataframe tbody tr th:only-of-type {\n",
       "        vertical-align: middle;\n",
       "    }\n",
       "\n",
       "    .dataframe tbody tr th {\n",
       "        vertical-align: top;\n",
       "    }\n",
       "\n",
       "    .dataframe thead th {\n",
       "        text-align: right;\n",
       "    }\n",
       "</style>\n",
       "<table border=\"1\" class=\"dataframe\">\n",
       "  <thead>\n",
       "    <tr style=\"text-align: right;\">\n",
       "      <th></th>\n",
       "      <th>month</th>\n",
       "      <th>user_id</th>\n",
       "      <th>call_count</th>\n",
       "      <th>call_duration</th>\n",
       "    </tr>\n",
       "  </thead>\n",
       "  <tbody>\n",
       "    <tr>\n",
       "      <th>446</th>\n",
       "      <td>7</td>\n",
       "      <td>1187</td>\n",
       "      <td>78</td>\n",
       "      <td>578</td>\n",
       "    </tr>\n",
       "    <tr>\n",
       "      <th>579</th>\n",
       "      <td>8</td>\n",
       "      <td>1056</td>\n",
       "      <td>48</td>\n",
       "      <td>355</td>\n",
       "    </tr>\n",
       "    <tr>\n",
       "      <th>88</th>\n",
       "      <td>4</td>\n",
       "      <td>1203</td>\n",
       "      <td>73</td>\n",
       "      <td>586</td>\n",
       "    </tr>\n",
       "    <tr>\n",
       "      <th>840</th>\n",
       "      <td>9</td>\n",
       "      <td>1110</td>\n",
       "      <td>64</td>\n",
       "      <td>495</td>\n",
       "    </tr>\n",
       "    <tr>\n",
       "      <th>604</th>\n",
       "      <td>8</td>\n",
       "      <td>1103</td>\n",
       "      <td>25</td>\n",
       "      <td>171</td>\n",
       "    </tr>\n",
       "  </tbody>\n",
       "</table>\n",
       "</div>"
      ],
      "text/plain": [
       "     month  user_id  call_count  call_duration\n",
       "446      7     1187          78            578\n",
       "579      8     1056          48            355\n",
       "88       4     1203          73            586\n",
       "840      9     1110          64            495\n",
       "604      8     1103          25            171"
      ]
     },
     "execution_count": 60,
     "metadata": {},
     "output_type": "execute_result"
    }
   ],
   "source": [
    "calls_group.sample(5)"
   ]
  },
  {
   "cell_type": "code",
   "execution_count": 61,
   "metadata": {},
   "outputs": [
    {
     "data": {
      "text/plain": [
       "<matplotlib.axes._subplots.AxesSubplot at 0x11f2e96a0>"
      ]
     },
     "execution_count": 61,
     "metadata": {},
     "output_type": "execute_result"
    },
    {
     "data": {
      "image/png": "[encoded data removed]",
      "text/plain": [
       "<Figure size 864x504 with 1 Axes>"
      ]
     },
     "metadata": {
      "needs_background": "light"
     },
     "output_type": "display_data"
    }
   ],
   "source": [
    "calls_group.plot(x='call_count', y = 'call_duration', kind = 'scatter', alpha = 0.25, color = 'b', figsize = (12,7))"
   ]
  },
  {
   "cell_type": "code",
   "execution_count": 62,
   "metadata": {},
   "outputs": [
    {
     "name": "stdout",
     "output_type": "stream",
     "text": [
      "<class 'pandas.core.frame.DataFrame'>\n",
      "RangeIndex: 2258 entries, 0 to 2257\n",
      "Data columns (total 4 columns):\n",
      "month            2258 non-null int64\n",
      "user_id          2258 non-null int64\n",
      "call_count       2258 non-null int64\n",
      "call_duration    2258 non-null int16\n",
      "dtypes: int16(1), int64(3)\n",
      "memory usage: 57.5 KB\n"
     ]
    }
   ],
   "source": [
    "calls_group.info()"
   ]
  },
  {
   "cell_type": "markdown",
   "metadata": {},
   "source": [
    "### To make it easier to operate with data, we need to create a new empty dataframe, in which we will combine all our data. Enter a range of 12 months for each user_id in this dataframe"
   ]
  },
  {
   "cell_type": "code",
   "execution_count": 63,
   "metadata": {},
   "outputs": [],
   "source": [
    "temp_df = pd.DataFrame({'month': range(1,13),'index_temp':0})"
   ]
  },
  {
   "cell_type": "code",
   "execution_count": 64,
   "metadata": {},
   "outputs": [
    {
     "data": {
      "text/html": [
       "<div>\n",
       "<style scoped>\n",
       "    .dataframe tbody tr th:only-of-type {\n",
       "        vertical-align: middle;\n",
       "    }\n",
       "\n",
       "    .dataframe tbody tr th {\n",
       "        vertical-align: top;\n",
       "    }\n",
       "\n",
       "    .dataframe thead th {\n",
       "        text-align: right;\n",
       "    }\n",
       "</style>\n",
       "<table border=\"1\" class=\"dataframe\">\n",
       "  <thead>\n",
       "    <tr style=\"text-align: right;\">\n",
       "      <th></th>\n",
       "      <th>month</th>\n",
       "      <th>index_temp</th>\n",
       "    </tr>\n",
       "  </thead>\n",
       "  <tbody>\n",
       "    <tr>\n",
       "      <th>0</th>\n",
       "      <td>1</td>\n",
       "      <td>0</td>\n",
       "    </tr>\n",
       "    <tr>\n",
       "      <th>1</th>\n",
       "      <td>2</td>\n",
       "      <td>0</td>\n",
       "    </tr>\n",
       "    <tr>\n",
       "      <th>2</th>\n",
       "      <td>3</td>\n",
       "      <td>0</td>\n",
       "    </tr>\n",
       "    <tr>\n",
       "      <th>3</th>\n",
       "      <td>4</td>\n",
       "      <td>0</td>\n",
       "    </tr>\n",
       "    <tr>\n",
       "      <th>4</th>\n",
       "      <td>5</td>\n",
       "      <td>0</td>\n",
       "    </tr>\n",
       "    <tr>\n",
       "      <th>5</th>\n",
       "      <td>6</td>\n",
       "      <td>0</td>\n",
       "    </tr>\n",
       "    <tr>\n",
       "      <th>6</th>\n",
       "      <td>7</td>\n",
       "      <td>0</td>\n",
       "    </tr>\n",
       "    <tr>\n",
       "      <th>7</th>\n",
       "      <td>8</td>\n",
       "      <td>0</td>\n",
       "    </tr>\n",
       "    <tr>\n",
       "      <th>8</th>\n",
       "      <td>9</td>\n",
       "      <td>0</td>\n",
       "    </tr>\n",
       "    <tr>\n",
       "      <th>9</th>\n",
       "      <td>10</td>\n",
       "      <td>0</td>\n",
       "    </tr>\n",
       "    <tr>\n",
       "      <th>10</th>\n",
       "      <td>11</td>\n",
       "      <td>0</td>\n",
       "    </tr>\n",
       "    <tr>\n",
       "      <th>11</th>\n",
       "      <td>12</td>\n",
       "      <td>0</td>\n",
       "    </tr>\n",
       "  </tbody>\n",
       "</table>\n",
       "</div>"
      ],
      "text/plain": [
       "    month  index_temp\n",
       "0       1           0\n",
       "1       2           0\n",
       "2       3           0\n",
       "3       4           0\n",
       "4       5           0\n",
       "5       6           0\n",
       "6       7           0\n",
       "7       8           0\n",
       "8       9           0\n",
       "9      10           0\n",
       "10     11           0\n",
       "11     12           0"
      ]
     },
     "execution_count": 64,
     "metadata": {},
     "output_type": "execute_result"
    }
   ],
   "source": [
    "temp_df.head(13)"
   ]
  },
  {
   "cell_type": "markdown",
   "metadata": {},
   "source": [
    "Creating a temporary index column to combine an empty dataframe with the user table"
   ]
  },
  {
   "cell_type": "code",
   "execution_count": 65,
   "metadata": {},
   "outputs": [],
   "source": [
    "users['index_temp'] = 0\n"
   ]
  },
  {
   "cell_type": "markdown",
   "metadata": {},
   "source": [
    "Let's put our dataframe together"
   ]
  },
  {
   "cell_type": "code",
   "execution_count": 66,
   "metadata": {},
   "outputs": [],
   "source": [
    "df = temp_df.merge(users, how='outer', on='index_temp')\n"
   ]
  },
  {
   "cell_type": "code",
   "execution_count": 67,
   "metadata": {},
   "outputs": [
    {
     "data": {
      "text/html": [
       "<div>\n",
       "<style scoped>\n",
       "    .dataframe tbody tr th:only-of-type {\n",
       "        vertical-align: middle;\n",
       "    }\n",
       "\n",
       "    .dataframe tbody tr th {\n",
       "        vertical-align: top;\n",
       "    }\n",
       "\n",
       "    .dataframe thead th {\n",
       "        text-align: right;\n",
       "    }\n",
       "</style>\n",
       "<table border=\"1\" class=\"dataframe\">\n",
       "  <thead>\n",
       "    <tr style=\"text-align: right;\">\n",
       "      <th></th>\n",
       "      <th>month</th>\n",
       "      <th>index_temp</th>\n",
       "      <th>user_id</th>\n",
       "      <th>first_name</th>\n",
       "      <th>last_name</th>\n",
       "      <th>age</th>\n",
       "      <th>city</th>\n",
       "      <th>reg_date</th>\n",
       "      <th>tariff</th>\n",
       "      <th>churn_date</th>\n",
       "    </tr>\n",
       "  </thead>\n",
       "  <tbody>\n",
       "    <tr>\n",
       "      <th>0</th>\n",
       "      <td>1</td>\n",
       "      <td>0</td>\n",
       "      <td>1000</td>\n",
       "      <td>Anamaria</td>\n",
       "      <td>Bauer</td>\n",
       "      <td>45</td>\n",
       "      <td>Atlanta-Sandy Springs-Roswell, GA MSA</td>\n",
       "      <td>2018-12-24</td>\n",
       "      <td>ultimate</td>\n",
       "      <td>2018-12-24</td>\n",
       "    </tr>\n",
       "    <tr>\n",
       "      <th>1</th>\n",
       "      <td>1</td>\n",
       "      <td>0</td>\n",
       "      <td>1001</td>\n",
       "      <td>Mickey</td>\n",
       "      <td>Wilkerson</td>\n",
       "      <td>28</td>\n",
       "      <td>Seattle-Tacoma-Bellevue, WA MSA</td>\n",
       "      <td>2018-08-13</td>\n",
       "      <td>surf</td>\n",
       "      <td>2018-08-13</td>\n",
       "    </tr>\n",
       "    <tr>\n",
       "      <th>2</th>\n",
       "      <td>1</td>\n",
       "      <td>0</td>\n",
       "      <td>1002</td>\n",
       "      <td>Carlee</td>\n",
       "      <td>Hoffman</td>\n",
       "      <td>36</td>\n",
       "      <td>Las Vegas-Henderson-Paradise, NV MSA</td>\n",
       "      <td>2018-10-21</td>\n",
       "      <td>surf</td>\n",
       "      <td>2018-10-21</td>\n",
       "    </tr>\n",
       "    <tr>\n",
       "      <th>3</th>\n",
       "      <td>1</td>\n",
       "      <td>0</td>\n",
       "      <td>1003</td>\n",
       "      <td>Reynaldo</td>\n",
       "      <td>Jenkins</td>\n",
       "      <td>52</td>\n",
       "      <td>Tulsa, OK MSA</td>\n",
       "      <td>2018-01-28</td>\n",
       "      <td>surf</td>\n",
       "      <td>2018-01-28</td>\n",
       "    </tr>\n",
       "    <tr>\n",
       "      <th>4</th>\n",
       "      <td>1</td>\n",
       "      <td>0</td>\n",
       "      <td>1004</td>\n",
       "      <td>Leonila</td>\n",
       "      <td>Thompson</td>\n",
       "      <td>40</td>\n",
       "      <td>Seattle-Tacoma-Bellevue, WA MSA</td>\n",
       "      <td>2018-05-23</td>\n",
       "      <td>surf</td>\n",
       "      <td>2018-05-23</td>\n",
       "    </tr>\n",
       "  </tbody>\n",
       "</table>\n",
       "</div>"
      ],
      "text/plain": [
       "   month  index_temp  user_id first_name  last_name  age  \\\n",
       "0      1           0     1000   Anamaria      Bauer   45   \n",
       "1      1           0     1001     Mickey  Wilkerson   28   \n",
       "2      1           0     1002     Carlee    Hoffman   36   \n",
       "3      1           0     1003   Reynaldo    Jenkins   52   \n",
       "4      1           0     1004    Leonila   Thompson   40   \n",
       "\n",
       "                                    city   reg_date    tariff churn_date  \n",
       "0  Atlanta-Sandy Springs-Roswell, GA MSA 2018-12-24  ultimate 2018-12-24  \n",
       "1        Seattle-Tacoma-Bellevue, WA MSA 2018-08-13      surf 2018-08-13  \n",
       "2   Las Vegas-Henderson-Paradise, NV MSA 2018-10-21      surf 2018-10-21  \n",
       "3                          Tulsa, OK MSA 2018-01-28      surf 2018-01-28  \n",
       "4        Seattle-Tacoma-Bellevue, WA MSA 2018-05-23      surf 2018-05-23  "
      ]
     },
     "execution_count": 67,
     "metadata": {},
     "output_type": "execute_result"
    }
   ],
   "source": [
    "df.head()"
   ]
  },
  {
   "cell_type": "markdown",
   "metadata": {},
   "source": [
    "Let's check that each user has information for 12 months"
   ]
  },
  {
   "cell_type": "code",
   "execution_count": 68,
   "metadata": {},
   "outputs": [
    {
     "data": {
      "text/plain": [
       "True"
      ]
     },
     "execution_count": 68,
     "metadata": {},
     "output_type": "execute_result"
    }
   ],
   "source": [
    "df.shape[0]/12 == users.shape[0]"
   ]
  },
  {
   "cell_type": "code",
   "execution_count": 69,
   "metadata": {},
   "outputs": [
    {
     "data": {
      "text/html": [
       "<div>\n",
       "<style scoped>\n",
       "    .dataframe tbody tr th:only-of-type {\n",
       "        vertical-align: middle;\n",
       "    }\n",
       "\n",
       "    .dataframe tbody tr th {\n",
       "        vertical-align: top;\n",
       "    }\n",
       "\n",
       "    .dataframe thead th {\n",
       "        text-align: right;\n",
       "    }\n",
       "</style>\n",
       "<table border=\"1\" class=\"dataframe\">\n",
       "  <thead>\n",
       "    <tr style=\"text-align: right;\">\n",
       "      <th></th>\n",
       "      <th>month</th>\n",
       "      <th>index_temp</th>\n",
       "      <th>user_id</th>\n",
       "      <th>first_name</th>\n",
       "      <th>last_name</th>\n",
       "      <th>age</th>\n",
       "      <th>city</th>\n",
       "      <th>reg_date</th>\n",
       "      <th>tariff</th>\n",
       "      <th>churn_date</th>\n",
       "    </tr>\n",
       "  </thead>\n",
       "  <tbody>\n",
       "    <tr>\n",
       "      <th>2441</th>\n",
       "      <td>5</td>\n",
       "      <td>0</td>\n",
       "      <td>1441</td>\n",
       "      <td>Piedad</td>\n",
       "      <td>Myers</td>\n",
       "      <td>23</td>\n",
       "      <td>Atlanta-Sandy Springs-Roswell, GA MSA</td>\n",
       "      <td>2018-03-08</td>\n",
       "      <td>ultimate</td>\n",
       "      <td>2018-03-08</td>\n",
       "    </tr>\n",
       "    <tr>\n",
       "      <th>3072</th>\n",
       "      <td>7</td>\n",
       "      <td>0</td>\n",
       "      <td>1072</td>\n",
       "      <td>Seymour</td>\n",
       "      <td>Spence</td>\n",
       "      <td>66</td>\n",
       "      <td>Dallas-Fort Worth-Arlington, TX MSA</td>\n",
       "      <td>2018-07-12</td>\n",
       "      <td>surf</td>\n",
       "      <td>2018-07-12</td>\n",
       "    </tr>\n",
       "    <tr>\n",
       "      <th>1826</th>\n",
       "      <td>4</td>\n",
       "      <td>0</td>\n",
       "      <td>1326</td>\n",
       "      <td>Johnathon</td>\n",
       "      <td>Branch</td>\n",
       "      <td>21</td>\n",
       "      <td>Greensboro-High Point, NC MSA</td>\n",
       "      <td>2018-02-06</td>\n",
       "      <td>surf</td>\n",
       "      <td>2018-02-06</td>\n",
       "    </tr>\n",
       "    <tr>\n",
       "      <th>117</th>\n",
       "      <td>1</td>\n",
       "      <td>0</td>\n",
       "      <td>1117</td>\n",
       "      <td>Hank</td>\n",
       "      <td>Taylor</td>\n",
       "      <td>49</td>\n",
       "      <td>Dallas-Fort Worth-Arlington, TX MSA</td>\n",
       "      <td>2018-01-24</td>\n",
       "      <td>surf</td>\n",
       "      <td>2018-01-24</td>\n",
       "    </tr>\n",
       "    <tr>\n",
       "      <th>1835</th>\n",
       "      <td>4</td>\n",
       "      <td>0</td>\n",
       "      <td>1335</td>\n",
       "      <td>Gail</td>\n",
       "      <td>Coleman</td>\n",
       "      <td>61</td>\n",
       "      <td>Dallas-Fort Worth-Arlington, TX MSA</td>\n",
       "      <td>2018-06-02</td>\n",
       "      <td>surf</td>\n",
       "      <td>2018-06-02</td>\n",
       "    </tr>\n",
       "    <tr>\n",
       "      <th>3893</th>\n",
       "      <td>8</td>\n",
       "      <td>0</td>\n",
       "      <td>1393</td>\n",
       "      <td>Wilfredo</td>\n",
       "      <td>Rosa</td>\n",
       "      <td>44</td>\n",
       "      <td>Knoxville, TN MSA</td>\n",
       "      <td>2018-10-29</td>\n",
       "      <td>surf</td>\n",
       "      <td>2018-10-29</td>\n",
       "    </tr>\n",
       "    <tr>\n",
       "      <th>1811</th>\n",
       "      <td>4</td>\n",
       "      <td>0</td>\n",
       "      <td>1311</td>\n",
       "      <td>Cherlyn</td>\n",
       "      <td>Saunders</td>\n",
       "      <td>69</td>\n",
       "      <td>Memphis, TN-MS-AR MSA</td>\n",
       "      <td>2018-06-27</td>\n",
       "      <td>ultimate</td>\n",
       "      <td>2018-06-27</td>\n",
       "    </tr>\n",
       "    <tr>\n",
       "      <th>4045</th>\n",
       "      <td>9</td>\n",
       "      <td>0</td>\n",
       "      <td>1045</td>\n",
       "      <td>Barney</td>\n",
       "      <td>Ortega</td>\n",
       "      <td>20</td>\n",
       "      <td>New York-Newark-Jersey City, NY-NJ-PA MSA</td>\n",
       "      <td>2018-10-15</td>\n",
       "      <td>surf</td>\n",
       "      <td>2018-10-15</td>\n",
       "    </tr>\n",
       "    <tr>\n",
       "      <th>4530</th>\n",
       "      <td>10</td>\n",
       "      <td>0</td>\n",
       "      <td>1030</td>\n",
       "      <td>Chase</td>\n",
       "      <td>Kane</td>\n",
       "      <td>30</td>\n",
       "      <td>Chicago-Naperville-Elgin, IL-IN-WI MSA</td>\n",
       "      <td>2018-02-14</td>\n",
       "      <td>ultimate</td>\n",
       "      <td>2018-02-14</td>\n",
       "    </tr>\n",
       "    <tr>\n",
       "      <th>4364</th>\n",
       "      <td>9</td>\n",
       "      <td>0</td>\n",
       "      <td>1364</td>\n",
       "      <td>Clarine</td>\n",
       "      <td>Bonner</td>\n",
       "      <td>75</td>\n",
       "      <td>San Diego-Chula Vista-Carlsbad, CA MSA</td>\n",
       "      <td>2018-08-09</td>\n",
       "      <td>surf</td>\n",
       "      <td>2018-08-09</td>\n",
       "    </tr>\n",
       "  </tbody>\n",
       "</table>\n",
       "</div>"
      ],
      "text/plain": [
       "      month  index_temp  user_id first_name last_name  age  \\\n",
       "2441      5           0     1441     Piedad     Myers   23   \n",
       "3072      7           0     1072    Seymour    Spence   66   \n",
       "1826      4           0     1326  Johnathon    Branch   21   \n",
       "117       1           0     1117       Hank    Taylor   49   \n",
       "1835      4           0     1335       Gail   Coleman   61   \n",
       "3893      8           0     1393   Wilfredo      Rosa   44   \n",
       "1811      4           0     1311    Cherlyn  Saunders   69   \n",
       "4045      9           0     1045     Barney    Ortega   20   \n",
       "4530     10           0     1030      Chase      Kane   30   \n",
       "4364      9           0     1364    Clarine    Bonner   75   \n",
       "\n",
       "                                           city   reg_date    tariff  \\\n",
       "2441      Atlanta-Sandy Springs-Roswell, GA MSA 2018-03-08  ultimate   \n",
       "3072        Dallas-Fort Worth-Arlington, TX MSA 2018-07-12      surf   \n",
       "1826              Greensboro-High Point, NC MSA 2018-02-06      surf   \n",
       "117         Dallas-Fort Worth-Arlington, TX MSA 2018-01-24      surf   \n",
       "1835        Dallas-Fort Worth-Arlington, TX MSA 2018-06-02      surf   \n",
       "3893                          Knoxville, TN MSA 2018-10-29      surf   \n",
       "1811                      Memphis, TN-MS-AR MSA 2018-06-27  ultimate   \n",
       "4045  New York-Newark-Jersey City, NY-NJ-PA MSA 2018-10-15      surf   \n",
       "4530     Chicago-Naperville-Elgin, IL-IN-WI MSA 2018-02-14  ultimate   \n",
       "4364     San Diego-Chula Vista-Carlsbad, CA MSA 2018-08-09      surf   \n",
       "\n",
       "     churn_date  \n",
       "2441 2018-03-08  \n",
       "3072 2018-07-12  \n",
       "1826 2018-02-06  \n",
       "117  2018-01-24  \n",
       "1835 2018-06-02  \n",
       "3893 2018-10-29  \n",
       "1811 2018-06-27  \n",
       "4045 2018-10-15  \n",
       "4530 2018-02-14  \n",
       "4364 2018-08-09  "
      ]
     },
     "execution_count": 69,
     "metadata": {},
     "output_type": "execute_result"
    }
   ],
   "source": [
    "df.sort_values(['user_id','month']).sample(10)"
   ]
  },
  {
   "cell_type": "markdown",
   "metadata": {},
   "source": [
    "Column index_temp we no longer need, you can get rid of it. Then we will check the success of the replacement"
   ]
  },
  {
   "cell_type": "code",
   "execution_count": 70,
   "metadata": {},
   "outputs": [],
   "source": [
    "df.drop(['index_temp'], axis =1, inplace = True)\n"
   ]
  },
  {
   "cell_type": "code",
   "execution_count": 71,
   "metadata": {},
   "outputs": [
    {
     "data": {
      "text/html": [
       "<div>\n",
       "<style scoped>\n",
       "    .dataframe tbody tr th:only-of-type {\n",
       "        vertical-align: middle;\n",
       "    }\n",
       "\n",
       "    .dataframe tbody tr th {\n",
       "        vertical-align: top;\n",
       "    }\n",
       "\n",
       "    .dataframe thead th {\n",
       "        text-align: right;\n",
       "    }\n",
       "</style>\n",
       "<table border=\"1\" class=\"dataframe\">\n",
       "  <thead>\n",
       "    <tr style=\"text-align: right;\">\n",
       "      <th></th>\n",
       "      <th>month</th>\n",
       "      <th>user_id</th>\n",
       "      <th>first_name</th>\n",
       "      <th>last_name</th>\n",
       "      <th>age</th>\n",
       "      <th>city</th>\n",
       "      <th>reg_date</th>\n",
       "      <th>tariff</th>\n",
       "      <th>churn_date</th>\n",
       "    </tr>\n",
       "  </thead>\n",
       "  <tbody>\n",
       "    <tr>\n",
       "      <th>0</th>\n",
       "      <td>1</td>\n",
       "      <td>1000</td>\n",
       "      <td>Anamaria</td>\n",
       "      <td>Bauer</td>\n",
       "      <td>45</td>\n",
       "      <td>Atlanta-Sandy Springs-Roswell, GA MSA</td>\n",
       "      <td>2018-12-24</td>\n",
       "      <td>ultimate</td>\n",
       "      <td>2018-12-24</td>\n",
       "    </tr>\n",
       "    <tr>\n",
       "      <th>500</th>\n",
       "      <td>2</td>\n",
       "      <td>1000</td>\n",
       "      <td>Anamaria</td>\n",
       "      <td>Bauer</td>\n",
       "      <td>45</td>\n",
       "      <td>Atlanta-Sandy Springs-Roswell, GA MSA</td>\n",
       "      <td>2018-12-24</td>\n",
       "      <td>ultimate</td>\n",
       "      <td>2018-12-24</td>\n",
       "    </tr>\n",
       "    <tr>\n",
       "      <th>1000</th>\n",
       "      <td>3</td>\n",
       "      <td>1000</td>\n",
       "      <td>Anamaria</td>\n",
       "      <td>Bauer</td>\n",
       "      <td>45</td>\n",
       "      <td>Atlanta-Sandy Springs-Roswell, GA MSA</td>\n",
       "      <td>2018-12-24</td>\n",
       "      <td>ultimate</td>\n",
       "      <td>2018-12-24</td>\n",
       "    </tr>\n",
       "    <tr>\n",
       "      <th>1500</th>\n",
       "      <td>4</td>\n",
       "      <td>1000</td>\n",
       "      <td>Anamaria</td>\n",
       "      <td>Bauer</td>\n",
       "      <td>45</td>\n",
       "      <td>Atlanta-Sandy Springs-Roswell, GA MSA</td>\n",
       "      <td>2018-12-24</td>\n",
       "      <td>ultimate</td>\n",
       "      <td>2018-12-24</td>\n",
       "    </tr>\n",
       "    <tr>\n",
       "      <th>2000</th>\n",
       "      <td>5</td>\n",
       "      <td>1000</td>\n",
       "      <td>Anamaria</td>\n",
       "      <td>Bauer</td>\n",
       "      <td>45</td>\n",
       "      <td>Atlanta-Sandy Springs-Roswell, GA MSA</td>\n",
       "      <td>2018-12-24</td>\n",
       "      <td>ultimate</td>\n",
       "      <td>2018-12-24</td>\n",
       "    </tr>\n",
       "  </tbody>\n",
       "</table>\n",
       "</div>"
      ],
      "text/plain": [
       "      month  user_id first_name last_name  age  \\\n",
       "0         1     1000   Anamaria     Bauer   45   \n",
       "500       2     1000   Anamaria     Bauer   45   \n",
       "1000      3     1000   Anamaria     Bauer   45   \n",
       "1500      4     1000   Anamaria     Bauer   45   \n",
       "2000      5     1000   Anamaria     Bauer   45   \n",
       "\n",
       "                                       city   reg_date    tariff churn_date  \n",
       "0     Atlanta-Sandy Springs-Roswell, GA MSA 2018-12-24  ultimate 2018-12-24  \n",
       "500   Atlanta-Sandy Springs-Roswell, GA MSA 2018-12-24  ultimate 2018-12-24  \n",
       "1000  Atlanta-Sandy Springs-Roswell, GA MSA 2018-12-24  ultimate 2018-12-24  \n",
       "1500  Atlanta-Sandy Springs-Roswell, GA MSA 2018-12-24  ultimate 2018-12-24  \n",
       "2000  Atlanta-Sandy Springs-Roswell, GA MSA 2018-12-24  ultimate 2018-12-24  "
      ]
     },
     "execution_count": 71,
     "metadata": {},
     "output_type": "execute_result"
    }
   ],
   "source": [
    "df.sort_values(['user_id','month']).head()"
   ]
  },
  {
   "cell_type": "code",
   "execution_count": 72,
   "metadata": {},
   "outputs": [
    {
     "name": "stdout",
     "output_type": "stream",
     "text": [
      "<class 'pandas.core.frame.DataFrame'>\n",
      "Int64Index: 6000 entries, 0 to 5999\n",
      "Data columns (total 9 columns):\n",
      "month         6000 non-null int64\n",
      "user_id       6000 non-null int64\n",
      "first_name    6000 non-null object\n",
      "last_name     6000 non-null object\n",
      "age           6000 non-null int64\n",
      "city          6000 non-null object\n",
      "reg_date      6000 non-null datetime64[ns]\n",
      "tariff        6000 non-null object\n",
      "churn_date    6000 non-null datetime64[ns]\n",
      "dtypes: datetime64[ns](2), int64(3), object(4)\n",
      "memory usage: 468.8+ KB\n"
     ]
    }
   ],
   "source": [
    "df.info()"
   ]
  },
  {
   "cell_type": "markdown",
   "metadata": {},
   "source": [
    "### Now add to this table the data on Internet traffic, according to reports, dates of connection and disconnection and calls"
   ]
  },
  {
   "cell_type": "code",
   "execution_count": 73,
   "metadata": {},
   "outputs": [],
   "source": [
    "df['month_in'] = df['reg_date'].dt.month"
   ]
  },
  {
   "cell_type": "code",
   "execution_count": 74,
   "metadata": {},
   "outputs": [],
   "source": [
    "df['month_out'] = df['churn_date'].dt.month"
   ]
  },
  {
   "cell_type": "code",
   "execution_count": 75,
   "metadata": {},
   "outputs": [],
   "source": [
    "df = df.merge(internet_group, on=['user_id','month'], how='left')"
   ]
  },
  {
   "cell_type": "code",
   "execution_count": 76,
   "metadata": {},
   "outputs": [],
   "source": [
    "df = df.merge(sms_group, on=['user_id','month'], how='left')"
   ]
  },
  {
   "cell_type": "code",
   "execution_count": 77,
   "metadata": {},
   "outputs": [],
   "source": [
    "df = df.merge(calls_group, on = ['user_id','month'], how='left')"
   ]
  },
  {
   "cell_type": "code",
   "execution_count": 78,
   "metadata": {},
   "outputs": [],
   "source": [
    "tariff = tariff.rename(columns={'tariff_name':'tariff'})"
   ]
  },
  {
   "cell_type": "code",
   "execution_count": 79,
   "metadata": {},
   "outputs": [],
   "source": [
    "df = df.merge(tariff, on='tariff', how='outer')"
   ]
  },
  {
   "cell_type": "code",
   "execution_count": 80,
   "metadata": {},
   "outputs": [
    {
     "data": {
      "text/html": [
       "<div>\n",
       "<style scoped>\n",
       "    .dataframe tbody tr th:only-of-type {\n",
       "        vertical-align: middle;\n",
       "    }\n",
       "\n",
       "    .dataframe tbody tr th {\n",
       "        vertical-align: top;\n",
       "    }\n",
       "\n",
       "    .dataframe thead th {\n",
       "        text-align: right;\n",
       "    }\n",
       "</style>\n",
       "<table border=\"1\" class=\"dataframe\">\n",
       "  <thead>\n",
       "    <tr style=\"text-align: right;\">\n",
       "      <th></th>\n",
       "      <th>month</th>\n",
       "      <th>user_id</th>\n",
       "      <th>first_name</th>\n",
       "      <th>last_name</th>\n",
       "      <th>age</th>\n",
       "      <th>city</th>\n",
       "      <th>reg_date</th>\n",
       "      <th>tariff</th>\n",
       "      <th>churn_date</th>\n",
       "      <th>month_in</th>\n",
       "      <th>...</th>\n",
       "      <th>sms_count</th>\n",
       "      <th>call_count</th>\n",
       "      <th>call_duration</th>\n",
       "      <th>messages_included</th>\n",
       "      <th>mb_per_month_included</th>\n",
       "      <th>minutes_included</th>\n",
       "      <th>usd_monthly_pay</th>\n",
       "      <th>usd_per_gb</th>\n",
       "      <th>usd_per_message</th>\n",
       "      <th>usd_per_minute</th>\n",
       "    </tr>\n",
       "  </thead>\n",
       "  <tbody>\n",
       "    <tr>\n",
       "      <th>5413</th>\n",
       "      <td>11</td>\n",
       "      <td>1136</td>\n",
       "      <td>Jasper</td>\n",
       "      <td>Caldwell</td>\n",
       "      <td>25</td>\n",
       "      <td>Knoxville, TN MSA</td>\n",
       "      <td>2018-10-14</td>\n",
       "      <td>surf</td>\n",
       "      <td>2018-10-14</td>\n",
       "      <td>10</td>\n",
       "      <td>...</td>\n",
       "      <td>42.0</td>\n",
       "      <td>64.0</td>\n",
       "      <td>519.0</td>\n",
       "      <td>50</td>\n",
       "      <td>15360</td>\n",
       "      <td>500</td>\n",
       "      <td>20</td>\n",
       "      <td>10</td>\n",
       "      <td>0.03</td>\n",
       "      <td>0.03</td>\n",
       "    </tr>\n",
       "    <tr>\n",
       "      <th>3634</th>\n",
       "      <td>6</td>\n",
       "      <td>1010</td>\n",
       "      <td>Wilber</td>\n",
       "      <td>Blair</td>\n",
       "      <td>52</td>\n",
       "      <td>Dallas-Fort Worth-Arlington, TX MSA</td>\n",
       "      <td>2018-03-09</td>\n",
       "      <td>surf</td>\n",
       "      <td>2018-03-09</td>\n",
       "      <td>3</td>\n",
       "      <td>...</td>\n",
       "      <td>NaN</td>\n",
       "      <td>77.0</td>\n",
       "      <td>569.0</td>\n",
       "      <td>50</td>\n",
       "      <td>15360</td>\n",
       "      <td>500</td>\n",
       "      <td>20</td>\n",
       "      <td>10</td>\n",
       "      <td>0.03</td>\n",
       "      <td>0.03</td>\n",
       "    </tr>\n",
       "    <tr>\n",
       "      <th>3629</th>\n",
       "      <td>6</td>\n",
       "      <td>1003</td>\n",
       "      <td>Reynaldo</td>\n",
       "      <td>Jenkins</td>\n",
       "      <td>52</td>\n",
       "      <td>Tulsa, OK MSA</td>\n",
       "      <td>2018-01-28</td>\n",
       "      <td>surf</td>\n",
       "      <td>2018-01-28</td>\n",
       "      <td>1</td>\n",
       "      <td>...</td>\n",
       "      <td>NaN</td>\n",
       "      <td>NaN</td>\n",
       "      <td>NaN</td>\n",
       "      <td>50</td>\n",
       "      <td>15360</td>\n",
       "      <td>500</td>\n",
       "      <td>20</td>\n",
       "      <td>10</td>\n",
       "      <td>0.03</td>\n",
       "      <td>0.03</td>\n",
       "    </tr>\n",
       "    <tr>\n",
       "      <th>183</th>\n",
       "      <td>2</td>\n",
       "      <td>1061</td>\n",
       "      <td>Maryam</td>\n",
       "      <td>Valencia</td>\n",
       "      <td>38</td>\n",
       "      <td>Columbia, SC MSA</td>\n",
       "      <td>2018-03-08</td>\n",
       "      <td>ultimate</td>\n",
       "      <td>2018-03-08</td>\n",
       "      <td>3</td>\n",
       "      <td>...</td>\n",
       "      <td>NaN</td>\n",
       "      <td>NaN</td>\n",
       "      <td>NaN</td>\n",
       "      <td>1000</td>\n",
       "      <td>30720</td>\n",
       "      <td>3000</td>\n",
       "      <td>70</td>\n",
       "      <td>7</td>\n",
       "      <td>0.01</td>\n",
       "      <td>0.01</td>\n",
       "    </tr>\n",
       "    <tr>\n",
       "      <th>2154</th>\n",
       "      <td>1</td>\n",
       "      <td>1321</td>\n",
       "      <td>Karlyn</td>\n",
       "      <td>Jimenez</td>\n",
       "      <td>19</td>\n",
       "      <td>North Port-Sarasota-Bradenton, FL MSA</td>\n",
       "      <td>2018-05-31</td>\n",
       "      <td>surf</td>\n",
       "      <td>2018-05-31</td>\n",
       "      <td>5</td>\n",
       "      <td>...</td>\n",
       "      <td>NaN</td>\n",
       "      <td>NaN</td>\n",
       "      <td>NaN</td>\n",
       "      <td>50</td>\n",
       "      <td>15360</td>\n",
       "      <td>500</td>\n",
       "      <td>20</td>\n",
       "      <td>10</td>\n",
       "      <td>0.03</td>\n",
       "      <td>0.03</td>\n",
       "    </tr>\n",
       "    <tr>\n",
       "      <th>4750</th>\n",
       "      <td>9</td>\n",
       "      <td>1153</td>\n",
       "      <td>Kathaleen</td>\n",
       "      <td>Crawford</td>\n",
       "      <td>30</td>\n",
       "      <td>Bridgeport-Stamford-Norwalk, CT MSA</td>\n",
       "      <td>2018-06-19</td>\n",
       "      <td>surf</td>\n",
       "      <td>2018-06-19</td>\n",
       "      <td>6</td>\n",
       "      <td>...</td>\n",
       "      <td>NaN</td>\n",
       "      <td>72.0</td>\n",
       "      <td>596.0</td>\n",
       "      <td>50</td>\n",
       "      <td>15360</td>\n",
       "      <td>500</td>\n",
       "      <td>20</td>\n",
       "      <td>10</td>\n",
       "      <td>0.03</td>\n",
       "      <td>0.03</td>\n",
       "    </tr>\n",
       "  </tbody>\n",
       "</table>\n",
       "<p>6 rows × 22 columns</p>\n",
       "</div>"
      ],
      "text/plain": [
       "      month  user_id first_name last_name  age  \\\n",
       "5413     11     1136     Jasper  Caldwell   25   \n",
       "3634      6     1010     Wilber     Blair   52   \n",
       "3629      6     1003   Reynaldo   Jenkins   52   \n",
       "183       2     1061     Maryam  Valencia   38   \n",
       "2154      1     1321     Karlyn   Jimenez   19   \n",
       "4750      9     1153  Kathaleen  Crawford   30   \n",
       "\n",
       "                                       city   reg_date    tariff churn_date  \\\n",
       "5413                      Knoxville, TN MSA 2018-10-14      surf 2018-10-14   \n",
       "3634    Dallas-Fort Worth-Arlington, TX MSA 2018-03-09      surf 2018-03-09   \n",
       "3629                          Tulsa, OK MSA 2018-01-28      surf 2018-01-28   \n",
       "183                        Columbia, SC MSA 2018-03-08  ultimate 2018-03-08   \n",
       "2154  North Port-Sarasota-Bradenton, FL MSA 2018-05-31      surf 2018-05-31   \n",
       "4750    Bridgeport-Stamford-Norwalk, CT MSA 2018-06-19      surf 2018-06-19   \n",
       "\n",
       "      month_in  ...  sms_count  call_count  call_duration  messages_included  \\\n",
       "5413        10  ...       42.0        64.0          519.0                 50   \n",
       "3634         3  ...        NaN        77.0          569.0                 50   \n",
       "3629         1  ...        NaN         NaN            NaN                 50   \n",
       "183          3  ...        NaN         NaN            NaN               1000   \n",
       "2154         5  ...        NaN         NaN            NaN                 50   \n",
       "4750         6  ...        NaN        72.0          596.0                 50   \n",
       "\n",
       "      mb_per_month_included  minutes_included  usd_monthly_pay  usd_per_gb  \\\n",
       "5413                  15360               500               20          10   \n",
       "3634                  15360               500               20          10   \n",
       "3629                  15360               500               20          10   \n",
       "183                   30720              3000               70           7   \n",
       "2154                  15360               500               20          10   \n",
       "4750                  15360               500               20          10   \n",
       "\n",
       "      usd_per_message  usd_per_minute  \n",
       "5413             0.03            0.03  \n",
       "3634             0.03            0.03  \n",
       "3629             0.03            0.03  \n",
       "183              0.01            0.01  \n",
       "2154             0.03            0.03  \n",
       "4750             0.03            0.03  \n",
       "\n",
       "[6 rows x 22 columns]"
      ]
     },
     "execution_count": 80,
     "metadata": {},
     "output_type": "execute_result"
    }
   ],
   "source": [
    "df.sample(6)"
   ]
  },
  {
   "cell_type": "code",
   "execution_count": 81,
   "metadata": {},
   "outputs": [
    {
     "data": {
      "text/plain": [
       "month                       0\n",
       "user_id                     0\n",
       "first_name                  0\n",
       "last_name                   0\n",
       "age                         0\n",
       "city                        0\n",
       "reg_date                    0\n",
       "tariff                      0\n",
       "churn_date                  0\n",
       "month_in                    0\n",
       "month_out                   0\n",
       "mb_used                  3723\n",
       "sms_count                4194\n",
       "call_count               3742\n",
       "call_duration            3742\n",
       "messages_included           0\n",
       "mb_per_month_included       0\n",
       "minutes_included            0\n",
       "usd_monthly_pay             0\n",
       "usd_per_gb                  0\n",
       "usd_per_message             0\n",
       "usd_per_minute              0\n",
       "dtype: int64"
      ]
     },
     "execution_count": 81,
     "metadata": {},
     "output_type": "execute_result"
    }
   ],
   "source": [
    "df.isnull().sum()"
   ]
  },
  {
   "cell_type": "markdown",
   "metadata": {},
   "source": [
    "We see a large number of NaNs in mb_used, call_count, sms_count, call_duration. Most likely, this indicates that the person did not use the phone at all during this month.  The number of missed calls and their duration is the same, so we can replace this data with zero."
   ]
  },
  {
   "cell_type": "code",
   "execution_count": 82,
   "metadata": {},
   "outputs": [],
   "source": [
    "df['call_count'].fillna(0, inplace = True)\n",
    "\n"
   ]
  },
  {
   "cell_type": "code",
   "execution_count": 83,
   "metadata": {},
   "outputs": [],
   "source": [
    "df['call_duration'].fillna(0, inplace = True)"
   ]
  },
  {
   "cell_type": "code",
   "execution_count": 84,
   "metadata": {},
   "outputs": [],
   "source": [
    "df['sms_count'].fillna(0, inplace = True)"
   ]
  },
  {
   "cell_type": "code",
   "execution_count": 85,
   "metadata": {},
   "outputs": [],
   "source": [
    "df['mb_used'].fillna(0, inplace = True)"
   ]
  },
  {
   "cell_type": "code",
   "execution_count": 86,
   "metadata": {},
   "outputs": [
    {
     "data": {
      "text/plain": [
       "month                    0\n",
       "user_id                  0\n",
       "first_name               0\n",
       "last_name                0\n",
       "age                      0\n",
       "city                     0\n",
       "reg_date                 0\n",
       "tariff                   0\n",
       "churn_date               0\n",
       "month_in                 0\n",
       "month_out                0\n",
       "mb_used                  0\n",
       "sms_count                0\n",
       "call_count               0\n",
       "call_duration            0\n",
       "messages_included        0\n",
       "mb_per_month_included    0\n",
       "minutes_included         0\n",
       "usd_monthly_pay          0\n",
       "usd_per_gb               0\n",
       "usd_per_message          0\n",
       "usd_per_minute           0\n",
       "dtype: int64"
      ]
     },
     "execution_count": 86,
     "metadata": {},
     "output_type": "execute_result"
    }
   ],
   "source": [
    "df.isnull().sum()"
   ]
  },
  {
   "cell_type": "code",
   "execution_count": 87,
   "metadata": {},
   "outputs": [
    {
     "name": "stdout",
     "output_type": "stream",
     "text": [
      "<class 'pandas.core.frame.DataFrame'>\n",
      "Int64Index: 6000 entries, 0 to 5999\n",
      "Data columns (total 22 columns):\n",
      "month                    6000 non-null int64\n",
      "user_id                  6000 non-null int64\n",
      "first_name               6000 non-null object\n",
      "last_name                6000 non-null object\n",
      "age                      6000 non-null int64\n",
      "city                     6000 non-null object\n",
      "reg_date                 6000 non-null datetime64[ns]\n",
      "tariff                   6000 non-null object\n",
      "churn_date               6000 non-null datetime64[ns]\n",
      "month_in                 6000 non-null int64\n",
      "month_out                6000 non-null int64\n",
      "mb_used                  6000 non-null float64\n",
      "sms_count                6000 non-null float64\n",
      "call_count               6000 non-null float64\n",
      "call_duration            6000 non-null float64\n",
      "messages_included        6000 non-null int64\n",
      "mb_per_month_included    6000 non-null int64\n",
      "minutes_included         6000 non-null int64\n",
      "usd_monthly_pay          6000 non-null int64\n",
      "usd_per_gb               6000 non-null int64\n",
      "usd_per_message          6000 non-null float64\n",
      "usd_per_minute           6000 non-null float64\n",
      "dtypes: datetime64[ns](2), float64(6), int64(10), object(4)\n",
      "memory usage: 1.1+ MB\n"
     ]
    }
   ],
   "source": [
    "df.info()"
   ]
  },
  {
   "cell_type": "code",
   "execution_count": 88,
   "metadata": {},
   "outputs": [],
   "source": [
    "df['sms_count'] = df['sms_count'].astype('int16')"
   ]
  },
  {
   "cell_type": "code",
   "execution_count": 89,
   "metadata": {},
   "outputs": [],
   "source": [
    "df['call_count'] = df['call_count'].astype('int16')"
   ]
  },
  {
   "cell_type": "code",
   "execution_count": 90,
   "metadata": {},
   "outputs": [],
   "source": [
    "df['call_duration'] = df['call_duration'].astype('int16')"
   ]
  },
  {
   "cell_type": "code",
   "execution_count": 91,
   "metadata": {},
   "outputs": [],
   "source": [
    "df['mb_used'] = df['mb_used'].astype('int16')"
   ]
  },
  {
   "cell_type": "code",
   "execution_count": 92,
   "metadata": {},
   "outputs": [
    {
     "name": "stdout",
     "output_type": "stream",
     "text": [
      "<class 'pandas.core.frame.DataFrame'>\n",
      "Int64Index: 6000 entries, 0 to 5999\n",
      "Data columns (total 22 columns):\n",
      "month                    6000 non-null int64\n",
      "user_id                  6000 non-null int64\n",
      "first_name               6000 non-null object\n",
      "last_name                6000 non-null object\n",
      "age                      6000 non-null int64\n",
      "city                     6000 non-null object\n",
      "reg_date                 6000 non-null datetime64[ns]\n",
      "tariff                   6000 non-null object\n",
      "churn_date               6000 non-null datetime64[ns]\n",
      "month_in                 6000 non-null int64\n",
      "month_out                6000 non-null int64\n",
      "mb_used                  6000 non-null int16\n",
      "sms_count                6000 non-null int16\n",
      "call_count               6000 non-null int16\n",
      "call_duration            6000 non-null int16\n",
      "messages_included        6000 non-null int64\n",
      "mb_per_month_included    6000 non-null int64\n",
      "minutes_included         6000 non-null int64\n",
      "usd_monthly_pay          6000 non-null int64\n",
      "usd_per_gb               6000 non-null int64\n",
      "usd_per_message          6000 non-null float64\n",
      "usd_per_minute           6000 non-null float64\n",
      "dtypes: datetime64[ns](2), float64(2), int16(4), int64(10), object(4)\n",
      "memory usage: 937.5+ KB\n"
     ]
    }
   ],
   "source": [
    "df.info()"
   ]
  },
  {
   "cell_type": "markdown",
   "metadata": {},
   "source": [
    "###  Calculate the monthly revenue from each user"
   ]
  },
  {
   "cell_type": "code",
   "execution_count": 93,
   "metadata": {},
   "outputs": [],
   "source": [
    "\n",
    "import math\n",
    "# For the calculation we need the following columns\n",
    "cols = [\n",
    "    'mb_used', 'call_duration', 'sms_count',\n",
    "    'messages_included', 'mb_per_month_included', 'minutes_included',\n",
    "    'usd_per_gb', 'usd_per_message', 'usd_per_minute',\n",
    "    'rub_monthly_fee'\n",
    "]\n",
    "\n",
    "# Let's calculate how much users spent over the limit\n",
    "df['paid_minutes'] = df['call_duration'] - df['minutes_included']\n",
    "df['paid_messages'] = df['sms_count'] - df['messages_included']\n",
    "df['paid_mb'] = df['mb_used'] - df['mb_per_month_included']\n",
    "\n",
    "# If the value is negative, replace 0\n",
    "for col in ['paid_messages', 'paid_minutes', 'paid_mb', 'mb_used', 'sms_count', 'call_duration' ]:\n",
    "    df.loc[df[col] < 0, col] = 0\n",
    "    \n",
    "# Calculate revenue for minutes of conversation, messages, and the Internet\n",
    "df['cost_minutes'] = df['paid_minutes'] * df['usd_per_minute']\n",
    "df['cost_messages'] = df['paid_messages'] * df['usd_per_message']\n",
    "df['cost_gb'] = (df['paid_mb'] / 1024).apply(math.ceil) * df['usd_per_gb']\n",
    "\n",
    "# Calculate revenue based on the subscription fee\n",
    "df['total_cost'] = df['usd_monthly_pay'] + df['cost_minutes'] + df['cost_messages'] + df['cost_gb']"
   ]
  },
  {
   "cell_type": "code",
   "execution_count": 94,
   "metadata": {},
   "outputs": [
    {
     "data": {
      "text/html": [
       "<div>\n",
       "<style scoped>\n",
       "    .dataframe tbody tr th:only-of-type {\n",
       "        vertical-align: middle;\n",
       "    }\n",
       "\n",
       "    .dataframe tbody tr th {\n",
       "        vertical-align: top;\n",
       "    }\n",
       "\n",
       "    .dataframe thead th {\n",
       "        text-align: right;\n",
       "    }\n",
       "</style>\n",
       "<table border=\"1\" class=\"dataframe\">\n",
       "  <thead>\n",
       "    <tr style=\"text-align: right;\">\n",
       "      <th></th>\n",
       "      <th>4562</th>\n",
       "      <th>2457</th>\n",
       "      <th>1194</th>\n",
       "      <th>946</th>\n",
       "      <th>3871</th>\n",
       "      <th>4206</th>\n",
       "      <th>89</th>\n",
       "      <th>4826</th>\n",
       "      <th>44</th>\n",
       "      <th>1089</th>\n",
       "    </tr>\n",
       "  </thead>\n",
       "  <tbody>\n",
       "    <tr>\n",
       "      <th>month</th>\n",
       "      <td>8</td>\n",
       "      <td>2</td>\n",
       "      <td>8</td>\n",
       "      <td>6</td>\n",
       "      <td>6</td>\n",
       "      <td>7</td>\n",
       "      <td>1</td>\n",
       "      <td>9</td>\n",
       "      <td>1</td>\n",
       "      <td>7</td>\n",
       "    </tr>\n",
       "    <tr>\n",
       "      <th>user_id</th>\n",
       "      <td>1365</td>\n",
       "      <td>1271</td>\n",
       "      <td>1214</td>\n",
       "      <td>1451</td>\n",
       "      <td>1348</td>\n",
       "      <td>1342</td>\n",
       "      <td>1282</td>\n",
       "      <td>1265</td>\n",
       "      <td>1135</td>\n",
       "      <td>1405</td>\n",
       "    </tr>\n",
       "    <tr>\n",
       "      <th>first_name</th>\n",
       "      <td>Milford</td>\n",
       "      <td>Darrin</td>\n",
       "      <td>Emil</td>\n",
       "      <td>Lenard</td>\n",
       "      <td>Carl</td>\n",
       "      <td>Eugene</td>\n",
       "      <td>Annice</td>\n",
       "      <td>Alec</td>\n",
       "      <td>Scotty</td>\n",
       "      <td>Shella</td>\n",
       "    </tr>\n",
       "    <tr>\n",
       "      <th>last_name</th>\n",
       "      <td>Rush</td>\n",
       "      <td>Rose</td>\n",
       "      <td>Robles</td>\n",
       "      <td>Harding</td>\n",
       "      <td>Rutledge</td>\n",
       "      <td>Patton</td>\n",
       "      <td>Calhoun</td>\n",
       "      <td>Henry</td>\n",
       "      <td>White</td>\n",
       "      <td>Hunter</td>\n",
       "    </tr>\n",
       "    <tr>\n",
       "      <th>age</th>\n",
       "      <td>19</td>\n",
       "      <td>48</td>\n",
       "      <td>34</td>\n",
       "      <td>53</td>\n",
       "      <td>60</td>\n",
       "      <td>65</td>\n",
       "      <td>61</td>\n",
       "      <td>29</td>\n",
       "      <td>51</td>\n",
       "      <td>34</td>\n",
       "    </tr>\n",
       "    <tr>\n",
       "      <th>city</th>\n",
       "      <td>Grand Rapids-Kentwood, MI MSA</td>\n",
       "      <td>New York-Newark-Jersey City, NY-NJ-PA MSA</td>\n",
       "      <td>San Francisco-Oakland-Berkeley, CA MSA</td>\n",
       "      <td>Charlotte-Concord-Gastonia, NC-SC MSA</td>\n",
       "      <td>Detroit-Warren-Dearborn, MI MSA</td>\n",
       "      <td>Indianapolis-Carmel-Anderson, IN MSA</td>\n",
       "      <td>San Francisco-Oakland-Berkeley, CA MSA</td>\n",
       "      <td>Washington-Arlington-Alexandria, DC-VA-MD-WV MSA</td>\n",
       "      <td>Miami-Fort Lauderdale-West Palm Beach, FL MSA</td>\n",
       "      <td>Indianapolis-Carmel-Anderson, IN MSA</td>\n",
       "    </tr>\n",
       "    <tr>\n",
       "      <th>reg_date</th>\n",
       "      <td>2018-02-09 00:00:00</td>\n",
       "      <td>2018-06-24 00:00:00</td>\n",
       "      <td>2018-01-01 00:00:00</td>\n",
       "      <td>2018-02-15 00:00:00</td>\n",
       "      <td>2018-10-05 00:00:00</td>\n",
       "      <td>2018-10-21 00:00:00</td>\n",
       "      <td>2018-11-01 00:00:00</td>\n",
       "      <td>2018-11-23 00:00:00</td>\n",
       "      <td>2018-12-23 00:00:00</td>\n",
       "      <td>2018-06-22 00:00:00</td>\n",
       "    </tr>\n",
       "    <tr>\n",
       "      <th>tariff</th>\n",
       "      <td>surf</td>\n",
       "      <td>surf</td>\n",
       "      <td>ultimate</td>\n",
       "      <td>ultimate</td>\n",
       "      <td>surf</td>\n",
       "      <td>surf</td>\n",
       "      <td>ultimate</td>\n",
       "      <td>surf</td>\n",
       "      <td>ultimate</td>\n",
       "      <td>ultimate</td>\n",
       "    </tr>\n",
       "    <tr>\n",
       "      <th>churn_date</th>\n",
       "      <td>2018-02-09 00:00:00</td>\n",
       "      <td>2018-06-24 00:00:00</td>\n",
       "      <td>2018-01-01 00:00:00</td>\n",
       "      <td>2018-02-15 00:00:00</td>\n",
       "      <td>2018-10-05 00:00:00</td>\n",
       "      <td>2018-10-21 00:00:00</td>\n",
       "      <td>2018-11-01 00:00:00</td>\n",
       "      <td>2018-11-23 00:00:00</td>\n",
       "      <td>2018-12-23 00:00:00</td>\n",
       "      <td>2018-06-22 00:00:00</td>\n",
       "    </tr>\n",
       "    <tr>\n",
       "      <th>month_in</th>\n",
       "      <td>2</td>\n",
       "      <td>6</td>\n",
       "      <td>1</td>\n",
       "      <td>2</td>\n",
       "      <td>10</td>\n",
       "      <td>10</td>\n",
       "      <td>11</td>\n",
       "      <td>11</td>\n",
       "      <td>12</td>\n",
       "      <td>6</td>\n",
       "    </tr>\n",
       "    <tr>\n",
       "      <th>month_out</th>\n",
       "      <td>2</td>\n",
       "      <td>6</td>\n",
       "      <td>1</td>\n",
       "      <td>2</td>\n",
       "      <td>10</td>\n",
       "      <td>10</td>\n",
       "      <td>11</td>\n",
       "      <td>11</td>\n",
       "      <td>12</td>\n",
       "      <td>6</td>\n",
       "    </tr>\n",
       "    <tr>\n",
       "      <th>mb_used</th>\n",
       "      <td>6342</td>\n",
       "      <td>0</td>\n",
       "      <td>18203</td>\n",
       "      <td>0</td>\n",
       "      <td>0</td>\n",
       "      <td>0</td>\n",
       "      <td>0</td>\n",
       "      <td>0</td>\n",
       "      <td>0</td>\n",
       "      <td>15941</td>\n",
       "    </tr>\n",
       "    <tr>\n",
       "      <th>sms_count</th>\n",
       "      <td>53</td>\n",
       "      <td>0</td>\n",
       "      <td>20</td>\n",
       "      <td>0</td>\n",
       "      <td>0</td>\n",
       "      <td>0</td>\n",
       "      <td>0</td>\n",
       "      <td>0</td>\n",
       "      <td>0</td>\n",
       "      <td>59</td>\n",
       "    </tr>\n",
       "    <tr>\n",
       "      <th>call_count</th>\n",
       "      <td>161</td>\n",
       "      <td>0</td>\n",
       "      <td>64</td>\n",
       "      <td>0</td>\n",
       "      <td>0</td>\n",
       "      <td>0</td>\n",
       "      <td>0</td>\n",
       "      <td>0</td>\n",
       "      <td>0</td>\n",
       "      <td>23</td>\n",
       "    </tr>\n",
       "    <tr>\n",
       "      <th>call_duration</th>\n",
       "      <td>1140</td>\n",
       "      <td>0</td>\n",
       "      <td>460</td>\n",
       "      <td>0</td>\n",
       "      <td>0</td>\n",
       "      <td>0</td>\n",
       "      <td>0</td>\n",
       "      <td>0</td>\n",
       "      <td>0</td>\n",
       "      <td>190</td>\n",
       "    </tr>\n",
       "    <tr>\n",
       "      <th>messages_included</th>\n",
       "      <td>50</td>\n",
       "      <td>50</td>\n",
       "      <td>1000</td>\n",
       "      <td>1000</td>\n",
       "      <td>50</td>\n",
       "      <td>50</td>\n",
       "      <td>1000</td>\n",
       "      <td>50</td>\n",
       "      <td>1000</td>\n",
       "      <td>1000</td>\n",
       "    </tr>\n",
       "    <tr>\n",
       "      <th>mb_per_month_included</th>\n",
       "      <td>15360</td>\n",
       "      <td>15360</td>\n",
       "      <td>30720</td>\n",
       "      <td>30720</td>\n",
       "      <td>15360</td>\n",
       "      <td>15360</td>\n",
       "      <td>30720</td>\n",
       "      <td>15360</td>\n",
       "      <td>30720</td>\n",
       "      <td>30720</td>\n",
       "    </tr>\n",
       "    <tr>\n",
       "      <th>minutes_included</th>\n",
       "      <td>500</td>\n",
       "      <td>500</td>\n",
       "      <td>3000</td>\n",
       "      <td>3000</td>\n",
       "      <td>500</td>\n",
       "      <td>500</td>\n",
       "      <td>3000</td>\n",
       "      <td>500</td>\n",
       "      <td>3000</td>\n",
       "      <td>3000</td>\n",
       "    </tr>\n",
       "    <tr>\n",
       "      <th>usd_monthly_pay</th>\n",
       "      <td>20</td>\n",
       "      <td>20</td>\n",
       "      <td>70</td>\n",
       "      <td>70</td>\n",
       "      <td>20</td>\n",
       "      <td>20</td>\n",
       "      <td>70</td>\n",
       "      <td>20</td>\n",
       "      <td>70</td>\n",
       "      <td>70</td>\n",
       "    </tr>\n",
       "    <tr>\n",
       "      <th>usd_per_gb</th>\n",
       "      <td>10</td>\n",
       "      <td>10</td>\n",
       "      <td>7</td>\n",
       "      <td>7</td>\n",
       "      <td>10</td>\n",
       "      <td>10</td>\n",
       "      <td>7</td>\n",
       "      <td>10</td>\n",
       "      <td>7</td>\n",
       "      <td>7</td>\n",
       "    </tr>\n",
       "    <tr>\n",
       "      <th>usd_per_message</th>\n",
       "      <td>0.03</td>\n",
       "      <td>0.03</td>\n",
       "      <td>0.01</td>\n",
       "      <td>0.01</td>\n",
       "      <td>0.03</td>\n",
       "      <td>0.03</td>\n",
       "      <td>0.01</td>\n",
       "      <td>0.03</td>\n",
       "      <td>0.01</td>\n",
       "      <td>0.01</td>\n",
       "    </tr>\n",
       "    <tr>\n",
       "      <th>usd_per_minute</th>\n",
       "      <td>0.03</td>\n",
       "      <td>0.03</td>\n",
       "      <td>0.01</td>\n",
       "      <td>0.01</td>\n",
       "      <td>0.03</td>\n",
       "      <td>0.03</td>\n",
       "      <td>0.01</td>\n",
       "      <td>0.03</td>\n",
       "      <td>0.01</td>\n",
       "      <td>0.01</td>\n",
       "    </tr>\n",
       "    <tr>\n",
       "      <th>paid_minutes</th>\n",
       "      <td>640</td>\n",
       "      <td>0</td>\n",
       "      <td>0</td>\n",
       "      <td>0</td>\n",
       "      <td>0</td>\n",
       "      <td>0</td>\n",
       "      <td>0</td>\n",
       "      <td>0</td>\n",
       "      <td>0</td>\n",
       "      <td>0</td>\n",
       "    </tr>\n",
       "    <tr>\n",
       "      <th>paid_messages</th>\n",
       "      <td>3</td>\n",
       "      <td>0</td>\n",
       "      <td>0</td>\n",
       "      <td>0</td>\n",
       "      <td>0</td>\n",
       "      <td>0</td>\n",
       "      <td>0</td>\n",
       "      <td>0</td>\n",
       "      <td>0</td>\n",
       "      <td>0</td>\n",
       "    </tr>\n",
       "    <tr>\n",
       "      <th>paid_mb</th>\n",
       "      <td>0</td>\n",
       "      <td>0</td>\n",
       "      <td>0</td>\n",
       "      <td>0</td>\n",
       "      <td>0</td>\n",
       "      <td>0</td>\n",
       "      <td>0</td>\n",
       "      <td>0</td>\n",
       "      <td>0</td>\n",
       "      <td>0</td>\n",
       "    </tr>\n",
       "    <tr>\n",
       "      <th>cost_minutes</th>\n",
       "      <td>19.2</td>\n",
       "      <td>0</td>\n",
       "      <td>0</td>\n",
       "      <td>0</td>\n",
       "      <td>0</td>\n",
       "      <td>0</td>\n",
       "      <td>0</td>\n",
       "      <td>0</td>\n",
       "      <td>0</td>\n",
       "      <td>0</td>\n",
       "    </tr>\n",
       "    <tr>\n",
       "      <th>cost_messages</th>\n",
       "      <td>0.09</td>\n",
       "      <td>0</td>\n",
       "      <td>0</td>\n",
       "      <td>0</td>\n",
       "      <td>0</td>\n",
       "      <td>0</td>\n",
       "      <td>0</td>\n",
       "      <td>0</td>\n",
       "      <td>0</td>\n",
       "      <td>0</td>\n",
       "    </tr>\n",
       "    <tr>\n",
       "      <th>cost_gb</th>\n",
       "      <td>0</td>\n",
       "      <td>0</td>\n",
       "      <td>0</td>\n",
       "      <td>0</td>\n",
       "      <td>0</td>\n",
       "      <td>0</td>\n",
       "      <td>0</td>\n",
       "      <td>0</td>\n",
       "      <td>0</td>\n",
       "      <td>0</td>\n",
       "    </tr>\n",
       "    <tr>\n",
       "      <th>total_cost</th>\n",
       "      <td>39.29</td>\n",
       "      <td>20</td>\n",
       "      <td>70</td>\n",
       "      <td>70</td>\n",
       "      <td>20</td>\n",
       "      <td>20</td>\n",
       "      <td>70</td>\n",
       "      <td>20</td>\n",
       "      <td>70</td>\n",
       "      <td>70</td>\n",
       "    </tr>\n",
       "  </tbody>\n",
       "</table>\n",
       "</div>"
      ],
      "text/plain": [
       "                                                4562  \\\n",
       "month                                              8   \n",
       "user_id                                         1365   \n",
       "first_name                                   Milford   \n",
       "last_name                                       Rush   \n",
       "age                                               19   \n",
       "city                   Grand Rapids-Kentwood, MI MSA   \n",
       "reg_date                         2018-02-09 00:00:00   \n",
       "tariff                                          surf   \n",
       "churn_date                       2018-02-09 00:00:00   \n",
       "month_in                                           2   \n",
       "month_out                                          2   \n",
       "mb_used                                         6342   \n",
       "sms_count                                         53   \n",
       "call_count                                       161   \n",
       "call_duration                                   1140   \n",
       "messages_included                                 50   \n",
       "mb_per_month_included                          15360   \n",
       "minutes_included                                 500   \n",
       "usd_monthly_pay                                   20   \n",
       "usd_per_gb                                        10   \n",
       "usd_per_message                                 0.03   \n",
       "usd_per_minute                                  0.03   \n",
       "paid_minutes                                     640   \n",
       "paid_messages                                      3   \n",
       "paid_mb                                            0   \n",
       "cost_minutes                                    19.2   \n",
       "cost_messages                                   0.09   \n",
       "cost_gb                                            0   \n",
       "total_cost                                     39.29   \n",
       "\n",
       "                                                            2457  \\\n",
       "month                                                          2   \n",
       "user_id                                                     1271   \n",
       "first_name                                                Darrin   \n",
       "last_name                                                   Rose   \n",
       "age                                                           48   \n",
       "city                   New York-Newark-Jersey City, NY-NJ-PA MSA   \n",
       "reg_date                                     2018-06-24 00:00:00   \n",
       "tariff                                                      surf   \n",
       "churn_date                                   2018-06-24 00:00:00   \n",
       "month_in                                                       6   \n",
       "month_out                                                      6   \n",
       "mb_used                                                        0   \n",
       "sms_count                                                      0   \n",
       "call_count                                                     0   \n",
       "call_duration                                                  0   \n",
       "messages_included                                             50   \n",
       "mb_per_month_included                                      15360   \n",
       "minutes_included                                             500   \n",
       "usd_monthly_pay                                               20   \n",
       "usd_per_gb                                                    10   \n",
       "usd_per_message                                             0.03   \n",
       "usd_per_minute                                              0.03   \n",
       "paid_minutes                                                   0   \n",
       "paid_messages                                                  0   \n",
       "paid_mb                                                        0   \n",
       "cost_minutes                                                   0   \n",
       "cost_messages                                                  0   \n",
       "cost_gb                                                        0   \n",
       "total_cost                                                    20   \n",
       "\n",
       "                                                         1194  \\\n",
       "month                                                       8   \n",
       "user_id                                                  1214   \n",
       "first_name                                               Emil   \n",
       "last_name                                              Robles   \n",
       "age                                                        34   \n",
       "city                   San Francisco-Oakland-Berkeley, CA MSA   \n",
       "reg_date                                  2018-01-01 00:00:00   \n",
       "tariff                                               ultimate   \n",
       "churn_date                                2018-01-01 00:00:00   \n",
       "month_in                                                    1   \n",
       "month_out                                                   1   \n",
       "mb_used                                                 18203   \n",
       "sms_count                                                  20   \n",
       "call_count                                                 64   \n",
       "call_duration                                             460   \n",
       "messages_included                                        1000   \n",
       "mb_per_month_included                                   30720   \n",
       "minutes_included                                         3000   \n",
       "usd_monthly_pay                                            70   \n",
       "usd_per_gb                                                  7   \n",
       "usd_per_message                                          0.01   \n",
       "usd_per_minute                                           0.01   \n",
       "paid_minutes                                                0   \n",
       "paid_messages                                               0   \n",
       "paid_mb                                                     0   \n",
       "cost_minutes                                                0   \n",
       "cost_messages                                               0   \n",
       "cost_gb                                                     0   \n",
       "total_cost                                                 70   \n",
       "\n",
       "                                                        946   \\\n",
       "month                                                      6   \n",
       "user_id                                                 1451   \n",
       "first_name                                            Lenard   \n",
       "last_name                                            Harding   \n",
       "age                                                       53   \n",
       "city                   Charlotte-Concord-Gastonia, NC-SC MSA   \n",
       "reg_date                                 2018-02-15 00:00:00   \n",
       "tariff                                              ultimate   \n",
       "churn_date                               2018-02-15 00:00:00   \n",
       "month_in                                                   2   \n",
       "month_out                                                  2   \n",
       "mb_used                                                    0   \n",
       "sms_count                                                  0   \n",
       "call_count                                                 0   \n",
       "call_duration                                              0   \n",
       "messages_included                                       1000   \n",
       "mb_per_month_included                                  30720   \n",
       "minutes_included                                        3000   \n",
       "usd_monthly_pay                                           70   \n",
       "usd_per_gb                                                 7   \n",
       "usd_per_message                                         0.01   \n",
       "usd_per_minute                                          0.01   \n",
       "paid_minutes                                               0   \n",
       "paid_messages                                              0   \n",
       "paid_mb                                                    0   \n",
       "cost_minutes                                               0   \n",
       "cost_messages                                              0   \n",
       "cost_gb                                                    0   \n",
       "total_cost                                                70   \n",
       "\n",
       "                                                  3871  \\\n",
       "month                                                6   \n",
       "user_id                                           1348   \n",
       "first_name                                        Carl   \n",
       "last_name                                     Rutledge   \n",
       "age                                                 60   \n",
       "city                   Detroit-Warren-Dearborn, MI MSA   \n",
       "reg_date                           2018-10-05 00:00:00   \n",
       "tariff                                            surf   \n",
       "churn_date                         2018-10-05 00:00:00   \n",
       "month_in                                            10   \n",
       "month_out                                           10   \n",
       "mb_used                                              0   \n",
       "sms_count                                            0   \n",
       "call_count                                           0   \n",
       "call_duration                                        0   \n",
       "messages_included                                   50   \n",
       "mb_per_month_included                            15360   \n",
       "minutes_included                                   500   \n",
       "usd_monthly_pay                                     20   \n",
       "usd_per_gb                                          10   \n",
       "usd_per_message                                   0.03   \n",
       "usd_per_minute                                    0.03   \n",
       "paid_minutes                                         0   \n",
       "paid_messages                                        0   \n",
       "paid_mb                                              0   \n",
       "cost_minutes                                         0   \n",
       "cost_messages                                        0   \n",
       "cost_gb                                              0   \n",
       "total_cost                                          20   \n",
       "\n",
       "                                                       4206  \\\n",
       "month                                                     7   \n",
       "user_id                                                1342   \n",
       "first_name                                           Eugene   \n",
       "last_name                                            Patton   \n",
       "age                                                      65   \n",
       "city                   Indianapolis-Carmel-Anderson, IN MSA   \n",
       "reg_date                                2018-10-21 00:00:00   \n",
       "tariff                                                 surf   \n",
       "churn_date                              2018-10-21 00:00:00   \n",
       "month_in                                                 10   \n",
       "month_out                                                10   \n",
       "mb_used                                                   0   \n",
       "sms_count                                                 0   \n",
       "call_count                                                0   \n",
       "call_duration                                             0   \n",
       "messages_included                                        50   \n",
       "mb_per_month_included                                 15360   \n",
       "minutes_included                                        500   \n",
       "usd_monthly_pay                                          20   \n",
       "usd_per_gb                                               10   \n",
       "usd_per_message                                        0.03   \n",
       "usd_per_minute                                         0.03   \n",
       "paid_minutes                                              0   \n",
       "paid_messages                                             0   \n",
       "paid_mb                                                   0   \n",
       "cost_minutes                                              0   \n",
       "cost_messages                                             0   \n",
       "cost_gb                                                   0   \n",
       "total_cost                                               20   \n",
       "\n",
       "                                                         89    \\\n",
       "month                                                       1   \n",
       "user_id                                                  1282   \n",
       "first_name                                             Annice   \n",
       "last_name                                             Calhoun   \n",
       "age                                                        61   \n",
       "city                   San Francisco-Oakland-Berkeley, CA MSA   \n",
       "reg_date                                  2018-11-01 00:00:00   \n",
       "tariff                                               ultimate   \n",
       "churn_date                                2018-11-01 00:00:00   \n",
       "month_in                                                   11   \n",
       "month_out                                                  11   \n",
       "mb_used                                                     0   \n",
       "sms_count                                                   0   \n",
       "call_count                                                  0   \n",
       "call_duration                                               0   \n",
       "messages_included                                        1000   \n",
       "mb_per_month_included                                   30720   \n",
       "minutes_included                                         3000   \n",
       "usd_monthly_pay                                            70   \n",
       "usd_per_gb                                                  7   \n",
       "usd_per_message                                          0.01   \n",
       "usd_per_minute                                           0.01   \n",
       "paid_minutes                                                0   \n",
       "paid_messages                                               0   \n",
       "paid_mb                                                     0   \n",
       "cost_minutes                                                0   \n",
       "cost_messages                                               0   \n",
       "cost_gb                                                     0   \n",
       "total_cost                                                 70   \n",
       "\n",
       "                                                                   4826  \\\n",
       "month                                                                 9   \n",
       "user_id                                                            1265   \n",
       "first_name                                                         Alec   \n",
       "last_name                                                         Henry   \n",
       "age                                                                  29   \n",
       "city                   Washington-Arlington-Alexandria, DC-VA-MD-WV MSA   \n",
       "reg_date                                            2018-11-23 00:00:00   \n",
       "tariff                                                             surf   \n",
       "churn_date                                          2018-11-23 00:00:00   \n",
       "month_in                                                             11   \n",
       "month_out                                                            11   \n",
       "mb_used                                                               0   \n",
       "sms_count                                                             0   \n",
       "call_count                                                            0   \n",
       "call_duration                                                         0   \n",
       "messages_included                                                    50   \n",
       "mb_per_month_included                                             15360   \n",
       "minutes_included                                                    500   \n",
       "usd_monthly_pay                                                      20   \n",
       "usd_per_gb                                                           10   \n",
       "usd_per_message                                                    0.03   \n",
       "usd_per_minute                                                     0.03   \n",
       "paid_minutes                                                          0   \n",
       "paid_messages                                                         0   \n",
       "paid_mb                                                               0   \n",
       "cost_minutes                                                          0   \n",
       "cost_messages                                                         0   \n",
       "cost_gb                                                               0   \n",
       "total_cost                                                           20   \n",
       "\n",
       "                                                                44    \\\n",
       "month                                                              1   \n",
       "user_id                                                         1135   \n",
       "first_name                                                    Scotty   \n",
       "last_name                                                      White   \n",
       "age                                                               51   \n",
       "city                   Miami-Fort Lauderdale-West Palm Beach, FL MSA   \n",
       "reg_date                                         2018-12-23 00:00:00   \n",
       "tariff                                                      ultimate   \n",
       "churn_date                                       2018-12-23 00:00:00   \n",
       "month_in                                                          12   \n",
       "month_out                                                         12   \n",
       "mb_used                                                            0   \n",
       "sms_count                                                          0   \n",
       "call_count                                                         0   \n",
       "call_duration                                                      0   \n",
       "messages_included                                               1000   \n",
       "mb_per_month_included                                          30720   \n",
       "minutes_included                                                3000   \n",
       "usd_monthly_pay                                                   70   \n",
       "usd_per_gb                                                         7   \n",
       "usd_per_message                                                 0.01   \n",
       "usd_per_minute                                                  0.01   \n",
       "paid_minutes                                                       0   \n",
       "paid_messages                                                      0   \n",
       "paid_mb                                                            0   \n",
       "cost_minutes                                                       0   \n",
       "cost_messages                                                      0   \n",
       "cost_gb                                                            0   \n",
       "total_cost                                                        70   \n",
       "\n",
       "                                                       1089  \n",
       "month                                                     7  \n",
       "user_id                                                1405  \n",
       "first_name                                           Shella  \n",
       "last_name                                            Hunter  \n",
       "age                                                      34  \n",
       "city                   Indianapolis-Carmel-Anderson, IN MSA  \n",
       "reg_date                                2018-06-22 00:00:00  \n",
       "tariff                                             ultimate  \n",
       "churn_date                              2018-06-22 00:00:00  \n",
       "month_in                                                  6  \n",
       "month_out                                                 6  \n",
       "mb_used                                               15941  \n",
       "sms_count                                                59  \n",
       "call_count                                               23  \n",
       "call_duration                                           190  \n",
       "messages_included                                      1000  \n",
       "mb_per_month_included                                 30720  \n",
       "minutes_included                                       3000  \n",
       "usd_monthly_pay                                          70  \n",
       "usd_per_gb                                                7  \n",
       "usd_per_message                                        0.01  \n",
       "usd_per_minute                                         0.01  \n",
       "paid_minutes                                              0  \n",
       "paid_messages                                             0  \n",
       "paid_mb                                                   0  \n",
       "cost_minutes                                              0  \n",
       "cost_messages                                             0  \n",
       "cost_gb                                                   0  \n",
       "total_cost                                               70  "
      ]
     },
     "execution_count": 94,
     "metadata": {},
     "output_type": "execute_result"
    }
   ],
   "source": [
    "df.sample(10).T"
   ]
  },
  {
   "cell_type": "markdown",
   "metadata": {},
   "source": [
    "Let's look at the median and average revenue for fares"
   ]
  },
  {
   "cell_type": "code",
   "execution_count": 95,
   "metadata": {},
   "outputs": [
    {
     "data": {
      "text/plain": [
       "tariff\n",
       "surf        32.941055\n",
       "ultimate    70.047101\n",
       "Name: total_cost, dtype: float64"
      ]
     },
     "execution_count": 95,
     "metadata": {},
     "output_type": "execute_result"
    }
   ],
   "source": [
    "\n",
    "df.groupby('tariff')['total_cost'].mean()"
   ]
  },
  {
   "cell_type": "code",
   "execution_count": 96,
   "metadata": {},
   "outputs": [
    {
     "data": {
      "text/plain": [
       "tariff\n",
       "surf        20.0\n",
       "ultimate    70.0\n",
       "Name: total_cost, dtype: float64"
      ]
     },
     "execution_count": 96,
     "metadata": {},
     "output_type": "execute_result"
    }
   ],
   "source": [
    "df.groupby('tariff')['total_cost'].median()"
   ]
  },
  {
   "cell_type": "markdown",
   "metadata": {},
   "source": [
    "### Let's build a boxplot  by revenue depending on the tariff"
   ]
  },
  {
   "cell_type": "code",
   "execution_count": 97,
   "metadata": {},
   "outputs": [
    {
     "data": {
      "text/plain": [
       "Text(0.5, 1.0, 'Revenue schedule in the context of two tariffs')"
      ]
     },
     "execution_count": 97,
     "metadata": {},
     "output_type": "execute_result"
    },
    {
     "data": {
      "image/png": "[encoded data removed]",
      "text/plain": [
       "<Figure size 720x576 with 1 Axes>"
      ]
     },
     "metadata": {
      "needs_background": "light"
     },
     "output_type": "display_data"
    }
   ],
   "source": [
    "\n",
    "df.boxplot('total_cost', by ='tariff', figsize=(10,8))\n",
    "plt.title(u'Revenue schedule in the context of two tariffs')"
   ]
  },
  {
   "cell_type": "markdown",
   "metadata": {},
   "source": [
    "Despite the fact that the Surf tariff is cheaper, it has more emissions. It is necessary to get rid of emissions and then the picture will become clearer."
   ]
  },
  {
   "cell_type": "markdown",
   "metadata": {},
   "source": [
    "### Get rid of it. \n",
    "\n",
    "To do this, I use the interquartile range, which I will apply to the sms_count, mb_used, and call_duration columns \n",
    "I will delete emissions separately for each column according to the tariffs"
   ]
  },
  {
   "cell_type": "code",
   "execution_count": 98,
   "metadata": {},
   "outputs": [],
   "source": [
    "def outlier(df, column,graphic=0,x=8,y=8):\n",
    "    \n",
    "    q1 = df[column].quantile(0.25)                 \n",
    "    q3 = df[column].quantile(0.75)\n",
    "     \n",
    "    iqr = q3 - q1\n",
    "    \n",
    "    filter = (df[column] >= (q1 - 1.5*iqr)) & (df[column] <= (q3 + 1.5*iqr))\n",
    "    if graphic == 1:\n",
    "        return df.loc[filter].boxplot([column], figsize=(x,y))\n",
    "    else:\n",
    "        return df.loc[filter]"
   ]
  },
  {
   "cell_type": "markdown",
   "metadata": {},
   "source": [
    "Now let's look at the rates and remove the emissions"
   ]
  },
  {
   "cell_type": "code",
   "execution_count": 99,
   "metadata": {},
   "outputs": [],
   "source": [
    "surf_outlier = df[df['tariff']=='surf']\n",
    "surf_outlier = outlier(surf_outlier,'sms_count',0)\n",
    "\n",
    "for feature in ['mb_used','call_duration']:\n",
    "    surf_outlier = outlier(surf_outlier,feature,0)\n"
   ]
  },
  {
   "cell_type": "code",
   "execution_count": 100,
   "metadata": {},
   "outputs": [],
   "source": [
    "ultimate_outlier = df[df['tariff']=='ultimate']\n",
    "ultimate_outlier = outlier(ultimate_outlier,'sms_count',0)\n",
    "\n",
    "for feature in ['mb_used','call_duration']:\n",
    "    ultimate_outlier = outlier(ultimate_outlier,feature,0)\n",
    "\n"
   ]
  },
  {
   "cell_type": "code",
   "execution_count": 101,
   "metadata": {},
   "outputs": [
    {
     "data": {
      "text/html": [
       "<div>\n",
       "<style scoped>\n",
       "    .dataframe tbody tr th:only-of-type {\n",
       "        vertical-align: middle;\n",
       "    }\n",
       "\n",
       "    .dataframe tbody tr th {\n",
       "        vertical-align: top;\n",
       "    }\n",
       "\n",
       "    .dataframe thead th {\n",
       "        text-align: right;\n",
       "    }\n",
       "</style>\n",
       "<table border=\"1\" class=\"dataframe\">\n",
       "  <thead>\n",
       "    <tr style=\"text-align: right;\">\n",
       "      <th></th>\n",
       "      <th>0</th>\n",
       "      <th>1</th>\n",
       "      <th>2</th>\n",
       "      <th>3</th>\n",
       "    </tr>\n",
       "  </thead>\n",
       "  <tbody>\n",
       "    <tr>\n",
       "      <th>month</th>\n",
       "      <td>1</td>\n",
       "      <td>1</td>\n",
       "      <td>1</td>\n",
       "      <td>1</td>\n",
       "    </tr>\n",
       "    <tr>\n",
       "      <th>user_id</th>\n",
       "      <td>1000</td>\n",
       "      <td>1006</td>\n",
       "      <td>1008</td>\n",
       "      <td>1011</td>\n",
       "    </tr>\n",
       "    <tr>\n",
       "      <th>first_name</th>\n",
       "      <td>Anamaria</td>\n",
       "      <td>Jesusa</td>\n",
       "      <td>Emely</td>\n",
       "      <td>Halina</td>\n",
       "    </tr>\n",
       "    <tr>\n",
       "      <th>last_name</th>\n",
       "      <td>Bauer</td>\n",
       "      <td>Bradford</td>\n",
       "      <td>Hoffman</td>\n",
       "      <td>Henry</td>\n",
       "    </tr>\n",
       "    <tr>\n",
       "      <th>age</th>\n",
       "      <td>45</td>\n",
       "      <td>73</td>\n",
       "      <td>53</td>\n",
       "      <td>73</td>\n",
       "    </tr>\n",
       "    <tr>\n",
       "      <th>city</th>\n",
       "      <td>Atlanta-Sandy Springs-Roswell, GA MSA</td>\n",
       "      <td>San Francisco-Oakland-Berkeley, CA MSA</td>\n",
       "      <td>Orlando-Kissimmee-Sanford, FL MSA</td>\n",
       "      <td>Cleveland-Elyria, OH MSA</td>\n",
       "    </tr>\n",
       "    <tr>\n",
       "      <th>reg_date</th>\n",
       "      <td>2018-12-24 00:00:00</td>\n",
       "      <td>2018-11-27 00:00:00</td>\n",
       "      <td>2018-08-03 00:00:00</td>\n",
       "      <td>2018-01-18 00:00:00</td>\n",
       "    </tr>\n",
       "    <tr>\n",
       "      <th>tariff</th>\n",
       "      <td>ultimate</td>\n",
       "      <td>ultimate</td>\n",
       "      <td>ultimate</td>\n",
       "      <td>ultimate</td>\n",
       "    </tr>\n",
       "    <tr>\n",
       "      <th>churn_date</th>\n",
       "      <td>2018-12-24 00:00:00</td>\n",
       "      <td>2018-11-27 00:00:00</td>\n",
       "      <td>2018-08-03 00:00:00</td>\n",
       "      <td>2018-01-18 00:00:00</td>\n",
       "    </tr>\n",
       "    <tr>\n",
       "      <th>month_in</th>\n",
       "      <td>12</td>\n",
       "      <td>11</td>\n",
       "      <td>8</td>\n",
       "      <td>1</td>\n",
       "    </tr>\n",
       "    <tr>\n",
       "      <th>month_out</th>\n",
       "      <td>12</td>\n",
       "      <td>11</td>\n",
       "      <td>8</td>\n",
       "      <td>1</td>\n",
       "    </tr>\n",
       "    <tr>\n",
       "      <th>mb_used</th>\n",
       "      <td>0</td>\n",
       "      <td>0</td>\n",
       "      <td>0</td>\n",
       "      <td>0</td>\n",
       "    </tr>\n",
       "    <tr>\n",
       "      <th>sms_count</th>\n",
       "      <td>0</td>\n",
       "      <td>0</td>\n",
       "      <td>0</td>\n",
       "      <td>0</td>\n",
       "    </tr>\n",
       "    <tr>\n",
       "      <th>call_count</th>\n",
       "      <td>0</td>\n",
       "      <td>0</td>\n",
       "      <td>0</td>\n",
       "      <td>0</td>\n",
       "    </tr>\n",
       "    <tr>\n",
       "      <th>call_duration</th>\n",
       "      <td>0</td>\n",
       "      <td>0</td>\n",
       "      <td>0</td>\n",
       "      <td>0</td>\n",
       "    </tr>\n",
       "    <tr>\n",
       "      <th>messages_included</th>\n",
       "      <td>1000</td>\n",
       "      <td>1000</td>\n",
       "      <td>1000</td>\n",
       "      <td>1000</td>\n",
       "    </tr>\n",
       "    <tr>\n",
       "      <th>mb_per_month_included</th>\n",
       "      <td>30720</td>\n",
       "      <td>30720</td>\n",
       "      <td>30720</td>\n",
       "      <td>30720</td>\n",
       "    </tr>\n",
       "    <tr>\n",
       "      <th>minutes_included</th>\n",
       "      <td>3000</td>\n",
       "      <td>3000</td>\n",
       "      <td>3000</td>\n",
       "      <td>3000</td>\n",
       "    </tr>\n",
       "    <tr>\n",
       "      <th>usd_monthly_pay</th>\n",
       "      <td>70</td>\n",
       "      <td>70</td>\n",
       "      <td>70</td>\n",
       "      <td>70</td>\n",
       "    </tr>\n",
       "    <tr>\n",
       "      <th>usd_per_gb</th>\n",
       "      <td>7</td>\n",
       "      <td>7</td>\n",
       "      <td>7</td>\n",
       "      <td>7</td>\n",
       "    </tr>\n",
       "    <tr>\n",
       "      <th>usd_per_message</th>\n",
       "      <td>0.01</td>\n",
       "      <td>0.01</td>\n",
       "      <td>0.01</td>\n",
       "      <td>0.01</td>\n",
       "    </tr>\n",
       "    <tr>\n",
       "      <th>usd_per_minute</th>\n",
       "      <td>0.01</td>\n",
       "      <td>0.01</td>\n",
       "      <td>0.01</td>\n",
       "      <td>0.01</td>\n",
       "    </tr>\n",
       "    <tr>\n",
       "      <th>paid_minutes</th>\n",
       "      <td>0</td>\n",
       "      <td>0</td>\n",
       "      <td>0</td>\n",
       "      <td>0</td>\n",
       "    </tr>\n",
       "    <tr>\n",
       "      <th>paid_messages</th>\n",
       "      <td>0</td>\n",
       "      <td>0</td>\n",
       "      <td>0</td>\n",
       "      <td>0</td>\n",
       "    </tr>\n",
       "    <tr>\n",
       "      <th>paid_mb</th>\n",
       "      <td>0</td>\n",
       "      <td>0</td>\n",
       "      <td>0</td>\n",
       "      <td>0</td>\n",
       "    </tr>\n",
       "    <tr>\n",
       "      <th>cost_minutes</th>\n",
       "      <td>0</td>\n",
       "      <td>0</td>\n",
       "      <td>0</td>\n",
       "      <td>0</td>\n",
       "    </tr>\n",
       "    <tr>\n",
       "      <th>cost_messages</th>\n",
       "      <td>0</td>\n",
       "      <td>0</td>\n",
       "      <td>0</td>\n",
       "      <td>0</td>\n",
       "    </tr>\n",
       "    <tr>\n",
       "      <th>cost_gb</th>\n",
       "      <td>0</td>\n",
       "      <td>0</td>\n",
       "      <td>0</td>\n",
       "      <td>0</td>\n",
       "    </tr>\n",
       "    <tr>\n",
       "      <th>total_cost</th>\n",
       "      <td>70</td>\n",
       "      <td>70</td>\n",
       "      <td>70</td>\n",
       "      <td>70</td>\n",
       "    </tr>\n",
       "  </tbody>\n",
       "</table>\n",
       "</div>"
      ],
      "text/plain": [
       "                                                           0  \\\n",
       "month                                                      1   \n",
       "user_id                                                 1000   \n",
       "first_name                                          Anamaria   \n",
       "last_name                                              Bauer   \n",
       "age                                                       45   \n",
       "city                   Atlanta-Sandy Springs-Roswell, GA MSA   \n",
       "reg_date                                 2018-12-24 00:00:00   \n",
       "tariff                                              ultimate   \n",
       "churn_date                               2018-12-24 00:00:00   \n",
       "month_in                                                  12   \n",
       "month_out                                                 12   \n",
       "mb_used                                                    0   \n",
       "sms_count                                                  0   \n",
       "call_count                                                 0   \n",
       "call_duration                                              0   \n",
       "messages_included                                       1000   \n",
       "mb_per_month_included                                  30720   \n",
       "minutes_included                                        3000   \n",
       "usd_monthly_pay                                           70   \n",
       "usd_per_gb                                                 7   \n",
       "usd_per_message                                         0.01   \n",
       "usd_per_minute                                          0.01   \n",
       "paid_minutes                                               0   \n",
       "paid_messages                                              0   \n",
       "paid_mb                                                    0   \n",
       "cost_minutes                                               0   \n",
       "cost_messages                                              0   \n",
       "cost_gb                                                    0   \n",
       "total_cost                                                70   \n",
       "\n",
       "                                                            1  \\\n",
       "month                                                       1   \n",
       "user_id                                                  1006   \n",
       "first_name                                             Jesusa   \n",
       "last_name                                            Bradford   \n",
       "age                                                        73   \n",
       "city                   San Francisco-Oakland-Berkeley, CA MSA   \n",
       "reg_date                                  2018-11-27 00:00:00   \n",
       "tariff                                               ultimate   \n",
       "churn_date                                2018-11-27 00:00:00   \n",
       "month_in                                                   11   \n",
       "month_out                                                  11   \n",
       "mb_used                                                     0   \n",
       "sms_count                                                   0   \n",
       "call_count                                                  0   \n",
       "call_duration                                               0   \n",
       "messages_included                                        1000   \n",
       "mb_per_month_included                                   30720   \n",
       "minutes_included                                         3000   \n",
       "usd_monthly_pay                                            70   \n",
       "usd_per_gb                                                  7   \n",
       "usd_per_message                                          0.01   \n",
       "usd_per_minute                                           0.01   \n",
       "paid_minutes                                                0   \n",
       "paid_messages                                               0   \n",
       "paid_mb                                                     0   \n",
       "cost_minutes                                                0   \n",
       "cost_messages                                               0   \n",
       "cost_gb                                                     0   \n",
       "total_cost                                                 70   \n",
       "\n",
       "                                                       2  \\\n",
       "month                                                  1   \n",
       "user_id                                             1008   \n",
       "first_name                                         Emely   \n",
       "last_name                                        Hoffman   \n",
       "age                                                   53   \n",
       "city                   Orlando-Kissimmee-Sanford, FL MSA   \n",
       "reg_date                             2018-08-03 00:00:00   \n",
       "tariff                                          ultimate   \n",
       "churn_date                           2018-08-03 00:00:00   \n",
       "month_in                                               8   \n",
       "month_out                                              8   \n",
       "mb_used                                                0   \n",
       "sms_count                                              0   \n",
       "call_count                                             0   \n",
       "call_duration                                          0   \n",
       "messages_included                                   1000   \n",
       "mb_per_month_included                              30720   \n",
       "minutes_included                                    3000   \n",
       "usd_monthly_pay                                       70   \n",
       "usd_per_gb                                             7   \n",
       "usd_per_message                                     0.01   \n",
       "usd_per_minute                                      0.01   \n",
       "paid_minutes                                           0   \n",
       "paid_messages                                          0   \n",
       "paid_mb                                                0   \n",
       "cost_minutes                                           0   \n",
       "cost_messages                                          0   \n",
       "cost_gb                                                0   \n",
       "total_cost                                            70   \n",
       "\n",
       "                                              3  \n",
       "month                                         1  \n",
       "user_id                                    1011  \n",
       "first_name                               Halina  \n",
       "last_name                                 Henry  \n",
       "age                                          73  \n",
       "city                   Cleveland-Elyria, OH MSA  \n",
       "reg_date                    2018-01-18 00:00:00  \n",
       "tariff                                 ultimate  \n",
       "churn_date                  2018-01-18 00:00:00  \n",
       "month_in                                      1  \n",
       "month_out                                     1  \n",
       "mb_used                                       0  \n",
       "sms_count                                     0  \n",
       "call_count                                    0  \n",
       "call_duration                                 0  \n",
       "messages_included                          1000  \n",
       "mb_per_month_included                     30720  \n",
       "minutes_included                           3000  \n",
       "usd_monthly_pay                              70  \n",
       "usd_per_gb                                    7  \n",
       "usd_per_message                            0.01  \n",
       "usd_per_minute                             0.01  \n",
       "paid_minutes                                  0  \n",
       "paid_messages                                 0  \n",
       "paid_mb                                       0  \n",
       "cost_minutes                                  0  \n",
       "cost_messages                                 0  \n",
       "cost_gb                                       0  \n",
       "total_cost                                   70  "
      ]
     },
     "execution_count": 101,
     "metadata": {},
     "output_type": "execute_result"
    }
   ],
   "source": [
    "df.head(4).T"
   ]
  },
  {
   "cell_type": "markdown",
   "metadata": {},
   "source": [
    "# Step 3. Analyse the data <a class=\"anchor\" id=\"4\"></a>\n",
    "\n",
    "\n",
    "Describe the clients' behavior. For the users of each of the plans, find the number of minutes and SMS and the volume of web traffic they require per month. Calculate the mean, variance and standard deviation. Plot histograms. Describe the distributions."
   ]
  },
  {
   "cell_type": "markdown",
   "metadata": {},
   "source": [
    "Let's determine how many minutes of conversation, how many messages, and how much Internet traffic users need for each tariff per month"
   ]
  },
  {
   "cell_type": "code",
   "execution_count": 102,
   "metadata": {},
   "outputs": [
    {
     "data": {
      "text/plain": [
       "month                        6.50\n",
       "user_id                   1249.50\n",
       "age                         46.00\n",
       "month_in                     6.00\n",
       "month_out                    6.00\n",
       "mb_used                      0.00\n",
       "sms_count                    0.00\n",
       "call_count                   0.00\n",
       "call_duration                0.00\n",
       "messages_included           50.00\n",
       "mb_per_month_included    15360.00\n",
       "minutes_included           500.00\n",
       "usd_monthly_pay             20.00\n",
       "usd_per_gb                  10.00\n",
       "usd_per_message              0.03\n",
       "usd_per_minute               0.03\n",
       "paid_minutes                 0.00\n",
       "paid_messages                0.00\n",
       "paid_mb                      0.00\n",
       "cost_minutes                 0.00\n",
       "cost_messages                0.00\n",
       "cost_gb                      0.00\n",
       "total_cost                  20.78\n",
       "dtype: float64"
      ]
     },
     "execution_count": 102,
     "metadata": {},
     "output_type": "execute_result"
    }
   ],
   "source": [
    "df.median()"
   ]
  },
  {
   "cell_type": "code",
   "execution_count": 103,
   "metadata": {},
   "outputs": [
    {
     "data": {
      "text/plain": [
       "month                        6.500000\n",
       "user_id                   1249.500000\n",
       "age                         45.486000\n",
       "month_in                     6.290000\n",
       "month_out                    6.290000\n",
       "mb_used                   5889.065833\n",
       "sms_count                   12.675167\n",
       "call_count                  22.955833\n",
       "call_duration              168.530167\n",
       "messages_included          355.900000\n",
       "mb_per_month_included    20305.920000\n",
       "minutes_included          1305.000000\n",
       "usd_monthly_pay             36.100000\n",
       "usd_per_gb                   9.034000\n",
       "usd_per_message              0.023560\n",
       "usd_per_minute               0.023560\n",
       "paid_minutes                17.796000\n",
       "paid_messages                1.838500\n",
       "paid_mb                    764.239167\n",
       "cost_minutes                 0.533880\n",
       "cost_messages                0.055155\n",
       "cost_gb                      8.200167\n",
       "total_cost                  44.889202\n",
       "dtype: float64"
      ]
     },
     "execution_count": 103,
     "metadata": {},
     "output_type": "execute_result"
    }
   ],
   "source": [
    "df.mean()"
   ]
  },
  {
   "cell_type": "markdown",
   "metadata": {},
   "source": [
    "Look at the length of conversations in terms of rates, as well as the variance and standard deviation"
   ]
  },
  {
   "cell_type": "code",
   "execution_count": 104,
   "metadata": {},
   "outputs": [
    {
     "data": {
      "text/html": [
       "<style  type=\"text/css\" >\n",
       "</style><table id=\"T_b352d788_8b0e_11ea_ac8a_38f9d3bb4b3a\" ><thead>    <tr>        <th class=\"blank level0\" ></th>        <th class=\"col_heading level0 col0\" colspan=4>call_duration</th>    </tr>    <tr>        <th class=\"blank level1\" ></th>        <th class=\"col_heading level1 col0\" >mean</th>        <th class=\"col_heading level1 col1\" >median</th>        <th class=\"col_heading level1 col2\" >var</th>        <th class=\"col_heading level1 col3\" >std</th>    </tr>    <tr>        <th class=\"index_name level0\" >tariff</th>        <th class=\"blank\" ></th>        <th class=\"blank\" ></th>        <th class=\"blank\" ></th>        <th class=\"blank\" ></th>    </tr></thead><tbody>\n",
       "                <tr>\n",
       "                        <th id=\"T_b352d788_8b0e_11ea_ac8a_38f9d3bb4b3alevel0_row0\" class=\"row_heading level0 row0\" >surf</th>\n",
       "                        <td id=\"T_b352d788_8b0e_11ea_ac8a_38f9d3bb4b3arow0_col0\" class=\"data row0 col0\" >170.26</td>\n",
       "                        <td id=\"T_b352d788_8b0e_11ea_ac8a_38f9d3bb4b3arow0_col1\" class=\"data row0 col1\" >0.00</td>\n",
       "                        <td id=\"T_b352d788_8b0e_11ea_ac8a_38f9d3bb4b3arow0_col2\" class=\"data row0 col2\" >68312.18</td>\n",
       "                        <td id=\"T_b352d788_8b0e_11ea_ac8a_38f9d3bb4b3arow0_col3\" class=\"data row0 col3\" >261.37</td>\n",
       "            </tr>\n",
       "            <tr>\n",
       "                        <th id=\"T_b352d788_8b0e_11ea_ac8a_38f9d3bb4b3alevel0_row1\" class=\"row_heading level0 row1\" >ultimate</th>\n",
       "                        <td id=\"T_b352d788_8b0e_11ea_ac8a_38f9d3bb4b3arow1_col0\" class=\"data row1 col0\" >164.88</td>\n",
       "                        <td id=\"T_b352d788_8b0e_11ea_ac8a_38f9d3bb4b3arow1_col1\" class=\"data row1 col1\" >0.00</td>\n",
       "                        <td id=\"T_b352d788_8b0e_11ea_ac8a_38f9d3bb4b3arow1_col2\" class=\"data row1 col2\" >68453.56</td>\n",
       "                        <td id=\"T_b352d788_8b0e_11ea_ac8a_38f9d3bb4b3arow1_col3\" class=\"data row1 col3\" >261.64</td>\n",
       "            </tr>\n",
       "    </tbody></table>"
      ],
      "text/plain": [
       "<pandas.io.formats.style.Styler at 0x11c3a0048>"
      ]
     },
     "execution_count": 104,
     "metadata": {},
     "output_type": "execute_result"
    }
   ],
   "source": [
    "df\\\n",
    "    .groupby('tariff')\\\n",
    "    .agg({'call_duration':['mean', 'median','var','std']})\\\n",
    "    .style.format(\"{:.2f}\")"
   ]
  },
  {
   "cell_type": "code",
   "execution_count": 105,
   "metadata": {},
   "outputs": [
    {
     "data": {
      "text/plain": [
       "Text(0.5, 1.0, 'duration of calls in the surf tariff')"
      ]
     },
     "execution_count": 105,
     "metadata": {},
     "output_type": "execute_result"
    },
    {
     "data": {
      "image/png": "[encoded data removed]",
      "text/plain": [
       "<Figure size 432x288 with 1 Axes>"
      ]
     },
     "metadata": {
      "needs_background": "light"
     },
     "output_type": "display_data"
    }
   ],
   "source": [
    "df[df['tariff']=='surf']['call_duration'].hist(bins=30, range = (1,800))\n",
    "plt.xlabel('Duration')\n",
    "plt.ylabel('Quantity')\n",
    "plt.title('duration of calls in the surf tariff')"
   ]
  },
  {
   "cell_type": "code",
   "execution_count": 106,
   "metadata": {},
   "outputs": [
    {
     "data": {
      "text/plain": [
       "Text(0.5, 1.0, 'duration of calls in the ultimate tariff')"
      ]
     },
     "execution_count": 106,
     "metadata": {},
     "output_type": "execute_result"
    },
    {
     "data": {
      "image/png": "[encoded data removed]",
      "text/plain": [
       "<Figure size 432x288 with 1 Axes>"
      ]
     },
     "metadata": {
      "needs_background": "light"
     },
     "output_type": "display_data"
    }
   ],
   "source": [
    "df[df['tariff']=='ultimate']['call_duration'].hist(bins=30, range = (1,800))\n",
    "plt.xlabel('Duration')\n",
    "plt.ylabel('Quantity')\n",
    "plt.title('duration of calls in the ultimate tariff')"
   ]
  },
  {
   "cell_type": "markdown",
   "metadata": {},
   "source": [
    "Let's determine the number of messages that users of the surf and ultimate fare need, as well as the variance and standard deviation"
   ]
  },
  {
   "cell_type": "code",
   "execution_count": 107,
   "metadata": {},
   "outputs": [
    {
     "data": {
      "text/html": [
       "<style  type=\"text/css\" >\n",
       "</style><table id=\"T_b3a79fb6_8b0e_11ea_ac8a_38f9d3bb4b3a\" ><thead>    <tr>        <th class=\"blank level0\" ></th>        <th class=\"col_heading level0 col0\" colspan=4>sms_count</th>    </tr>    <tr>        <th class=\"blank level1\" ></th>        <th class=\"col_heading level1 col0\" >mean</th>        <th class=\"col_heading level1 col1\" >median</th>        <th class=\"col_heading level1 col2\" >var</th>        <th class=\"col_heading level1 col3\" >std</th>    </tr>    <tr>        <th class=\"index_name level0\" >tariff</th>        <th class=\"blank\" ></th>        <th class=\"blank\" ></th>        <th class=\"blank\" ></th>        <th class=\"blank\" ></th>    </tr></thead><tbody>\n",
       "                <tr>\n",
       "                        <th id=\"T_b3a79fb6_8b0e_11ea_ac8a_38f9d3bb4b3alevel0_row0\" class=\"row_heading level0 row0\" >surf</th>\n",
       "                        <td id=\"T_b3a79fb6_8b0e_11ea_ac8a_38f9d3bb4b3arow0_col0\" class=\"data row0 col0\" >12.05</td>\n",
       "                        <td id=\"T_b3a79fb6_8b0e_11ea_ac8a_38f9d3bb4b3arow0_col1\" class=\"data row0 col1\" >0.00</td>\n",
       "                        <td id=\"T_b3a79fb6_8b0e_11ea_ac8a_38f9d3bb4b3arow0_col2\" class=\"data row0 col2\" >665.83</td>\n",
       "                        <td id=\"T_b3a79fb6_8b0e_11ea_ac8a_38f9d3bb4b3arow0_col3\" class=\"data row0 col3\" >25.80</td>\n",
       "            </tr>\n",
       "            <tr>\n",
       "                        <th id=\"T_b3a79fb6_8b0e_11ea_ac8a_38f9d3bb4b3alevel0_row1\" class=\"row_heading level0 row1\" >ultimate</th>\n",
       "                        <td id=\"T_b3a79fb6_8b0e_11ea_ac8a_38f9d3bb4b3arow1_col0\" class=\"data row1 col0\" >13.99</td>\n",
       "                        <td id=\"T_b3a79fb6_8b0e_11ea_ac8a_38f9d3bb4b3arow1_col1\" class=\"data row1 col1\" >0.00</td>\n",
       "                        <td id=\"T_b3a79fb6_8b0e_11ea_ac8a_38f9d3bb4b3arow1_col2\" class=\"data row1 col2\" >779.91</td>\n",
       "                        <td id=\"T_b3a79fb6_8b0e_11ea_ac8a_38f9d3bb4b3arow1_col3\" class=\"data row1 col3\" >27.93</td>\n",
       "            </tr>\n",
       "    </tbody></table>"
      ],
      "text/plain": [
       "<pandas.io.formats.style.Styler at 0x11e4bc278>"
      ]
     },
     "execution_count": 107,
     "metadata": {},
     "output_type": "execute_result"
    }
   ],
   "source": [
    "df\\\n",
    "    .groupby('tariff')\\\n",
    "    .agg({'sms_count':['mean','median','var','std']})\\\n",
    "    .style.format(\"{:.2f}\")"
   ]
  },
  {
   "cell_type": "code",
   "execution_count": 108,
   "metadata": {},
   "outputs": [
    {
     "data": {
      "text/plain": [
       "Text(0.5, 1.0, 'Quantity of sms in the ultimate tariff')"
      ]
     },
     "execution_count": 108,
     "metadata": {},
     "output_type": "execute_result"
    },
    {
     "data": {
      "image/png": "[encoded data removed]",
      "text/plain": [
       "<Figure size 432x288 with 1 Axes>"
      ]
     },
     "metadata": {
      "needs_background": "light"
     },
     "output_type": "display_data"
    }
   ],
   "source": [
    "df[df['tariff']=='ultimate']['sms_count'].hist(bins=30, range = (1,200))\n",
    "plt.xlabel('Quantity')\n",
    "plt.ylabel('frequency')\n",
    "plt.title('Quantity of sms in the ultimate tariff')"
   ]
  },
  {
   "cell_type": "code",
   "execution_count": 109,
   "metadata": {},
   "outputs": [
    {
     "data": {
      "text/plain": [
       "Text(0.5, 1.0, 'Quantity of sms in the surf tariff')"
      ]
     },
     "execution_count": 109,
     "metadata": {},
     "output_type": "execute_result"
    },
    {
     "data": {
      "image/png": "[encoded data removed]",
      "text/plain": [
       "<Figure size 432x288 with 1 Axes>"
      ]
     },
     "metadata": {
      "needs_background": "light"
     },
     "output_type": "display_data"
    }
   ],
   "source": [
    "df[df['tariff']=='surf']['sms_count'].hist(bins=30, range = (1,200))\n",
    "plt.xlabel('Quantity')\n",
    "plt.ylabel('frequency')\n",
    "plt.title('Quantity of sms in the surf tariff')"
   ]
  },
  {
   "cell_type": "markdown",
   "metadata": {},
   "source": [
    "We can clearly see that ultimate's users need more text messages))"
   ]
  },
  {
   "cell_type": "markdown",
   "metadata": {},
   "source": [
    "Let's determine the amount of traffic that users of the surf and ultimate fare need, as well as the variance and standard deviation"
   ]
  },
  {
   "cell_type": "code",
   "execution_count": 110,
   "metadata": {},
   "outputs": [
    {
     "data": {
      "text/html": [
       "<style  type=\"text/css\" >\n",
       "</style><table id=\"T_b41548a4_8b0e_11ea_ac8a_38f9d3bb4b3a\" ><thead>    <tr>        <th class=\"blank level0\" ></th>        <th class=\"col_heading level0 col0\" colspan=4>mb_used</th>    </tr>    <tr>        <th class=\"blank level1\" ></th>        <th class=\"col_heading level1 col0\" >median</th>        <th class=\"col_heading level1 col1\" >mean</th>        <th class=\"col_heading level1 col2\" >var</th>        <th class=\"col_heading level1 col3\" >std</th>    </tr>    <tr>        <th class=\"index_name level0\" >tariff</th>        <th class=\"blank\" ></th>        <th class=\"blank\" ></th>        <th class=\"blank\" ></th>        <th class=\"blank\" ></th>    </tr></thead><tbody>\n",
       "                <tr>\n",
       "                        <th id=\"T_b41548a4_8b0e_11ea_ac8a_38f9d3bb4b3alevel0_row0\" class=\"row_heading level0 row0\" >surf</th>\n",
       "                        <td id=\"T_b41548a4_8b0e_11ea_ac8a_38f9d3bb4b3arow0_col0\" class=\"data row0 col0\" >0.00</td>\n",
       "                        <td id=\"T_b41548a4_8b0e_11ea_ac8a_38f9d3bb4b3arow0_col1\" class=\"data row0 col1\" >5929.21</td>\n",
       "                        <td id=\"T_b41548a4_8b0e_11ea_ac8a_38f9d3bb4b3arow0_col2\" class=\"data row0 col2\" >76589125.84</td>\n",
       "                        <td id=\"T_b41548a4_8b0e_11ea_ac8a_38f9d3bb4b3arow0_col3\" class=\"data row0 col3\" >8751.52</td>\n",
       "            </tr>\n",
       "            <tr>\n",
       "                        <th id=\"T_b41548a4_8b0e_11ea_ac8a_38f9d3bb4b3alevel0_row1\" class=\"row_heading level0 row1\" >ultimate</th>\n",
       "                        <td id=\"T_b41548a4_8b0e_11ea_ac8a_38f9d3bb4b3arow1_col0\" class=\"data row1 col0\" >0.00</td>\n",
       "                        <td id=\"T_b41548a4_8b0e_11ea_ac8a_38f9d3bb4b3arow1_col1\" class=\"data row1 col1\" >5804.54</td>\n",
       "                        <td id=\"T_b41548a4_8b0e_11ea_ac8a_38f9d3bb4b3arow1_col2\" class=\"data row1 col2\" >76653549.07</td>\n",
       "                        <td id=\"T_b41548a4_8b0e_11ea_ac8a_38f9d3bb4b3arow1_col3\" class=\"data row1 col3\" >8755.20</td>\n",
       "            </tr>\n",
       "    </tbody></table>"
      ],
      "text/plain": [
       "<pandas.io.formats.style.Styler at 0x11f1901d0>"
      ]
     },
     "execution_count": 110,
     "metadata": {},
     "output_type": "execute_result"
    }
   ],
   "source": [
    "df\\\n",
    "    .groupby('tariff')\\\n",
    "    .agg({'mb_used':['median','mean','var','std']})\\\n",
    "    .style.format(\"{:.2f}\")"
   ]
  },
  {
   "cell_type": "code",
   "execution_count": 111,
   "metadata": {},
   "outputs": [
    {
     "data": {
      "text/plain": [
       "Text(0.5, 1.0, 'Quantity mb in surf')"
      ]
     },
     "execution_count": 111,
     "metadata": {},
     "output_type": "execute_result"
    },
    {
     "data": {
      "image/png": "[encoded data removed]",
      "text/plain": [
       "<Figure size 432x288 with 1 Axes>"
      ]
     },
     "metadata": {
      "needs_background": "light"
     },
     "output_type": "display_data"
    }
   ],
   "source": [
    "df[df['tariff']=='surf']['mb_used'].hist(bins=30, range = (1,30000))\n",
    "plt.xlabel('Quantity mb')\n",
    "plt.ylabel('frequency')\n",
    "plt.title('Quantity mb in surf')"
   ]
  },
  {
   "cell_type": "code",
   "execution_count": 112,
   "metadata": {},
   "outputs": [
    {
     "data": {
      "text/plain": [
       "Text(0.5, 1.0, 'Quantity mb in ultimate')"
      ]
     },
     "execution_count": 112,
     "metadata": {},
     "output_type": "execute_result"
    },
    {
     "data": {
      "image/png": "[encoded data removed]",
      "text/plain": [
       "<Figure size 432x288 with 1 Axes>"
      ]
     },
     "metadata": {
      "needs_background": "light"
     },
     "output_type": "display_data"
    }
   ],
   "source": [
    "df[df['tariff']=='ultimate']['mb_used'].hist(bins=30, range=(1,30000))\n",
    "plt.xlabel('Quantity mb')\n",
    "plt.ylabel('frequency')\n",
    "plt.title('Quantity mb in ultimate')"
   ]
  },
  {
   "cell_type": "code",
   "execution_count": 113,
   "metadata": {},
   "outputs": [
    {
     "data": {
      "text/html": [
       "<div>\n",
       "<style scoped>\n",
       "    .dataframe tbody tr th:only-of-type {\n",
       "        vertical-align: middle;\n",
       "    }\n",
       "\n",
       "    .dataframe tbody tr th {\n",
       "        vertical-align: top;\n",
       "    }\n",
       "\n",
       "    .dataframe thead th {\n",
       "        text-align: right;\n",
       "    }\n",
       "</style>\n",
       "<table border=\"1\" class=\"dataframe\">\n",
       "  <thead>\n",
       "    <tr style=\"text-align: right;\">\n",
       "      <th></th>\n",
       "      <th>month</th>\n",
       "      <th>user_id</th>\n",
       "      <th>age</th>\n",
       "      <th>month_in</th>\n",
       "      <th>month_out</th>\n",
       "      <th>mb_used</th>\n",
       "      <th>sms_count</th>\n",
       "      <th>call_count</th>\n",
       "      <th>call_duration</th>\n",
       "      <th>messages_included</th>\n",
       "      <th>...</th>\n",
       "      <th>usd_per_gb</th>\n",
       "      <th>usd_per_message</th>\n",
       "      <th>usd_per_minute</th>\n",
       "      <th>paid_minutes</th>\n",
       "      <th>paid_messages</th>\n",
       "      <th>paid_mb</th>\n",
       "      <th>cost_minutes</th>\n",
       "      <th>cost_messages</th>\n",
       "      <th>cost_gb</th>\n",
       "      <th>total_cost</th>\n",
       "    </tr>\n",
       "  </thead>\n",
       "  <tbody>\n",
       "    <tr>\n",
       "      <th>count</th>\n",
       "      <td>6000.00000</td>\n",
       "      <td>6000.000000</td>\n",
       "      <td>6000.000000</td>\n",
       "      <td>6000.000000</td>\n",
       "      <td>6000.000000</td>\n",
       "      <td>6000.000000</td>\n",
       "      <td>6000.000000</td>\n",
       "      <td>6000.000000</td>\n",
       "      <td>6000.000000</td>\n",
       "      <td>6000.000000</td>\n",
       "      <td>...</td>\n",
       "      <td>6000.000000</td>\n",
       "      <td>6000.000000</td>\n",
       "      <td>6000.000000</td>\n",
       "      <td>6000.000000</td>\n",
       "      <td>6000.000000</td>\n",
       "      <td>6000.000000</td>\n",
       "      <td>6000.000000</td>\n",
       "      <td>6000.000000</td>\n",
       "      <td>6000.000000</td>\n",
       "      <td>6000.000000</td>\n",
       "    </tr>\n",
       "    <tr>\n",
       "      <th>mean</th>\n",
       "      <td>6.50000</td>\n",
       "      <td>1249.500000</td>\n",
       "      <td>45.486000</td>\n",
       "      <td>6.290000</td>\n",
       "      <td>6.290000</td>\n",
       "      <td>5889.065833</td>\n",
       "      <td>12.675167</td>\n",
       "      <td>22.955833</td>\n",
       "      <td>168.530167</td>\n",
       "      <td>355.900000</td>\n",
       "      <td>...</td>\n",
       "      <td>9.034000</td>\n",
       "      <td>0.023560</td>\n",
       "      <td>0.023560</td>\n",
       "      <td>17.796000</td>\n",
       "      <td>1.838500</td>\n",
       "      <td>764.239167</td>\n",
       "      <td>0.533880</td>\n",
       "      <td>0.055155</td>\n",
       "      <td>8.200167</td>\n",
       "      <td>44.889202</td>\n",
       "    </tr>\n",
       "    <tr>\n",
       "      <th>std</th>\n",
       "      <td>3.45234</td>\n",
       "      <td>144.349308</td>\n",
       "      <td>16.956701</td>\n",
       "      <td>3.435093</td>\n",
       "      <td>3.435093</td>\n",
       "      <td>8752.170548</td>\n",
       "      <td>26.519123</td>\n",
       "      <td>35.400736</td>\n",
       "      <td>261.443358</td>\n",
       "      <td>443.917823</td>\n",
       "      <td>...</td>\n",
       "      <td>1.401846</td>\n",
       "      <td>0.009346</td>\n",
       "      <td>0.009346</td>\n",
       "      <td>74.255727</td>\n",
       "      <td>10.433563</td>\n",
       "      <td>2355.177633</td>\n",
       "      <td>2.227672</td>\n",
       "      <td>0.313007</td>\n",
       "      <td>24.457006</td>\n",
       "      <td>30.084258</td>\n",
       "    </tr>\n",
       "    <tr>\n",
       "      <th>min</th>\n",
       "      <td>1.00000</td>\n",
       "      <td>1000.000000</td>\n",
       "      <td>18.000000</td>\n",
       "      <td>1.000000</td>\n",
       "      <td>1.000000</td>\n",
       "      <td>0.000000</td>\n",
       "      <td>0.000000</td>\n",
       "      <td>0.000000</td>\n",
       "      <td>0.000000</td>\n",
       "      <td>50.000000</td>\n",
       "      <td>...</td>\n",
       "      <td>7.000000</td>\n",
       "      <td>0.010000</td>\n",
       "      <td>0.010000</td>\n",
       "      <td>0.000000</td>\n",
       "      <td>0.000000</td>\n",
       "      <td>0.000000</td>\n",
       "      <td>0.000000</td>\n",
       "      <td>0.000000</td>\n",
       "      <td>0.000000</td>\n",
       "      <td>20.000000</td>\n",
       "    </tr>\n",
       "    <tr>\n",
       "      <th>25%</th>\n",
       "      <td>3.75000</td>\n",
       "      <td>1124.750000</td>\n",
       "      <td>30.000000</td>\n",
       "      <td>3.000000</td>\n",
       "      <td>3.000000</td>\n",
       "      <td>0.000000</td>\n",
       "      <td>0.000000</td>\n",
       "      <td>0.000000</td>\n",
       "      <td>0.000000</td>\n",
       "      <td>50.000000</td>\n",
       "      <td>...</td>\n",
       "      <td>7.000000</td>\n",
       "      <td>0.010000</td>\n",
       "      <td>0.010000</td>\n",
       "      <td>0.000000</td>\n",
       "      <td>0.000000</td>\n",
       "      <td>0.000000</td>\n",
       "      <td>0.000000</td>\n",
       "      <td>0.000000</td>\n",
       "      <td>0.000000</td>\n",
       "      <td>20.000000</td>\n",
       "    </tr>\n",
       "    <tr>\n",
       "      <th>50%</th>\n",
       "      <td>6.50000</td>\n",
       "      <td>1249.500000</td>\n",
       "      <td>46.000000</td>\n",
       "      <td>6.000000</td>\n",
       "      <td>6.000000</td>\n",
       "      <td>0.000000</td>\n",
       "      <td>0.000000</td>\n",
       "      <td>0.000000</td>\n",
       "      <td>0.000000</td>\n",
       "      <td>50.000000</td>\n",
       "      <td>...</td>\n",
       "      <td>10.000000</td>\n",
       "      <td>0.030000</td>\n",
       "      <td>0.030000</td>\n",
       "      <td>0.000000</td>\n",
       "      <td>0.000000</td>\n",
       "      <td>0.000000</td>\n",
       "      <td>0.000000</td>\n",
       "      <td>0.000000</td>\n",
       "      <td>0.000000</td>\n",
       "      <td>20.780000</td>\n",
       "    </tr>\n",
       "    <tr>\n",
       "      <th>75%</th>\n",
       "      <td>9.25000</td>\n",
       "      <td>1374.250000</td>\n",
       "      <td>61.000000</td>\n",
       "      <td>9.000000</td>\n",
       "      <td>9.000000</td>\n",
       "      <td>13567.750000</td>\n",
       "      <td>12.000000</td>\n",
       "      <td>46.000000</td>\n",
       "      <td>336.000000</td>\n",
       "      <td>1000.000000</td>\n",
       "      <td>...</td>\n",
       "      <td>10.000000</td>\n",
       "      <td>0.030000</td>\n",
       "      <td>0.030000</td>\n",
       "      <td>0.000000</td>\n",
       "      <td>0.000000</td>\n",
       "      <td>0.000000</td>\n",
       "      <td>0.000000</td>\n",
       "      <td>0.000000</td>\n",
       "      <td>0.000000</td>\n",
       "      <td>70.000000</td>\n",
       "    </tr>\n",
       "    <tr>\n",
       "      <th>max</th>\n",
       "      <td>12.00000</td>\n",
       "      <td>1499.000000</td>\n",
       "      <td>75.000000</td>\n",
       "      <td>12.000000</td>\n",
       "      <td>12.000000</td>\n",
       "      <td>32651.000000</td>\n",
       "      <td>266.000000</td>\n",
       "      <td>205.000000</td>\n",
       "      <td>1548.000000</td>\n",
       "      <td>1000.000000</td>\n",
       "      <td>...</td>\n",
       "      <td>10.000000</td>\n",
       "      <td>0.030000</td>\n",
       "      <td>0.030000</td>\n",
       "      <td>1048.000000</td>\n",
       "      <td>216.000000</td>\n",
       "      <td>17244.000000</td>\n",
       "      <td>31.440000</td>\n",
       "      <td>6.480000</td>\n",
       "      <td>170.000000</td>\n",
       "      <td>202.260000</td>\n",
       "    </tr>\n",
       "  </tbody>\n",
       "</table>\n",
       "<p>8 rows × 23 columns</p>\n",
       "</div>"
      ],
      "text/plain": [
       "            month      user_id          age     month_in    month_out  \\\n",
       "count  6000.00000  6000.000000  6000.000000  6000.000000  6000.000000   \n",
       "mean      6.50000  1249.500000    45.486000     6.290000     6.290000   \n",
       "std       3.45234   144.349308    16.956701     3.435093     3.435093   \n",
       "min       1.00000  1000.000000    18.000000     1.000000     1.000000   \n",
       "25%       3.75000  1124.750000    30.000000     3.000000     3.000000   \n",
       "50%       6.50000  1249.500000    46.000000     6.000000     6.000000   \n",
       "75%       9.25000  1374.250000    61.000000     9.000000     9.000000   \n",
       "max      12.00000  1499.000000    75.000000    12.000000    12.000000   \n",
       "\n",
       "            mb_used    sms_count   call_count  call_duration  \\\n",
       "count   6000.000000  6000.000000  6000.000000    6000.000000   \n",
       "mean    5889.065833    12.675167    22.955833     168.530167   \n",
       "std     8752.170548    26.519123    35.400736     261.443358   \n",
       "min        0.000000     0.000000     0.000000       0.000000   \n",
       "25%        0.000000     0.000000     0.000000       0.000000   \n",
       "50%        0.000000     0.000000     0.000000       0.000000   \n",
       "75%    13567.750000    12.000000    46.000000     336.000000   \n",
       "max    32651.000000   266.000000   205.000000    1548.000000   \n",
       "\n",
       "       messages_included  ...   usd_per_gb  usd_per_message  usd_per_minute  \\\n",
       "count        6000.000000  ...  6000.000000      6000.000000     6000.000000   \n",
       "mean          355.900000  ...     9.034000         0.023560        0.023560   \n",
       "std           443.917823  ...     1.401846         0.009346        0.009346   \n",
       "min            50.000000  ...     7.000000         0.010000        0.010000   \n",
       "25%            50.000000  ...     7.000000         0.010000        0.010000   \n",
       "50%            50.000000  ...    10.000000         0.030000        0.030000   \n",
       "75%          1000.000000  ...    10.000000         0.030000        0.030000   \n",
       "max          1000.000000  ...    10.000000         0.030000        0.030000   \n",
       "\n",
       "       paid_minutes  paid_messages       paid_mb  cost_minutes  cost_messages  \\\n",
       "count   6000.000000    6000.000000   6000.000000   6000.000000    6000.000000   \n",
       "mean      17.796000       1.838500    764.239167      0.533880       0.055155   \n",
       "std       74.255727      10.433563   2355.177633      2.227672       0.313007   \n",
       "min        0.000000       0.000000      0.000000      0.000000       0.000000   \n",
       "25%        0.000000       0.000000      0.000000      0.000000       0.000000   \n",
       "50%        0.000000       0.000000      0.000000      0.000000       0.000000   \n",
       "75%        0.000000       0.000000      0.000000      0.000000       0.000000   \n",
       "max     1048.000000     216.000000  17244.000000     31.440000       6.480000   \n",
       "\n",
       "           cost_gb   total_cost  \n",
       "count  6000.000000  6000.000000  \n",
       "mean      8.200167    44.889202  \n",
       "std      24.457006    30.084258  \n",
       "min       0.000000    20.000000  \n",
       "25%       0.000000    20.000000  \n",
       "50%       0.000000    20.780000  \n",
       "75%       0.000000    70.000000  \n",
       "max     170.000000   202.260000  \n",
       "\n",
       "[8 rows x 23 columns]"
      ]
     },
     "execution_count": 113,
     "metadata": {},
     "output_type": "execute_result"
    }
   ],
   "source": [
    "df.describe()"
   ]
  },
  {
   "cell_type": "markdown",
   "metadata": {},
   "source": [
    "## Step 4. Test the hypotheses <a class=\"anchor\" id=\"5\"></a>\n",
    "\n",
    "The company earns different amounts from the Ultimate and Surf plans (measured in terms of average monthly revenue)\n",
    "Average monthly revenue from users in the NY-NJ area differs from that in other regions.\n",
    "Assign the threshold alpha value independently.\n"
   ]
  },
  {
   "cell_type": "code",
   "execution_count": 114,
   "metadata": {},
   "outputs": [
    {
     "data": {
      "text/html": [
       "<div>\n",
       "<style scoped>\n",
       "    .dataframe tbody tr th:only-of-type {\n",
       "        vertical-align: middle;\n",
       "    }\n",
       "\n",
       "    .dataframe tbody tr th {\n",
       "        vertical-align: top;\n",
       "    }\n",
       "\n",
       "    .dataframe thead th {\n",
       "        text-align: right;\n",
       "    }\n",
       "</style>\n",
       "<table border=\"1\" class=\"dataframe\">\n",
       "  <thead>\n",
       "    <tr style=\"text-align: right;\">\n",
       "      <th></th>\n",
       "      <th>month</th>\n",
       "      <th>user_id</th>\n",
       "      <th>first_name</th>\n",
       "      <th>last_name</th>\n",
       "      <th>age</th>\n",
       "      <th>city</th>\n",
       "      <th>reg_date</th>\n",
       "      <th>tariff</th>\n",
       "      <th>churn_date</th>\n",
       "      <th>month_in</th>\n",
       "      <th>...</th>\n",
       "      <th>usd_per_gb</th>\n",
       "      <th>usd_per_message</th>\n",
       "      <th>usd_per_minute</th>\n",
       "      <th>paid_minutes</th>\n",
       "      <th>paid_messages</th>\n",
       "      <th>paid_mb</th>\n",
       "      <th>cost_minutes</th>\n",
       "      <th>cost_messages</th>\n",
       "      <th>cost_gb</th>\n",
       "      <th>total_cost</th>\n",
       "    </tr>\n",
       "  </thead>\n",
       "  <tbody>\n",
       "    <tr>\n",
       "      <th>0</th>\n",
       "      <td>1</td>\n",
       "      <td>1000</td>\n",
       "      <td>Anamaria</td>\n",
       "      <td>Bauer</td>\n",
       "      <td>45</td>\n",
       "      <td>Atlanta-Sandy Springs-Roswell, GA MSA</td>\n",
       "      <td>2018-12-24</td>\n",
       "      <td>ultimate</td>\n",
       "      <td>2018-12-24</td>\n",
       "      <td>12</td>\n",
       "      <td>...</td>\n",
       "      <td>7</td>\n",
       "      <td>0.01</td>\n",
       "      <td>0.01</td>\n",
       "      <td>0</td>\n",
       "      <td>0</td>\n",
       "      <td>0</td>\n",
       "      <td>0.0</td>\n",
       "      <td>0.0</td>\n",
       "      <td>0</td>\n",
       "      <td>70.0</td>\n",
       "    </tr>\n",
       "    <tr>\n",
       "      <th>1</th>\n",
       "      <td>1</td>\n",
       "      <td>1006</td>\n",
       "      <td>Jesusa</td>\n",
       "      <td>Bradford</td>\n",
       "      <td>73</td>\n",
       "      <td>San Francisco-Oakland-Berkeley, CA MSA</td>\n",
       "      <td>2018-11-27</td>\n",
       "      <td>ultimate</td>\n",
       "      <td>2018-11-27</td>\n",
       "      <td>11</td>\n",
       "      <td>...</td>\n",
       "      <td>7</td>\n",
       "      <td>0.01</td>\n",
       "      <td>0.01</td>\n",
       "      <td>0</td>\n",
       "      <td>0</td>\n",
       "      <td>0</td>\n",
       "      <td>0.0</td>\n",
       "      <td>0.0</td>\n",
       "      <td>0</td>\n",
       "      <td>70.0</td>\n",
       "    </tr>\n",
       "    <tr>\n",
       "      <th>2</th>\n",
       "      <td>1</td>\n",
       "      <td>1008</td>\n",
       "      <td>Emely</td>\n",
       "      <td>Hoffman</td>\n",
       "      <td>53</td>\n",
       "      <td>Orlando-Kissimmee-Sanford, FL MSA</td>\n",
       "      <td>2018-08-03</td>\n",
       "      <td>ultimate</td>\n",
       "      <td>2018-08-03</td>\n",
       "      <td>8</td>\n",
       "      <td>...</td>\n",
       "      <td>7</td>\n",
       "      <td>0.01</td>\n",
       "      <td>0.01</td>\n",
       "      <td>0</td>\n",
       "      <td>0</td>\n",
       "      <td>0</td>\n",
       "      <td>0.0</td>\n",
       "      <td>0.0</td>\n",
       "      <td>0</td>\n",
       "      <td>70.0</td>\n",
       "    </tr>\n",
       "    <tr>\n",
       "      <th>3</th>\n",
       "      <td>1</td>\n",
       "      <td>1011</td>\n",
       "      <td>Halina</td>\n",
       "      <td>Henry</td>\n",
       "      <td>73</td>\n",
       "      <td>Cleveland-Elyria, OH MSA</td>\n",
       "      <td>2018-01-18</td>\n",
       "      <td>ultimate</td>\n",
       "      <td>2018-01-18</td>\n",
       "      <td>1</td>\n",
       "      <td>...</td>\n",
       "      <td>7</td>\n",
       "      <td>0.01</td>\n",
       "      <td>0.01</td>\n",
       "      <td>0</td>\n",
       "      <td>0</td>\n",
       "      <td>0</td>\n",
       "      <td>0.0</td>\n",
       "      <td>0.0</td>\n",
       "      <td>0</td>\n",
       "      <td>70.0</td>\n",
       "    </tr>\n",
       "    <tr>\n",
       "      <th>4</th>\n",
       "      <td>1</td>\n",
       "      <td>1013</td>\n",
       "      <td>Nicolas</td>\n",
       "      <td>Snider</td>\n",
       "      <td>50</td>\n",
       "      <td>Knoxville, TN MSA</td>\n",
       "      <td>2018-12-01</td>\n",
       "      <td>ultimate</td>\n",
       "      <td>2018-12-01</td>\n",
       "      <td>12</td>\n",
       "      <td>...</td>\n",
       "      <td>7</td>\n",
       "      <td>0.01</td>\n",
       "      <td>0.01</td>\n",
       "      <td>0</td>\n",
       "      <td>0</td>\n",
       "      <td>0</td>\n",
       "      <td>0.0</td>\n",
       "      <td>0.0</td>\n",
       "      <td>0</td>\n",
       "      <td>70.0</td>\n",
       "    </tr>\n",
       "  </tbody>\n",
       "</table>\n",
       "<p>5 rows × 29 columns</p>\n",
       "</div>"
      ],
      "text/plain": [
       "   month  user_id first_name last_name  age  \\\n",
       "0      1     1000   Anamaria     Bauer   45   \n",
       "1      1     1006     Jesusa  Bradford   73   \n",
       "2      1     1008      Emely   Hoffman   53   \n",
       "3      1     1011     Halina     Henry   73   \n",
       "4      1     1013    Nicolas    Snider   50   \n",
       "\n",
       "                                     city   reg_date    tariff churn_date  \\\n",
       "0   Atlanta-Sandy Springs-Roswell, GA MSA 2018-12-24  ultimate 2018-12-24   \n",
       "1  San Francisco-Oakland-Berkeley, CA MSA 2018-11-27  ultimate 2018-11-27   \n",
       "2       Orlando-Kissimmee-Sanford, FL MSA 2018-08-03  ultimate 2018-08-03   \n",
       "3                Cleveland-Elyria, OH MSA 2018-01-18  ultimate 2018-01-18   \n",
       "4                       Knoxville, TN MSA 2018-12-01  ultimate 2018-12-01   \n",
       "\n",
       "   month_in  ...  usd_per_gb  usd_per_message  usd_per_minute  paid_minutes  \\\n",
       "0        12  ...           7             0.01            0.01             0   \n",
       "1        11  ...           7             0.01            0.01             0   \n",
       "2         8  ...           7             0.01            0.01             0   \n",
       "3         1  ...           7             0.01            0.01             0   \n",
       "4        12  ...           7             0.01            0.01             0   \n",
       "\n",
       "   paid_messages  paid_mb  cost_minutes  cost_messages  cost_gb  total_cost  \n",
       "0              0        0           0.0            0.0        0        70.0  \n",
       "1              0        0           0.0            0.0        0        70.0  \n",
       "2              0        0           0.0            0.0        0        70.0  \n",
       "3              0        0           0.0            0.0        0        70.0  \n",
       "4              0        0           0.0            0.0        0        70.0  \n",
       "\n",
       "[5 rows x 29 columns]"
      ]
     },
     "execution_count": 114,
     "metadata": {},
     "output_type": "execute_result"
    }
   ],
   "source": [
    "df.head()"
   ]
  },
  {
   "cell_type": "code",
   "execution_count": 115,
   "metadata": {},
   "outputs": [
    {
     "data": {
      "text/html": [
       "<div>\n",
       "<style scoped>\n",
       "    .dataframe tbody tr th:only-of-type {\n",
       "        vertical-align: middle;\n",
       "    }\n",
       "\n",
       "    .dataframe tbody tr th {\n",
       "        vertical-align: top;\n",
       "    }\n",
       "\n",
       "    .dataframe thead th {\n",
       "        text-align: right;\n",
       "    }\n",
       "</style>\n",
       "<table border=\"1\" class=\"dataframe\">\n",
       "  <thead>\n",
       "    <tr style=\"text-align: right;\">\n",
       "      <th></th>\n",
       "      <th>0</th>\n",
       "      <th>1</th>\n",
       "    </tr>\n",
       "  </thead>\n",
       "  <tbody>\n",
       "    <tr>\n",
       "      <th>month</th>\n",
       "      <td>1</td>\n",
       "      <td>1</td>\n",
       "    </tr>\n",
       "    <tr>\n",
       "      <th>user_id</th>\n",
       "      <td>1000</td>\n",
       "      <td>1006</td>\n",
       "    </tr>\n",
       "    <tr>\n",
       "      <th>first_name</th>\n",
       "      <td>Anamaria</td>\n",
       "      <td>Jesusa</td>\n",
       "    </tr>\n",
       "    <tr>\n",
       "      <th>last_name</th>\n",
       "      <td>Bauer</td>\n",
       "      <td>Bradford</td>\n",
       "    </tr>\n",
       "    <tr>\n",
       "      <th>age</th>\n",
       "      <td>45</td>\n",
       "      <td>73</td>\n",
       "    </tr>\n",
       "    <tr>\n",
       "      <th>city</th>\n",
       "      <td>Atlanta-Sandy Springs-Roswell, GA MSA</td>\n",
       "      <td>San Francisco-Oakland-Berkeley, CA MSA</td>\n",
       "    </tr>\n",
       "    <tr>\n",
       "      <th>reg_date</th>\n",
       "      <td>2018-12-24 00:00:00</td>\n",
       "      <td>2018-11-27 00:00:00</td>\n",
       "    </tr>\n",
       "    <tr>\n",
       "      <th>tariff</th>\n",
       "      <td>ultimate</td>\n",
       "      <td>ultimate</td>\n",
       "    </tr>\n",
       "    <tr>\n",
       "      <th>churn_date</th>\n",
       "      <td>2018-12-24 00:00:00</td>\n",
       "      <td>2018-11-27 00:00:00</td>\n",
       "    </tr>\n",
       "    <tr>\n",
       "      <th>month_in</th>\n",
       "      <td>12</td>\n",
       "      <td>11</td>\n",
       "    </tr>\n",
       "    <tr>\n",
       "      <th>month_out</th>\n",
       "      <td>12</td>\n",
       "      <td>11</td>\n",
       "    </tr>\n",
       "    <tr>\n",
       "      <th>mb_used</th>\n",
       "      <td>0</td>\n",
       "      <td>0</td>\n",
       "    </tr>\n",
       "    <tr>\n",
       "      <th>sms_count</th>\n",
       "      <td>0</td>\n",
       "      <td>0</td>\n",
       "    </tr>\n",
       "    <tr>\n",
       "      <th>call_count</th>\n",
       "      <td>0</td>\n",
       "      <td>0</td>\n",
       "    </tr>\n",
       "    <tr>\n",
       "      <th>call_duration</th>\n",
       "      <td>0</td>\n",
       "      <td>0</td>\n",
       "    </tr>\n",
       "    <tr>\n",
       "      <th>messages_included</th>\n",
       "      <td>1000</td>\n",
       "      <td>1000</td>\n",
       "    </tr>\n",
       "    <tr>\n",
       "      <th>mb_per_month_included</th>\n",
       "      <td>30720</td>\n",
       "      <td>30720</td>\n",
       "    </tr>\n",
       "    <tr>\n",
       "      <th>minutes_included</th>\n",
       "      <td>3000</td>\n",
       "      <td>3000</td>\n",
       "    </tr>\n",
       "    <tr>\n",
       "      <th>usd_monthly_pay</th>\n",
       "      <td>70</td>\n",
       "      <td>70</td>\n",
       "    </tr>\n",
       "    <tr>\n",
       "      <th>usd_per_gb</th>\n",
       "      <td>7</td>\n",
       "      <td>7</td>\n",
       "    </tr>\n",
       "    <tr>\n",
       "      <th>usd_per_message</th>\n",
       "      <td>0.01</td>\n",
       "      <td>0.01</td>\n",
       "    </tr>\n",
       "    <tr>\n",
       "      <th>usd_per_minute</th>\n",
       "      <td>0.01</td>\n",
       "      <td>0.01</td>\n",
       "    </tr>\n",
       "    <tr>\n",
       "      <th>paid_minutes</th>\n",
       "      <td>0</td>\n",
       "      <td>0</td>\n",
       "    </tr>\n",
       "    <tr>\n",
       "      <th>paid_messages</th>\n",
       "      <td>0</td>\n",
       "      <td>0</td>\n",
       "    </tr>\n",
       "    <tr>\n",
       "      <th>paid_mb</th>\n",
       "      <td>0</td>\n",
       "      <td>0</td>\n",
       "    </tr>\n",
       "    <tr>\n",
       "      <th>cost_minutes</th>\n",
       "      <td>0</td>\n",
       "      <td>0</td>\n",
       "    </tr>\n",
       "    <tr>\n",
       "      <th>cost_messages</th>\n",
       "      <td>0</td>\n",
       "      <td>0</td>\n",
       "    </tr>\n",
       "    <tr>\n",
       "      <th>cost_gb</th>\n",
       "      <td>0</td>\n",
       "      <td>0</td>\n",
       "    </tr>\n",
       "    <tr>\n",
       "      <th>total_cost</th>\n",
       "      <td>70</td>\n",
       "      <td>70</td>\n",
       "    </tr>\n",
       "  </tbody>\n",
       "</table>\n",
       "</div>"
      ],
      "text/plain": [
       "                                                           0  \\\n",
       "month                                                      1   \n",
       "user_id                                                 1000   \n",
       "first_name                                          Anamaria   \n",
       "last_name                                              Bauer   \n",
       "age                                                       45   \n",
       "city                   Atlanta-Sandy Springs-Roswell, GA MSA   \n",
       "reg_date                                 2018-12-24 00:00:00   \n",
       "tariff                                              ultimate   \n",
       "churn_date                               2018-12-24 00:00:00   \n",
       "month_in                                                  12   \n",
       "month_out                                                 12   \n",
       "mb_used                                                    0   \n",
       "sms_count                                                  0   \n",
       "call_count                                                 0   \n",
       "call_duration                                              0   \n",
       "messages_included                                       1000   \n",
       "mb_per_month_included                                  30720   \n",
       "minutes_included                                        3000   \n",
       "usd_monthly_pay                                           70   \n",
       "usd_per_gb                                                 7   \n",
       "usd_per_message                                         0.01   \n",
       "usd_per_minute                                          0.01   \n",
       "paid_minutes                                               0   \n",
       "paid_messages                                              0   \n",
       "paid_mb                                                    0   \n",
       "cost_minutes                                               0   \n",
       "cost_messages                                              0   \n",
       "cost_gb                                                    0   \n",
       "total_cost                                                70   \n",
       "\n",
       "                                                            1  \n",
       "month                                                       1  \n",
       "user_id                                                  1006  \n",
       "first_name                                             Jesusa  \n",
       "last_name                                            Bradford  \n",
       "age                                                        73  \n",
       "city                   San Francisco-Oakland-Berkeley, CA MSA  \n",
       "reg_date                                  2018-11-27 00:00:00  \n",
       "tariff                                               ultimate  \n",
       "churn_date                                2018-11-27 00:00:00  \n",
       "month_in                                                   11  \n",
       "month_out                                                  11  \n",
       "mb_used                                                     0  \n",
       "sms_count                                                   0  \n",
       "call_count                                                  0  \n",
       "call_duration                                               0  \n",
       "messages_included                                        1000  \n",
       "mb_per_month_included                                   30720  \n",
       "minutes_included                                         3000  \n",
       "usd_monthly_pay                                            70  \n",
       "usd_per_gb                                                  7  \n",
       "usd_per_message                                          0.01  \n",
       "usd_per_minute                                           0.01  \n",
       "paid_minutes                                                0  \n",
       "paid_messages                                               0  \n",
       "paid_mb                                                     0  \n",
       "cost_minutes                                                0  \n",
       "cost_messages                                               0  \n",
       "cost_gb                                                     0  \n",
       "total_cost                                                 70  "
      ]
     },
     "execution_count": 115,
     "metadata": {},
     "output_type": "execute_result"
    }
   ],
   "source": [
    "df.head(2).T"
   ]
  },
  {
   "cell_type": "markdown",
   "metadata": {},
   "source": [
    "Let's test the hypothesis that the average revenue of users of the \"ultimate\" and \"surf\" fares differ\n",
    "If the distributions are normal, we can form H0 and H1 and define p-value \n",
    "\n",
    "Let's check how the total_cost data is distributed in surf and ultimate fares"
   ]
  },
  {
   "cell_type": "code",
   "execution_count": 116,
   "metadata": {},
   "outputs": [
    {
     "data": {
      "text/plain": [
       "Text(0.5, 1.0, 'Revenue distribution for the  ultimate')"
      ]
     },
     "execution_count": 116,
     "metadata": {},
     "output_type": "execute_result"
    },
    {
     "data": {
      "image/png": "[encoded data removed]",
      "text/plain": [
       "<Figure size 864x504 with 1 Axes>"
      ]
     },
     "metadata": {
      "needs_background": "light"
     },
     "output_type": "display_data"
    }
   ],
   "source": [
    "df[df['tariff']=='ultimate']['total_cost'].hist(bins=5, range = (70,90), figsize = (12,7), color = 'r' )\n",
    "plt.title('Revenue distribution for the  ultimate')"
   ]
  },
  {
   "cell_type": "code",
   "execution_count": 117,
   "metadata": {},
   "outputs": [
    {
     "data": {
      "text/plain": [
       "Text(0.5, 1.0, 'Revenue distribution for the  surf')"
      ]
     },
     "execution_count": 117,
     "metadata": {},
     "output_type": "execute_result"
    },
    {
     "data": {
      "image/png": "[encoded data removed]",
      "text/plain": [
       "<Figure size 864x504 with 1 Axes>"
      ]
     },
     "metadata": {
      "needs_background": "light"
     },
     "output_type": "display_data"
    }
   ],
   "source": [
    "df[df['tariff']=='surf']['total_cost'].hist(bins=5, range = (20,200), figsize = (12,7), color = 'g' )\n",
    "plt.title('Revenue distribution for the  surf')"
   ]
  },
  {
   "cell_type": "markdown",
   "metadata": {},
   "source": [
    "Let's start with the formulation of the null hypothesis H0.\n",
    "\n",
    "H0: M(surf) = M(ultimate)\n",
    "\n",
    "An alternative hypothesis would then be\n",
    "\n",
    "H1: M(surf) != M(ultimate)"
   ]
  },
  {
   "cell_type": "code",
   "execution_count": 118,
   "metadata": {},
   "outputs": [],
   "source": [
    "from scipy import stats as st\n",
    "\n",
    "def test(df1, df2):\n",
    "    alpha = .05\n",
    "    \n",
    "    results = st.ttest_ind(df1,df2)\n",
    "    \n",
    "    if (results.pvalue < alpha):\n",
    "        return(print(\"Rejecting the null hypothesis\" ))\n",
    "    else:\n",
    "        return(print(\"We can't rejecting the null hypothesis\" ))"
   ]
  },
  {
   "cell_type": "code",
   "execution_count": 119,
   "metadata": {},
   "outputs": [
    {
     "name": "stdout",
     "output_type": "stream",
     "text": [
      "Rejecting the null hypothesis\n"
     ]
    }
   ],
   "source": [
    "ultimate = df[df['tariff']=='ultimate']['total_cost']\n",
    "surf = df[df['tariff']=='surf']['total_cost']\n",
    "test(ultimate, surf)"
   ]
  },
  {
   "cell_type": "code",
   "execution_count": 120,
   "metadata": {},
   "outputs": [
    {
     "name": "stdout",
     "output_type": "stream",
     "text": [
      "Average revenue in the surf: 33 usd\n",
      "Average revenue in the ultimate: 70 usd\n"
     ]
    }
   ],
   "source": [
    "print('Average revenue in the surf:',round(surf.mean()),'usd')\n",
    "print('Average revenue in the ultimate:',round(ultimate.mean()),'usd')"
   ]
  },
  {
   "cell_type": "markdown",
   "metadata": {},
   "source": [
    "Revenue in the ultimate  is higher than in the surf"
   ]
  },
  {
   "cell_type": "markdown",
   "metadata": {},
   "source": [
    "### Let's check the hypothesis that average monthly revenue from users in the NY-NJ area differs from that in other regions"
   ]
  },
  {
   "cell_type": "code",
   "execution_count": 121,
   "metadata": {},
   "outputs": [
    {
     "data": {
      "text/plain": [
       "array(['Atlanta-Sandy Springs-Roswell, GA MSA',\n",
       "       'San Francisco-Oakland-Berkeley, CA MSA',\n",
       "       'Orlando-Kissimmee-Sanford, FL MSA', 'Cleveland-Elyria, OH MSA',\n",
       "       'Knoxville, TN MSA', 'Houston-The Woodlands-Sugar Land, TX MSA',\n",
       "       'Philadelphia-Camden-Wilmington, PA-NJ-DE-MD MSA',\n",
       "       'Chicago-Naperville-Elgin, IL-IN-WI MSA',\n",
       "       'New York-Newark-Jersey City, NY-NJ-PA MSA',\n",
       "       'Birmingham-Hoover, AL MSA', 'Oklahoma City, OK MSA',\n",
       "       'Denver-Aurora-Lakewood, CO MSA',\n",
       "       'Seattle-Tacoma-Bellevue, WA MSA',\n",
       "       'Nashville-Davidson–Murfreesboro–Franklin, TN MSA',\n",
       "       'Columbus, OH MSA', 'Las Vegas-Henderson-Paradise, NV MSA',\n",
       "       'Indianapolis-Carmel-Anderson, IN MSA',\n",
       "       'Miami-Fort Lauderdale-West Palm Beach, FL MSA',\n",
       "       'Columbia, SC MSA', 'San Antonio-New Braunfels, TX MSA',\n",
       "       'Charlotte-Concord-Gastonia, NC-SC MSA',\n",
       "       'Phoenix-Mesa-Chandler, AZ MSA',\n",
       "       'Riverside-San Bernardino-Ontario, CA MSA',\n",
       "       'Salt Lake City, UT MSA', 'Grand Rapids-Kentwood, MI MSA',\n",
       "       'New Haven-Milford, CT MSA', 'Cincinnati, OH-KY-IN MSA',\n",
       "       'Virginia Beach-Norfolk-Newport News, VA-NC MSA',\n",
       "       'Los Angeles-Long Beach-Anaheim, CA MSA',\n",
       "       'Sacramento–Roseville–Folsom, CA MSA',\n",
       "       'Louisville/Jefferson County, KY-IN MSA', 'Richmond, VA MSA',\n",
       "       'St. Louis, MO-IL MSA',\n",
       "       'Minneapolis-St. Paul-Bloomington, MN-WI MSA',\n",
       "       'San Diego-Chula Vista-Carlsbad, CA MSA',\n",
       "       'Austin-Round Rock-Georgetown, TX MSA',\n",
       "       'San Jose-Sunnyvale-Santa Clara, CA MSA',\n",
       "       'Tampa-St. Petersburg-Clearwater, FL MSA',\n",
       "       'Dallas-Fort Worth-Arlington, TX MSA', 'Baton Rouge, LA MSA',\n",
       "       'Charleston-North Charleston, SC MSA',\n",
       "       'Detroit-Warren-Dearborn, MI MSA', 'Memphis, TN-MS-AR MSA',\n",
       "       'Tucson, AZ MSA', 'Pittsburgh, PA MSA',\n",
       "       'Washington-Arlington-Alexandria, DC-VA-MD-WV MSA',\n",
       "       'Bakersfield, CA MSA', 'Fresno, CA MSA',\n",
       "       'Portland-Vancouver-Hillsboro, OR-WA MSA',\n",
       "       'Cape Coral-Fort Myers, FL MSA',\n",
       "       'Boston-Cambridge-Newton, MA-NH MSA', 'Tulsa, OK MSA',\n",
       "       'Jacksonville, FL MSA', 'Omaha-Council Bluffs, NE-IA MSA',\n",
       "       'Albuquerque, NM MSA', 'Buffalo-Cheektowaga, NY MSA',\n",
       "       'Albany-Schenectady-Troy, NY MSA', 'Providence-Warwick, RI-MA MSA',\n",
       "       'Urban Honolulu, HI MSA', 'El Paso, TX MSA',\n",
       "       'North Port-Sarasota-Bradenton, FL MSA',\n",
       "       'New Orleans-Metairie, LA MSA',\n",
       "       'Bridgeport-Stamford-Norwalk, CT MSA',\n",
       "       'Baltimore-Columbia-Towson, MD MSA', 'Milwaukee-Waukesha, WI MSA',\n",
       "       'Oxnard-Thousand Oaks-Ventura, CA MSA', 'Dayton-Kettering, OH MSA',\n",
       "       'Kansas City, MO-KS MSA', 'Rochester, NY MSA',\n",
       "       'Raleigh-Cary, NC MSA', 'Colorado Springs, CO MSA',\n",
       "       'Greensboro-High Point, NC MSA', 'Stockton, CA MSA'], dtype=object)"
      ]
     },
     "execution_count": 121,
     "metadata": {},
     "output_type": "execute_result"
    }
   ],
   "source": [
    "df.city.unique()"
   ]
  },
  {
   "cell_type": "markdown",
   "metadata": {},
   "source": [
    "Replace all cities except New York-Newark-Jersey City with \"Other\" and add this column to the dataframe "
   ]
  },
  {
   "cell_type": "code",
   "execution_count": 122,
   "metadata": {},
   "outputs": [],
   "source": [
    "df['region'] = np.where(df.city == 'New York-Newark-Jersey City, NY-NJ-PA MSA', 'NY-NJ', 'Other')"
   ]
  },
  {
   "cell_type": "code",
   "execution_count": 123,
   "metadata": {},
   "outputs": [
    {
     "data": {
      "text/plain": [
       "array(['Other', 'NY-NJ'], dtype=object)"
      ]
     },
     "execution_count": 123,
     "metadata": {},
     "output_type": "execute_result"
    }
   ],
   "source": [
    "df['region'].unique()"
   ]
  },
  {
   "cell_type": "code",
   "execution_count": 124,
   "metadata": {},
   "outputs": [],
   "source": [
    "nyc = df.query('region == \"NY-NJ\"')['total_cost']\n",
    "regions= df.query('region == \"Other\"')['total_cost']"
   ]
  },
  {
   "cell_type": "code",
   "execution_count": 125,
   "metadata": {},
   "outputs": [
    {
     "data": {
      "text/plain": [
       "<matplotlib.axes._subplots.AxesSubplot at 0x1a2215ba90>"
      ]
     },
     "execution_count": 125,
     "metadata": {},
     "output_type": "execute_result"
    },
    {
     "data": {
      "image/png": "[encoded data removed]",
      "text/plain": [
       "<Figure size 864x576 with 1 Axes>"
      ]
     },
     "metadata": {
      "needs_background": "light"
     },
     "output_type": "display_data"
    }
   ],
   "source": [
    "nyc.hist( bins = 5, range = (0,200), grid = True, color = 'b', figsize = (12,8))"
   ]
  },
  {
   "cell_type": "code",
   "execution_count": 126,
   "metadata": {},
   "outputs": [
    {
     "data": {
      "text/plain": [
       "<matplotlib.axes._subplots.AxesSubplot at 0x1a222475f8>"
      ]
     },
     "execution_count": 126,
     "metadata": {},
     "output_type": "execute_result"
    },
    {
     "data": {
      "image/png": "[encoded data removed]",
      "text/plain": [
       "<Figure size 864x576 with 1 Axes>"
      ]
     },
     "metadata": {
      "needs_background": "light"
     },
     "output_type": "display_data"
    }
   ],
   "source": [
    "regions.hist( bins = 5, range = (0,200), grid = True, color = 'g', figsize = (12,8))"
   ]
  },
  {
   "cell_type": "markdown",
   "metadata": {},
   "source": [
    "Using the created function, we will check the null and alternative hypothesis.\n",
    "\n",
    "Let the null hypothesis be\n",
    "\n",
    "H0: N (NY-NJ) = N (Other regions)\n",
    "\n",
    " Then the alternative will be as follows\n",
    " \n",
    "H1: N(NY-NJ)!= N(Other regions)"
   ]
  },
  {
   "cell_type": "code",
   "execution_count": 127,
   "metadata": {},
   "outputs": [
    {
     "name": "stdout",
     "output_type": "stream",
     "text": [
      "Rejecting the null hypothesis\n"
     ]
    }
   ],
   "source": [
    "test(nyc, regions)"
   ]
  },
  {
   "cell_type": "code",
   "execution_count": 128,
   "metadata": {},
   "outputs": [
    {
     "name": "stdout",
     "output_type": "stream",
     "text": [
      "Average revenue in NY_NJ: 43 usd\n",
      "Average revenue in Other regions: 45 usd\n"
     ]
    }
   ],
   "source": [
    "print('Average revenue in NY_NJ:',round(nyc.mean()),'usd')\n",
    "print('Average revenue in Other regions:',round(regions.mean()),'usd')"
   ]
  },
  {
   "cell_type": "markdown",
   "metadata": {},
   "source": [
    "Revenue is almost the same in NY-NJ and in the Other regions"
   ]
  },
  {
   "cell_type": "markdown",
   "metadata": {},
   "source": [
    "## Summary <a class=\"anchor\" id=\"6\"></a>\n",
    "\n",
    "We have worked through and analyzed the data. We combined the necessary information into a single dataframe. Calculated average revenue by tariff and by regions\n",
    "* Average revenue in the surf: 33 usd\n",
    "* Average revenue in the ultimate: 70 usd\n",
    "\n",
    "* Average revenue in NY_NJ: 43 usd\n",
    "* Average revenue in Other regions: 45 usd\n",
    "\n",
    "\n",
    "We found out that there is almost no difference in revenue in NY-NJ time and in the Other regions. Users of the ultimate plan on average talk more, spend more MB and send more SMS."
   ]
  }
 ],
 "metadata": {
  "kernelspec": {
   "display_name": "Python 3",
   "language": "python",
   "name": "python3"
  },
  "language_info": {
   "codemirror_mode": {
    "name": "ipython",
    "version": 3
   },
   "file_extension": ".py",
   "mimetype": "text/x-python",
   "name": "python",
   "nbconvert_exporter": "python",
   "pygments_lexer": "ipython3",
   "version": "3.7.3"
  }
 },
 "nbformat": 4,
 "nbformat_minor": 2
}
